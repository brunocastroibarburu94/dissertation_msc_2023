{
 "cells": [
  {
   "cell_type": "code",
   "execution_count": 1,
   "id": "3476eb42-65a8-4f7f-b6bd-36a0d5932004",
   "metadata": {},
   "outputs": [],
   "source": [
    "import julia"
   ]
  },
  {
   "cell_type": "code",
   "execution_count": null,
   "id": "84b73b1a-9cb1-45fb-8eed-f90bed485f05",
   "metadata": {},
   "outputs": [],
   "source": [
    "j = julia.Julia()\n",
    "j = julia.Julia()"
   ]
  }
 ],
 "metadata": {
  "kernelspec": {
   "display_name": "Python 3 (ipykernel)",
   "language": "python",
   "name": "python3"
  },
  "language_info": {
   "codemirror_mode": {
    "name": "ipython",
    "version": 3
   },
   "file_extension": ".py",
   "mimetype": "text/x-python",
   "name": "python",
   "nbconvert_exporter": "python",
   "pygments_lexer": "ipython3",
   "version": "3.9.16"
  }
 },
 "nbformat": 4,
 "nbformat_minor": 5
}
