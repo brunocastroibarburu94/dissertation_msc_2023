{
 "cells": [
  {
   "cell_type": "markdown",
   "id": "aa362fae-8333-4461-b410-4bd8ebf9be08",
   "metadata": {},
   "source": [
    "# PyJulia\n",
    "In this notebook we will use the trading package zipline-reloaded as our trading environment, but julia as our optimization environment. This way the effort put into developing an algorithmic trading environment in C and Python can be combined with Optimization and Control tools of Julia.\n",
    "\n",
    "Data will flow from C to Python to Julia viceversa. \n",
    "\n",
    "```bash\n",
    "zipline ingest -b quandl\n",
    "zipline run -f ./notebooks/zipline_julia_strategy.py --start 2014-1-1 --end 2018-1-1 -o julia_dma.pickle --no-benchmark\n",
    "```"
   ]
  },
  {
   "cell_type": "code",
   "execution_count": 1,
   "id": "3476eb42-65a8-4f7f-b6bd-36a0d5932004",
   "metadata": {},
   "outputs": [],
   "source": [
    "import julia\n",
    "j = julia.Julia()"
   ]
  },
  {
   "cell_type": "code",
   "execution_count": 2,
   "id": "84b73b1a-9cb1-45fb-8eed-f90bed485f05",
   "metadata": {},
   "outputs": [],
   "source": [
    "from julia import AlgoSource"
   ]
  },
  {
   "cell_type": "code",
   "execution_count": 3,
   "id": "f208c550-b0b0-4ecf-ab1d-a8fa9f7344af",
   "metadata": {},
   "outputs": [],
   "source": [
    "ticker = [\"AAPL\", \"BA\", \"KO\", \"GOOGL\", \"DIS\", \"XOM\"]\n",
    "\n",
    "# I believe there is a loop breaker, meaning that functions that call PyCall are \n",
    "# truncated from PyJulia (and probably viceversa). Likely to avoid infinite loops.\n",
    "\n",
    "# data = AlgoSource.YFinance.interday_data(ticker,\"2012-01-01\",\"2012-02-01\")\n",
    "greet = AlgoSource.greet_your_package_name()"
   ]
  },
  {
   "cell_type": "code",
   "execution_count": 5,
   "id": "137a16ff-73ff-4318-a8c2-4bbcc82171de",
   "metadata": {},
   "outputs": [],
   "source": [
    "import pandas as pd\n",
    "a=pd.DataFrame(data=ticker,columns=['Ticker'])"
   ]
  },
  {
   "cell_type": "code",
   "execution_count": null,
   "id": "8ebd70f5-0f69-41af-8d46-a1504c7c3c07",
   "metadata": {},
   "outputs": [],
   "source": []
  }
 ],
 "metadata": {
  "kernelspec": {
   "display_name": "Python 3 (ipykernel)",
   "language": "python",
   "name": "python3"
  },
  "language_info": {
   "codemirror_mode": {
    "name": "ipython",
    "version": 3
   },
   "file_extension": ".py",
   "mimetype": "text/x-python",
   "name": "python",
   "nbconvert_exporter": "python",
   "pygments_lexer": "ipython3",
   "version": "3.9.16"
  }
 },
 "nbformat": 4,
 "nbformat_minor": 5
}
