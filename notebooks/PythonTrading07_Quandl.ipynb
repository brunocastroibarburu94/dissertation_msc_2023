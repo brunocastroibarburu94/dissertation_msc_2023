{
 "cells": [
  {
   "cell_type": "code",
   "execution_count": 1,
   "id": "6c49aad5-c620-48a3-b872-945516f5a8d5",
   "metadata": {},
   "outputs": [],
   "source": [
    "import quandl\n",
    "import pandas as pd\n",
    "import os\n",
    "\n"
   ]
  },
  {
   "cell_type": "code",
   "execution_count": 3,
   "id": "48c49922-c574-44ec-8daf-b9552dae0407",
   "metadata": {},
   "outputs": [],
   "source": [
    "# Very clean data up to 2018.\n",
    "\n",
    "# add quandl API key for unrestricted\n",
    "quandl.ApiConfig.api_key = os.environ.get('QUANDL_API_KEY')\n",
    "\n",
    "# get the table for daily stock prices and,\n",
    "# filter the table for selected tickers, columns within a time range\n",
    "# set paginate to True because Quandl limits tables API to 10,000 rows per call\n",
    "data = quandl.get_table('WIKI/PRICES', ticker = ['AAPL', 'MSFT', 'WMT'], \n",
    "                        qopts = { 'columns': ['ticker', 'date', 'adj_close'] }, \n",
    "                        date = { 'gte': '2015-12-31', 'lte': '2016-12-31' }, \n",
    "                        paginate=True)\n",
    "\n",
    "# create a new dataframe with 'date' column as index\n",
    "new = data.set_index('date')\n",
    "\n",
    "# use pandas pivot function to sort adj_close by tickers\n",
    "clean_data = new.pivot(columns='ticker')\n",
    "clean_data"
   ]
  },
  {
   "cell_type": "code",
   "execution_count": 7,
   "id": "2f7e4c89-c567-476d-9336-985397c65d0b",
   "metadata": {},
   "outputs": [
    {
     "data": {
      "text/html": [
       "<div>\n",
       "<style scoped>\n",
       "    .dataframe tbody tr th:only-of-type {\n",
       "        vertical-align: middle;\n",
       "    }\n",
       "\n",
       "    .dataframe tbody tr th {\n",
       "        vertical-align: top;\n",
       "    }\n",
       "\n",
       "    .dataframe thead tr th {\n",
       "        text-align: left;\n",
       "    }\n",
       "\n",
       "    .dataframe thead tr:last-of-type th {\n",
       "        text-align: right;\n",
       "    }\n",
       "</style>\n",
       "<table border=\"1\" class=\"dataframe\">\n",
       "  <thead>\n",
       "    <tr>\n",
       "      <th>date</th>\n",
       "    </tr>\n",
       "  </thead>\n",
       "  <tbody>\n",
       "  </tbody>\n",
       "</table>\n",
       "</div>"
      ],
      "text/plain": [
       "Empty DataFrame\n",
       "Columns: []\n",
       "Index: []"
      ]
     },
     "execution_count": 7,
     "metadata": {},
     "output_type": "execute_result"
    }
   ],
   "source": [
    "# No data after 2018!!\n",
    "\n",
    "data2 = quandl.get_table('WIKI/PRICES', ticker = ['AAPL', 'MSFT', 'WMT'], \n",
    "                        qopts = { 'columns': ['ticker', 'date', 'adj_close'] }, \n",
    "                        date = { 'gte': '2019-12-31', 'lte': '2020-12-31' }, \n",
    "                        paginate=True)\n",
    "# create a new dataframe with 'date' column as index\n",
    "new2 = data2.set_index('date')\n",
    "\n",
    "# use pandas pivot function to sort adj_close by tickers\n",
    "clean_data2 = new2.pivot(columns='ticker')\n",
    "\n",
    "# create a new dataframe with 'date' column as inde\n",
    "clean_data2"
   ]
  }
 ],
 "metadata": {
  "kernelspec": {
   "display_name": "Python 3 (ipykernel)",
   "language": "python",
   "name": "python3"
  },
  "language_info": {
   "codemirror_mode": {
    "name": "ipython",
    "version": 3
   },
   "file_extension": ".py",
   "mimetype": "text/x-python",
   "name": "python",
   "nbconvert_exporter": "python",
   "pygments_lexer": "ipython3",
   "version": "3.9.16"
  }
 },
 "nbformat": 4,
 "nbformat_minor": 5
}
