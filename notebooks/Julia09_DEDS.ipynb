{
 "cells": [
  {
   "cell_type": "markdown",
   "id": "639ae448-42fd-4b52-ac11-9dc760efca01",
   "metadata": {},
   "source": [
    "# Deterministic Event Driven Simulation\n",
    "\n",
    "Add the package:\n",
    "```julia\n",
    "add \"https://github.com/JuDO-dev/AirBorne.jl#dev\"\n",
    "```"
   ]
  },
  {
   "cell_type": "markdown",
   "id": "69209c9b-28f9-4126-b7c1-8d2984343cf3",
   "metadata": {},
   "source": [
    "## Fetch data"
   ]
  },
  {
   "cell_type": "code",
   "execution_count": 1,
   "id": "680f4408-0f9c-4c4e-91d4-c46aa7657e78",
   "metadata": {},
   "outputs": [],
   "source": [
    "# Get Data\n",
    "using AirBorne: AirBorne\n",
    "using Dates: Dates, datetime2unix, DateTime, Day\n",
    "using Logging\n",
    "using DotMaps:DotMap"
   ]
  },
  {
   "cell_type": "code",
   "execution_count": 170,
   "id": "cf8f43ba-031f-4352-b1ee-66bf88b96b29",
   "metadata": {},
   "outputs": [
    {
     "name": "stderr",
     "output_type": "stream",
     "text": [
      "\u001b[36m\u001b[1m[ \u001b[22m\u001b[39m\u001b[36m\u001b[1mInfo: \u001b[22m\u001b[39mStoring /root/project/.AirBorneCache/demo/2023_06_11_20_26_37_681.parq.snappy\n"
     ]
    },
    {
     "data": {
      "text/plain": [
       "\u001b[34m✏ \u001b[39mParquet2.FileWriter{IOStream}(/root/project/.AirBorneCache/demo/2023_06_11_20_26_37_681.parq.snappy)"
      ]
     },
     "execution_count": 170,
     "metadata": {},
     "output_type": "execute_result"
    }
   ],
   "source": [
    "\n",
    "# Get 5 Years of data for APPL\n",
    "from = Dates.DateTime(\"2017-01-01\")\n",
    "to = Dates.DateTime(\"2022-01-01\")\n",
    "u_from = string(round(Int, Dates.datetime2unix(from)))\n",
    "u_to = string(round(Int, Dates.datetime2unix(to)))\n",
    "data = AirBorne.ETL.YFinance.get_interday_data([\"AAPL\",\"GOOG\"], u_from, u_to)\n",
    "\n",
    "# println(size(r))\n",
    "data[!,:close]=float.(data[!,:close])\n",
    "data[!,:high]=float.(data[!,:high])\n",
    "data[!,:low]=float.(data[!,:low])\n",
    "data[!,:open]=float.(data[!,:open])\n",
    "data[!,:unix]=Int.(data[!,:unix])\n",
    "data[!,:volume]=Int.(data[!,:volume])\n",
    "\n",
    "AirBorne.ETL.Cache.store_bundle(data; bundle_id=\"demo\", archive=true) \n",
    "# data"
   ]
  },
  {
   "cell_type": "code",
   "execution_count": 2,
   "id": "0447f45d-0b35-4226-a53c-f122aed2d9b7",
   "metadata": {},
   "outputs": [
    {
     "data": {
      "text/html": [
       "<div><div style = \"float: left;\"><span>2518×11 DataFrame</span></div><div style = \"float: right;\"><span style = \"font-style: italic;\">2493 rows omitted</span></div><div style = \"clear: both;\"></div></div><div class = \"data-frame\" style = \"overflow-x: scroll;\"><table class = \"data-frame\" style = \"margin-bottom: 6px;\"><thead><tr class = \"header\"><th class = \"rowNumber\" style = \"font-weight: bold; text-align: right;\">Row</th><th style = \"text-align: left;\">close</th><th style = \"text-align: left;\">high</th><th style = \"text-align: left;\">low</th><th style = \"text-align: left;\">open</th><th style = \"text-align: left;\">volume</th><th style = \"text-align: left;\">date</th><th style = \"text-align: left;\">unix</th><th style = \"text-align: left;\">exchangeName</th><th style = \"text-align: left;\">timezone</th><th style = \"text-align: left;\">currency</th><th style = \"text-align: left;\">symbol</th></tr><tr class = \"subheader headerLastRow\"><th class = \"rowNumber\" style = \"font-weight: bold; text-align: right;\"></th><th title = \"Float64\" style = \"text-align: left;\">Float64</th><th title = \"Float64\" style = \"text-align: left;\">Float64</th><th title = \"Float64\" style = \"text-align: left;\">Float64</th><th title = \"Float64\" style = \"text-align: left;\">Float64</th><th title = \"Int64\" style = \"text-align: left;\">Int64</th><th title = \"DateTime\" style = \"text-align: left;\">DateTime</th><th title = \"Int64\" style = \"text-align: left;\">Int64</th><th title = \"String\" style = \"text-align: left;\">String</th><th title = \"String\" style = \"text-align: left;\">String</th><th title = \"String\" style = \"text-align: left;\">String</th><th title = \"String\" style = \"text-align: left;\">String</th></tr></thead><tbody><tr><td class = \"rowNumber\" style = \"font-weight: bold; text-align: right;\">1</td><td style = \"text-align: right;\">29.0375</td><td style = \"text-align: right;\">29.0825</td><td style = \"text-align: right;\">28.69</td><td style = \"text-align: right;\">28.95</td><td style = \"text-align: right;\">115127600</td><td style = \"text-align: left;\">2017-01-03T10:30:00</td><td style = \"text-align: right;\">1483453800</td><td style = \"text-align: left;\">NMS</td><td style = \"text-align: left;\">America/New_York</td><td style = \"text-align: left;\">USD</td><td style = \"text-align: left;\">AAPL</td></tr><tr><td class = \"rowNumber\" style = \"font-weight: bold; text-align: right;\">2</td><td style = \"text-align: right;\">29.005</td><td style = \"text-align: right;\">29.1275</td><td style = \"text-align: right;\">28.9375</td><td style = \"text-align: right;\">28.9625</td><td style = \"text-align: right;\">84472400</td><td style = \"text-align: left;\">2017-01-04T10:30:00</td><td style = \"text-align: right;\">1483540200</td><td style = \"text-align: left;\">NMS</td><td style = \"text-align: left;\">America/New_York</td><td style = \"text-align: left;\">USD</td><td style = \"text-align: left;\">AAPL</td></tr><tr><td class = \"rowNumber\" style = \"font-weight: bold; text-align: right;\">3</td><td style = \"text-align: right;\">29.1525</td><td style = \"text-align: right;\">29.215</td><td style = \"text-align: right;\">28.9525</td><td style = \"text-align: right;\">28.98</td><td style = \"text-align: right;\">88774400</td><td style = \"text-align: left;\">2017-01-05T10:30:00</td><td style = \"text-align: right;\">1483626600</td><td style = \"text-align: left;\">NMS</td><td style = \"text-align: left;\">America/New_York</td><td style = \"text-align: left;\">USD</td><td style = \"text-align: left;\">AAPL</td></tr><tr><td class = \"rowNumber\" style = \"font-weight: bold; text-align: right;\">4</td><td style = \"text-align: right;\">29.4775</td><td style = \"text-align: right;\">29.54</td><td style = \"text-align: right;\">29.1175</td><td style = \"text-align: right;\">29.195</td><td style = \"text-align: right;\">127007600</td><td style = \"text-align: left;\">2017-01-06T10:30:00</td><td style = \"text-align: right;\">1483713000</td><td style = \"text-align: left;\">NMS</td><td style = \"text-align: left;\">America/New_York</td><td style = \"text-align: left;\">USD</td><td style = \"text-align: left;\">AAPL</td></tr><tr><td class = \"rowNumber\" style = \"font-weight: bold; text-align: right;\">5</td><td style = \"text-align: right;\">29.7475</td><td style = \"text-align: right;\">29.8575</td><td style = \"text-align: right;\">29.485</td><td style = \"text-align: right;\">29.4875</td><td style = \"text-align: right;\">134247600</td><td style = \"text-align: left;\">2017-01-09T10:30:00</td><td style = \"text-align: right;\">1483972200</td><td style = \"text-align: left;\">NMS</td><td style = \"text-align: left;\">America/New_York</td><td style = \"text-align: left;\">USD</td><td style = \"text-align: left;\">AAPL</td></tr><tr><td class = \"rowNumber\" style = \"font-weight: bold; text-align: right;\">6</td><td style = \"text-align: right;\">29.7775</td><td style = \"text-align: right;\">29.845</td><td style = \"text-align: right;\">29.575</td><td style = \"text-align: right;\">29.6925</td><td style = \"text-align: right;\">97848400</td><td style = \"text-align: left;\">2017-01-10T10:30:00</td><td style = \"text-align: right;\">1484058600</td><td style = \"text-align: left;\">NMS</td><td style = \"text-align: left;\">America/New_York</td><td style = \"text-align: left;\">USD</td><td style = \"text-align: left;\">AAPL</td></tr><tr><td class = \"rowNumber\" style = \"font-weight: bold; text-align: right;\">7</td><td style = \"text-align: right;\">29.9375</td><td style = \"text-align: right;\">29.9825</td><td style = \"text-align: right;\">29.65</td><td style = \"text-align: right;\">29.685</td><td style = \"text-align: right;\">110354400</td><td style = \"text-align: left;\">2017-01-11T10:30:00</td><td style = \"text-align: right;\">1484145000</td><td style = \"text-align: left;\">NMS</td><td style = \"text-align: left;\">America/New_York</td><td style = \"text-align: left;\">USD</td><td style = \"text-align: left;\">AAPL</td></tr><tr><td class = \"rowNumber\" style = \"font-weight: bold; text-align: right;\">8</td><td style = \"text-align: right;\">29.8125</td><td style = \"text-align: right;\">29.825</td><td style = \"text-align: right;\">29.5525</td><td style = \"text-align: right;\">29.725</td><td style = \"text-align: right;\">108344800</td><td style = \"text-align: left;\">2017-01-12T10:30:00</td><td style = \"text-align: right;\">1484231400</td><td style = \"text-align: left;\">NMS</td><td style = \"text-align: left;\">America/New_York</td><td style = \"text-align: left;\">USD</td><td style = \"text-align: left;\">AAPL</td></tr><tr><td class = \"rowNumber\" style = \"font-weight: bold; text-align: right;\">9</td><td style = \"text-align: right;\">29.76</td><td style = \"text-align: right;\">29.905</td><td style = \"text-align: right;\">29.7025</td><td style = \"text-align: right;\">29.7775</td><td style = \"text-align: right;\">104447600</td><td style = \"text-align: left;\">2017-01-13T10:30:00</td><td style = \"text-align: right;\">1484317800</td><td style = \"text-align: left;\">NMS</td><td style = \"text-align: left;\">America/New_York</td><td style = \"text-align: left;\">USD</td><td style = \"text-align: left;\">AAPL</td></tr><tr><td class = \"rowNumber\" style = \"font-weight: bold; text-align: right;\">10</td><td style = \"text-align: right;\">30.0</td><td style = \"text-align: right;\">30.06</td><td style = \"text-align: right;\">29.555</td><td style = \"text-align: right;\">29.585</td><td style = \"text-align: right;\">137759200</td><td style = \"text-align: left;\">2017-01-17T10:30:00</td><td style = \"text-align: right;\">1484663400</td><td style = \"text-align: left;\">NMS</td><td style = \"text-align: left;\">America/New_York</td><td style = \"text-align: left;\">USD</td><td style = \"text-align: left;\">AAPL</td></tr><tr><td class = \"rowNumber\" style = \"font-weight: bold; text-align: right;\">11</td><td style = \"text-align: right;\">29.9975</td><td style = \"text-align: right;\">30.125</td><td style = \"text-align: right;\">29.9275</td><td style = \"text-align: right;\">30.0</td><td style = \"text-align: right;\">94852000</td><td style = \"text-align: left;\">2017-01-18T10:30:00</td><td style = \"text-align: right;\">1484749800</td><td style = \"text-align: left;\">NMS</td><td style = \"text-align: left;\">America/New_York</td><td style = \"text-align: left;\">USD</td><td style = \"text-align: left;\">AAPL</td></tr><tr><td class = \"rowNumber\" style = \"font-weight: bold; text-align: right;\">12</td><td style = \"text-align: right;\">29.945</td><td style = \"text-align: right;\">30.0225</td><td style = \"text-align: right;\">29.8425</td><td style = \"text-align: right;\">29.85</td><td style = \"text-align: right;\">102389200</td><td style = \"text-align: left;\">2017-01-19T10:30:00</td><td style = \"text-align: right;\">1484836200</td><td style = \"text-align: left;\">NMS</td><td style = \"text-align: left;\">America/New_York</td><td style = \"text-align: left;\">USD</td><td style = \"text-align: left;\">AAPL</td></tr><tr><td class = \"rowNumber\" style = \"font-weight: bold; text-align: right;\">13</td><td style = \"text-align: right;\">30.0</td><td style = \"text-align: right;\">30.1125</td><td style = \"text-align: right;\">29.9325</td><td style = \"text-align: right;\">30.1125</td><td style = \"text-align: right;\">130391600</td><td style = \"text-align: left;\">2017-01-20T10:30:00</td><td style = \"text-align: right;\">1484922600</td><td style = \"text-align: left;\">NMS</td><td style = \"text-align: left;\">America/New_York</td><td style = \"text-align: left;\">USD</td><td style = \"text-align: left;\">AAPL</td></tr><tr><td style = \"text-align: right;\">&vellip;</td><td style = \"text-align: right;\">&vellip;</td><td style = \"text-align: right;\">&vellip;</td><td style = \"text-align: right;\">&vellip;</td><td style = \"text-align: right;\">&vellip;</td><td style = \"text-align: right;\">&vellip;</td><td style = \"text-align: right;\">&vellip;</td><td style = \"text-align: right;\">&vellip;</td><td style = \"text-align: right;\">&vellip;</td><td style = \"text-align: right;\">&vellip;</td><td style = \"text-align: right;\">&vellip;</td><td style = \"text-align: right;\">&vellip;</td></tr><tr><td class = \"rowNumber\" style = \"font-weight: bold; text-align: right;\">2507</td><td style = \"text-align: right;\">147.368</td><td style = \"text-align: right;\">147.517</td><td style = \"text-align: right;\">142.706</td><td style = \"text-align: right;\">144.366</td><td style = \"text-align: right;\">27280000</td><td style = \"text-align: left;\">2021-12-15T10:30:00</td><td style = \"text-align: right;\">1639578600</td><td style = \"text-align: left;\">NMS</td><td style = \"text-align: left;\">America/New_York</td><td style = \"text-align: left;\">USD</td><td style = \"text-align: left;\">GOOG</td></tr><tr><td class = \"rowNumber\" style = \"font-weight: bold; text-align: right;\">2508</td><td style = \"text-align: right;\">144.839</td><td style = \"text-align: right;\">148.551</td><td style = \"text-align: right;\">144.092</td><td style = \"text-align: right;\">148.077</td><td style = \"text-align: right;\">27400000</td><td style = \"text-align: left;\">2021-12-16T10:30:00</td><td style = \"text-align: right;\">1639665000</td><td style = \"text-align: left;\">NMS</td><td style = \"text-align: left;\">America/New_York</td><td style = \"text-align: left;\">USD</td><td style = \"text-align: left;\">GOOG</td></tr><tr><td class = \"rowNumber\" style = \"font-weight: bold; text-align: right;\">2509</td><td style = \"text-align: right;\">142.803</td><td style = \"text-align: right;\">144.46</td><td style = \"text-align: right;\">141.788</td><td style = \"text-align: right;\">142.714</td><td style = \"text-align: right;\">43404000</td><td style = \"text-align: left;\">2021-12-17T10:30:00</td><td style = \"text-align: right;\">1639751400</td><td style = \"text-align: left;\">NMS</td><td style = \"text-align: left;\">America/New_York</td><td style = \"text-align: left;\">USD</td><td style = \"text-align: left;\">GOOG</td></tr><tr><td class = \"rowNumber\" style = \"font-weight: bold; text-align: right;\">2510</td><td style = \"text-align: right;\">142.402</td><td style = \"text-align: right;\">142.611</td><td style = \"text-align: right;\">140.25</td><td style = \"text-align: right;\">140.68</td><td style = \"text-align: right;\">20264000</td><td style = \"text-align: left;\">2021-12-20T10:30:00</td><td style = \"text-align: right;\">1640010600</td><td style = \"text-align: left;\">NMS</td><td style = \"text-align: left;\">America/New_York</td><td style = \"text-align: left;\">USD</td><td style = \"text-align: left;\">GOOG</td></tr><tr><td class = \"rowNumber\" style = \"font-weight: bold; text-align: right;\">2511</td><td style = \"text-align: right;\">144.221</td><td style = \"text-align: right;\">144.692</td><td style = \"text-align: right;\">141.735</td><td style = \"text-align: right;\">143.15</td><td style = \"text-align: right;\">19548000</td><td style = \"text-align: left;\">2021-12-21T10:30:00</td><td style = \"text-align: right;\">1640097000</td><td style = \"text-align: left;\">NMS</td><td style = \"text-align: left;\">America/New_York</td><td style = \"text-align: left;\">USD</td><td style = \"text-align: left;\">GOOG</td></tr><tr><td class = \"rowNumber\" style = \"font-weight: bold; text-align: right;\">2512</td><td style = \"text-align: right;\">146.949</td><td style = \"text-align: right;\">147.303</td><td style = \"text-align: right;\">143.963</td><td style = \"text-align: right;\">144.1</td><td style = \"text-align: right;\">18438000</td><td style = \"text-align: left;\">2021-12-22T10:30:00</td><td style = \"text-align: right;\">1640183400</td><td style = \"text-align: left;\">NMS</td><td style = \"text-align: left;\">America/New_York</td><td style = \"text-align: left;\">USD</td><td style = \"text-align: left;\">GOOG</td></tr><tr><td class = \"rowNumber\" style = \"font-weight: bold; text-align: right;\">2513</td><td style = \"text-align: right;\">147.143</td><td style = \"text-align: right;\">148.573</td><td style = \"text-align: right;\">146.951</td><td style = \"text-align: right;\">147.089</td><td style = \"text-align: right;\">13818000</td><td style = \"text-align: left;\">2021-12-23T10:30:00</td><td style = \"text-align: right;\">1640269800</td><td style = \"text-align: left;\">NMS</td><td style = \"text-align: left;\">America/New_York</td><td style = \"text-align: left;\">USD</td><td style = \"text-align: left;\">GOOG</td></tr><tr><td class = \"rowNumber\" style = \"font-weight: bold; text-align: right;\">2514</td><td style = \"text-align: right;\">148.064</td><td style = \"text-align: right;\">148.426</td><td style = \"text-align: right;\">147.25</td><td style = \"text-align: right;\">147.464</td><td style = \"text-align: right;\">13256000</td><td style = \"text-align: left;\">2021-12-27T10:30:00</td><td style = \"text-align: right;\">1640615400</td><td style = \"text-align: left;\">NMS</td><td style = \"text-align: left;\">America/New_York</td><td style = \"text-align: left;\">USD</td><td style = \"text-align: left;\">GOOG</td></tr><tr><td class = \"rowNumber\" style = \"font-weight: bold; text-align: right;\">2515</td><td style = \"text-align: right;\">146.448</td><td style = \"text-align: right;\">148.374</td><td style = \"text-align: right;\">145.936</td><td style = \"text-align: right;\">148.374</td><td style = \"text-align: right;\">18624000</td><td style = \"text-align: left;\">2021-12-28T10:30:00</td><td style = \"text-align: right;\">1640701800</td><td style = \"text-align: left;\">NMS</td><td style = \"text-align: left;\">America/New_York</td><td style = \"text-align: left;\">USD</td><td style = \"text-align: left;\">GOOG</td></tr><tr><td class = \"rowNumber\" style = \"font-weight: bold; text-align: right;\">2516</td><td style = \"text-align: right;\">146.505</td><td style = \"text-align: right;\">147.184</td><td style = \"text-align: right;\">145.505</td><td style = \"text-align: right;\">146.43</td><td style = \"text-align: right;\">17022000</td><td style = \"text-align: left;\">2021-12-29T10:30:00</td><td style = \"text-align: right;\">1640788200</td><td style = \"text-align: left;\">NMS</td><td style = \"text-align: left;\">America/New_York</td><td style = \"text-align: left;\">USD</td><td style = \"text-align: left;\">GOOG</td></tr><tr><td class = \"rowNumber\" style = \"font-weight: bold; text-align: right;\">2517</td><td style = \"text-align: right;\">146.003</td><td style = \"text-align: right;\">147.062</td><td style = \"text-align: right;\">145.758</td><td style = \"text-align: right;\">146.45</td><td style = \"text-align: right;\">12978000</td><td style = \"text-align: left;\">2021-12-30T10:30:00</td><td style = \"text-align: right;\">1640874600</td><td style = \"text-align: left;\">NMS</td><td style = \"text-align: left;\">America/New_York</td><td style = \"text-align: left;\">USD</td><td style = \"text-align: left;\">GOOG</td></tr><tr><td class = \"rowNumber\" style = \"font-weight: bold; text-align: right;\">2518</td><td style = \"text-align: right;\">144.68</td><td style = \"text-align: right;\">146.365</td><td style = \"text-align: right;\">144.678</td><td style = \"text-align: right;\">145.544</td><td style = \"text-align: right;\">17298000</td><td style = \"text-align: left;\">2021-12-31T10:30:00</td><td style = \"text-align: right;\">1640961000</td><td style = \"text-align: left;\">NMS</td><td style = \"text-align: left;\">America/New_York</td><td style = \"text-align: left;\">USD</td><td style = \"text-align: left;\">GOOG</td></tr></tbody></table></div>"
      ],
      "text/latex": [
       "\\begin{tabular}{r|cccccccc}\n",
       "\t& close & high & low & open & volume & date & unix & \\\\\n",
       "\t\\hline\n",
       "\t& Float64 & Float64 & Float64 & Float64 & Int64 & DateTime & Int64 & \\\\\n",
       "\t\\hline\n",
       "\t1 & 29.0375 & 29.0825 & 28.69 & 28.95 & 115127600 & 2017-01-03T10:30:00 & 1483453800 & $\\dots$ \\\\\n",
       "\t2 & 29.005 & 29.1275 & 28.9375 & 28.9625 & 84472400 & 2017-01-04T10:30:00 & 1483540200 & $\\dots$ \\\\\n",
       "\t3 & 29.1525 & 29.215 & 28.9525 & 28.98 & 88774400 & 2017-01-05T10:30:00 & 1483626600 & $\\dots$ \\\\\n",
       "\t4 & 29.4775 & 29.54 & 29.1175 & 29.195 & 127007600 & 2017-01-06T10:30:00 & 1483713000 & $\\dots$ \\\\\n",
       "\t5 & 29.7475 & 29.8575 & 29.485 & 29.4875 & 134247600 & 2017-01-09T10:30:00 & 1483972200 & $\\dots$ \\\\\n",
       "\t6 & 29.7775 & 29.845 & 29.575 & 29.6925 & 97848400 & 2017-01-10T10:30:00 & 1484058600 & $\\dots$ \\\\\n",
       "\t7 & 29.9375 & 29.9825 & 29.65 & 29.685 & 110354400 & 2017-01-11T10:30:00 & 1484145000 & $\\dots$ \\\\\n",
       "\t8 & 29.8125 & 29.825 & 29.5525 & 29.725 & 108344800 & 2017-01-12T10:30:00 & 1484231400 & $\\dots$ \\\\\n",
       "\t9 & 29.76 & 29.905 & 29.7025 & 29.7775 & 104447600 & 2017-01-13T10:30:00 & 1484317800 & $\\dots$ \\\\\n",
       "\t10 & 30.0 & 30.06 & 29.555 & 29.585 & 137759200 & 2017-01-17T10:30:00 & 1484663400 & $\\dots$ \\\\\n",
       "\t11 & 29.9975 & 30.125 & 29.9275 & 30.0 & 94852000 & 2017-01-18T10:30:00 & 1484749800 & $\\dots$ \\\\\n",
       "\t12 & 29.945 & 30.0225 & 29.8425 & 29.85 & 102389200 & 2017-01-19T10:30:00 & 1484836200 & $\\dots$ \\\\\n",
       "\t13 & 30.0 & 30.1125 & 29.9325 & 30.1125 & 130391600 & 2017-01-20T10:30:00 & 1484922600 & $\\dots$ \\\\\n",
       "\t14 & 30.02 & 30.2025 & 29.9425 & 30.0 & 88200800 & 2017-01-23T10:30:00 & 1485181800 & $\\dots$ \\\\\n",
       "\t15 & 29.9925 & 30.025 & 29.875 & 29.8875 & 92844000 & 2017-01-24T10:30:00 & 1485268200 & $\\dots$ \\\\\n",
       "\t16 & 30.47 & 30.525 & 30.07 & 30.105 & 129510400 & 2017-01-25T10:30:00 & 1485354600 & $\\dots$ \\\\\n",
       "\t17 & 30.485 & 30.61 & 30.4 & 30.4175 & 105350400 & 2017-01-26T10:30:00 & 1485441000 & $\\dots$ \\\\\n",
       "\t18 & 30.4875 & 30.5875 & 30.4 & 30.535 & 82251600 & 2017-01-27T10:30:00 & 1485527400 & $\\dots$ \\\\\n",
       "\t19 & 30.4075 & 30.4075 & 30.165 & 30.2325 & 121510000 & 2017-01-30T10:30:00 & 1485786600 & $\\dots$ \\\\\n",
       "\t20 & 30.3375 & 30.3475 & 30.155 & 30.2875 & 196804000 & 2017-01-31T10:30:00 & 1485873000 & $\\dots$ \\\\\n",
       "\t21 & 32.1875 & 32.6225 & 31.7525 & 31.7575 & 447940000 & 2017-02-01T10:30:00 & 1485959400 & $\\dots$ \\\\\n",
       "\t22 & 32.1325 & 32.3475 & 31.945 & 31.995 & 134841600 & 2017-02-02T10:30:00 & 1486045800 & $\\dots$ \\\\\n",
       "\t23 & 32.27 & 32.2975 & 32.04 & 32.0775 & 98029200 & 2017-02-03T10:30:00 & 1486132200 & $\\dots$ \\\\\n",
       "\t24 & 32.5725 & 32.625 & 32.225 & 32.2825 & 107383600 & 2017-02-06T10:30:00 & 1486391400 & $\\dots$ \\\\\n",
       "\t25 & 32.8825 & 33.0225 & 32.6125 & 32.635 & 152735200 & 2017-02-07T10:30:00 & 1486477800 & $\\dots$ \\\\\n",
       "\t26 & 33.01 & 33.055 & 32.805 & 32.8375 & 92016400 & 2017-02-08T10:30:00 & 1486564200 & $\\dots$ \\\\\n",
       "\t27 & 33.105 & 33.1125 & 32.78 & 32.9125 & 113399600 & 2017-02-09T10:30:00 & 1486650600 & $\\dots$ \\\\\n",
       "\t28 & 33.03 & 33.235 & 33.0125 & 33.115 & 80262000 & 2017-02-10T10:30:00 & 1486737000 & $\\dots$ \\\\\n",
       "\t29 & 33.3225 & 33.455 & 33.1875 & 33.27 & 92141600 & 2017-02-13T10:30:00 & 1486996200 & $\\dots$ \\\\\n",
       "\t30 & 33.755 & 33.7725 & 33.3125 & 33.3675 & 132904800 & 2017-02-14T10:30:00 & 1487082600 & $\\dots$ \\\\\n",
       "\t$\\dots$ & $\\dots$ & $\\dots$ & $\\dots$ & $\\dots$ & $\\dots$ & $\\dots$ & $\\dots$ &  \\\\\n",
       "\\end{tabular}\n"
      ],
      "text/plain": [
       "\u001b[1m2518×11 DataFrame\n",
       "\u001b[1m  Row │\u001b[1m close    \u001b[1m high     \u001b[1m low      \u001b[1m open     \u001b[1m volume    \u001b[1m date                ⋯\n",
       "      │\u001b[90m Float64  \u001b[90m Float64  \u001b[90m Float64  \u001b[90m Float64  \u001b[90m Int64     \u001b[90m DateTime            ⋯\n",
       "──────┼─────────────────────────────────────────────────────────────────────────\n",
       "    1 │  29.0375   29.0825   28.69     28.95    115127600  2017-01-03T10:30:00 ⋯\n",
       "    2 │  29.005    29.1275   28.9375   28.9625   84472400  2017-01-04T10:30:00\n",
       "    3 │  29.1525   29.215    28.9525   28.98     88774400  2017-01-05T10:30:00\n",
       "    4 │  29.4775   29.54     29.1175   29.195   127007600  2017-01-06T10:30:00\n",
       "    5 │  29.7475   29.8575   29.485    29.4875  134247600  2017-01-09T10:30:00 ⋯\n",
       "    6 │  29.7775   29.845    29.575    29.6925   97848400  2017-01-10T10:30:00\n",
       "    7 │  29.9375   29.9825   29.65     29.685   110354400  2017-01-11T10:30:00\n",
       "    8 │  29.8125   29.825    29.5525   29.725   108344800  2017-01-12T10:30:00\n",
       "    9 │  29.76     29.905    29.7025   29.7775  104447600  2017-01-13T10:30:00 ⋯\n",
       "   10 │  30.0      30.06     29.555    29.585   137759200  2017-01-17T10:30:00\n",
       "   11 │  29.9975   30.125    29.9275   30.0      94852000  2017-01-18T10:30:00\n",
       "  ⋮   │    ⋮         ⋮         ⋮         ⋮          ⋮               ⋮          ⋱\n",
       " 2509 │ 142.803   144.46    141.788   142.714    43404000  2021-12-17T10:30:00\n",
       " 2510 │ 142.402   142.611   140.25    140.68     20264000  2021-12-20T10:30:00 ⋯\n",
       " 2511 │ 144.221   144.692   141.735   143.15     19548000  2021-12-21T10:30:00\n",
       " 2512 │ 146.949   147.303   143.963   144.1      18438000  2021-12-22T10:30:00\n",
       " 2513 │ 147.143   148.573   146.951   147.089    13818000  2021-12-23T10:30:00\n",
       " 2514 │ 148.064   148.426   147.25    147.464    13256000  2021-12-27T10:30:00 ⋯\n",
       " 2515 │ 146.448   148.374   145.936   148.374    18624000  2021-12-28T10:30:00\n",
       " 2516 │ 146.505   147.184   145.505   146.43     17022000  2021-12-29T10:30:00\n",
       " 2517 │ 146.003   147.062   145.758   146.45     12978000  2021-12-30T10:30:00\n",
       " 2518 │ 144.68    146.365   144.678   145.544    17298000  2021-12-31T10:30:00 ⋯\n",
       "\u001b[36m                                                 5 columns and 2497 rows omitted"
      ]
     },
     "execution_count": 2,
     "metadata": {},
     "output_type": "execute_result"
    }
   ],
   "source": [
    "data= AirBorne.ETL.Cache.load_bundle(\"demo\") \n",
    "# const cdata = data # Making it constant doesn't seem to improve speed significantly, at least not in small datasets\n",
    "# @time data[1:1000,:]\n",
    "# @time cdata[1:1000,:]\n",
    "# @time data[100:end,:]\n",
    "# @time cdata[100:end,:]"
   ]
  },
  {
   "cell_type": "markdown",
   "id": "7b75c3a2-52aa-42d2-8c16-5137422924d9",
   "metadata": {},
   "source": [
    "### Data Flow in Simulation\n",
    "\n",
    "I want to the user to be able to place orders and schedule events, however I do not want the user to be able to add items to its portfolio directly, that is something that only the market can do.\n",
    "\n",
    "But I want the user to be able to see its own portfolio or have access to it. This is not possible in Julia. Some workarounds can be put in place as checking the size of the variable or passing a deepcopy can be done, but they carry extra computational cost. \n",
    "\n",
    "Since is  in the best interest of the user to use the tool properly the  solution for now is just to make it clear in the documentation what each thing  is and how are meant to be used\n",
    "\n",
    "```julia\n",
    "Base.summarysize(x)# Returns the  size of a variable\n",
    "```\n",
    "\n",
    "### Cool Julia Feature\n",
    "Recently I discovered that the generation of immutable structures do not need memory allocation. This is because they have fixed sizes and the variables are stored in fast temporary  memory positions.[Julia Notes on Static Arrays](https://m3g.github.io/JuliaNotes.jl/stable/immutable/#Static-arrays)\n"
   ]
  },
  {
   "cell_type": "code",
   "execution_count": 4,
   "id": "c0feb96a-5dc9-4b6d-b8b3-e18c706a4553",
   "metadata": {},
   "outputs": [],
   "source": [
    "# function nms_execute_orders!(orders,portfolio,from,to,data)\n",
    "#     return \"Orders Executed\"\n",
    "# end\n",
    "# ListOfMarkets = Dict(\"NMS\"=>nyse_execute_orders!)\n",
    "\n",
    "# AAPL is traded in NASDAQ Global Select Market.\n",
    "\n",
    "# const ListOfMarkets = {\"NYSE\"=>nyse_execute_orders}\n"
   ]
  },
  {
   "cell_type": "markdown",
   "id": "2fdf27b4-35f7-49dd-bf6f-1ff85c05b925",
   "metadata": {},
   "source": [
    "# Experimental Prototype"
   ]
  },
  {
   "cell_type": "code",
   "execution_count": 5,
   "id": "dc9fad68-257f-48d8-a1c2-e752b62faf59",
   "metadata": {},
   "outputs": [],
   "source": [
    "# Recommendation Once I figures\n",
    "struct Order\n",
    "    market::String\n",
    "    specs::DotMap\n",
    "end\n",
    "# Order(\"NYSE\",DotMap(Dict(\"amount\"=>100,\"asset\"=>\"AAPL\")))"
   ]
  },
  {
   "cell_type": "code",
   "execution_count": 15,
   "id": "3f4a4137-9f8d-4111-b91b-a04a51bda4c9",
   "metadata": {},
   "outputs": [
    {
     "data": {
      "text/plain": [
       "get_latest_N"
      ]
     },
     "execution_count": 15,
     "metadata": {},
     "output_type": "execute_result"
    }
   ],
   "source": [
    "# Utility Functions\n",
    "using Pipe: @pipe\n",
    "using DataFrames: groupby,combine\n",
    "\n",
    "function sortedStructInsert!(v::Vector, x ,sort_symbol; rev=true) \n",
    "    (splice!(v, searchsorted(v,x,by= v->getproperty(v,sort_symbol), rev=rev), [x]); v)\n",
    "end\n",
    "\n",
    "function sortStruct!(v::Vector, symbol;rev=true) \n",
    "    sort!(v, by = v->getproperty(v,symbol), rev=rev) \n",
    "end\n",
    "\n",
    "function get_latest(df,id_symbols,sort_symbol)\n",
    "    return combine(groupby(df, id_symbols)) do sdf; sdf[argmax(sdf[!,sort_symbol]), :]; end    \n",
    "end\n",
    "\n",
    "\"\"\"\n",
    "    get_latest_N(df,id_symbols,sort_symbol,N)\n",
    "\n",
    "Retrieves last N records from a dataframe, sortying by sort_symbol and grouping by id_symbols.\n",
    "\n",
    "```julia\n",
    "get_latest_N(past_data,[:exchangeName,:symbol],:date,2)\n",
    "```\n",
    "\"\"\"\n",
    "function get_latest_N(df,id_symbols,sort_symbol,N)\n",
    "    return @pipe df |>\n",
    "        groupby(_, id_symbols) |>\n",
    "        combine(_) do sdf\n",
    "            sorted = sort(sdf, sort_symbol)\n",
    "            first(sorted, N)\n",
    "        end\n",
    "end\n",
    "# Testing do capabilities\n",
    "# function add(a,b)\n",
    "#     return a+b\n",
    "# end\n",
    "# add(3) do x"
   ]
  },
  {
   "cell_type": "code",
   "execution_count": 22,
   "id": "003cef0b-b5cd-4c42-94f1-c292bbe801a6",
   "metadata": {},
   "outputs": [
    {
     "data": {
      "text/plain": [
       "lenght (generic function with 1 method)"
      ]
     },
     "execution_count": 22,
     "metadata": {},
     "output_type": "execute_result"
    }
   ],
   "source": [
    "struct TimeEvent\n",
    "    date::Dates.DateTime\n",
    "    type::String\n",
    "end\n",
    "function lenght(::TimeEvent)\n",
    "    return 1\n",
    "end"
   ]
  },
  {
   "cell_type": "code",
   "execution_count": 17,
   "id": "58daa4dd-7851-4915-8bce-ab3d8abfad23",
   "metadata": {},
   "outputs": [
    {
     "data": {
      "text/plain": [
       "trading_logic! (generic function with 1 method)"
      ]
     },
     "execution_count": 17,
     "metadata": {},
     "output_type": "execute_result"
    }
   ],
   "source": [
    "function place_order!(context,order)\n",
    "    push!(context.activeOrders,order)\n",
    "end\n",
    "\n",
    "function initialize!(context)\n",
    "    \n",
    "    ####################################\n",
    "    ####  Specify Account Balance  #####\n",
    "    ####################################\n",
    "    context.accounts.usd=DotMap(Dict())\n",
    "    context.accounts.usd.balance=100000\n",
    "    context.accounts.usd.currency=\"USD\"\n",
    "    \n",
    "    #############################\n",
    "    ####  Specify next event  ###\n",
    "    #############################\n",
    "    next_event_date = context.current_event.date + Day(1) \n",
    "    new_event = TimeEvent(next_event_date,\"data_transfer\")\n",
    "    sortedStructInsert!(context.eventList,new_event,:date)\n",
    "end\n",
    "\n",
    "\n"
   ]
  },
  {
   "cell_type": "code",
   "execution_count": 81,
   "id": "a15962a7-2ce2-402e-8920-628f2768644a",
   "metadata": {},
   "outputs": [
    {
     "data": {
      "text/plain": [
       "deepPush!"
      ]
     },
     "execution_count": 81,
     "metadata": {},
     "output_type": "execute_result"
    }
   ],
   "source": [
    "# Market Functions\n",
    "using DotMaps: keys\n",
    "\"\"\"\n",
    "    expose_data(context,data)\n",
    "\n",
    "    This function determine how the data is transformed and filtered before being passed to the user.\n",
    "\n",
    "\"\"\"\n",
    "function expose_data(context,data)\n",
    "    return available_data(context,data)\n",
    "end\n",
    "\n",
    "\"\"\"\n",
    "    available_data(context,data)\n",
    "\n",
    "    This function determine how the data is transformed and filtered before being passed to the user.\n",
    "\n",
    "\"\"\"\n",
    "function available_data(context,data)\n",
    "    return data[data.date .<= context.current_event.date,:]\n",
    "end\n",
    "\n",
    "\n",
    "function addSecurityToPortfolio(portfolio::Vector{Any},security::DotMap)\n",
    "    push!(portfolio,security)\n",
    "end\n",
    "\n",
    "        # security=DotMap(Dict(\"exchangeName\"=>order.market,\"ticker\"=>order.specs.ticker,\"shares\"=>shares))\n",
    "function addSecurityToPortfolio(portfolio::Union{DotMap,Dict},security::Union{DotMap,Dict})\n",
    "    key=get(security,\"exchangeName\",\"MISSING\") * \"/\" * get(security,\"ticker\",\"MISSING\")\n",
    "    if !(haskey(portfolio,key)) # A try catch approach may be more performant\n",
    "        portfolio[key]=0\n",
    "    end\n",
    "    portfolio[key] += get(security,\"shares\",nothing)\n",
    "end\n",
    "\n",
    "function addJournalEntryToLedger(ledger::Vector{Any},journalEntry::Union{DotMap,Dict})\n",
    "    push!(ledger,journalEntry)\n",
    "end\n",
    "\n",
    "\"\"\"\n",
    "    execute_orders(from, to, context,data)\n",
    "\n",
    "This function updates the portfolio of the user that is stored in the variable context\n",
    "\"\"\"\n",
    "function execute_orders!(from, to, context,data)\n",
    "    # @info \"Executing orders: $from - $to\"\n",
    "    # @info \"Orders: $(context.activeOrders)\"\n",
    "    # Assume that the order is placed the date before and\n",
    "    cur_data = get_latest(available_data(context,data),[:exchangeName,:symbol],:date)\n",
    "    incomplete_orders = Vector{Any}([])\n",
    "    \n",
    "    while length(context.activeOrders)>0\n",
    "        order= pop!(context.activeOrders)\n",
    "        # @info order\n",
    "        success=true\n",
    "        if order.specs.type==\"MarketOrder\"\n",
    "        # Transaction data\n",
    "        price = cur_data[cur_data.symbol.==order.specs.ticker,:open][1]\n",
    "        shares = order.specs.shares\n",
    "        # @info price\n",
    "        # @info shares\n",
    "        transaction_amount = price * order.specs.shares\n",
    "        # @info transaction_amount\n",
    "\n",
    "        # Partial order corrections\n",
    "        if (transaction_amount>=order.specs.account.balance) && (shares>0) # If not enough money to buy execute partially\n",
    "            success = false\n",
    "            transaction_amount = order.specs.account.balance\n",
    "            shares = transaction_amount / price\n",
    "            # Here there should be some logic to allow/forbid fractional transactions\n",
    "        end\n",
    "                \n",
    "        if shares==0 # Skip steps below if there are no \n",
    "            continue\n",
    "        end\n",
    "        # @info \"Funds available: $(order.specs.account.balance)\"\n",
    "        # @info \"Transaction amount: $(shares)x$(price)=$(transaction_amount)\"\n",
    "        order.specs.account.balance -= transaction_amount\n",
    "        # @info \"Funds remaining: $(order.specs.account.balance)\"\n",
    "        \n",
    "        # Form Security\n",
    "        security=Dict(\"exchangeName\"=>order.market,\"ticker\"=>order.specs.ticker,\"shares\"=>shares,\"price\"=>price)\n",
    "        \n",
    "        journal_entry=deepcopy(security)\n",
    "        journal_entry[\"price\"]=price\n",
    "        journal_entry[\"amount\"]=transaction_amount\n",
    "        journal_entry[\"date\"]=deepcopy(to) # Improve the logic of determining when a transaction takes place\n",
    "        # I.e. one could define an open and close times for a market and use that instead.\n",
    "                \n",
    "        addJournalEntryToLedger(context.ledger,journal_entry)\n",
    "        addSecurityToPortfolio(context.portfolio,security)\n",
    "                \n",
    "        elseif order.specs.type==\"LimitOrder\"\n",
    "            @info \"LimitOrder has not yet been implemented, please use MarketOrder\"\n",
    "        end\n",
    "            \n",
    "        # Incomplete orders are to be put back\n",
    "        if !(success)\n",
    "            order.specs.shares -= shares # Reduce the amount of shares\n",
    "            push!(incomplete_orders,order)\n",
    "        end\n",
    "    end\n",
    "    append!(context.activeOrders,incomplete_orders)\n",
    "end\n",
    "        \n",
    "\"\"\"\n",
    "    deepPush!(list,element)\n",
    "\n",
    "        Inserts the deepcopy of an element into a collection \n",
    "\"\"\"\n",
    "function deepPush!(list,element)\n",
    "    push!(list,deepcopy(element))\n",
    "end\n"
   ]
  },
  {
   "cell_type": "markdown",
   "id": "0c59a246-41c3-423a-a9a0-9475a7ae7554",
   "metadata": {},
   "source": [
    "# Run Simulation\n"
   ]
  },
  {
   "cell_type": "code",
   "execution_count": 82,
   "id": "14af7579-795b-42da-ae30-21582defe8b2",
   "metadata": {},
   "outputs": [
    {
     "data": {
      "text/plain": [
       "DotMap(Dict{Symbol, Any}(:accountHistory => Any[DotMap(Dict{Symbol, Any}(:usd => DotMap(Dict{Symbol, Any}(:currency => \"USD\", :balance => 100000)))), DotMap(Dict{Symbol, Any}(:usd => DotMap(Dict{Symbol, Any}(:currency => \"USD\", :balance => 100000)))), DotMap(Dict{Symbol, Any}(:usd => DotMap(Dict{Symbol, Any}(:currency => \"USD\", :balance => 97102.00004577637)))), DotMap(Dict{Symbol, Any}(:usd => DotMap(Dict{Symbol, Any}(:currency => \"USD\", :balance => 94182.50007629395)))), DotMap(Dict{Symbol, Any}(:usd => DotMap(Dict{Symbol, Any}(:currency => \"USD\", :balance => 91263.00010681152)))), DotMap(Dict{Symbol, Any}(:usd => DotMap(Dict{Symbol, Any}(:currency => \"USD\", :balance => 88343.5001373291)))), DotMap(Dict{Symbol, Any}(:usd => DotMap(Dict{Symbol, Any}(:currency => \"USD\", :balance => 85394.75021362305)))), DotMap(Dict{Symbol, Any}(:usd => DotMap(Dict{Symbol, Any}(:currency => \"USD\", :balance => 82425.50029754639)))), DotMap(Dict{Symbol, Any}(:usd => DotMap(Dict{Symbol, Any}(:currency => \"USD\", :balance => 79457.00035095215)))), DotMap(Dict{Symbol, Any}(:usd => DotMap(Dict{Symbol, Any}(:currency => \"USD\", :balance => 76484.50031280518))))  …  DotMap(Dict{Symbol, Any}(:usd => DotMap(Dict{Symbol, Any}(:currency => \"USD\", :balance => 0.0)))), DotMap(Dict{Symbol, Any}(:usd => DotMap(Dict{Symbol, Any}(:currency => \"USD\", :balance => 0.0)))), DotMap(Dict{Symbol, Any}(:usd => DotMap(Dict{Symbol, Any}(:currency => \"USD\", :balance => 0.0)))), DotMap(Dict{Symbol, Any}(:usd => DotMap(Dict{Symbol, Any}(:currency => \"USD\", :balance => 0.0)))), DotMap(Dict{Symbol, Any}(:usd => DotMap(Dict{Symbol, Any}(:currency => \"USD\", :balance => 0.0)))), DotMap(Dict{Symbol, Any}(:usd => DotMap(Dict{Symbol, Any}(:currency => \"USD\", :balance => 0.0)))), DotMap(Dict{Symbol, Any}(:usd => DotMap(Dict{Symbol, Any}(:currency => \"USD\", :balance => 0.0)))), DotMap(Dict{Symbol, Any}(:usd => DotMap(Dict{Symbol, Any}(:currency => \"USD\", :balance => 0.0)))), DotMap(Dict{Symbol, Any}(:usd => DotMap(Dict{Symbol, Any}(:currency => \"USD\", :balance => 0.0)))), DotMap(Dict{Symbol, Any}(:usd => DotMap(Dict{Symbol, Any}(:currency => \"USD\", :balance => 0.0))))], :eventHistory => Any[TimeEvent(DateTime(\"2017-01-03T10:30:00\"), \"start\"), TimeEvent(DateTime(\"2017-01-04T10:30:00\"), \"data_transfer\"), TimeEvent(DateTime(\"2017-01-05T10:30:00\"), \"data_transfer\"), TimeEvent(DateTime(\"2017-01-06T10:30:00\"), \"data_transfer\"), TimeEvent(DateTime(\"2017-01-07T10:30:00\"), \"data_transfer\"), TimeEvent(DateTime(\"2017-01-08T10:30:00\"), \"data_transfer\"), TimeEvent(DateTime(\"2017-01-09T10:30:00\"), \"data_transfer\"), TimeEvent(DateTime(\"2017-01-10T10:30:00\"), \"data_transfer\"), TimeEvent(DateTime(\"2017-01-11T10:30:00\"), \"data_transfer\"), TimeEvent(DateTime(\"2017-01-12T10:30:00\"), \"data_transfer\")  …  TimeEvent(DateTime(\"2017-02-13T10:30:00\"), \"data_transfer\"), TimeEvent(DateTime(\"2017-02-14T10:30:00\"), \"data_transfer\"), TimeEvent(DateTime(\"2017-02-15T10:30:00\"), \"data_transfer\"), TimeEvent(DateTime(\"2017-02-16T10:30:00\"), \"data_transfer\"), TimeEvent(DateTime(\"2017-02-17T10:30:00\"), \"data_transfer\"), TimeEvent(DateTime(\"2017-02-18T10:30:00\"), \"data_transfer\"), TimeEvent(DateTime(\"2017-02-19T10:30:00\"), \"data_transfer\"), TimeEvent(DateTime(\"2017-02-20T10:30:00\"), \"data_transfer\"), TimeEvent(DateTime(\"2017-02-21T10:30:00\"), \"data_transfer\"), TimeEvent(DateTime(\"2017-02-22T10:30:00\"), \"data_transfer\")], :portfolioHistory => Any[Dict{Any, Any}(), Dict{Any, Any}(), Dict{Any, Any}(\"NMS/AAPL\" => 100), Dict{Any, Any}(\"NMS/AAPL\" => 200), Dict{Any, Any}(\"NMS/AAPL\" => 300), Dict{Any, Any}(\"NMS/AAPL\" => 400), Dict{Any, Any}(\"NMS/AAPL\" => 500), Dict{Any, Any}(\"NMS/AAPL\" => 600), Dict{Any, Any}(\"NMS/AAPL\" => 700), Dict{Any, Any}(\"NMS/AAPL\" => 800)  …  Dict{Any, Any}(\"NMS/AAPL\" => 3303.5544833127587), Dict{Any, Any}(\"NMS/AAPL\" => 3303.5544833127587), Dict{Any, Any}(\"NMS/AAPL\" => 3303.5544833127587), Dict{Any, Any}(\"NMS/AAPL\" => 3303.5544833127587), Dict{Any, Any}(\"NMS/AAPL\" => 3303.5544833127587), Dict{Any, Any}(\"NMS/AAPL\" => 3303.5544833127587), Dict{Any, Any}(\"NMS/AAPL\" => 3303.5544833127587), Dict{Any, Any}(\"NMS/AAPL\" => 3303.5544833127587), Dict{Any, Any}(\"NMS/AAPL\" => 3303.5544833127587), Dict{Any, Any}(\"NMS/AAPL\" => 3303.5544833127587)]))"
      ]
     },
     "execution_count": 82,
     "metadata": {},
     "output_type": "execute_result"
    }
   ],
   "source": [
    "# dates = from:Day(1):to \n",
    "# function run(data::DataFrame, initialize!::Function, trading_logic!::Function, execute_orders!::Function,expose_data::Function;audit=true)\n",
    "    \n",
    "   # events = [ TimeEvent(date,\"data_release\") for date in data[!,\"date\"]] \n",
    "   # context=Context(events,[],[])\n",
    "\n",
    "# Context definition\n",
    "function DM()\n",
    "    return DotMap(Dict())\n",
    "end\n",
    "\n",
    "mutable struct Context\n",
    "   eventList::Vector{TimeEvent} # List of events defined by the user\n",
    "   activeOrders::Vector{Order} # List of orders\n",
    "   current_event::TimeEvent\n",
    "   portfolio::Dict # The market determines the portfolio\n",
    "   accounts::DotMap # The market determines the account\n",
    "   ledger::Vector{Any} # List of transactions\n",
    "   audit::DotMap\n",
    "   extra::DotMap \n",
    "end\n",
    "\n",
    "audit=true \n",
    "\n",
    "context = Context([],[],TimeEvent(findmin(data.date)[1],\"start\"),Dict(),DM(),[],DM(),DM())\n",
    "\n",
    "HiddenContext=DotMap(Dict())\n",
    "HiddenContext.portfolioHistory=[]\n",
    "HiddenContext.accountHistory=[]\n",
    "HiddenContext.eventHistory=[]\n",
    "HiddenContext.extraHistory=[] \n",
    "\n",
    "\n",
    "initialize!(context) \n",
    "if audit\n",
    "    deepPush!(HiddenContext.portfolioHistory,context.portfolio)\n",
    "    deepPush!(HiddenContext.accountHistory,context.accounts)\n",
    "    deepPush!(HiddenContext.eventHistory,context.current_event)\n",
    "    deepPush!(HiddenContext.extraHistory,context.extra)\n",
    "end\n",
    "counter = 0\n",
    "max_iter= 50\n",
    "while ((size(context.eventList)[1]>0)) && (counter<max_iter)\n",
    "    counter+=1\n",
    "    \n",
    "    past_event_date=context.current_event.date\n",
    "    #############################\n",
    "    ####   Pick next event   ####\n",
    "    #############################\n",
    "    # Sort Event List \n",
    "    sortStruct!(context.eventList,:date)\n",
    "    context.current_event=pop!(context.eventList)# Removes the last item from the collection\n",
    "    \n",
    "    #############################################\n",
    "    ####   Execute orders since last event   ####\n",
    "    #############################################\n",
    "    execute_orders!(past_event_date, context.current_event.date, context, data)\n",
    "    if audit\n",
    "        deepPush!(HiddenContext.portfolioHistory,context.portfolio)\n",
    "        deepPush!(HiddenContext.accountHistory,context.accounts)\n",
    "        deepPush!(HiddenContext.eventHistory,context.current_event)\n",
    "        deepPush!(HiddenContext.extraHistory,context.extra)\n",
    "    end\n",
    "    #########################\n",
    "    ####   Expose Data   ####\n",
    "    #########################\n",
    "    exposed_data = expose_data(context,data) # Mechanism for which the market exposes the data to the user\n",
    "    \n",
    "    \n",
    "    ########################################################\n",
    "    ####   Let user process data and place new orders   ####\n",
    "    ########################################################\n",
    "    trading_logic!(context,exposed_data)\n",
    "    \n",
    "end\n",
    "if audit\n",
    "    context.audit=HiddenContext\n",
    "end\n",
    "# return context\n",
    "# end"
   ]
  },
  {
   "cell_type": "code",
   "execution_count": 91,
   "id": "e6145e8e-50a0-415b-a797-3a40d8b868b2",
   "metadata": {},
   "outputs": [],
   "source": [
    "using DataFrames: DataFrame, Not, select!\n",
    "\n",
    "function parse_accountHistory(accountHistory) # Probably I will also need the value of the stock at the audit point in time.\n",
    "    accounts = Set([ key  for p in accountHistory for key in keys(p)])\n",
    "    N=length(accountHistory)\n",
    "    baseDf = DataFrame(ix=1:N)#, C=1:500)\n",
    "    for account=accounts \n",
    "            baseDf[!,account]=[ get(get(a,account,nothing),\"balance\",nothing)  for a in accountHistory]\n",
    "    end\n",
    "    return select!(baseDf, Not([:ix]))\n",
    "end\n",
    "\n",
    "\n",
    "function parse_portfolioHistory(portfolioHistory) # Probably I will also need the value of the stock at the audit point in time.\n",
    "    assetIds = Set([ key  for p in portfolioHistory for key in keys(p)])\n",
    "    N=length(portfolioHistory)\n",
    "    baseDf = DataFrame(ix=1:N)#, C=1:500)\n",
    "    for asset=assetIds \n",
    "        baseDf[!,asset]=[ get(p,asset,nothing)  for p in portfolioHistory]\n",
    "    end\n",
    "    return select!(baseDf, Not([:ix]))\n",
    "end\n",
    "\n",
    "\n",
    "# Beautiful\n",
    "# dfPortfolio=parse_portfolioHistory( context.audit.portfolioHistory)\n",
    "# dfPortfolio=parse_accountHistory(context.audit.accountHistory)\n",
    "accountHistory=context.audit.accountHistory\n",
    "accounts = Set([ key  for p in accountHistory for key in keys(p)])\n",
    "N=length(accountHistory)\n",
    "\n",
    "baseDf = DataFrame(ix=1:N)#, C=1:500)\n",
    "for account=accounts \n",
    "        baseDf[!,account]=[ get(get(a,account,nothing),\"balance\",nothing)  for a in accountHistory]\n",
    "end"
   ]
  },
  {
   "cell_type": "code",
   "execution_count": 92,
   "id": "ef26242a-a628-493e-97e7-a91e9203dda8",
   "metadata": {},
   "outputs": [
    {
     "data": {
      "text/html": [
       "<div><div style = \"float: left;\"><span>51×2 DataFrame</span></div><div style = \"float: right;\"><span style = \"font-style: italic;\">26 rows omitted</span></div><div style = \"clear: both;\"></div></div><div class = \"data-frame\" style = \"overflow-x: scroll;\"><table class = \"data-frame\" style = \"margin-bottom: 6px;\"><thead><tr class = \"header\"><th class = \"rowNumber\" style = \"font-weight: bold; text-align: right;\">Row</th><th style = \"text-align: left;\">ix</th><th style = \"text-align: left;\">usd</th></tr><tr class = \"subheader headerLastRow\"><th class = \"rowNumber\" style = \"font-weight: bold; text-align: right;\"></th><th title = \"Int64\" style = \"text-align: left;\">Int64</th><th title = \"Real\" style = \"text-align: left;\">Real</th></tr></thead><tbody><tr><td class = \"rowNumber\" style = \"font-weight: bold; text-align: right;\">1</td><td style = \"text-align: right;\">1</td><td style = \"text-align: right;\">100000</td></tr><tr><td class = \"rowNumber\" style = \"font-weight: bold; text-align: right;\">2</td><td style = \"text-align: right;\">2</td><td style = \"text-align: right;\">100000</td></tr><tr><td class = \"rowNumber\" style = \"font-weight: bold; text-align: right;\">3</td><td style = \"text-align: right;\">3</td><td style = \"text-align: right;\">97102.0</td></tr><tr><td class = \"rowNumber\" style = \"font-weight: bold; text-align: right;\">4</td><td style = \"text-align: right;\">4</td><td style = \"text-align: right;\">94182.5</td></tr><tr><td class = \"rowNumber\" style = \"font-weight: bold; text-align: right;\">5</td><td style = \"text-align: right;\">5</td><td style = \"text-align: right;\">91263.0</td></tr><tr><td class = \"rowNumber\" style = \"font-weight: bold; text-align: right;\">6</td><td style = \"text-align: right;\">6</td><td style = \"text-align: right;\">88343.5</td></tr><tr><td class = \"rowNumber\" style = \"font-weight: bold; text-align: right;\">7</td><td style = \"text-align: right;\">7</td><td style = \"text-align: right;\">85394.8</td></tr><tr><td class = \"rowNumber\" style = \"font-weight: bold; text-align: right;\">8</td><td style = \"text-align: right;\">8</td><td style = \"text-align: right;\">82425.5</td></tr><tr><td class = \"rowNumber\" style = \"font-weight: bold; text-align: right;\">9</td><td style = \"text-align: right;\">9</td><td style = \"text-align: right;\">79457.0</td></tr><tr><td class = \"rowNumber\" style = \"font-weight: bold; text-align: right;\">10</td><td style = \"text-align: right;\">10</td><td style = \"text-align: right;\">76484.5</td></tr><tr><td class = \"rowNumber\" style = \"font-weight: bold; text-align: right;\">11</td><td style = \"text-align: right;\">11</td><td style = \"text-align: right;\">73506.8</td></tr><tr><td class = \"rowNumber\" style = \"font-weight: bold; text-align: right;\">12</td><td style = \"text-align: right;\">12</td><td style = \"text-align: right;\">70529.0</td></tr><tr><td class = \"rowNumber\" style = \"font-weight: bold; text-align: right;\">13</td><td style = \"text-align: right;\">13</td><td style = \"text-align: right;\">67551.3</td></tr><tr><td style = \"text-align: right;\">&vellip;</td><td style = \"text-align: right;\">&vellip;</td><td style = \"text-align: right;\">&vellip;</td></tr><tr><td class = \"rowNumber\" style = \"font-weight: bold; text-align: right;\">40</td><td style = \"text-align: right;\">40</td><td style = \"text-align: right;\">0.0</td></tr><tr><td class = \"rowNumber\" style = \"font-weight: bold; text-align: right;\">41</td><td style = \"text-align: right;\">41</td><td style = \"text-align: right;\">0.0</td></tr><tr><td class = \"rowNumber\" style = \"font-weight: bold; text-align: right;\">42</td><td style = \"text-align: right;\">42</td><td style = \"text-align: right;\">0.0</td></tr><tr><td class = \"rowNumber\" style = \"font-weight: bold; text-align: right;\">43</td><td style = \"text-align: right;\">43</td><td style = \"text-align: right;\">0.0</td></tr><tr><td class = \"rowNumber\" style = \"font-weight: bold; text-align: right;\">44</td><td style = \"text-align: right;\">44</td><td style = \"text-align: right;\">0.0</td></tr><tr><td class = \"rowNumber\" style = \"font-weight: bold; text-align: right;\">45</td><td style = \"text-align: right;\">45</td><td style = \"text-align: right;\">0.0</td></tr><tr><td class = \"rowNumber\" style = \"font-weight: bold; text-align: right;\">46</td><td style = \"text-align: right;\">46</td><td style = \"text-align: right;\">0.0</td></tr><tr><td class = \"rowNumber\" style = \"font-weight: bold; text-align: right;\">47</td><td style = \"text-align: right;\">47</td><td style = \"text-align: right;\">0.0</td></tr><tr><td class = \"rowNumber\" style = \"font-weight: bold; text-align: right;\">48</td><td style = \"text-align: right;\">48</td><td style = \"text-align: right;\">0.0</td></tr><tr><td class = \"rowNumber\" style = \"font-weight: bold; text-align: right;\">49</td><td style = \"text-align: right;\">49</td><td style = \"text-align: right;\">0.0</td></tr><tr><td class = \"rowNumber\" style = \"font-weight: bold; text-align: right;\">50</td><td style = \"text-align: right;\">50</td><td style = \"text-align: right;\">0.0</td></tr><tr><td class = \"rowNumber\" style = \"font-weight: bold; text-align: right;\">51</td><td style = \"text-align: right;\">51</td><td style = \"text-align: right;\">0.0</td></tr></tbody></table></div>"
      ],
      "text/latex": [
       "\\begin{tabular}{r|cc}\n",
       "\t& ix & usd\\\\\n",
       "\t\\hline\n",
       "\t& Int64 & Real\\\\\n",
       "\t\\hline\n",
       "\t1 & 1 & 100000 \\\\\n",
       "\t2 & 2 & 100000 \\\\\n",
       "\t3 & 3 & 97102.0 \\\\\n",
       "\t4 & 4 & 94182.5 \\\\\n",
       "\t5 & 5 & 91263.0 \\\\\n",
       "\t6 & 6 & 88343.5 \\\\\n",
       "\t7 & 7 & 85394.8 \\\\\n",
       "\t8 & 8 & 82425.5 \\\\\n",
       "\t9 & 9 & 79457.0 \\\\\n",
       "\t10 & 10 & 76484.5 \\\\\n",
       "\t11 & 11 & 73506.8 \\\\\n",
       "\t12 & 12 & 70529.0 \\\\\n",
       "\t13 & 13 & 67551.3 \\\\\n",
       "\t14 & 14 & 64573.5 \\\\\n",
       "\t15 & 15 & 61615.0 \\\\\n",
       "\t16 & 16 & 58615.0 \\\\\n",
       "\t17 & 17 & 55630.0 \\\\\n",
       "\t18 & 18 & 52618.8 \\\\\n",
       "\t19 & 19 & 49607.5 \\\\\n",
       "\t20 & 20 & 46596.3 \\\\\n",
       "\t21 & 21 & 43596.3 \\\\\n",
       "\t22 & 22 & 40607.5 \\\\\n",
       "\t23 & 23 & 37597.0 \\\\\n",
       "\t24 & 24 & 34555.3 \\\\\n",
       "\t25 & 25 & 31501.8 \\\\\n",
       "\t26 & 26 & 28448.3 \\\\\n",
       "\t27 & 27 & 25394.8 \\\\\n",
       "\t28 & 28 & 22371.5 \\\\\n",
       "\t29 & 29 & 19342.8 \\\\\n",
       "\t30 & 30 & 16167.0 \\\\\n",
       "\t$\\dots$ & $\\dots$ & $\\dots$ \\\\\n",
       "\\end{tabular}\n"
      ],
      "text/plain": [
       "\u001b[1m51×2 DataFrame\n",
       "\u001b[1m Row │\u001b[1m ix    \u001b[1m usd\n",
       "     │\u001b[90m Int64 \u001b[90m Real\n",
       "─────┼─────────────────\n",
       "   1 │     1  100000\n",
       "   2 │     2  100000\n",
       "   3 │     3   97102.0\n",
       "   4 │     4   94182.5\n",
       "   5 │     5   91263.0\n",
       "   6 │     6   88343.5\n",
       "   7 │     7   85394.8\n",
       "   8 │     8   82425.5\n",
       "   9 │     9   79457.0\n",
       "  10 │    10   76484.5\n",
       "  11 │    11   73506.8\n",
       "  ⋮  │   ⋮       ⋮\n",
       "  42 │    42       0.0\n",
       "  43 │    43       0.0\n",
       "  44 │    44       0.0\n",
       "  45 │    45       0.0\n",
       "  46 │    46       0.0\n",
       "  47 │    47       0.0\n",
       "  48 │    48       0.0\n",
       "  49 │    49       0.0\n",
       "  50 │    50       0.0\n",
       "  51 │    51       0.0\n",
       "\u001b[36m        30 rows omitted"
      ]
     },
     "execution_count": 92,
     "metadata": {},
     "output_type": "execute_result"
    }
   ],
   "source": [
    "baseDf\n",
    "# accountHistory"
   ]
  },
  {
   "cell_type": "code",
   "execution_count": 93,
   "id": "db28400c-7119-4fa7-86d5-5a72a4873305",
   "metadata": {},
   "outputs": [
    {
     "data": {
      "text/plain": [
       "DM2 (generic function with 1 method)"
      ]
     },
     "execution_count": 93,
     "metadata": {},
     "output_type": "execute_result"
    }
   ],
   "source": [
    "DM2()= DotMap(Dict())"
   ]
  },
  {
   "cell_type": "code",
   "execution_count": 252,
   "id": "9120e6dd-5deb-465c-ade8-713aea1390ca",
   "metadata": {},
   "outputs": [
    {
     "data": {
      "text/plain": [
       "Vector{Any}\u001b[90m (alias for \u001b[39m\u001b[90mArray{Any, 1}\u001b[39m\u001b[90m)\u001b[39m"
      ]
     },
     "execution_count": 252,
     "metadata": {},
     "output_type": "execute_result"
    }
   ],
   "source": [
    "typeof(context.portfolio)"
   ]
  },
  {
   "cell_type": "code",
   "execution_count": 66,
   "id": "6ebe3129-ec91-45d6-82b9-4d5de7894ba4",
   "metadata": {},
   "outputs": [
    {
     "name": "stderr",
     "output_type": "stream",
     "text": [
      "\u001b[36m\u001b[1m[ \u001b[22m\u001b[39m\u001b[36m\u001b[1mInfo: \u001b[22m\u001b[39mAny[]\n",
      "\u001b[36m\u001b[1m[ \u001b[22m\u001b[39m\u001b[36m\u001b[1mInfo: \u001b[22m\u001b[39m2017-01-04T10:30:00\n"
     ]
    }
   ],
   "source": [
    "\n",
    "# Call Initialization function\n",
    "initialize!(context)"
   ]
  },
  {
   "cell_type": "markdown",
   "id": "9fe81c7b-28ef-4747-ab15-fe802bbcb7fd",
   "metadata": {},
   "source": [
    "# Currencies: JuliaFinance\n",
    "\n",
    "``` julia\n",
    "# usd = Finance.Currencies.currency(:USD)\n",
    "# @info \"Symbol: $(Finance.Currencies.symbol(usd))\"\n",
    "# @info \"Name: $(Finance.Currencies.name(usd))\"\n",
    "# @info \"Code: $(Finance.Currencies.code(usd))\"\n",
    "# @info \"Minor Unit: $(Finance.Currencies.unit(usd))\"\n",
    "\n",
    "# jpy = Finance.Currencies.currency(:JPY)\n",
    "# @info \"Symbol: $(Finance.Currencies.symbol(jpy))\"\n",
    "# @info \"Name: $(Finance.Currencies.name(jpy))\"\n",
    "# @info \"Code: $(Finance.Currencies.code(jpy))\"\n",
    "# @info \"Minor Unit: $(Finance.Currencies.unit(jpy))\"\n",
    "\n",
    "# Assets seem not to work\n",
    "# using Assets\n",
    "# @cash USD\n",
    "# Finance.Assets.cash\n",
    "```"
   ]
  },
  {
   "cell_type": "code",
   "execution_count": 77,
   "id": "a4265687-fe39-4204-8da8-47119f352e70",
   "metadata": {},
   "outputs": [
    {
     "name": "stderr",
     "output_type": "stream",
     "text": [
      "WARNING: replacing module Finance.\n"
     ]
    },
    {
     "ename": "LoadError",
     "evalue": "UndefVarError: @cash not defined",
     "output_type": "error",
     "traceback": [
      "UndefVarError: @cash not defined",
      ""
     ]
    }
   ],
   "source": [
    "\n",
    "module Finance\n",
    "export Currencies\n",
    "export Assets, @cash\n",
    "using Currencies: Currencies\n",
    "using Assets: Assets, @cash\n",
    "end\n",
    "\n"
   ]
  },
  {
   "cell_type": "markdown",
   "id": "4c26a74d-4bd6-49e8-a402-ae1b68ef00df",
   "metadata": {},
   "source": [
    "# Experiments on immutability"
   ]
  },
  {
   "cell_type": "code",
   "execution_count": 19,
   "id": "691ea9ab-17fb-47d1-aa5e-a569c9248e23",
   "metadata": {},
   "outputs": [],
   "source": [
    "# context.marketName=\"2\" # Fails if is immutable. Good\n",
    "# const market=\"NYSE\" # Constant values cannot be modified\n",
    "# market=2\n",
    "# const 2\n",
    "\n",
    "# b =  Base.ImmutableDict(\"b\"=>2,\"c\"=>3)\n",
    "# g=[2,3,4]\n",
    "# c =  Base.ImmutableDict(\"b\"=>g,\"c\"=>3)\n",
    "# b[\"c\"]=2\n",
    "# setindex!(b, \"b\", 3)\n",
    "# b"
   ]
  },
  {
   "cell_type": "markdown",
   "id": "3f06f6ad-2fe0-499a-8ac9-9bafaca97601",
   "metadata": {},
   "source": [
    "# Test from package"
   ]
  },
  {
   "cell_type": "code",
   "execution_count": 5,
   "id": "6ea55dfd-ec6e-4520-a82a-10add4d718bf",
   "metadata": {},
   "outputs": [
    {
     "name": "stderr",
     "output_type": "stream",
     "text": [
      "WARNING: replacing module AlwaysBuyStrategy.\n",
      "\u001b[36m\u001b[1m[ \u001b[22m\u001b[39m\u001b[36m\u001b[1mInfo: \u001b[22m\u001b[39mStoring /root/project/.AirBorneCache/demo/2023_06_22_12_30_43_121.parq.snappy\n"
     ]
    },
    {
     "data": {
      "text/html": [
       "<div><div style = \"float: left;\"><span>51×1 DataFrame</span></div><div style = \"float: right;\"><span style = \"font-style: italic;\">26 rows omitted</span></div><div style = \"clear: both;\"></div></div><div class = \"data-frame\" style = \"overflow-x: scroll;\"><table class = \"data-frame\" style = \"margin-bottom: 6px;\"><thead><tr class = \"header\"><th class = \"rowNumber\" style = \"font-weight: bold; text-align: right;\">Row</th><th style = \"text-align: left;\">usd</th></tr><tr class = \"subheader headerLastRow\"><th class = \"rowNumber\" style = \"font-weight: bold; text-align: right;\"></th><th title = \"Real\" style = \"text-align: left;\">Real</th></tr></thead><tbody><tr><td class = \"rowNumber\" style = \"font-weight: bold; text-align: right;\">1</td><td style = \"text-align: right;\">100000</td></tr><tr><td class = \"rowNumber\" style = \"font-weight: bold; text-align: right;\">2</td><td style = \"text-align: right;\">100000</td></tr><tr><td class = \"rowNumber\" style = \"font-weight: bold; text-align: right;\">3</td><td style = \"text-align: right;\">97102.0</td></tr><tr><td class = \"rowNumber\" style = \"font-weight: bold; text-align: right;\">4</td><td style = \"text-align: right;\">94182.5</td></tr><tr><td class = \"rowNumber\" style = \"font-weight: bold; text-align: right;\">5</td><td style = \"text-align: right;\">91263.0</td></tr><tr><td class = \"rowNumber\" style = \"font-weight: bold; text-align: right;\">6</td><td style = \"text-align: right;\">88343.5</td></tr><tr><td class = \"rowNumber\" style = \"font-weight: bold; text-align: right;\">7</td><td style = \"text-align: right;\">85394.8</td></tr><tr><td class = \"rowNumber\" style = \"font-weight: bold; text-align: right;\">8</td><td style = \"text-align: right;\">82425.5</td></tr><tr><td class = \"rowNumber\" style = \"font-weight: bold; text-align: right;\">9</td><td style = \"text-align: right;\">79457.0</td></tr><tr><td class = \"rowNumber\" style = \"font-weight: bold; text-align: right;\">10</td><td style = \"text-align: right;\">76484.5</td></tr><tr><td class = \"rowNumber\" style = \"font-weight: bold; text-align: right;\">11</td><td style = \"text-align: right;\">73506.8</td></tr><tr><td class = \"rowNumber\" style = \"font-weight: bold; text-align: right;\">12</td><td style = \"text-align: right;\">70529.0</td></tr><tr><td class = \"rowNumber\" style = \"font-weight: bold; text-align: right;\">13</td><td style = \"text-align: right;\">67551.3</td></tr><tr><td style = \"text-align: right;\">&vellip;</td><td style = \"text-align: right;\">&vellip;</td></tr><tr><td class = \"rowNumber\" style = \"font-weight: bold; text-align: right;\">40</td><td style = \"text-align: right;\">0.0</td></tr><tr><td class = \"rowNumber\" style = \"font-weight: bold; text-align: right;\">41</td><td style = \"text-align: right;\">0.0</td></tr><tr><td class = \"rowNumber\" style = \"font-weight: bold; text-align: right;\">42</td><td style = \"text-align: right;\">0.0</td></tr><tr><td class = \"rowNumber\" style = \"font-weight: bold; text-align: right;\">43</td><td style = \"text-align: right;\">0.0</td></tr><tr><td class = \"rowNumber\" style = \"font-weight: bold; text-align: right;\">44</td><td style = \"text-align: right;\">0.0</td></tr><tr><td class = \"rowNumber\" style = \"font-weight: bold; text-align: right;\">45</td><td style = \"text-align: right;\">0.0</td></tr><tr><td class = \"rowNumber\" style = \"font-weight: bold; text-align: right;\">46</td><td style = \"text-align: right;\">0.0</td></tr><tr><td class = \"rowNumber\" style = \"font-weight: bold; text-align: right;\">47</td><td style = \"text-align: right;\">0.0</td></tr><tr><td class = \"rowNumber\" style = \"font-weight: bold; text-align: right;\">48</td><td style = \"text-align: right;\">0.0</td></tr><tr><td class = \"rowNumber\" style = \"font-weight: bold; text-align: right;\">49</td><td style = \"text-align: right;\">0.0</td></tr><tr><td class = \"rowNumber\" style = \"font-weight: bold; text-align: right;\">50</td><td style = \"text-align: right;\">0.0</td></tr><tr><td class = \"rowNumber\" style = \"font-weight: bold; text-align: right;\">51</td><td style = \"text-align: right;\">0.0</td></tr></tbody></table></div>"
      ],
      "text/latex": [
       "\\begin{tabular}{r|c}\n",
       "\t& usd\\\\\n",
       "\t\\hline\n",
       "\t& Real\\\\\n",
       "\t\\hline\n",
       "\t1 & 100000 \\\\\n",
       "\t2 & 100000 \\\\\n",
       "\t3 & 97102.0 \\\\\n",
       "\t4 & 94182.5 \\\\\n",
       "\t5 & 91263.0 \\\\\n",
       "\t6 & 88343.5 \\\\\n",
       "\t7 & 85394.8 \\\\\n",
       "\t8 & 82425.5 \\\\\n",
       "\t9 & 79457.0 \\\\\n",
       "\t10 & 76484.5 \\\\\n",
       "\t11 & 73506.8 \\\\\n",
       "\t12 & 70529.0 \\\\\n",
       "\t13 & 67551.3 \\\\\n",
       "\t14 & 64573.5 \\\\\n",
       "\t15 & 61615.0 \\\\\n",
       "\t16 & 58615.0 \\\\\n",
       "\t17 & 55630.0 \\\\\n",
       "\t18 & 52618.8 \\\\\n",
       "\t19 & 49607.5 \\\\\n",
       "\t20 & 46596.3 \\\\\n",
       "\t21 & 43596.3 \\\\\n",
       "\t22 & 40607.5 \\\\\n",
       "\t23 & 37597.0 \\\\\n",
       "\t24 & 34555.3 \\\\\n",
       "\t25 & 31501.8 \\\\\n",
       "\t26 & 28448.3 \\\\\n",
       "\t27 & 25394.8 \\\\\n",
       "\t28 & 22371.5 \\\\\n",
       "\t29 & 19342.8 \\\\\n",
       "\t30 & 16167.0 \\\\\n",
       "\t$\\dots$ & $\\dots$ \\\\\n",
       "\\end{tabular}\n"
      ],
      "text/plain": [
       "\u001b[1m51×1 DataFrame\n",
       "\u001b[1m Row │\u001b[1m usd\n",
       "     │\u001b[90m Real\n",
       "─────┼──────────\n",
       "   1 │ 100000\n",
       "   2 │ 100000\n",
       "   3 │  97102.0\n",
       "   4 │  94182.5\n",
       "   5 │  91263.0\n",
       "   6 │  88343.5\n",
       "   7 │  85394.8\n",
       "   8 │  82425.5\n",
       "   9 │  79457.0\n",
       "  10 │  76484.5\n",
       "  11 │  73506.8\n",
       "  ⋮  │    ⋮\n",
       "  42 │      0.0\n",
       "  43 │      0.0\n",
       "  44 │      0.0\n",
       "  45 │      0.0\n",
       "  46 │      0.0\n",
       "  47 │      0.0\n",
       "  48 │      0.0\n",
       "  49 │      0.0\n",
       "  50 │      0.0\n",
       "  51 │      0.0\n",
       "\u001b[36m 30 rows omitted"
      ]
     },
     "execution_count": 5,
     "metadata": {},
     "output_type": "execute_result"
    }
   ],
   "source": [
    "using AirBorne: AirBorne\n",
    "using AirBorne.ETL.Cache: load_bundle, store_bundle\n",
    "using AirBorne.Engines.DEDS: run\n",
    "using AirBorne.Markets.StaticMarket: execute_orders!, expose_data, parse_portfolioHistory, parse_accountHistory\n",
    "using Dates: Dates\n",
    "include(\"./AlwaysBuyStrategy.jl\")\n",
    "cache_dir = joinpath(@__DIR__, \"assets\", \"cache\")\n",
    "# To generate this data use:\n",
    "from = Dates.DateTime(\"2017-01-01\"); to = Dates.DateTime(\"2022-01-01\")\n",
    "u_from = string(round(Int, Dates.datetime2unix(from))); u_to = string(round(Int, Dates.datetime2unix(to)))\n",
    "data = AirBorne.ETL.YFinance.get_interday_data([\"AAPL\",\"GOOG\"], u_from, u_to)\n",
    "\n",
    "data[!,:close]=float.(data[!,:close])\n",
    "data[!,:high]=float.(data[!,:high])\n",
    "data[!,:low]=float.(data[!,:low])\n",
    "data[!,:open]=float.(data[!,:open])\n",
    "data[!,:unix]=Int.(data[!,:unix])\n",
    "data[!,:volume]=Int.(data[!,:volume])\n",
    "\n",
    "AirBorne.ETL.Cache.store_bundle(data; bundle_id=\"demo\", archive=true) \n",
    "    # data = load_bundle(\"demo\"; cache_dir=cache_dir)\n",
    "initialize! = AlwaysBuyStrategy.initialize!\n",
    "trading_logic! = AlwaysBuyStrategy.trading_logic!\n",
    "max_iter = 50\n",
    "results = run(\n",
    "    data,\n",
    "    initialize!,\n",
    "    trading_logic!,\n",
    "    execute_orders!,\n",
    "    expose_data;\n",
    "    audit=true,\n",
    "    max_iter=max_iter,\n",
    ")\n",
    "parsed_portfolioHistory = parse_portfolioHistory(results.audit.portfolioHistory)\n",
    "parsed_accountHistory   = parse_accountHistory(results.audit.accountHistory)"
   ]
  },
  {
   "cell_type": "code",
   "execution_count": 17,
   "id": "de6da6a5-a3b6-4e04-a0e8-d97a45fb1df7",
   "metadata": {},
   "outputs": [
    {
     "data": {
      "text/html": [
       "<div><div style = \"float: left;\"><span>51×3 DataFrame</span></div><div style = \"float: right;\"><span style = \"font-style: italic;\">26 rows omitted</span></div><div style = \"clear: both;\"></div></div><div class = \"data-frame\" style = \"overflow-x: scroll;\"><table class = \"data-frame\" style = \"margin-bottom: 6px;\"><thead><tr class = \"header\"><th class = \"rowNumber\" style = \"font-weight: bold; text-align: right;\">Row</th><th style = \"text-align: left;\">event</th><th style = \"text-align: left;\">usd</th><th style = \"text-align: left;\">NMS/AAPL</th></tr><tr class = \"subheader headerLastRow\"><th class = \"rowNumber\" style = \"font-weight: bold; text-align: right;\"></th><th title = \"Dates.DateTime\" style = \"text-align: left;\">DateTime</th><th title = \"Real\" style = \"text-align: left;\">Real</th><th title = \"Union{Nothing, Real}\" style = \"text-align: left;\">Union…</th></tr></thead><tbody><tr><td class = \"rowNumber\" style = \"font-weight: bold; text-align: right;\">1</td><td style = \"text-align: left;\">2017-01-03T10:30:00</td><td style = \"text-align: right;\">100000</td><td style = \"font-style: italic; text-align: left;\"></td></tr><tr><td class = \"rowNumber\" style = \"font-weight: bold; text-align: right;\">2</td><td style = \"text-align: left;\">2017-01-04T10:30:00</td><td style = \"text-align: right;\">100000</td><td style = \"font-style: italic; text-align: left;\"></td></tr><tr><td class = \"rowNumber\" style = \"font-weight: bold; text-align: right;\">3</td><td style = \"text-align: left;\">2017-01-05T10:30:00</td><td style = \"text-align: right;\">97102.0</td><td style = \"text-align: left;\">100</td></tr><tr><td class = \"rowNumber\" style = \"font-weight: bold; text-align: right;\">4</td><td style = \"text-align: left;\">2017-01-06T10:30:00</td><td style = \"text-align: right;\">94182.5</td><td style = \"text-align: left;\">200</td></tr><tr><td class = \"rowNumber\" style = \"font-weight: bold; text-align: right;\">5</td><td style = \"text-align: left;\">2017-01-07T10:30:00</td><td style = \"text-align: right;\">91263.0</td><td style = \"text-align: left;\">300</td></tr><tr><td class = \"rowNumber\" style = \"font-weight: bold; text-align: right;\">6</td><td style = \"text-align: left;\">2017-01-08T10:30:00</td><td style = \"text-align: right;\">88343.5</td><td style = \"text-align: left;\">400</td></tr><tr><td class = \"rowNumber\" style = \"font-weight: bold; text-align: right;\">7</td><td style = \"text-align: left;\">2017-01-09T10:30:00</td><td style = \"text-align: right;\">85394.8</td><td style = \"text-align: left;\">500</td></tr><tr><td class = \"rowNumber\" style = \"font-weight: bold; text-align: right;\">8</td><td style = \"text-align: left;\">2017-01-10T10:30:00</td><td style = \"text-align: right;\">82425.5</td><td style = \"text-align: left;\">600</td></tr><tr><td class = \"rowNumber\" style = \"font-weight: bold; text-align: right;\">9</td><td style = \"text-align: left;\">2017-01-11T10:30:00</td><td style = \"text-align: right;\">79457.0</td><td style = \"text-align: left;\">700</td></tr><tr><td class = \"rowNumber\" style = \"font-weight: bold; text-align: right;\">10</td><td style = \"text-align: left;\">2017-01-12T10:30:00</td><td style = \"text-align: right;\">76484.5</td><td style = \"text-align: left;\">800</td></tr><tr><td class = \"rowNumber\" style = \"font-weight: bold; text-align: right;\">11</td><td style = \"text-align: left;\">2017-01-13T10:30:00</td><td style = \"text-align: right;\">73506.8</td><td style = \"text-align: left;\">900</td></tr><tr><td class = \"rowNumber\" style = \"font-weight: bold; text-align: right;\">12</td><td style = \"text-align: left;\">2017-01-14T10:30:00</td><td style = \"text-align: right;\">70529.0</td><td style = \"text-align: left;\">1000</td></tr><tr><td class = \"rowNumber\" style = \"font-weight: bold; text-align: right;\">13</td><td style = \"text-align: left;\">2017-01-15T10:30:00</td><td style = \"text-align: right;\">67551.3</td><td style = \"text-align: left;\">1100</td></tr><tr><td style = \"text-align: right;\">&vellip;</td><td style = \"text-align: right;\">&vellip;</td><td style = \"text-align: right;\">&vellip;</td><td style = \"text-align: right;\">&vellip;</td></tr><tr><td class = \"rowNumber\" style = \"font-weight: bold; text-align: right;\">40</td><td style = \"text-align: left;\">2017-02-11T10:30:00</td><td style = \"text-align: right;\">0.0</td><td style = \"text-align: left;\">3303.55</td></tr><tr><td class = \"rowNumber\" style = \"font-weight: bold; text-align: right;\">41</td><td style = \"text-align: left;\">2017-02-12T10:30:00</td><td style = \"text-align: right;\">0.0</td><td style = \"text-align: left;\">3303.55</td></tr><tr><td class = \"rowNumber\" style = \"font-weight: bold; text-align: right;\">42</td><td style = \"text-align: left;\">2017-02-13T10:30:00</td><td style = \"text-align: right;\">0.0</td><td style = \"text-align: left;\">3303.55</td></tr><tr><td class = \"rowNumber\" style = \"font-weight: bold; text-align: right;\">43</td><td style = \"text-align: left;\">2017-02-14T10:30:00</td><td style = \"text-align: right;\">0.0</td><td style = \"text-align: left;\">3303.55</td></tr><tr><td class = \"rowNumber\" style = \"font-weight: bold; text-align: right;\">44</td><td style = \"text-align: left;\">2017-02-15T10:30:00</td><td style = \"text-align: right;\">0.0</td><td style = \"text-align: left;\">3303.55</td></tr><tr><td class = \"rowNumber\" style = \"font-weight: bold; text-align: right;\">45</td><td style = \"text-align: left;\">2017-02-16T10:30:00</td><td style = \"text-align: right;\">0.0</td><td style = \"text-align: left;\">3303.55</td></tr><tr><td class = \"rowNumber\" style = \"font-weight: bold; text-align: right;\">46</td><td style = \"text-align: left;\">2017-02-17T10:30:00</td><td style = \"text-align: right;\">0.0</td><td style = \"text-align: left;\">3303.55</td></tr><tr><td class = \"rowNumber\" style = \"font-weight: bold; text-align: right;\">47</td><td style = \"text-align: left;\">2017-02-18T10:30:00</td><td style = \"text-align: right;\">0.0</td><td style = \"text-align: left;\">3303.55</td></tr><tr><td class = \"rowNumber\" style = \"font-weight: bold; text-align: right;\">48</td><td style = \"text-align: left;\">2017-02-19T10:30:00</td><td style = \"text-align: right;\">0.0</td><td style = \"text-align: left;\">3303.55</td></tr><tr><td class = \"rowNumber\" style = \"font-weight: bold; text-align: right;\">49</td><td style = \"text-align: left;\">2017-02-20T10:30:00</td><td style = \"text-align: right;\">0.0</td><td style = \"text-align: left;\">3303.55</td></tr><tr><td class = \"rowNumber\" style = \"font-weight: bold; text-align: right;\">50</td><td style = \"text-align: left;\">2017-02-21T10:30:00</td><td style = \"text-align: right;\">0.0</td><td style = \"text-align: left;\">3303.55</td></tr><tr><td class = \"rowNumber\" style = \"font-weight: bold; text-align: right;\">51</td><td style = \"text-align: left;\">2017-02-22T10:30:00</td><td style = \"text-align: right;\">0.0</td><td style = \"text-align: left;\">3303.55</td></tr></tbody></table></div>"
      ],
      "text/latex": [
       "\\begin{tabular}{r|ccc}\n",
       "\t& event & usd & NMS/AAPL\\\\\n",
       "\t\\hline\n",
       "\t& DateTime & Real & Union…\\\\\n",
       "\t\\hline\n",
       "\t1 & 2017-01-03T10:30:00 & 100000 &  \\\\\n",
       "\t2 & 2017-01-04T10:30:00 & 100000 &  \\\\\n",
       "\t3 & 2017-01-05T10:30:00 & 97102.0 & 100 \\\\\n",
       "\t4 & 2017-01-06T10:30:00 & 94182.5 & 200 \\\\\n",
       "\t5 & 2017-01-07T10:30:00 & 91263.0 & 300 \\\\\n",
       "\t6 & 2017-01-08T10:30:00 & 88343.5 & 400 \\\\\n",
       "\t7 & 2017-01-09T10:30:00 & 85394.8 & 500 \\\\\n",
       "\t8 & 2017-01-10T10:30:00 & 82425.5 & 600 \\\\\n",
       "\t9 & 2017-01-11T10:30:00 & 79457.0 & 700 \\\\\n",
       "\t10 & 2017-01-12T10:30:00 & 76484.5 & 800 \\\\\n",
       "\t11 & 2017-01-13T10:30:00 & 73506.8 & 900 \\\\\n",
       "\t12 & 2017-01-14T10:30:00 & 70529.0 & 1000 \\\\\n",
       "\t13 & 2017-01-15T10:30:00 & 67551.3 & 1100 \\\\\n",
       "\t14 & 2017-01-16T10:30:00 & 64573.5 & 1200 \\\\\n",
       "\t15 & 2017-01-17T10:30:00 & 61615.0 & 1300 \\\\\n",
       "\t16 & 2017-01-18T10:30:00 & 58615.0 & 1400 \\\\\n",
       "\t17 & 2017-01-19T10:30:00 & 55630.0 & 1500 \\\\\n",
       "\t18 & 2017-01-20T10:30:00 & 52618.8 & 1600 \\\\\n",
       "\t19 & 2017-01-21T10:30:00 & 49607.5 & 1700 \\\\\n",
       "\t20 & 2017-01-22T10:30:00 & 46596.3 & 1800 \\\\\n",
       "\t21 & 2017-01-23T10:30:00 & 43596.3 & 1900 \\\\\n",
       "\t22 & 2017-01-24T10:30:00 & 40607.5 & 2000 \\\\\n",
       "\t23 & 2017-01-25T10:30:00 & 37597.0 & 2100 \\\\\n",
       "\t24 & 2017-01-26T10:30:00 & 34555.3 & 2200 \\\\\n",
       "\t25 & 2017-01-27T10:30:00 & 31501.8 & 2300 \\\\\n",
       "\t26 & 2017-01-28T10:30:00 & 28448.3 & 2400 \\\\\n",
       "\t27 & 2017-01-29T10:30:00 & 25394.8 & 2500 \\\\\n",
       "\t28 & 2017-01-30T10:30:00 & 22371.5 & 2600 \\\\\n",
       "\t29 & 2017-01-31T10:30:00 & 19342.8 & 2700 \\\\\n",
       "\t30 & 2017-02-01T10:30:00 & 16167.0 & 2800 \\\\\n",
       "\t$\\dots$ & $\\dots$ & $\\dots$ & $\\dots$ \\\\\n",
       "\\end{tabular}\n"
      ],
      "text/plain": [
       "\u001b[1m51×3 DataFrame\n",
       "\u001b[1m Row │\u001b[1m event               \u001b[1m usd      \u001b[1m NMS/AAPL\n",
       "     │\u001b[90m DateTime            \u001b[90m Real     \u001b[90m Union…\n",
       "─────┼─────────────────────────────────────────\n",
       "   1 │ 2017-01-03T10:30:00  100000   \u001b[90m\n",
       "   2 │ 2017-01-04T10:30:00  100000   \u001b[90m\n",
       "   3 │ 2017-01-05T10:30:00   97102.0  100\n",
       "   4 │ 2017-01-06T10:30:00   94182.5  200\n",
       "   5 │ 2017-01-07T10:30:00   91263.0  300\n",
       "   6 │ 2017-01-08T10:30:00   88343.5  400\n",
       "   7 │ 2017-01-09T10:30:00   85394.8  500\n",
       "   8 │ 2017-01-10T10:30:00   82425.5  600\n",
       "   9 │ 2017-01-11T10:30:00   79457.0  700\n",
       "  10 │ 2017-01-12T10:30:00   76484.5  800\n",
       "  11 │ 2017-01-13T10:30:00   73506.8  900\n",
       "  ⋮  │          ⋮              ⋮         ⋮\n",
       "  42 │ 2017-02-13T10:30:00       0.0  3303.55\n",
       "  43 │ 2017-02-14T10:30:00       0.0  3303.55\n",
       "  44 │ 2017-02-15T10:30:00       0.0  3303.55\n",
       "  45 │ 2017-02-16T10:30:00       0.0  3303.55\n",
       "  46 │ 2017-02-17T10:30:00       0.0  3303.55\n",
       "  47 │ 2017-02-18T10:30:00       0.0  3303.55\n",
       "  48 │ 2017-02-19T10:30:00       0.0  3303.55\n",
       "  49 │ 2017-02-20T10:30:00       0.0  3303.55\n",
       "  50 │ 2017-02-21T10:30:00       0.0  3303.55\n",
       "  51 │ 2017-02-22T10:30:00       0.0  3303.55\n",
       "\u001b[36m                                30 rows omitted"
      ]
     },
     "execution_count": 17,
     "metadata": {},
     "output_type": "execute_result"
    }
   ],
   "source": [
    "using DataFrames: DataFrame, hcat\n",
    "eventDf=DataFrame(Dict(\"event\"=>[ e.date for e in results.audit.eventHistory]))\n",
    "hcat(eventDf,parsed_accountHistory,parsed_portfolioHistory)"
   ]
  }
 ],
 "metadata": {
  "kernelspec": {
   "display_name": "Julia 1.8.5",
   "language": "julia",
   "name": "julia-1.8"
  },
  "language_info": {
   "file_extension": ".jl",
   "mimetype": "application/julia",
   "name": "julia",
   "version": "1.8.5"
  }
 },
 "nbformat": 4,
 "nbformat_minor": 5
}
