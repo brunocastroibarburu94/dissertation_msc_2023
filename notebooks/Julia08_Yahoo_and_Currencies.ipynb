{
 "cells": [
  {
   "cell_type": "markdown",
   "id": "639ae448-42fd-4b52-ac11-9dc760efca01",
   "metadata": {},
   "source": [
    "# Yahoo Finance\n",
    "- [Stock Price OHLCV Candles](https://finnhub.io/docs/api/stock-candles)\n"
   ]
  },
  {
   "cell_type": "code",
   "execution_count": 1,
   "id": "318f4fb4-e22b-4b7b-b4d5-15e400cd8758",
   "metadata": {},
   "outputs": [
    {
     "name": "stderr",
     "output_type": "stream",
     "text": [
      "\u001b[32m\u001b[1m  Activating\u001b[22m\u001b[39m project at `~/project/julia`\n"
     ]
    }
   ],
   "source": [
    "using Pkg\n",
    "Pkg.activate(\"../julia\")\n",
    "# include(\"/root/project/notebooks/DeePC.jl\")"
   ]
  },
  {
   "cell_type": "code",
   "execution_count": 8,
   "id": "9034aab1-bd93-41cb-bc4b-16894325f3da",
   "metadata": {},
   "outputs": [
    {
     "data": {
      "text/plain": [
       "Logging"
      ]
     },
     "execution_count": 8,
     "metadata": {},
     "output_type": "execute_result"
    }
   ],
   "source": [
    "import HTTP\n",
    "import Logging\n",
    "log=Logging"
   ]
  },
  {
   "cell_type": "code",
   "execution_count": 11,
   "id": "68aee86a-fc35-4dad-b0f5-9a3e017f503b",
   "metadata": {},
   "outputs": [
    {
     "name": "stderr",
     "output_type": "stream",
     "text": [
      "\u001b[36m\u001b[1m[ \u001b[22m\u001b[39m\u001b[36m\u001b[1mInfo: \u001b[22m\u001b[39mhttps://query1.finance.yahoo.com/v8/finance/chart/AAPL?events=div%257Csplit&interval=1d&period2=1580515200&includePrePost%20=true&period1=1577836800\n"
     ]
    },
    {
     "data": {
      "text/plain": [
       "\"{\\\"chart\\\":{\\\"result\\\":[{\\\"meta\\\":{\\\"currency\\\":\\\"USD\\\",\\\"symbol\\\":\\\"AAPL\\\",\\\"exchangeName\\\":\\\"NMS\\\",\\\"instrumentType\\\":\\\"EQUITY\\\",\\\"firstTradeDate\\\":345479400,\\\"regularMarketTime\\\":1688155205,\\\"gmtoffset\\\":-14400,\\\"timezone\\\":\\\"EDT\\\",\\\"exchangeTimezoneName\\\":\\\"America/New_York\\\",\\\"regularMarketPrice\\\":193.\" ⋯ 2511 bytes ⋯ \"7.40422821044922,76.35901641845703,76.03179168701172,76.98419952392578,77.83649444580078,77.30899047851562,77.58496856689453,77.95858764648438,77.73390197753906,75.44813537597656,77.5824966430664,79.20649719238281,79.09171295166016,75.58489990234375]}]}}],\\\"error\\\":null}}\""
      ]
     },
     "execution_count": 11,
     "metadata": {},
     "output_type": "execute_result"
    }
   ],
   "source": [
    "api_key=get(ENV,\"FINNHUB_API_KEY\",nothing)\n",
    "max_attempts=get(ENV,\"QUANDL_DOWNLOAD_ATTEMPTS\",5)\n",
    "# YAHOO_URL=\"http://finance.yahoo.com/d/quotes.csv\"\n",
    "symbol=\"AAPL\"\n",
    "# symbol=\"GOOG,AAPL\"\n",
    "\n",
    "# YAHOO_URL=\"https://query1.finance.yahoo.com/v7/finance/download/$symbol?\"\n",
    "# YAHOO_URL=\"https://query1.finance.yahoo.com/v8/finance/chart/$symbol?\"\n",
    "YAHOO_URL = \"https://query1.finance.yahoo.com/v8/finance/chart/$symbol?\"\n",
    "urlencode(x) = HTTP.URIs.escapeuri(x)\n",
    "params=Dict(\n",
    "    \"period1\"=>\"1577836800\",\n",
    "    \"period2\"=>\"1580515200\",\n",
    "    \"interval\"=>\"1d\",\n",
    "    \"events\"=>\"div%7Csplit\",\n",
    "    \"includePrePost \"=>\"true\",\n",
    ")\n",
    "    # \"period1\"=>\"2020-01-01\",\n",
    "    # \"period2\"=>\"2020-02-01\",\n",
    "\n",
    "# interval - The time interval between two data points. Can be 1m 2m 5m 15m 30m 60m 90m 1h 1d 5d 1wk 1mo 3mo\n",
    "# _min_date \n",
    "# params\n",
    "url=YAHOO_URL*urlencode(params)\n",
    "# \"https://query1.finance.yahoo.com/v7/finance/download/AAPL?period1=2020-01-01&period\"\n",
    "\n",
    "@info url\n",
    "r=HTTP.request(\"GET\",url)\n",
    "resp=deepcopy(r.body)\n",
    "String(resp)\n",
    "# show_progress=true\n",
    "# api_key"
   ]
  },
  {
   "cell_type": "code",
   "execution_count": 17,
   "id": "680f4408-0f9c-4c4e-91d4-c46aa7657e78",
   "metadata": {},
   "outputs": [
    {
     "data": {
      "text/html": [
       "<div><div style = \"float: left;\"><span>21×11 DataFrame</span></div><div style = \"clear: both;\"></div></div><div class = \"data-frame\" style = \"overflow-x: scroll;\"><table class = \"data-frame\" style = \"margin-bottom: 6px;\"><thead><tr class = \"header\"><th class = \"rowNumber\" style = \"font-weight: bold; text-align: right;\">Row</th><th style = \"text-align: left;\">close</th><th style = \"text-align: left;\">high</th><th style = \"text-align: left;\">low</th><th style = \"text-align: left;\">open</th><th style = \"text-align: left;\">volume</th><th style = \"text-align: left;\">date</th><th style = \"text-align: left;\">unix</th><th style = \"text-align: left;\">exchangeName</th><th style = \"text-align: left;\">timezone</th><th style = \"text-align: left;\">currency</th><th style = \"text-align: left;\">symbol</th></tr><tr class = \"subheader headerLastRow\"><th class = \"rowNumber\" style = \"font-weight: bold; text-align: right;\"></th><th title = \"Any\" style = \"text-align: left;\">Any</th><th title = \"Any\" style = \"text-align: left;\">Any</th><th title = \"Any\" style = \"text-align: left;\">Any</th><th title = \"Any\" style = \"text-align: left;\">Any</th><th title = \"Any\" style = \"text-align: left;\">Any</th><th title = \"Dates.DateTime\" style = \"text-align: left;\">DateTime</th><th title = \"Any\" style = \"text-align: left;\">Any</th><th title = \"String\" style = \"text-align: left;\">String</th><th title = \"String\" style = \"text-align: left;\">String</th><th title = \"String\" style = \"text-align: left;\">String</th><th title = \"String\" style = \"text-align: left;\">String</th></tr></thead><tbody><tr><td class = \"rowNumber\" style = \"font-weight: bold; text-align: right;\">1</td><td style = \"text-align: left;\">75.0875</td><td style = \"text-align: left;\">75.15</td><td style = \"text-align: left;\">73.7975</td><td style = \"text-align: left;\">74.06</td><td style = \"text-align: left;\">135480400</td><td style = \"text-align: left;\">2020-01-02T10:30:00</td><td style = \"text-align: left;\">1577975400</td><td style = \"text-align: left;\">NMS</td><td style = \"text-align: left;\">America/New_York</td><td style = \"text-align: left;\">USD</td><td style = \"text-align: left;\">AAPL</td></tr><tr><td class = \"rowNumber\" style = \"font-weight: bold; text-align: right;\">2</td><td style = \"text-align: left;\">74.3575</td><td style = \"text-align: left;\">75.145</td><td style = \"text-align: left;\">74.125</td><td style = \"text-align: left;\">74.2875</td><td style = \"text-align: left;\">146322800</td><td style = \"text-align: left;\">2020-01-03T10:30:00</td><td style = \"text-align: left;\">1578061800</td><td style = \"text-align: left;\">NMS</td><td style = \"text-align: left;\">America/New_York</td><td style = \"text-align: left;\">USD</td><td style = \"text-align: left;\">AAPL</td></tr><tr><td class = \"rowNumber\" style = \"font-weight: bold; text-align: right;\">3</td><td style = \"text-align: left;\">74.95</td><td style = \"text-align: left;\">74.99</td><td style = \"text-align: left;\">73.1875</td><td style = \"text-align: left;\">73.4475</td><td style = \"text-align: left;\">118387200</td><td style = \"text-align: left;\">2020-01-06T10:30:00</td><td style = \"text-align: left;\">1578321000</td><td style = \"text-align: left;\">NMS</td><td style = \"text-align: left;\">America/New_York</td><td style = \"text-align: left;\">USD</td><td style = \"text-align: left;\">AAPL</td></tr><tr><td class = \"rowNumber\" style = \"font-weight: bold; text-align: right;\">4</td><td style = \"text-align: left;\">74.5975</td><td style = \"text-align: left;\">75.225</td><td style = \"text-align: left;\">74.37</td><td style = \"text-align: left;\">74.96</td><td style = \"text-align: left;\">108872000</td><td style = \"text-align: left;\">2020-01-07T10:30:00</td><td style = \"text-align: left;\">1578407400</td><td style = \"text-align: left;\">NMS</td><td style = \"text-align: left;\">America/New_York</td><td style = \"text-align: left;\">USD</td><td style = \"text-align: left;\">AAPL</td></tr><tr><td class = \"rowNumber\" style = \"font-weight: bold; text-align: right;\">5</td><td style = \"text-align: left;\">75.7975</td><td style = \"text-align: left;\">76.11</td><td style = \"text-align: left;\">74.29</td><td style = \"text-align: left;\">74.29</td><td style = \"text-align: left;\">132079200</td><td style = \"text-align: left;\">2020-01-08T10:30:00</td><td style = \"text-align: left;\">1578493800</td><td style = \"text-align: left;\">NMS</td><td style = \"text-align: left;\">America/New_York</td><td style = \"text-align: left;\">USD</td><td style = \"text-align: left;\">AAPL</td></tr><tr><td class = \"rowNumber\" style = \"font-weight: bold; text-align: right;\">6</td><td style = \"text-align: left;\">77.4075</td><td style = \"text-align: left;\">77.6075</td><td style = \"text-align: left;\">76.55</td><td style = \"text-align: left;\">76.81</td><td style = \"text-align: left;\">170108400</td><td style = \"text-align: left;\">2020-01-09T10:30:00</td><td style = \"text-align: left;\">1578580200</td><td style = \"text-align: left;\">NMS</td><td style = \"text-align: left;\">America/New_York</td><td style = \"text-align: left;\">USD</td><td style = \"text-align: left;\">AAPL</td></tr><tr><td class = \"rowNumber\" style = \"font-weight: bold; text-align: right;\">7</td><td style = \"text-align: left;\">77.5825</td><td style = \"text-align: left;\">78.1675</td><td style = \"text-align: left;\">77.0625</td><td style = \"text-align: left;\">77.65</td><td style = \"text-align: left;\">140644800</td><td style = \"text-align: left;\">2020-01-10T10:30:00</td><td style = \"text-align: left;\">1578666600</td><td style = \"text-align: left;\">NMS</td><td style = \"text-align: left;\">America/New_York</td><td style = \"text-align: left;\">USD</td><td style = \"text-align: left;\">AAPL</td></tr><tr><td class = \"rowNumber\" style = \"font-weight: bold; text-align: right;\">8</td><td style = \"text-align: left;\">79.24</td><td style = \"text-align: left;\">79.2675</td><td style = \"text-align: left;\">77.7875</td><td style = \"text-align: left;\">77.91</td><td style = \"text-align: left;\">121532000</td><td style = \"text-align: left;\">2020-01-13T10:30:00</td><td style = \"text-align: left;\">1578925800</td><td style = \"text-align: left;\">NMS</td><td style = \"text-align: left;\">America/New_York</td><td style = \"text-align: left;\">USD</td><td style = \"text-align: left;\">AAPL</td></tr><tr><td class = \"rowNumber\" style = \"font-weight: bold; text-align: right;\">9</td><td style = \"text-align: left;\">78.17</td><td style = \"text-align: left;\">79.3925</td><td style = \"text-align: left;\">78.0425</td><td style = \"text-align: left;\">79.175</td><td style = \"text-align: left;\">161954400</td><td style = \"text-align: left;\">2020-01-14T10:30:00</td><td style = \"text-align: left;\">1579012200</td><td style = \"text-align: left;\">NMS</td><td style = \"text-align: left;\">America/New_York</td><td style = \"text-align: left;\">USD</td><td style = \"text-align: left;\">AAPL</td></tr><tr><td class = \"rowNumber\" style = \"font-weight: bold; text-align: right;\">10</td><td style = \"text-align: left;\">77.835</td><td style = \"text-align: left;\">78.875</td><td style = \"text-align: left;\">77.3875</td><td style = \"text-align: left;\">77.9625</td><td style = \"text-align: left;\">121923600</td><td style = \"text-align: left;\">2020-01-15T10:30:00</td><td style = \"text-align: left;\">1579098600</td><td style = \"text-align: left;\">NMS</td><td style = \"text-align: left;\">America/New_York</td><td style = \"text-align: left;\">USD</td><td style = \"text-align: left;\">AAPL</td></tr><tr><td class = \"rowNumber\" style = \"font-weight: bold; text-align: right;\">11</td><td style = \"text-align: left;\">78.81</td><td style = \"text-align: left;\">78.925</td><td style = \"text-align: left;\">78.0225</td><td style = \"text-align: left;\">78.3975</td><td style = \"text-align: left;\">108829200</td><td style = \"text-align: left;\">2020-01-16T10:30:00</td><td style = \"text-align: left;\">1579185000</td><td style = \"text-align: left;\">NMS</td><td style = \"text-align: left;\">America/New_York</td><td style = \"text-align: left;\">USD</td><td style = \"text-align: left;\">AAPL</td></tr><tr><td class = \"rowNumber\" style = \"font-weight: bold; text-align: right;\">12</td><td style = \"text-align: left;\">79.6825</td><td style = \"text-align: left;\">79.685</td><td style = \"text-align: left;\">78.75</td><td style = \"text-align: left;\">79.0675</td><td style = \"text-align: left;\">137816400</td><td style = \"text-align: left;\">2020-01-17T10:30:00</td><td style = \"text-align: left;\">1579271400</td><td style = \"text-align: left;\">NMS</td><td style = \"text-align: left;\">America/New_York</td><td style = \"text-align: left;\">USD</td><td style = \"text-align: left;\">AAPL</td></tr><tr><td class = \"rowNumber\" style = \"font-weight: bold; text-align: right;\">13</td><td style = \"text-align: left;\">79.1425</td><td style = \"text-align: left;\">79.755</td><td style = \"text-align: left;\">79.0</td><td style = \"text-align: left;\">79.2975</td><td style = \"text-align: left;\">110843200</td><td style = \"text-align: left;\">2020-01-21T10:30:00</td><td style = \"text-align: left;\">1579617000</td><td style = \"text-align: left;\">NMS</td><td style = \"text-align: left;\">America/New_York</td><td style = \"text-align: left;\">USD</td><td style = \"text-align: left;\">AAPL</td></tr><tr><td class = \"rowNumber\" style = \"font-weight: bold; text-align: right;\">14</td><td style = \"text-align: left;\">79.425</td><td style = \"text-align: left;\">79.9975</td><td style = \"text-align: left;\">79.3275</td><td style = \"text-align: left;\">79.645</td><td style = \"text-align: left;\">101832400</td><td style = \"text-align: left;\">2020-01-22T10:30:00</td><td style = \"text-align: left;\">1579703400</td><td style = \"text-align: left;\">NMS</td><td style = \"text-align: left;\">America/New_York</td><td style = \"text-align: left;\">USD</td><td style = \"text-align: left;\">AAPL</td></tr><tr><td class = \"rowNumber\" style = \"font-weight: bold; text-align: right;\">15</td><td style = \"text-align: left;\">79.8075</td><td style = \"text-align: left;\">79.89</td><td style = \"text-align: left;\">78.9125</td><td style = \"text-align: left;\">79.48</td><td style = \"text-align: left;\">104472000</td><td style = \"text-align: left;\">2020-01-23T10:30:00</td><td style = \"text-align: left;\">1579789800</td><td style = \"text-align: left;\">NMS</td><td style = \"text-align: left;\">America/New_York</td><td style = \"text-align: left;\">USD</td><td style = \"text-align: left;\">AAPL</td></tr><tr><td class = \"rowNumber\" style = \"font-weight: bold; text-align: right;\">16</td><td style = \"text-align: left;\">79.5775</td><td style = \"text-align: left;\">80.8325</td><td style = \"text-align: left;\">79.38</td><td style = \"text-align: left;\">80.0625</td><td style = \"text-align: left;\">146537600</td><td style = \"text-align: left;\">2020-01-24T10:30:00</td><td style = \"text-align: left;\">1579876200</td><td style = \"text-align: left;\">NMS</td><td style = \"text-align: left;\">America/New_York</td><td style = \"text-align: left;\">USD</td><td style = \"text-align: left;\">AAPL</td></tr><tr><td class = \"rowNumber\" style = \"font-weight: bold; text-align: right;\">17</td><td style = \"text-align: left;\">77.2375</td><td style = \"text-align: left;\">77.9425</td><td style = \"text-align: left;\">76.22</td><td style = \"text-align: left;\">77.515</td><td style = \"text-align: left;\">161940000</td><td style = \"text-align: left;\">2020-01-27T10:30:00</td><td style = \"text-align: left;\">1580135400</td><td style = \"text-align: left;\">NMS</td><td style = \"text-align: left;\">America/New_York</td><td style = \"text-align: left;\">USD</td><td style = \"text-align: left;\">AAPL</td></tr><tr><td class = \"rowNumber\" style = \"font-weight: bold; text-align: right;\">18</td><td style = \"text-align: left;\">79.4225</td><td style = \"text-align: left;\">79.6</td><td style = \"text-align: left;\">78.0475</td><td style = \"text-align: left;\">78.15</td><td style = \"text-align: left;\">162234000</td><td style = \"text-align: left;\">2020-01-28T10:30:00</td><td style = \"text-align: left;\">1580221800</td><td style = \"text-align: left;\">NMS</td><td style = \"text-align: left;\">America/New_York</td><td style = \"text-align: left;\">USD</td><td style = \"text-align: left;\">AAPL</td></tr><tr><td class = \"rowNumber\" style = \"font-weight: bold; text-align: right;\">19</td><td style = \"text-align: left;\">81.085</td><td style = \"text-align: left;\">81.9625</td><td style = \"text-align: left;\">80.345</td><td style = \"text-align: left;\">81.1125</td><td style = \"text-align: left;\">216229200</td><td style = \"text-align: left;\">2020-01-29T10:30:00</td><td style = \"text-align: left;\">1580308200</td><td style = \"text-align: left;\">NMS</td><td style = \"text-align: left;\">America/New_York</td><td style = \"text-align: left;\">USD</td><td style = \"text-align: left;\">AAPL</td></tr><tr><td class = \"rowNumber\" style = \"font-weight: bold; text-align: right;\">20</td><td style = \"text-align: left;\">80.9675</td><td style = \"text-align: left;\">81.0225</td><td style = \"text-align: left;\">79.6875</td><td style = \"text-align: left;\">80.135</td><td style = \"text-align: left;\">126743200</td><td style = \"text-align: left;\">2020-01-30T10:30:00</td><td style = \"text-align: left;\">1580394600</td><td style = \"text-align: left;\">NMS</td><td style = \"text-align: left;\">America/New_York</td><td style = \"text-align: left;\">USD</td><td style = \"text-align: left;\">AAPL</td></tr><tr><td class = \"rowNumber\" style = \"font-weight: bold; text-align: right;\">21</td><td style = \"text-align: left;\">77.3775</td><td style = \"text-align: left;\">80.67</td><td style = \"text-align: left;\">77.0725</td><td style = \"text-align: left;\">80.2325</td><td style = \"text-align: left;\">199588400</td><td style = \"text-align: left;\">2020-01-31T10:30:00</td><td style = \"text-align: left;\">1580481000</td><td style = \"text-align: left;\">NMS</td><td style = \"text-align: left;\">America/New_York</td><td style = \"text-align: left;\">USD</td><td style = \"text-align: left;\">AAPL</td></tr></tbody></table></div>"
      ],
      "text/latex": [
       "\\begin{tabular}{r|cccccccc}\n",
       "\t& close & high & low & open & volume & date & unix & \\\\\n",
       "\t\\hline\n",
       "\t& Any & Any & Any & Any & Any & DateTime & Any & \\\\\n",
       "\t\\hline\n",
       "\t1 & 75.0875 & 75.15 & 73.7975 & 74.06 & 135480400 & 2020-01-02T10:30:00 & 1577975400 & $\\dots$ \\\\\n",
       "\t2 & 74.3575 & 75.145 & 74.125 & 74.2875 & 146322800 & 2020-01-03T10:30:00 & 1578061800 & $\\dots$ \\\\\n",
       "\t3 & 74.95 & 74.99 & 73.1875 & 73.4475 & 118387200 & 2020-01-06T10:30:00 & 1578321000 & $\\dots$ \\\\\n",
       "\t4 & 74.5975 & 75.225 & 74.37 & 74.96 & 108872000 & 2020-01-07T10:30:00 & 1578407400 & $\\dots$ \\\\\n",
       "\t5 & 75.7975 & 76.11 & 74.29 & 74.29 & 132079200 & 2020-01-08T10:30:00 & 1578493800 & $\\dots$ \\\\\n",
       "\t6 & 77.4075 & 77.6075 & 76.55 & 76.81 & 170108400 & 2020-01-09T10:30:00 & 1578580200 & $\\dots$ \\\\\n",
       "\t7 & 77.5825 & 78.1675 & 77.0625 & 77.65 & 140644800 & 2020-01-10T10:30:00 & 1578666600 & $\\dots$ \\\\\n",
       "\t8 & 79.24 & 79.2675 & 77.7875 & 77.91 & 121532000 & 2020-01-13T10:30:00 & 1578925800 & $\\dots$ \\\\\n",
       "\t9 & 78.17 & 79.3925 & 78.0425 & 79.175 & 161954400 & 2020-01-14T10:30:00 & 1579012200 & $\\dots$ \\\\\n",
       "\t10 & 77.835 & 78.875 & 77.3875 & 77.9625 & 121923600 & 2020-01-15T10:30:00 & 1579098600 & $\\dots$ \\\\\n",
       "\t11 & 78.81 & 78.925 & 78.0225 & 78.3975 & 108829200 & 2020-01-16T10:30:00 & 1579185000 & $\\dots$ \\\\\n",
       "\t12 & 79.6825 & 79.685 & 78.75 & 79.0675 & 137816400 & 2020-01-17T10:30:00 & 1579271400 & $\\dots$ \\\\\n",
       "\t13 & 79.1425 & 79.755 & 79.0 & 79.2975 & 110843200 & 2020-01-21T10:30:00 & 1579617000 & $\\dots$ \\\\\n",
       "\t14 & 79.425 & 79.9975 & 79.3275 & 79.645 & 101832400 & 2020-01-22T10:30:00 & 1579703400 & $\\dots$ \\\\\n",
       "\t15 & 79.8075 & 79.89 & 78.9125 & 79.48 & 104472000 & 2020-01-23T10:30:00 & 1579789800 & $\\dots$ \\\\\n",
       "\t16 & 79.5775 & 80.8325 & 79.38 & 80.0625 & 146537600 & 2020-01-24T10:30:00 & 1579876200 & $\\dots$ \\\\\n",
       "\t17 & 77.2375 & 77.9425 & 76.22 & 77.515 & 161940000 & 2020-01-27T10:30:00 & 1580135400 & $\\dots$ \\\\\n",
       "\t18 & 79.4225 & 79.6 & 78.0475 & 78.15 & 162234000 & 2020-01-28T10:30:00 & 1580221800 & $\\dots$ \\\\\n",
       "\t19 & 81.085 & 81.9625 & 80.345 & 81.1125 & 216229200 & 2020-01-29T10:30:00 & 1580308200 & $\\dots$ \\\\\n",
       "\t20 & 80.9675 & 81.0225 & 79.6875 & 80.135 & 126743200 & 2020-01-30T10:30:00 & 1580394600 & $\\dots$ \\\\\n",
       "\t21 & 77.3775 & 80.67 & 77.0725 & 80.2325 & 199588400 & 2020-01-31T10:30:00 & 1580481000 & $\\dots$ \\\\\n",
       "\\end{tabular}\n"
      ],
      "text/plain": [
       "\u001b[1m21×11 DataFrame\n",
       "\u001b[1m Row │\u001b[1m close   \u001b[1m high    \u001b[1m low     \u001b[1m open    \u001b[1m volume    \u001b[1m date                \u001b[1m uni ⋯\n",
       "     │\u001b[90m Any     \u001b[90m Any     \u001b[90m Any     \u001b[90m Any     \u001b[90m Any       \u001b[90m DateTime            \u001b[90m Any ⋯\n",
       "─────┼──────────────────────────────────────────────────────────────────────────\n",
       "   1 │ 75.0875  75.15    73.7975  74.06    135480400  2020-01-02T10:30:00  157 ⋯\n",
       "   2 │ 74.3575  75.145   74.125   74.2875  146322800  2020-01-03T10:30:00  157\n",
       "   3 │ 74.95    74.99    73.1875  73.4475  118387200  2020-01-06T10:30:00  157\n",
       "   4 │ 74.5975  75.225   74.37    74.96    108872000  2020-01-07T10:30:00  157\n",
       "   5 │ 75.7975  76.11    74.29    74.29    132079200  2020-01-08T10:30:00  157 ⋯\n",
       "   6 │ 77.4075  77.6075  76.55    76.81    170108400  2020-01-09T10:30:00  157\n",
       "   7 │ 77.5825  78.1675  77.0625  77.65    140644800  2020-01-10T10:30:00  157\n",
       "   8 │ 79.24    79.2675  77.7875  77.91    121532000  2020-01-13T10:30:00  157\n",
       "   9 │ 78.17    79.3925  78.0425  79.175   161954400  2020-01-14T10:30:00  157 ⋯\n",
       "  10 │ 77.835   78.875   77.3875  77.9625  121923600  2020-01-15T10:30:00  157\n",
       "  11 │ 78.81    78.925   78.0225  78.3975  108829200  2020-01-16T10:30:00  157\n",
       "  12 │ 79.6825  79.685   78.75    79.0675  137816400  2020-01-17T10:30:00  157\n",
       "  13 │ 79.1425  79.755   79.0     79.2975  110843200  2020-01-21T10:30:00  157 ⋯\n",
       "  14 │ 79.425   79.9975  79.3275  79.645   101832400  2020-01-22T10:30:00  157\n",
       "  15 │ 79.8075  79.89    78.9125  79.48    104472000  2020-01-23T10:30:00  157\n",
       "  16 │ 79.5775  80.8325  79.38    80.0625  146537600  2020-01-24T10:30:00  157\n",
       "  17 │ 77.2375  77.9425  76.22    77.515   161940000  2020-01-27T10:30:00  158 ⋯\n",
       "  18 │ 79.4225  79.6     78.0475  78.15    162234000  2020-01-28T10:30:00  158\n",
       "  19 │ 81.085   81.9625  80.345   81.1125  216229200  2020-01-29T10:30:00  158\n",
       "  20 │ 80.9675  81.0225  79.6875  80.135   126743200  2020-01-30T10:30:00  158\n",
       "  21 │ 77.3775  80.67    77.0725  80.2325  199588400  2020-01-31T10:30:00  158 ⋯\n",
       "\u001b[36m                                                               5 columns omitted"
      ]
     },
     "execution_count": 17,
     "metadata": {},
     "output_type": "execute_result"
    }
   ],
   "source": [
    "r=HTTP.request(\"GET\",url)\n",
    "resp=deepcopy(r.body)\n",
    "String(r.body)\n",
    "import JSON\n",
    "import Dates\n",
    "import DataFrames\n",
    "resp_json = JSON.parse(String(resp))\n",
    "resp_json[\"chart\"][\"result\"][1][\"meta\"]#[\"validRanges\"]\n",
    "resp_json[\"chart\"][\"result\"][1][\"meta\"]\n",
    "resp_json[\"chart\"][\"result\"][1][\"indicators\"][\"quote\"][1]\n",
    "# resp_json[\"chart\"][\"result\"][1][\"indicators\"][\"adjclose\"]\n",
    "gmt_offset = resp_json[\"chart\"][\"result\"][1][\"meta\"][\"gmtoffset\"]\n",
    "unix_timestaps_vector = resp_json[\"chart\"][\"result\"][1][\"timestamp\"]\n",
    "date_vector= [Dates.unix2datetime(x+gmt_offset) for x in resp_json[\"chart\"][\"result\"][1][\"timestamp\"]]\n",
    "df = DataFrames.DataFrame(resp_json[\"chart\"][\"result\"][1][\"indicators\"][\"quote\"][1])\n",
    "df[:,:\"date\"]=date_vector\n",
    "df[:,:\"unix\"]=unix_timestaps_vector\n",
    "df[:,:\"exchangeName\"].=resp_json[\"chart\"][\"result\"][1][\"meta\"][\"exchangeName\"]\n",
    "df[:,:\"timezone\"].=resp_json[\"chart\"][\"result\"][1][\"meta\"][\"exchangeTimezoneName\"]\n",
    "df[:,:\"currency\"].=resp_json[\"chart\"][\"result\"][1][\"meta\"][\"currency\"]\n",
    "df[:,:\"symbol\"].=resp_json[\"chart\"][\"result\"][1][\"meta\"][\"symbol\"]\n",
    "df"
   ]
  },
  {
   "cell_type": "code",
   "execution_count": 22,
   "id": "244e9fe0-a3f3-435c-adb1-afc794f8f609",
   "metadata": {},
   "outputs": [
    {
     "data": {
      "text/plain": [
       "get_interday_data (generic function with 1 method)"
      ]
     },
     "execution_count": 22,
     "metadata": {},
     "output_type": "execute_result"
    }
   ],
   "source": [
    "import DataFrames\n",
    "import JSON\n",
    "import HTTP\n",
    "import Dates\n",
    "function get_chart_data(symbol, period1, period2, freq)\n",
    "    \n",
    "    YAHOO_CHART_V8_URL=\"https://query1.finance.yahoo.com/v8/finance/chart/$symbol?\"\n",
    "    params=Dict(\n",
    "        \"period1\"=>period1,\n",
    "        \"period2\"=>period2,\n",
    "        \"interval\"=>freq,\n",
    "        \"events\"=>\"div%7Csplit\",\n",
    "        \"includePrePost \"=>\"true\",\n",
    "    )\n",
    "    url=YAHOO_CHART_V8_URL *  HTTP.URIs.escapeuri(params)\n",
    "    r=HTTP.request(\"GET\",url)\n",
    "    return r\n",
    "end\n",
    "\n",
    "function parse_intraday_raw_data(r)\n",
    "    resp=deepcopy(r.body)\n",
    "    resp_json = JSON.parse(String(resp))\n",
    "    df = DataFrames.DataFrame(resp_json[\"chart\"][\"result\"][1][\"indicators\"][\"quote\"][1])\n",
    "    gmt_offset = resp_json[\"chart\"][\"result\"][1][\"meta\"][\"gmtoffset\"]\n",
    "    unix_timestaps_vector = resp_json[\"chart\"][\"result\"][1][\"timestamp\"]\n",
    "    date_vector= [Dates.unix2datetime(x+gmt_offset) for x in resp_json[\"chart\"][\"result\"][1][\"timestamp\"]]\n",
    "    df[:,:\"date\"]=date_vector\n",
    "    df[:,:\"unix\"]=unix_timestaps_vector\n",
    "    df[:,:\"exchangeName\"].=resp_json[\"chart\"][\"result\"][1][\"meta\"][\"exchangeName\"]\n",
    "    df[:,:\"timezone\"].=resp_json[\"chart\"][\"result\"][1][\"meta\"][\"exchangeTimezoneName\"]\n",
    "    df[:,:\"currency\"].=resp_json[\"chart\"][\"result\"][1][\"meta\"][\"currency\"]\n",
    "    df[:,:\"symbol\"].=resp_json[\"chart\"][\"result\"][1][\"meta\"][\"symbol\"]\n",
    "    return df\n",
    "end\n",
    "\n",
    "function get_interday_data(symbols, period1, period2;freq::String=\"5m\")\n",
    "    df=DataFrames.DataFrame()\n",
    "    for ticker=symbols\n",
    "        df = DataFrames.vcat(\n",
    "             df,\n",
    "             parse_intraday_raw_data(get_chart_data(ticker,period1,period2,freq))\n",
    "            )   \n",
    "    end\n",
    "    return df\n",
    "end"
   ]
  },
  {
   "cell_type": "code",
   "execution_count": 76,
   "id": "6f4db29e-f682-4bff-a59e-4755bd3c56f2",
   "metadata": {},
   "outputs": [],
   "source": []
  },
  {
   "cell_type": "code",
   "execution_count": 23,
   "id": "f3edeb0b-0cdc-4cb5-9f65-d3668316daf1",
   "metadata": {},
   "outputs": [
    {
     "data": {
      "text/html": [
       "<div><div style = \"float: left;\"><span>23×11 DataFrame</span></div><div style = \"clear: both;\"></div></div><div class = \"data-frame\" style = \"overflow-x: scroll;\"><table class = \"data-frame\" style = \"margin-bottom: 6px;\"><thead><tr class = \"header\"><th class = \"rowNumber\" style = \"font-weight: bold; text-align: right;\">Row</th><th style = \"text-align: left;\">close</th><th style = \"text-align: left;\">high</th><th style = \"text-align: left;\">low</th><th style = \"text-align: left;\">open</th><th style = \"text-align: left;\">volume</th><th style = \"text-align: left;\">date</th><th style = \"text-align: left;\">unix</th><th style = \"text-align: left;\">exchangeName</th><th style = \"text-align: left;\">timezone</th><th style = \"text-align: left;\">currency</th><th style = \"text-align: left;\">symbol</th></tr><tr class = \"subheader headerLastRow\"><th class = \"rowNumber\" style = \"font-weight: bold; text-align: right;\"></th><th title = \"Any\" style = \"text-align: left;\">Any</th><th title = \"Any\" style = \"text-align: left;\">Any</th><th title = \"Any\" style = \"text-align: left;\">Any</th><th title = \"Any\" style = \"text-align: left;\">Any</th><th title = \"Any\" style = \"text-align: left;\">Any</th><th title = \"Dates.DateTime\" style = \"text-align: left;\">DateTime</th><th title = \"Any\" style = \"text-align: left;\">Any</th><th title = \"String\" style = \"text-align: left;\">String</th><th title = \"String\" style = \"text-align: left;\">String</th><th title = \"String\" style = \"text-align: left;\">String</th><th title = \"String\" style = \"text-align: left;\">String</th></tr></thead><tbody><tr><td class = \"rowNumber\" style = \"font-weight: bold; text-align: right;\">1</td><td style = \"text-align: left;\">0.754</td><td style = \"text-align: left;\">0.7565</td><td style = \"text-align: left;\">0.753523</td><td style = \"text-align: left;\">0.754489</td><td style = \"text-align: left;\">0</td><td style = \"text-align: left;\">2020-01-01T01:00:00</td><td style = \"text-align: left;\">1577836800</td><td style = \"text-align: left;\">CCY</td><td style = \"text-align: left;\">Europe/London</td><td style = \"text-align: left;\">GBP</td><td style = \"text-align: left;\">GBP=X</td></tr><tr><td class = \"rowNumber\" style = \"font-weight: bold; text-align: right;\">2</td><td style = \"text-align: left;\">0.7547</td><td style = \"text-align: left;\">0.7619</td><td style = \"text-align: left;\">0.7537</td><td style = \"text-align: left;\">0.75469</td><td style = \"text-align: left;\">0</td><td style = \"text-align: left;\">2020-01-02T01:00:00</td><td style = \"text-align: left;\">1577923200</td><td style = \"text-align: left;\">CCY</td><td style = \"text-align: left;\">Europe/London</td><td style = \"text-align: left;\">GBP</td><td style = \"text-align: left;\">GBP=X</td></tr><tr><td class = \"rowNumber\" style = \"font-weight: bold; text-align: right;\">3</td><td style = \"text-align: left;\">0.7603</td><td style = \"text-align: left;\">0.766</td><td style = \"text-align: left;\">0.75981</td><td style = \"text-align: left;\">0.76081</td><td style = \"text-align: left;\">0</td><td style = \"text-align: left;\">2020-01-03T01:00:00</td><td style = \"text-align: left;\">1578009600</td><td style = \"text-align: left;\">CCY</td><td style = \"text-align: left;\">Europe/London</td><td style = \"text-align: left;\">GBP</td><td style = \"text-align: left;\">GBP=X</td></tr><tr><td class = \"rowNumber\" style = \"font-weight: bold; text-align: right;\">4</td><td style = \"text-align: left;\">0.76452</td><td style = \"text-align: left;\">0.76538</td><td style = \"text-align: left;\">0.759071</td><td style = \"text-align: left;\">0.76445</td><td style = \"text-align: left;\">0</td><td style = \"text-align: left;\">2020-01-06T01:00:00</td><td style = \"text-align: left;\">1578268800</td><td style = \"text-align: left;\">CCY</td><td style = \"text-align: left;\">Europe/London</td><td style = \"text-align: left;\">GBP</td><td style = \"text-align: left;\">GBP=X</td></tr><tr><td class = \"rowNumber\" style = \"font-weight: bold; text-align: right;\">5</td><td style = \"text-align: left;\">0.7593</td><td style = \"text-align: left;\">0.76357</td><td style = \"text-align: left;\">0.75688</td><td style = \"text-align: left;\">0.75919</td><td style = \"text-align: left;\">0</td><td style = \"text-align: left;\">2020-01-07T01:00:00</td><td style = \"text-align: left;\">1578355200</td><td style = \"text-align: left;\">CCY</td><td style = \"text-align: left;\">Europe/London</td><td style = \"text-align: left;\">GBP</td><td style = \"text-align: left;\">GBP=X</td></tr><tr><td class = \"rowNumber\" style = \"font-weight: bold; text-align: right;\">6</td><td style = \"text-align: left;\">0.76256</td><td style = \"text-align: left;\">0.76437</td><td style = \"text-align: left;\">0.75933</td><td style = \"text-align: left;\">0.7627</td><td style = \"text-align: left;\">0</td><td style = \"text-align: left;\">2020-01-08T01:00:00</td><td style = \"text-align: left;\">1578441600</td><td style = \"text-align: left;\">CCY</td><td style = \"text-align: left;\">Europe/London</td><td style = \"text-align: left;\">GBP</td><td style = \"text-align: left;\">GBP=X</td></tr><tr><td class = \"rowNumber\" style = \"font-weight: bold; text-align: right;\">7</td><td style = \"text-align: left;\">0.76306</td><td style = \"text-align: left;\">0.76834</td><td style = \"text-align: left;\">0.76193</td><td style = \"text-align: left;\">0.76302</td><td style = \"text-align: left;\">0</td><td style = \"text-align: left;\">2020-01-09T01:00:00</td><td style = \"text-align: left;\">1578528000</td><td style = \"text-align: left;\">CCY</td><td style = \"text-align: left;\">Europe/London</td><td style = \"text-align: left;\">GBP</td><td style = \"text-align: left;\">GBP=X</td></tr><tr><td class = \"rowNumber\" style = \"font-weight: bold; text-align: right;\">8</td><td style = \"text-align: left;\">0.7651</td><td style = \"text-align: left;\">0.76632</td><td style = \"text-align: left;\">0.76361</td><td style = \"text-align: left;\">0.76515</td><td style = \"text-align: left;\">0</td><td style = \"text-align: left;\">2020-01-10T01:00:00</td><td style = \"text-align: left;\">1578614400</td><td style = \"text-align: left;\">CCY</td><td style = \"text-align: left;\">Europe/London</td><td style = \"text-align: left;\">GBP</td><td style = \"text-align: left;\">GBP=X</td></tr><tr><td class = \"rowNumber\" style = \"font-weight: bold; text-align: right;\">9</td><td style = \"text-align: left;\">0.76654</td><td style = \"text-align: left;\">0.77149</td><td style = \"text-align: left;\">0.7665</td><td style = \"text-align: left;\">0.76665</td><td style = \"text-align: left;\">0</td><td style = \"text-align: left;\">2020-01-13T01:00:00</td><td style = \"text-align: left;\">1578873600</td><td style = \"text-align: left;\">CCY</td><td style = \"text-align: left;\">Europe/London</td><td style = \"text-align: left;\">GBP</td><td style = \"text-align: left;\">GBP=X</td></tr><tr><td class = \"rowNumber\" style = \"font-weight: bold; text-align: right;\">10</td><td style = \"text-align: left;\">0.76993</td><td style = \"text-align: left;\">0.7718</td><td style = \"text-align: left;\">0.76811</td><td style = \"text-align: left;\">0.769959</td><td style = \"text-align: left;\">0</td><td style = \"text-align: left;\">2020-01-14T01:00:00</td><td style = \"text-align: left;\">1578960000</td><td style = \"text-align: left;\">CCY</td><td style = \"text-align: left;\">Europe/London</td><td style = \"text-align: left;\">GBP</td><td style = \"text-align: left;\">GBP=X</td></tr><tr><td class = \"rowNumber\" style = \"font-weight: bold; text-align: right;\">11</td><td style = \"text-align: left;\">0.7679</td><td style = \"text-align: left;\">0.76987</td><td style = \"text-align: left;\">0.7668</td><td style = \"text-align: left;\">0.7679</td><td style = \"text-align: left;\">0</td><td style = \"text-align: left;\">2020-01-15T01:00:00</td><td style = \"text-align: left;\">1579046400</td><td style = \"text-align: left;\">CCY</td><td style = \"text-align: left;\">Europe/London</td><td style = \"text-align: left;\">GBP</td><td style = \"text-align: left;\">GBP=X</td></tr><tr><td class = \"rowNumber\" style = \"font-weight: bold; text-align: right;\">12</td><td style = \"text-align: left;\">0.7668</td><td style = \"text-align: left;\">0.76752</td><td style = \"text-align: left;\">0.76443</td><td style = \"text-align: left;\">0.7668</td><td style = \"text-align: left;\">0</td><td style = \"text-align: left;\">2020-01-16T01:00:00</td><td style = \"text-align: left;\">1579132800</td><td style = \"text-align: left;\">CCY</td><td style = \"text-align: left;\">Europe/London</td><td style = \"text-align: left;\">GBP</td><td style = \"text-align: left;\">GBP=X</td></tr><tr><td class = \"rowNumber\" style = \"font-weight: bold; text-align: right;\">13</td><td style = \"text-align: left;\">0.7646</td><td style = \"text-align: left;\">0.76818</td><td style = \"text-align: left;\">0.76244</td><td style = \"text-align: left;\">0.76465</td><td style = \"text-align: left;\">0</td><td style = \"text-align: left;\">2020-01-17T01:00:00</td><td style = \"text-align: left;\">1579219200</td><td style = \"text-align: left;\">CCY</td><td style = \"text-align: left;\">Europe/London</td><td style = \"text-align: left;\">GBP</td><td style = \"text-align: left;\">GBP=X</td></tr><tr><td class = \"rowNumber\" style = \"font-weight: bold; text-align: right;\">14</td><td style = \"text-align: left;\">0.7688</td><td style = \"text-align: left;\">0.77132</td><td style = \"text-align: left;\">0.76866</td><td style = \"text-align: left;\">0.76881</td><td style = \"text-align: left;\">0</td><td style = \"text-align: left;\">2020-01-20T01:00:00</td><td style = \"text-align: left;\">1579478400</td><td style = \"text-align: left;\">CCY</td><td style = \"text-align: left;\">Europe/London</td><td style = \"text-align: left;\">GBP</td><td style = \"text-align: left;\">GBP=X</td></tr><tr><td class = \"rowNumber\" style = \"font-weight: bold; text-align: right;\">15</td><td style = \"text-align: left;\">0.7689</td><td style = \"text-align: left;\">0.769468</td><td style = \"text-align: left;\">0.76429</td><td style = \"text-align: left;\">0.7688</td><td style = \"text-align: left;\">0</td><td style = \"text-align: left;\">2020-01-21T01:00:00</td><td style = \"text-align: left;\">1579564800</td><td style = \"text-align: left;\">CCY</td><td style = \"text-align: left;\">Europe/London</td><td style = \"text-align: left;\">GBP</td><td style = \"text-align: left;\">GBP=X</td></tr><tr><td class = \"rowNumber\" style = \"font-weight: bold; text-align: right;\">16</td><td style = \"text-align: left;\">0.7664</td><td style = \"text-align: left;\">0.767</td><td style = \"text-align: left;\">0.76047</td><td style = \"text-align: left;\">0.7665</td><td style = \"text-align: left;\">0</td><td style = \"text-align: left;\">2020-01-22T01:00:00</td><td style = \"text-align: left;\">1579651200</td><td style = \"text-align: left;\">CCY</td><td style = \"text-align: left;\">Europe/London</td><td style = \"text-align: left;\">GBP</td><td style = \"text-align: left;\">GBP=X</td></tr><tr><td class = \"rowNumber\" style = \"font-weight: bold; text-align: right;\">17</td><td style = \"text-align: left;\">0.76076</td><td style = \"text-align: left;\">0.76345</td><td style = \"text-align: left;\">0.76035</td><td style = \"text-align: left;\">0.7606</td><td style = \"text-align: left;\">0</td><td style = \"text-align: left;\">2020-01-23T01:00:00</td><td style = \"text-align: left;\">1579737600</td><td style = \"text-align: left;\">CCY</td><td style = \"text-align: left;\">Europe/London</td><td style = \"text-align: left;\">GBP</td><td style = \"text-align: left;\">GBP=X</td></tr><tr><td class = \"rowNumber\" style = \"font-weight: bold; text-align: right;\">18</td><td style = \"text-align: left;\">0.7622</td><td style = \"text-align: left;\">0.7657</td><td style = \"text-align: left;\">0.75984</td><td style = \"text-align: left;\">0.7622</td><td style = \"text-align: left;\">0</td><td style = \"text-align: left;\">2020-01-24T01:00:00</td><td style = \"text-align: left;\">1579824000</td><td style = \"text-align: left;\">CCY</td><td style = \"text-align: left;\">Europe/London</td><td style = \"text-align: left;\">GBP</td><td style = \"text-align: left;\">GBP=X</td></tr><tr><td class = \"rowNumber\" style = \"font-weight: bold; text-align: right;\">19</td><td style = \"text-align: left;\">0.76559</td><td style = \"text-align: left;\">0.7662</td><td style = \"text-align: left;\">0.76318</td><td style = \"text-align: left;\">0.7656</td><td style = \"text-align: left;\">0</td><td style = \"text-align: left;\">2020-01-27T01:00:00</td><td style = \"text-align: left;\">1580083200</td><td style = \"text-align: left;\">CCY</td><td style = \"text-align: left;\">Europe/London</td><td style = \"text-align: left;\">GBP</td><td style = \"text-align: left;\">GBP=X</td></tr><tr><td class = \"rowNumber\" style = \"font-weight: bold; text-align: right;\">20</td><td style = \"text-align: left;\">0.76569</td><td style = \"text-align: left;\">0.77056</td><td style = \"text-align: left;\">0.7652</td><td style = \"text-align: left;\">0.7657</td><td style = \"text-align: left;\">0</td><td style = \"text-align: left;\">2020-01-28T01:00:00</td><td style = \"text-align: left;\">1580169600</td><td style = \"text-align: left;\">CCY</td><td style = \"text-align: left;\">Europe/London</td><td style = \"text-align: left;\">GBP</td><td style = \"text-align: left;\">GBP=X</td></tr><tr><td class = \"rowNumber\" style = \"font-weight: bold; text-align: right;\">21</td><td style = \"text-align: left;\">0.76778</td><td style = \"text-align: left;\">0.76975</td><td style = \"text-align: left;\">0.7674</td><td style = \"text-align: left;\">0.767813</td><td style = \"text-align: left;\">0</td><td style = \"text-align: left;\">2020-01-29T01:00:00</td><td style = \"text-align: left;\">1580256000</td><td style = \"text-align: left;\">CCY</td><td style = \"text-align: left;\">Europe/London</td><td style = \"text-align: left;\">GBP</td><td style = \"text-align: left;\">GBP=X</td></tr><tr><td class = \"rowNumber\" style = \"font-weight: bold; text-align: right;\">22</td><td style = \"text-align: left;\">0.76793</td><td style = \"text-align: left;\">0.77039</td><td style = \"text-align: left;\">0.7628</td><td style = \"text-align: left;\">0.7679</td><td style = \"text-align: left;\">0</td><td style = \"text-align: left;\">2020-01-30T01:00:00</td><td style = \"text-align: left;\">1580342400</td><td style = \"text-align: left;\">CCY</td><td style = \"text-align: left;\">Europe/London</td><td style = \"text-align: left;\">GBP</td><td style = \"text-align: left;\">GBP=X</td></tr><tr><td class = \"rowNumber\" style = \"font-weight: bold; text-align: right;\">23</td><td style = \"text-align: left;\">0.764</td><td style = \"text-align: left;\">0.76416</td><td style = \"text-align: left;\">0.7578</td><td style = \"text-align: left;\">0.76416</td><td style = \"text-align: left;\">0</td><td style = \"text-align: left;\">2020-01-31T01:00:00</td><td style = \"text-align: left;\">1580428800</td><td style = \"text-align: left;\">CCY</td><td style = \"text-align: left;\">Europe/London</td><td style = \"text-align: left;\">GBP</td><td style = \"text-align: left;\">GBP=X</td></tr></tbody></table></div>"
      ],
      "text/latex": [
       "\\begin{tabular}{r|cccccccc}\n",
       "\t& close & high & low & open & volume & date & unix & \\\\\n",
       "\t\\hline\n",
       "\t& Any & Any & Any & Any & Any & DateTime & Any & \\\\\n",
       "\t\\hline\n",
       "\t1 & 0.754 & 0.7565 & 0.753523 & 0.754489 & 0 & 2020-01-01T01:00:00 & 1577836800 & $\\dots$ \\\\\n",
       "\t2 & 0.7547 & 0.7619 & 0.7537 & 0.75469 & 0 & 2020-01-02T01:00:00 & 1577923200 & $\\dots$ \\\\\n",
       "\t3 & 0.7603 & 0.766 & 0.75981 & 0.76081 & 0 & 2020-01-03T01:00:00 & 1578009600 & $\\dots$ \\\\\n",
       "\t4 & 0.76452 & 0.76538 & 0.759071 & 0.76445 & 0 & 2020-01-06T01:00:00 & 1578268800 & $\\dots$ \\\\\n",
       "\t5 & 0.7593 & 0.76357 & 0.75688 & 0.75919 & 0 & 2020-01-07T01:00:00 & 1578355200 & $\\dots$ \\\\\n",
       "\t6 & 0.76256 & 0.76437 & 0.75933 & 0.7627 & 0 & 2020-01-08T01:00:00 & 1578441600 & $\\dots$ \\\\\n",
       "\t7 & 0.76306 & 0.76834 & 0.76193 & 0.76302 & 0 & 2020-01-09T01:00:00 & 1578528000 & $\\dots$ \\\\\n",
       "\t8 & 0.7651 & 0.76632 & 0.76361 & 0.76515 & 0 & 2020-01-10T01:00:00 & 1578614400 & $\\dots$ \\\\\n",
       "\t9 & 0.76654 & 0.77149 & 0.7665 & 0.76665 & 0 & 2020-01-13T01:00:00 & 1578873600 & $\\dots$ \\\\\n",
       "\t10 & 0.76993 & 0.7718 & 0.76811 & 0.769959 & 0 & 2020-01-14T01:00:00 & 1578960000 & $\\dots$ \\\\\n",
       "\t11 & 0.7679 & 0.76987 & 0.7668 & 0.7679 & 0 & 2020-01-15T01:00:00 & 1579046400 & $\\dots$ \\\\\n",
       "\t12 & 0.7668 & 0.76752 & 0.76443 & 0.7668 & 0 & 2020-01-16T01:00:00 & 1579132800 & $\\dots$ \\\\\n",
       "\t13 & 0.7646 & 0.76818 & 0.76244 & 0.76465 & 0 & 2020-01-17T01:00:00 & 1579219200 & $\\dots$ \\\\\n",
       "\t14 & 0.7688 & 0.77132 & 0.76866 & 0.76881 & 0 & 2020-01-20T01:00:00 & 1579478400 & $\\dots$ \\\\\n",
       "\t15 & 0.7689 & 0.769468 & 0.76429 & 0.7688 & 0 & 2020-01-21T01:00:00 & 1579564800 & $\\dots$ \\\\\n",
       "\t16 & 0.7664 & 0.767 & 0.76047 & 0.7665 & 0 & 2020-01-22T01:00:00 & 1579651200 & $\\dots$ \\\\\n",
       "\t17 & 0.76076 & 0.76345 & 0.76035 & 0.7606 & 0 & 2020-01-23T01:00:00 & 1579737600 & $\\dots$ \\\\\n",
       "\t18 & 0.7622 & 0.7657 & 0.75984 & 0.7622 & 0 & 2020-01-24T01:00:00 & 1579824000 & $\\dots$ \\\\\n",
       "\t19 & 0.76559 & 0.7662 & 0.76318 & 0.7656 & 0 & 2020-01-27T01:00:00 & 1580083200 & $\\dots$ \\\\\n",
       "\t20 & 0.76569 & 0.77056 & 0.7652 & 0.7657 & 0 & 2020-01-28T01:00:00 & 1580169600 & $\\dots$ \\\\\n",
       "\t21 & 0.76778 & 0.76975 & 0.7674 & 0.767813 & 0 & 2020-01-29T01:00:00 & 1580256000 & $\\dots$ \\\\\n",
       "\t22 & 0.76793 & 0.77039 & 0.7628 & 0.7679 & 0 & 2020-01-30T01:00:00 & 1580342400 & $\\dots$ \\\\\n",
       "\t23 & 0.764 & 0.76416 & 0.7578 & 0.76416 & 0 & 2020-01-31T01:00:00 & 1580428800 & $\\dots$ \\\\\n",
       "\\end{tabular}\n"
      ],
      "text/plain": [
       "\u001b[1m23×11 DataFrame\n",
       "\u001b[1m Row │\u001b[1m close   \u001b[1m high     \u001b[1m low      \u001b[1m open     \u001b[1m volume \u001b[1m date                \u001b[1m uni ⋯\n",
       "     │\u001b[90m Any     \u001b[90m Any      \u001b[90m Any      \u001b[90m Any      \u001b[90m Any    \u001b[90m DateTime            \u001b[90m Any ⋯\n",
       "─────┼──────────────────────────────────────────────────────────────────────────\n",
       "   1 │ 0.754    0.7565    0.753523  0.754489  0       2020-01-01T01:00:00  157 ⋯\n",
       "   2 │ 0.7547   0.7619    0.7537    0.75469   0       2020-01-02T01:00:00  157\n",
       "   3 │ 0.7603   0.766     0.75981   0.76081   0       2020-01-03T01:00:00  157\n",
       "   4 │ 0.76452  0.76538   0.759071  0.76445   0       2020-01-06T01:00:00  157\n",
       "   5 │ 0.7593   0.76357   0.75688   0.75919   0       2020-01-07T01:00:00  157 ⋯\n",
       "   6 │ 0.76256  0.76437   0.75933   0.7627    0       2020-01-08T01:00:00  157\n",
       "   7 │ 0.76306  0.76834   0.76193   0.76302   0       2020-01-09T01:00:00  157\n",
       "   8 │ 0.7651   0.76632   0.76361   0.76515   0       2020-01-10T01:00:00  157\n",
       "   9 │ 0.76654  0.77149   0.7665    0.76665   0       2020-01-13T01:00:00  157 ⋯\n",
       "  10 │ 0.76993  0.7718    0.76811   0.769959  0       2020-01-14T01:00:00  157\n",
       "  11 │ 0.7679   0.76987   0.7668    0.7679    0       2020-01-15T01:00:00  157\n",
       "  ⋮  │    ⋮        ⋮         ⋮         ⋮        ⋮              ⋮               ⋱\n",
       "  14 │ 0.7688   0.77132   0.76866   0.76881   0       2020-01-20T01:00:00  157\n",
       "  15 │ 0.7689   0.769468  0.76429   0.7688    0       2020-01-21T01:00:00  157 ⋯\n",
       "  16 │ 0.7664   0.767     0.76047   0.7665    0       2020-01-22T01:00:00  157\n",
       "  17 │ 0.76076  0.76345   0.76035   0.7606    0       2020-01-23T01:00:00  157\n",
       "  18 │ 0.7622   0.7657    0.75984   0.7622    0       2020-01-24T01:00:00  157\n",
       "  19 │ 0.76559  0.7662    0.76318   0.7656    0       2020-01-27T01:00:00  158 ⋯\n",
       "  20 │ 0.76569  0.77056   0.7652    0.7657    0       2020-01-28T01:00:00  158\n",
       "  21 │ 0.76778  0.76975   0.7674    0.767813  0       2020-01-29T01:00:00  158\n",
       "  22 │ 0.76793  0.77039   0.7628    0.7679    0       2020-01-30T01:00:00  158\n",
       "  23 │ 0.764    0.76416   0.7578    0.76416   0       2020-01-31T01:00:00  158 ⋯\n",
       "\u001b[36m                                                    5 columns and 2 rows omitted"
      ]
     },
     "execution_count": 23,
     "metadata": {},
     "output_type": "execute_result"
    }
   ],
   "source": [
    "\n",
    "period1=\"1577836800\"\n",
    "period2=\"1580515200\"\n",
    "tickers=[\"USDGBP=X\"] # ForEx data\n",
    "# tickers = [\"AAPL\",\"GOOG\"] # Equity data\n",
    "df =get_interday_data(tickers, period1, period2;freq=\"1d\")\n"
   ]
  },
  {
   "cell_type": "code",
   "execution_count": 100,
   "id": "3ae8e724-921d-4f68-a90b-4696436908d1",
   "metadata": {},
   "outputs": [],
   "source": [
    "df=DataFrames.DataFrame()\n",
    "for df_i=dfs\n",
    "    df = DataFrames.vcat(df,df_i) # This works\n",
    "end\n",
    "df\n",
    "# DataFrames.vcat([d for d in dfs])"
   ]
  },
  {
   "cell_type": "markdown",
   "id": "83805cd1-87d4-4044-89cc-c7babbea4178",
   "metadata": {},
   "source": [
    "# Cache"
   ]
  },
  {
   "cell_type": "code",
   "execution_count": 77,
   "id": "e4366d7f-77e7-4746-a106-432c54c11ee0",
   "metadata": {},
   "outputs": [
    {
     "data": {
      "text/plain": [
       "list_bundles (generic function with 1 method)"
      ]
     },
     "execution_count": 77,
     "metadata": {},
     "output_type": "execute_result"
    }
   ],
   "source": [
    "function get_cache_path()\n",
    "    cache_path=get(ENV,\"AIRBORNE_ROOT\",nothing)\n",
    "    if !(isnothing(cache_path))\n",
    "        return cache_path\n",
    "    elseif (Sys.islinux()) ||  (Sys.isapple()) \n",
    "        return \"/root/tmp/.AirBorne/.cache\"\n",
    "    elseif Sys.iswindows() \n",
    "        return \"$(ENV[\"HOME\"])/.AirBorne/.cache\"\n",
    "    end\n",
    "end\n",
    "\n",
    "function gen_id()\n",
    "   return Dates.format(Dates.now(Dates.UTC),\"yyyy_mm_dd_H_M_S_s\") \n",
    "end\n",
    "\n",
    "function remove_bundle(bundle_id::String; just_archive::Bool=false)\n",
    "    # Define directories\n",
    "    cache_dir=get_cache_path()\n",
    "    bundle_dir= joinpath(cache_dir,bundle_id)\n",
    "    archive_dir= joinpath(bundle_dir,\"archive\")\n",
    "    if (just_archive) && (isdir(archive_dir)) \n",
    "        rm(archive_dir; recursive=true)\n",
    "    elseif !(just_archive) && (isdir(bundle_dir))\n",
    "        rm(bundle_dir; recursive=true)\n",
    "    end\n",
    "end\n",
    "function list_bundles()\n",
    "    return readdir(get_cache_path(), sort=false)\n",
    "end"
   ]
  },
  {
   "cell_type": "code",
   "execution_count": 72,
   "id": "a8a414f3-88f3-4804-bb98-7e46d75d3274",
   "metadata": {},
   "outputs": [
    {
     "data": {
      "text/plain": [
       "load_bundle (generic function with 1 method)"
      ]
     },
     "execution_count": 72,
     "metadata": {},
     "output_type": "execute_result"
    }
   ],
   "source": [
    "import Dates\n",
    "import Parquet2\n",
    "function store_bundle(data::DataFrames.DataFrame; bundle_id::Union{Nothing, String}=nothing, archive::Bool=true, meta::Dict=Dict(), c_meta::Dict=Dict())\n",
    "    # Define directories\n",
    "    cache_dir=get_cache_path()\n",
    "    bundle_id= !(isnothing(bundle_id)) ? bundle_id : gen_id()\n",
    "    bundle_dir= joinpath(cache_dir,bundle_id)\n",
    "    archive_dir= joinpath(bundle_dir,\"archive\")\n",
    "    \n",
    "    \n",
    "    # Ensure directories exist\n",
    "    if !(isdir(archive_dir))\n",
    "       mkpath(archive_dir) \n",
    "    end\n",
    "\n",
    "    if !(isdir(bundle_dir))\n",
    "       mkpath(bundle_dir) \n",
    "    end\n",
    "\n",
    "    # Move current contents to archive\n",
    "    contents=readdir(bundle_dir)\n",
    "    files_to_archive = [c for c in contents if c!=\"archive\"]\n",
    "    for files_to_archive=files_to_archive\n",
    "        if archive\n",
    "        mv(joinpath( bundle_dir,files_to_archive),joinpath(archive_dir,files_to_archive))\n",
    "        else\n",
    "        @info(\"Removing $(joinpath( bundle_dir,files_to_archive))\")\n",
    "        rm(joinpath( bundle_dir,files_to_archive))\n",
    "        end\n",
    "    end\n",
    "\n",
    "    # Write file\n",
    "    file_path = joinpath( bundle_dir, gen_id() * \".parq.snappy\")\n",
    "    \n",
    "    @info(\"Storing $file_path\")\n",
    "    Parquet2.writefile(file_path, data;compression_codec=:snappy, metadata=meta, column_metadata=c_meta)\n",
    "end\n",
    "\n",
    "function load_bundle(bundle_id::String)\n",
    "    cache_dir=get_cache_path()\n",
    "    bundle_dir= joinpath(cache_dir,bundle_id)\n",
    "    if !(isdir(bundle_dir))\n",
    "      throw(error(\"Bundle does not exist.\")) \n",
    "    end\n",
    "    contents=readdir(bundle_dir)\n",
    "    contents_to_read = [c for c in contents if c!=\"archive\"]\n",
    "    if size(contents_to_read)[1]!=1\n",
    "        throw(error(\"$(size(contents_to_read)[1]) files found in bundle directory.\")) \n",
    "    end\n",
    "    file_path = joinpath(bundle_dir,contents_to_read[1])\n",
    "    ds = Parquet2.Dataset(file_path) # Create a dataset\n",
    "    df = DataFrames.DataFrame(ds; copycols=false) # Load from dataframed\n",
    "    return df\n",
    "end\n"
   ]
  },
  {
   "cell_type": "code",
   "execution_count": 73,
   "id": "9b15d641-5ad4-4d3e-bfba-5dc10812f8f9",
   "metadata": {},
   "outputs": [
    {
     "data": {
      "text/html": [
       "<div><div style = \"float: left;\"><span>42×11 DataFrame</span></div><div style = \"float: right;\"><span style = \"font-style: italic;\">17 rows omitted</span></div><div style = \"clear: both;\"></div></div><div class = \"data-frame\" style = \"overflow-x: scroll;\"><table class = \"data-frame\" style = \"margin-bottom: 6px;\"><thead><tr class = \"header\"><th class = \"rowNumber\" style = \"font-weight: bold; text-align: right;\">Row</th><th style = \"text-align: left;\">close</th><th style = \"text-align: left;\">high</th><th style = \"text-align: left;\">low</th><th style = \"text-align: left;\">open</th><th style = \"text-align: left;\">volume</th><th style = \"text-align: left;\">date</th><th style = \"text-align: left;\">unix</th><th style = \"text-align: left;\">exchangeName</th><th style = \"text-align: left;\">timezone</th><th style = \"text-align: left;\">currency</th><th style = \"text-align: left;\">symbol</th></tr><tr class = \"subheader headerLastRow\"><th class = \"rowNumber\" style = \"font-weight: bold; text-align: right;\"></th><th title = \"Float64\" style = \"text-align: left;\">Float64</th><th title = \"Float64\" style = \"text-align: left;\">Float64</th><th title = \"Float64\" style = \"text-align: left;\">Float64</th><th title = \"Float64\" style = \"text-align: left;\">Float64</th><th title = \"Int64\" style = \"text-align: left;\">Int64</th><th title = \"Dates.DateTime\" style = \"text-align: left;\">DateTime</th><th title = \"Int64\" style = \"text-align: left;\">Int64</th><th title = \"String\" style = \"text-align: left;\">String</th><th title = \"String\" style = \"text-align: left;\">String</th><th title = \"String\" style = \"text-align: left;\">String</th><th title = \"String\" style = \"text-align: left;\">String</th></tr></thead><tbody><tr><td class = \"rowNumber\" style = \"font-weight: bold; text-align: right;\">1</td><td style = \"text-align: right;\">75.0875</td><td style = \"text-align: right;\">75.15</td><td style = \"text-align: right;\">73.7975</td><td style = \"text-align: right;\">74.06</td><td style = \"text-align: right;\">135480400</td><td style = \"text-align: left;\">2020-01-02T10:30:00</td><td style = \"text-align: right;\">1577975400</td><td style = \"text-align: left;\">NMS</td><td style = \"text-align: left;\">America/New_York</td><td style = \"text-align: left;\">USD</td><td style = \"text-align: left;\">AAPL</td></tr><tr><td class = \"rowNumber\" style = \"font-weight: bold; text-align: right;\">2</td><td style = \"text-align: right;\">74.3575</td><td style = \"text-align: right;\">75.145</td><td style = \"text-align: right;\">74.125</td><td style = \"text-align: right;\">74.2875</td><td style = \"text-align: right;\">146322800</td><td style = \"text-align: left;\">2020-01-03T10:30:00</td><td style = \"text-align: right;\">1578061800</td><td style = \"text-align: left;\">NMS</td><td style = \"text-align: left;\">America/New_York</td><td style = \"text-align: left;\">USD</td><td style = \"text-align: left;\">AAPL</td></tr><tr><td class = \"rowNumber\" style = \"font-weight: bold; text-align: right;\">3</td><td style = \"text-align: right;\">74.95</td><td style = \"text-align: right;\">74.99</td><td style = \"text-align: right;\">73.1875</td><td style = \"text-align: right;\">73.4475</td><td style = \"text-align: right;\">118387200</td><td style = \"text-align: left;\">2020-01-06T10:30:00</td><td style = \"text-align: right;\">1578321000</td><td style = \"text-align: left;\">NMS</td><td style = \"text-align: left;\">America/New_York</td><td style = \"text-align: left;\">USD</td><td style = \"text-align: left;\">AAPL</td></tr><tr><td class = \"rowNumber\" style = \"font-weight: bold; text-align: right;\">4</td><td style = \"text-align: right;\">74.5975</td><td style = \"text-align: right;\">75.225</td><td style = \"text-align: right;\">74.37</td><td style = \"text-align: right;\">74.96</td><td style = \"text-align: right;\">108872000</td><td style = \"text-align: left;\">2020-01-07T10:30:00</td><td style = \"text-align: right;\">1578407400</td><td style = \"text-align: left;\">NMS</td><td style = \"text-align: left;\">America/New_York</td><td style = \"text-align: left;\">USD</td><td style = \"text-align: left;\">AAPL</td></tr><tr><td class = \"rowNumber\" style = \"font-weight: bold; text-align: right;\">5</td><td style = \"text-align: right;\">75.7975</td><td style = \"text-align: right;\">76.11</td><td style = \"text-align: right;\">74.29</td><td style = \"text-align: right;\">74.29</td><td style = \"text-align: right;\">132079200</td><td style = \"text-align: left;\">2020-01-08T10:30:00</td><td style = \"text-align: right;\">1578493800</td><td style = \"text-align: left;\">NMS</td><td style = \"text-align: left;\">America/New_York</td><td style = \"text-align: left;\">USD</td><td style = \"text-align: left;\">AAPL</td></tr><tr><td class = \"rowNumber\" style = \"font-weight: bold; text-align: right;\">6</td><td style = \"text-align: right;\">77.4075</td><td style = \"text-align: right;\">77.6075</td><td style = \"text-align: right;\">76.55</td><td style = \"text-align: right;\">76.81</td><td style = \"text-align: right;\">170108400</td><td style = \"text-align: left;\">2020-01-09T10:30:00</td><td style = \"text-align: right;\">1578580200</td><td style = \"text-align: left;\">NMS</td><td style = \"text-align: left;\">America/New_York</td><td style = \"text-align: left;\">USD</td><td style = \"text-align: left;\">AAPL</td></tr><tr><td class = \"rowNumber\" style = \"font-weight: bold; text-align: right;\">7</td><td style = \"text-align: right;\">77.5825</td><td style = \"text-align: right;\">78.1675</td><td style = \"text-align: right;\">77.0625</td><td style = \"text-align: right;\">77.65</td><td style = \"text-align: right;\">140644800</td><td style = \"text-align: left;\">2020-01-10T10:30:00</td><td style = \"text-align: right;\">1578666600</td><td style = \"text-align: left;\">NMS</td><td style = \"text-align: left;\">America/New_York</td><td style = \"text-align: left;\">USD</td><td style = \"text-align: left;\">AAPL</td></tr><tr><td class = \"rowNumber\" style = \"font-weight: bold; text-align: right;\">8</td><td style = \"text-align: right;\">79.24</td><td style = \"text-align: right;\">79.2675</td><td style = \"text-align: right;\">77.7875</td><td style = \"text-align: right;\">77.91</td><td style = \"text-align: right;\">121532000</td><td style = \"text-align: left;\">2020-01-13T10:30:00</td><td style = \"text-align: right;\">1578925800</td><td style = \"text-align: left;\">NMS</td><td style = \"text-align: left;\">America/New_York</td><td style = \"text-align: left;\">USD</td><td style = \"text-align: left;\">AAPL</td></tr><tr><td class = \"rowNumber\" style = \"font-weight: bold; text-align: right;\">9</td><td style = \"text-align: right;\">78.17</td><td style = \"text-align: right;\">79.3925</td><td style = \"text-align: right;\">78.0425</td><td style = \"text-align: right;\">79.175</td><td style = \"text-align: right;\">161954400</td><td style = \"text-align: left;\">2020-01-14T10:30:00</td><td style = \"text-align: right;\">1579012200</td><td style = \"text-align: left;\">NMS</td><td style = \"text-align: left;\">America/New_York</td><td style = \"text-align: left;\">USD</td><td style = \"text-align: left;\">AAPL</td></tr><tr><td class = \"rowNumber\" style = \"font-weight: bold; text-align: right;\">10</td><td style = \"text-align: right;\">77.835</td><td style = \"text-align: right;\">78.875</td><td style = \"text-align: right;\">77.3875</td><td style = \"text-align: right;\">77.9625</td><td style = \"text-align: right;\">121923600</td><td style = \"text-align: left;\">2020-01-15T10:30:00</td><td style = \"text-align: right;\">1579098600</td><td style = \"text-align: left;\">NMS</td><td style = \"text-align: left;\">America/New_York</td><td style = \"text-align: left;\">USD</td><td style = \"text-align: left;\">AAPL</td></tr><tr><td class = \"rowNumber\" style = \"font-weight: bold; text-align: right;\">11</td><td style = \"text-align: right;\">78.81</td><td style = \"text-align: right;\">78.925</td><td style = \"text-align: right;\">78.0225</td><td style = \"text-align: right;\">78.3975</td><td style = \"text-align: right;\">108829200</td><td style = \"text-align: left;\">2020-01-16T10:30:00</td><td style = \"text-align: right;\">1579185000</td><td style = \"text-align: left;\">NMS</td><td style = \"text-align: left;\">America/New_York</td><td style = \"text-align: left;\">USD</td><td style = \"text-align: left;\">AAPL</td></tr><tr><td class = \"rowNumber\" style = \"font-weight: bold; text-align: right;\">12</td><td style = \"text-align: right;\">79.6825</td><td style = \"text-align: right;\">79.685</td><td style = \"text-align: right;\">78.75</td><td style = \"text-align: right;\">79.0675</td><td style = \"text-align: right;\">137816400</td><td style = \"text-align: left;\">2020-01-17T10:30:00</td><td style = \"text-align: right;\">1579271400</td><td style = \"text-align: left;\">NMS</td><td style = \"text-align: left;\">America/New_York</td><td style = \"text-align: left;\">USD</td><td style = \"text-align: left;\">AAPL</td></tr><tr><td class = \"rowNumber\" style = \"font-weight: bold; text-align: right;\">13</td><td style = \"text-align: right;\">79.1425</td><td style = \"text-align: right;\">79.755</td><td style = \"text-align: right;\">79.0</td><td style = \"text-align: right;\">79.2975</td><td style = \"text-align: right;\">110843200</td><td style = \"text-align: left;\">2020-01-21T10:30:00</td><td style = \"text-align: right;\">1579617000</td><td style = \"text-align: left;\">NMS</td><td style = \"text-align: left;\">America/New_York</td><td style = \"text-align: left;\">USD</td><td style = \"text-align: left;\">AAPL</td></tr><tr><td style = \"text-align: right;\">&vellip;</td><td style = \"text-align: right;\">&vellip;</td><td style = \"text-align: right;\">&vellip;</td><td style = \"text-align: right;\">&vellip;</td><td style = \"text-align: right;\">&vellip;</td><td style = \"text-align: right;\">&vellip;</td><td style = \"text-align: right;\">&vellip;</td><td style = \"text-align: right;\">&vellip;</td><td style = \"text-align: right;\">&vellip;</td><td style = \"text-align: right;\">&vellip;</td><td style = \"text-align: right;\">&vellip;</td><td style = \"text-align: right;\">&vellip;</td></tr><tr><td class = \"rowNumber\" style = \"font-weight: bold; text-align: right;\">31</td><td style = \"text-align: right;\">71.96</td><td style = \"text-align: right;\">72.0697</td><td style = \"text-align: right;\">71.5105</td><td style = \"text-align: right;\">71.5105</td><td style = \"text-align: right;\">25654000</td><td style = \"text-align: left;\">2020-01-15T10:30:00</td><td style = \"text-align: right;\">1579098600</td><td style = \"text-align: left;\">NMS</td><td style = \"text-align: left;\">America/New_York</td><td style = \"text-align: left;\">USD</td><td style = \"text-align: left;\">GOOG</td></tr><tr><td class = \"rowNumber\" style = \"font-weight: bold; text-align: right;\">32</td><td style = \"text-align: right;\">72.585</td><td style = \"text-align: right;\">72.5995</td><td style = \"text-align: right;\">72.046</td><td style = \"text-align: right;\">72.372</td><td style = \"text-align: right;\">23474000</td><td style = \"text-align: left;\">2020-01-16T10:30:00</td><td style = \"text-align: right;\">1579185000</td><td style = \"text-align: left;\">NMS</td><td style = \"text-align: left;\">America/New_York</td><td style = \"text-align: left;\">USD</td><td style = \"text-align: left;\">GOOG</td></tr><tr><td class = \"rowNumber\" style = \"font-weight: bold; text-align: right;\">33</td><td style = \"text-align: right;\">74.0195</td><td style = \"text-align: right;\">74.0648</td><td style = \"text-align: right;\">72.911</td><td style = \"text-align: right;\">73.1455</td><td style = \"text-align: right;\">47924000</td><td style = \"text-align: left;\">2020-01-17T10:30:00</td><td style = \"text-align: right;\">1579271400</td><td style = \"text-align: left;\">NMS</td><td style = \"text-align: left;\">America/New_York</td><td style = \"text-align: left;\">USD</td><td style = \"text-align: left;\">GOOG</td></tr><tr><td class = \"rowNumber\" style = \"font-weight: bold; text-align: right;\">34</td><td style = \"text-align: right;\">74.22</td><td style = \"text-align: right;\">74.5925</td><td style = \"text-align: right;\">73.56</td><td style = \"text-align: right;\">73.956</td><td style = \"text-align: right;\">40734000</td><td style = \"text-align: left;\">2020-01-21T10:30:00</td><td style = \"text-align: right;\">1579617000</td><td style = \"text-align: left;\">NMS</td><td style = \"text-align: left;\">America/New_York</td><td style = \"text-align: left;\">USD</td><td style = \"text-align: left;\">GOOG</td></tr><tr><td class = \"rowNumber\" style = \"font-weight: bold; text-align: right;\">35</td><td style = \"text-align: right;\">74.2975</td><td style = \"text-align: right;\">75.1607</td><td style = \"text-align: right;\">74.2465</td><td style = \"text-align: right;\">74.55</td><td style = \"text-align: right;\">32216000</td><td style = \"text-align: left;\">2020-01-22T10:30:00</td><td style = \"text-align: right;\">1579703400</td><td style = \"text-align: left;\">NMS</td><td style = \"text-align: left;\">America/New_York</td><td style = \"text-align: left;\">USD</td><td style = \"text-align: left;\">GOOG</td></tr><tr><td class = \"rowNumber\" style = \"font-weight: bold; text-align: right;\">36</td><td style = \"text-align: right;\">74.3325</td><td style = \"text-align: right;\">74.776</td><td style = \"text-align: right;\">74.105</td><td style = \"text-align: right;\">74.382</td><td style = \"text-align: right;\">27024000</td><td style = \"text-align: left;\">2020-01-23T10:30:00</td><td style = \"text-align: right;\">1579789800</td><td style = \"text-align: left;\">NMS</td><td style = \"text-align: left;\">America/New_York</td><td style = \"text-align: left;\">USD</td><td style = \"text-align: left;\">GOOG</td></tr><tr><td class = \"rowNumber\" style = \"font-weight: bold; text-align: right;\">37</td><td style = \"text-align: right;\">73.3355</td><td style = \"text-align: right;\">74.7747</td><td style = \"text-align: right;\">73.2625</td><td style = \"text-align: right;\">74.6795</td><td style = \"text-align: right;\">35692000</td><td style = \"text-align: left;\">2020-01-24T10:30:00</td><td style = \"text-align: right;\">1579876200</td><td style = \"text-align: left;\">NMS</td><td style = \"text-align: left;\">America/New_York</td><td style = \"text-align: left;\">USD</td><td style = \"text-align: left;\">GOOG</td></tr><tr><td class = \"rowNumber\" style = \"font-weight: bold; text-align: right;\">38</td><td style = \"text-align: right;\">71.695</td><td style = \"text-align: right;\">71.9035</td><td style = \"text-align: right;\">71.06</td><td style = \"text-align: right;\">71.55</td><td style = \"text-align: right;\">35104000</td><td style = \"text-align: left;\">2020-01-27T10:30:00</td><td style = \"text-align: right;\">1580135400</td><td style = \"text-align: left;\">NMS</td><td style = \"text-align: left;\">America/New_York</td><td style = \"text-align: left;\">USD</td><td style = \"text-align: left;\">GOOG</td></tr><tr><td class = \"rowNumber\" style = \"font-weight: bold; text-align: right;\">39</td><td style = \"text-align: right;\">72.628</td><td style = \"text-align: right;\">72.8</td><td style = \"text-align: right;\">71.6235</td><td style = \"text-align: right;\">72.15</td><td style = \"text-align: right;\">31548000</td><td style = \"text-align: left;\">2020-01-28T10:30:00</td><td style = \"text-align: right;\">1580221800</td><td style = \"text-align: left;\">NMS</td><td style = \"text-align: left;\">America/New_York</td><td style = \"text-align: left;\">USD</td><td style = \"text-align: left;\">GOOG</td></tr><tr><td class = \"rowNumber\" style = \"font-weight: bold; text-align: right;\">40</td><td style = \"text-align: right;\">72.9315</td><td style = \"text-align: right;\">73.2715</td><td style = \"text-align: right;\">72.337</td><td style = \"text-align: right;\">72.94</td><td style = \"text-align: right;\">21554000</td><td style = \"text-align: left;\">2020-01-29T10:30:00</td><td style = \"text-align: right;\">1580308200</td><td style = \"text-align: left;\">NMS</td><td style = \"text-align: left;\">America/New_York</td><td style = \"text-align: left;\">USD</td><td style = \"text-align: left;\">GOOG</td></tr><tr><td class = \"rowNumber\" style = \"font-weight: bold; text-align: right;\">41</td><td style = \"text-align: right;\">72.792</td><td style = \"text-align: right;\">72.864</td><td style = \"text-align: right;\">71.82</td><td style = \"text-align: right;\">71.998</td><td style = \"text-align: right;\">26788000</td><td style = \"text-align: left;\">2020-01-30T10:30:00</td><td style = \"text-align: right;\">1580394600</td><td style = \"text-align: left;\">NMS</td><td style = \"text-align: left;\">America/New_York</td><td style = \"text-align: left;\">USD</td><td style = \"text-align: left;\">GOOG</td></tr><tr><td class = \"rowNumber\" style = \"font-weight: bold; text-align: right;\">42</td><td style = \"text-align: right;\">71.7115</td><td style = \"text-align: right;\">73.5065</td><td style = \"text-align: right;\">71.4265</td><td style = \"text-align: right;\">73.445</td><td style = \"text-align: right;\">48344000</td><td style = \"text-align: left;\">2020-01-31T10:30:00</td><td style = \"text-align: right;\">1580481000</td><td style = \"text-align: left;\">NMS</td><td style = \"text-align: left;\">America/New_York</td><td style = \"text-align: left;\">USD</td><td style = \"text-align: left;\">GOOG</td></tr></tbody></table></div>"
      ],
      "text/latex": [
       "\\begin{tabular}{r|cccccccc}\n",
       "\t& close & high & low & open & volume & date & unix & \\\\\n",
       "\t\\hline\n",
       "\t& Float64 & Float64 & Float64 & Float64 & Int64 & DateTime & Int64 & \\\\\n",
       "\t\\hline\n",
       "\t1 & 75.0875 & 75.15 & 73.7975 & 74.06 & 135480400 & 2020-01-02T10:30:00 & 1577975400 & $\\dots$ \\\\\n",
       "\t2 & 74.3575 & 75.145 & 74.125 & 74.2875 & 146322800 & 2020-01-03T10:30:00 & 1578061800 & $\\dots$ \\\\\n",
       "\t3 & 74.95 & 74.99 & 73.1875 & 73.4475 & 118387200 & 2020-01-06T10:30:00 & 1578321000 & $\\dots$ \\\\\n",
       "\t4 & 74.5975 & 75.225 & 74.37 & 74.96 & 108872000 & 2020-01-07T10:30:00 & 1578407400 & $\\dots$ \\\\\n",
       "\t5 & 75.7975 & 76.11 & 74.29 & 74.29 & 132079200 & 2020-01-08T10:30:00 & 1578493800 & $\\dots$ \\\\\n",
       "\t6 & 77.4075 & 77.6075 & 76.55 & 76.81 & 170108400 & 2020-01-09T10:30:00 & 1578580200 & $\\dots$ \\\\\n",
       "\t7 & 77.5825 & 78.1675 & 77.0625 & 77.65 & 140644800 & 2020-01-10T10:30:00 & 1578666600 & $\\dots$ \\\\\n",
       "\t8 & 79.24 & 79.2675 & 77.7875 & 77.91 & 121532000 & 2020-01-13T10:30:00 & 1578925800 & $\\dots$ \\\\\n",
       "\t9 & 78.17 & 79.3925 & 78.0425 & 79.175 & 161954400 & 2020-01-14T10:30:00 & 1579012200 & $\\dots$ \\\\\n",
       "\t10 & 77.835 & 78.875 & 77.3875 & 77.9625 & 121923600 & 2020-01-15T10:30:00 & 1579098600 & $\\dots$ \\\\\n",
       "\t11 & 78.81 & 78.925 & 78.0225 & 78.3975 & 108829200 & 2020-01-16T10:30:00 & 1579185000 & $\\dots$ \\\\\n",
       "\t12 & 79.6825 & 79.685 & 78.75 & 79.0675 & 137816400 & 2020-01-17T10:30:00 & 1579271400 & $\\dots$ \\\\\n",
       "\t13 & 79.1425 & 79.755 & 79.0 & 79.2975 & 110843200 & 2020-01-21T10:30:00 & 1579617000 & $\\dots$ \\\\\n",
       "\t14 & 79.425 & 79.9975 & 79.3275 & 79.645 & 101832400 & 2020-01-22T10:30:00 & 1579703400 & $\\dots$ \\\\\n",
       "\t15 & 79.8075 & 79.89 & 78.9125 & 79.48 & 104472000 & 2020-01-23T10:30:00 & 1579789800 & $\\dots$ \\\\\n",
       "\t16 & 79.5775 & 80.8325 & 79.38 & 80.0625 & 146537600 & 2020-01-24T10:30:00 & 1579876200 & $\\dots$ \\\\\n",
       "\t17 & 77.2375 & 77.9425 & 76.22 & 77.515 & 161940000 & 2020-01-27T10:30:00 & 1580135400 & $\\dots$ \\\\\n",
       "\t18 & 79.4225 & 79.6 & 78.0475 & 78.15 & 162234000 & 2020-01-28T10:30:00 & 1580221800 & $\\dots$ \\\\\n",
       "\t19 & 81.085 & 81.9625 & 80.345 & 81.1125 & 216229200 & 2020-01-29T10:30:00 & 1580308200 & $\\dots$ \\\\\n",
       "\t20 & 80.9675 & 81.0225 & 79.6875 & 80.135 & 126743200 & 2020-01-30T10:30:00 & 1580394600 & $\\dots$ \\\\\n",
       "\t21 & 77.3775 & 80.67 & 77.0725 & 80.2325 & 199588400 & 2020-01-31T10:30:00 & 1580481000 & $\\dots$ \\\\\n",
       "\t22 & 68.3685 & 68.407 & 67.0775 & 67.0775 & 28132000 & 2020-01-02T10:30:00 & 1577975400 & $\\dots$ \\\\\n",
       "\t23 & 68.033 & 68.625 & 67.2772 & 67.393 & 23728000 & 2020-01-03T10:30:00 & 1578061800 & $\\dots$ \\\\\n",
       "\t24 & 69.7105 & 69.825 & 67.5 & 67.5 & 34646000 & 2020-01-06T10:30:00 & 1578321000 & $\\dots$ \\\\\n",
       "\t25 & 69.667 & 70.1495 & 69.519 & 69.897 & 30054000 & 2020-01-07T10:30:00 & 1578407400 & $\\dots$ \\\\\n",
       "\t26 & 70.216 & 70.579 & 69.542 & 69.604 & 30560000 & 2020-01-08T10:30:00 & 1578493800 & $\\dots$ \\\\\n",
       "\t27 & 70.9915 & 71.3665 & 70.5135 & 71.0285 & 30018000 & 2020-01-09T10:30:00 & 1578580200 & $\\dots$ \\\\\n",
       "\t28 & 71.4865 & 71.7465 & 70.9175 & 71.378 & 36414000 & 2020-01-10T10:30:00 & 1578666600 & $\\dots$ \\\\\n",
       "\t29 & 71.9615 & 72.026 & 71.301 & 71.8065 & 33046000 & 2020-01-13T10:30:00 & 1578925800 & $\\dots$ \\\\\n",
       "\t30 & 71.544 & 72.09 & 71.4185 & 71.9505 & 31178000 & 2020-01-14T10:30:00 & 1579012200 & $\\dots$ \\\\\n",
       "\t$\\dots$ & $\\dots$ & $\\dots$ & $\\dots$ & $\\dots$ & $\\dots$ & $\\dots$ & $\\dots$ &  \\\\\n",
       "\\end{tabular}\n"
      ],
      "text/plain": [
       "\u001b[1m42×11 DataFrame\n",
       "\u001b[1m Row │\u001b[1m close   \u001b[1m high    \u001b[1m low     \u001b[1m open    \u001b[1m volume    \u001b[1m date                \u001b[1m uni ⋯\n",
       "     │\u001b[90m Float64 \u001b[90m Float64 \u001b[90m Float64 \u001b[90m Float64 \u001b[90m Int64     \u001b[90m DateTime            \u001b[90m Int ⋯\n",
       "─────┼──────────────────────────────────────────────────────────────────────────\n",
       "   1 │ 75.0875  75.15    73.7975  74.06    135480400  2020-01-02T10:30:00  157 ⋯\n",
       "   2 │ 74.3575  75.145   74.125   74.2875  146322800  2020-01-03T10:30:00  157\n",
       "   3 │ 74.95    74.99    73.1875  73.4475  118387200  2020-01-06T10:30:00  157\n",
       "   4 │ 74.5975  75.225   74.37    74.96    108872000  2020-01-07T10:30:00  157\n",
       "   5 │ 75.7975  76.11    74.29    74.29    132079200  2020-01-08T10:30:00  157 ⋯\n",
       "   6 │ 77.4075  77.6075  76.55    76.81    170108400  2020-01-09T10:30:00  157\n",
       "   7 │ 77.5825  78.1675  77.0625  77.65    140644800  2020-01-10T10:30:00  157\n",
       "   8 │ 79.24    79.2675  77.7875  77.91    121532000  2020-01-13T10:30:00  157\n",
       "   9 │ 78.17    79.3925  78.0425  79.175   161954400  2020-01-14T10:30:00  157 ⋯\n",
       "  10 │ 77.835   78.875   77.3875  77.9625  121923600  2020-01-15T10:30:00  157\n",
       "  11 │ 78.81    78.925   78.0225  78.3975  108829200  2020-01-16T10:30:00  157\n",
       "  ⋮  │    ⋮        ⋮        ⋮        ⋮         ⋮               ⋮               ⋱\n",
       "  33 │ 74.0195  74.0648  72.911   73.1455   47924000  2020-01-17T10:30:00  157\n",
       "  34 │ 74.22    74.5925  73.56    73.956    40734000  2020-01-21T10:30:00  157 ⋯\n",
       "  35 │ 74.2975  75.1607  74.2465  74.55     32216000  2020-01-22T10:30:00  157\n",
       "  36 │ 74.3325  74.776   74.105   74.382    27024000  2020-01-23T10:30:00  157\n",
       "  37 │ 73.3355  74.7747  73.2625  74.6795   35692000  2020-01-24T10:30:00  157\n",
       "  38 │ 71.695   71.9035  71.06    71.55     35104000  2020-01-27T10:30:00  158 ⋯\n",
       "  39 │ 72.628   72.8     71.6235  72.15     31548000  2020-01-28T10:30:00  158\n",
       "  40 │ 72.9315  73.2715  72.337   72.94     21554000  2020-01-29T10:30:00  158\n",
       "  41 │ 72.792   72.864   71.82    71.998    26788000  2020-01-30T10:30:00  158\n",
       "  42 │ 71.7115  73.5065  71.4265  73.445    48344000  2020-01-31T10:30:00  158 ⋯\n",
       "\u001b[36m                                                   5 columns and 21 rows omitted"
      ]
     },
     "execution_count": 73,
     "metadata": {},
     "output_type": "execute_result"
    }
   ],
   "source": [
    "# gen_id()\n",
    "load_bundle(\"b2\")"
   ]
  },
  {
   "cell_type": "code",
   "execution_count": 67,
   "id": "c8510045-c7fb-4ac8-a45d-929bf6caa6ef",
   "metadata": {},
   "outputs": [
    {
     "name": "stderr",
     "output_type": "stream",
     "text": [
      "\u001b[36m\u001b[1m[ \u001b[22m\u001b[39m\u001b[36m\u001b[1mInfo: \u001b[22m\u001b[39mStoring /root/project/notebooks/.cache/b2/2023_06_06_6_6_18_403.parq.snappy\n"
     ]
    },
    {
     "data": {
      "text/plain": [
       "\u001b[34m✏ \u001b[39mParquet2.FileWriter{IOStream}(/root/project/notebooks/.cache/b2/2023_06_06_6_6_18_403.parq.snappy)"
      ]
     },
     "execution_count": 67,
     "metadata": {},
     "output_type": "execute_result"
    }
   ],
   "source": [
    "bundle_id=\"b2\"\n",
    "data=df\n",
    "meta=Dict(\"schema_id\"=>\"schema_1\")\n",
    "c_meta=Dict(\"close\"=>Dict(\"description\"=>\"Close price\")) # Add metadata \n",
    "ENV[\"AIRBORNE_ROOT\"] = pwd() * \"/.cache\"\n",
    "\n",
    "# store_bundle(data;c_meta=nothing)\n",
    "\n",
    "# store_bundle(data;bundle_id=bundle_id,archive=true,meta=meta,c_meta=c_meta)\n",
    "store_bundle(data;bundle_id=bundle_id,archive=true)\n"
   ]
  },
  {
   "cell_type": "code",
   "execution_count": 81,
   "id": "519625d9-2148-469f-abfd-d37f03c7fcd8",
   "metadata": {},
   "outputs": [],
   "source": [
    "# list_bundles()\n",
    "remove_bundle(\"b2\";just_archive=true)"
   ]
  },
  {
   "cell_type": "code",
   "execution_count": 84,
   "id": "aced8128-7f1c-4028-a82a-11d6172bd1e7",
   "metadata": {},
   "outputs": [
    {
     "name": "stderr",
     "output_type": "stream",
     "text": [
      "\u001b[36m\u001b[1m[ \u001b[22m\u001b[39m\u001b[36m\u001b[1mInfo: \u001b[22m\u001b[39mStoring /root/project/notebooks/.cache/test_bundle/2023_06_06_8_13_59_224.parq.snappy\n"
     ]
    },
    {
     "data": {
      "text/plain": [
       "\u001b[34m✏ \u001b[39mParquet2.FileWriter{IOStream}(/root/project/notebooks/.cache/test_bundle/2023_06_06_8_13_59_224.parq.snappy)"
      ]
     },
     "execution_count": 84,
     "metadata": {},
     "output_type": "execute_result"
    }
   ],
   "source": [
    "bundle_id=\"test_bundle\"\n",
    "ds = Parquet2.Dataset(\"/root/project/notebooks/demo.parq.snappy\") # Create a dataset    \n",
    "df = DataFrames.DataFrame(ds; copycols=false) # Load from dataframed\n",
    "store_bundle(df;bundle_id=bundle_id,archive=true,meta=meta,c_meta=c_meta)"
   ]
  },
  {
   "cell_type": "markdown",
   "id": "63542c01-38bb-4d7c-aefc-f534629b71ea",
   "metadata": {},
   "source": [
    "### Modules can be passed as arguments of Functions!\n",
    "\n",
    "This is great as it means that I can pass an entity with associated attributes and methods to a function. "
   ]
  },
  {
   "cell_type": "code",
   "execution_count": 85,
   "id": "089857a8-883c-4c19-b666-5a68ead63552",
   "metadata": {},
   "outputs": [
    {
     "data": {
      "text/plain": [
       "Main.F"
      ]
     },
     "execution_count": 85,
     "metadata": {},
     "output_type": "execute_result"
    }
   ],
   "source": [
    "module F\n",
    "function  hi()\n",
    "    print(\"hello\")\n",
    "end\n",
    "end"
   ]
  },
  {
   "cell_type": "code",
   "execution_count": 86,
   "id": "0824c338-5115-4eed-a689-53ebaf5db2db",
   "metadata": {},
   "outputs": [
    {
     "data": {
      "text/plain": [
       "h (generic function with 1 method)"
      ]
     },
     "execution_count": 86,
     "metadata": {},
     "output_type": "execute_result"
    }
   ],
   "source": [
    "function h(x)\n",
    "   x.hi() \n",
    "end"
   ]
  },
  {
   "cell_type": "code",
   "execution_count": 87,
   "id": "2fb4827e-57a1-4c63-877f-72a7ef50e889",
   "metadata": {},
   "outputs": [
    {
     "name": "stdout",
     "output_type": "stream",
     "text": [
      "hello"
     ]
    }
   ],
   "source": [
    "h(F)"
   ]
  },
  {
   "cell_type": "markdown",
   "id": "7ad8583f-ec9c-4048-a629-a18976910c3a",
   "metadata": {},
   "source": [
    "# Currencies\n",
    "\n",
    "Retrieving currencies exchange rates using Yahoo Finance"
   ]
  },
  {
   "cell_type": "code",
   "execution_count": 2,
   "id": "a15ccb3f-dd11-4c14-b816-50c4b7c815f5",
   "metadata": {},
   "outputs": [],
   "source": [
    "using HTTP:HTTP\n",
    "using Logging: @info\n"
   ]
  },
  {
   "cell_type": "code",
   "execution_count": 31,
   "id": "4695ac98-bddc-43c6-9b00-fa7d4d20a791",
   "metadata": {},
   "outputs": [
    {
     "name": "stderr",
     "output_type": "stream",
     "text": [
      "\u001b[36m\u001b[1m[ \u001b[22m\u001b[39m\u001b[36m\u001b[1mInfo: \u001b[22m\u001b[39mhttps://query1.finance.yahoo.com/v7/finance/spark?symbols=USDGBP%3DX&interval=5m&date=1577836800\n"
     ]
    },
    {
     "data": {
      "text/html": [
       "<div><div style = \"float: left;\"><span>1114×3 DataFrame</span></div><div style = \"float: right;\"><span style = \"font-style: italic;\">1089 rows omitted</span></div><div style = \"clear: both;\"></div></div><div class = \"data-frame\" style = \"overflow-x: scroll;\"><table class = \"data-frame\" style = \"margin-bottom: 6px;\"><thead><tr class = \"header\"><th class = \"rowNumber\" style = \"font-weight: bold; text-align: right;\">Row</th><th style = \"text-align: left;\">close</th><th style = \"text-align: left;\">date</th><th style = \"text-align: left;\">unix</th></tr><tr class = \"subheader headerLastRow\"><th class = \"rowNumber\" style = \"font-weight: bold; text-align: right;\"></th><th title = \"Any\" style = \"text-align: left;\">Any</th><th title = \"Dates.DateTime\" style = \"text-align: left;\">DateTime</th><th title = \"Any\" style = \"text-align: left;\">Any</th></tr></thead><tbody><tr><td class = \"rowNumber\" style = \"font-weight: bold; text-align: right;\">1</td><td style = \"text-align: left;\">0.8038</td><td style = \"text-align: left;\">2023-06-08T00:00:00</td><td style = \"text-align: left;\">1686178800</td></tr><tr><td class = \"rowNumber\" style = \"font-weight: bold; text-align: right;\">2</td><td style = \"text-align: left;\">0.804</td><td style = \"text-align: left;\">2023-06-08T00:05:00</td><td style = \"text-align: left;\">1686179100</td></tr><tr><td class = \"rowNumber\" style = \"font-weight: bold; text-align: right;\">3</td><td style = \"text-align: left;\">0.8039</td><td style = \"text-align: left;\">2023-06-08T00:10:00</td><td style = \"text-align: left;\">1686179400</td></tr><tr><td class = \"rowNumber\" style = \"font-weight: bold; text-align: right;\">4</td><td style = \"text-align: left;\">0.8039</td><td style = \"text-align: left;\">2023-06-08T00:15:00</td><td style = \"text-align: left;\">1686179700</td></tr><tr><td class = \"rowNumber\" style = \"font-weight: bold; text-align: right;\">5</td><td style = \"text-align: left;\">0.804</td><td style = \"text-align: left;\">2023-06-08T00:20:00</td><td style = \"text-align: left;\">1686180000</td></tr><tr><td class = \"rowNumber\" style = \"font-weight: bold; text-align: right;\">6</td><td style = \"text-align: left;\">0.804</td><td style = \"text-align: left;\">2023-06-08T00:25:00</td><td style = \"text-align: left;\">1686180300</td></tr><tr><td class = \"rowNumber\" style = \"font-weight: bold; text-align: right;\">7</td><td style = \"text-align: left;\">0.8038</td><td style = \"text-align: left;\">2023-06-08T00:30:00</td><td style = \"text-align: left;\">1686180600</td></tr><tr><td class = \"rowNumber\" style = \"font-weight: bold; text-align: right;\">8</td><td style = \"text-align: left;\">0.8038</td><td style = \"text-align: left;\">2023-06-08T00:35:00</td><td style = \"text-align: left;\">1686180900</td></tr><tr><td class = \"rowNumber\" style = \"font-weight: bold; text-align: right;\">9</td><td style = \"text-align: left;\">0.8037</td><td style = \"text-align: left;\">2023-06-08T00:40:00</td><td style = \"text-align: left;\">1686181200</td></tr><tr><td class = \"rowNumber\" style = \"font-weight: bold; text-align: right;\">10</td><td style = \"text-align: left;\">0.8037</td><td style = \"text-align: left;\">2023-06-08T00:45:00</td><td style = \"text-align: left;\">1686181500</td></tr><tr><td class = \"rowNumber\" style = \"font-weight: bold; text-align: right;\">11</td><td style = \"text-align: left;\">0.8035</td><td style = \"text-align: left;\">2023-06-08T00:50:00</td><td style = \"text-align: left;\">1686181800</td></tr><tr><td class = \"rowNumber\" style = \"font-weight: bold; text-align: right;\">12</td><td style = \"text-align: left;\">0.8035</td><td style = \"text-align: left;\">2023-06-08T00:55:00</td><td style = \"text-align: left;\">1686182100</td></tr><tr><td class = \"rowNumber\" style = \"font-weight: bold; text-align: right;\">13</td><td style = \"text-align: left;\">0.8034</td><td style = \"text-align: left;\">2023-06-08T01:00:00</td><td style = \"text-align: left;\">1686182400</td></tr><tr><td style = \"text-align: right;\">&vellip;</td><td style = \"text-align: right;\">&vellip;</td><td style = \"text-align: right;\">&vellip;</td><td style = \"text-align: right;\">&vellip;</td></tr><tr><td class = \"rowNumber\" style = \"font-weight: bold; text-align: right;\">1103</td><td style = \"text-align: left;\">0.793</td><td style = \"text-align: left;\">2023-06-13T22:20:00</td><td style = \"text-align: left;\">1686691200</td></tr><tr><td class = \"rowNumber\" style = \"font-weight: bold; text-align: right;\">1104</td><td style = \"text-align: left;\">0.7928</td><td style = \"text-align: left;\">2023-06-13T22:25:00</td><td style = \"text-align: left;\">1686691500</td></tr><tr><td class = \"rowNumber\" style = \"font-weight: bold; text-align: right;\">1105</td><td style = \"text-align: left;\">0.7929</td><td style = \"text-align: left;\">2023-06-13T22:40:00</td><td style = \"text-align: left;\">1686692400</td></tr><tr><td class = \"rowNumber\" style = \"font-weight: bold; text-align: right;\">1106</td><td style = \"text-align: left;\">0.7929</td><td style = \"text-align: left;\">2023-06-13T22:45:00</td><td style = \"text-align: left;\">1686692700</td></tr><tr><td class = \"rowNumber\" style = \"font-weight: bold; text-align: right;\">1107</td><td style = \"text-align: left;\">0.7928</td><td style = \"text-align: left;\">2023-06-13T22:50:00</td><td style = \"text-align: left;\">1686693000</td></tr><tr><td class = \"rowNumber\" style = \"font-weight: bold; text-align: right;\">1108</td><td style = \"text-align: left;\">0.7929</td><td style = \"text-align: left;\">2023-06-13T22:55:00</td><td style = \"text-align: left;\">1686693300</td></tr><tr><td class = \"rowNumber\" style = \"font-weight: bold; text-align: right;\">1109</td><td style = \"text-align: left;\">0.793</td><td style = \"text-align: left;\">2023-06-13T23:00:00</td><td style = \"text-align: left;\">1686693600</td></tr><tr><td class = \"rowNumber\" style = \"font-weight: bold; text-align: right;\">1110</td><td style = \"text-align: left;\">0.7929</td><td style = \"text-align: left;\">2023-06-13T23:05:00</td><td style = \"text-align: left;\">1686693900</td></tr><tr><td class = \"rowNumber\" style = \"font-weight: bold; text-align: right;\">1111</td><td style = \"text-align: left;\">0.7929</td><td style = \"text-align: left;\">2023-06-13T23:10:00</td><td style = \"text-align: left;\">1686694200</td></tr><tr><td class = \"rowNumber\" style = \"font-weight: bold; text-align: right;\">1112</td><td style = \"text-align: left;\">0.7929</td><td style = \"text-align: left;\">2023-06-13T23:15:00</td><td style = \"text-align: left;\">1686694500</td></tr><tr><td class = \"rowNumber\" style = \"font-weight: bold; text-align: right;\">1113</td><td style = \"text-align: left;\">0.7929</td><td style = \"text-align: left;\">2023-06-14T00:00:00</td><td style = \"text-align: left;\">1686697200</td></tr><tr><td class = \"rowNumber\" style = \"font-weight: bold; text-align: right;\">1114</td><td style = \"text-align: left;\">0.7929</td><td style = \"text-align: left;\">2023-06-14T00:02:53</td><td style = \"text-align: left;\">1686697373</td></tr></tbody></table></div>"
      ],
      "text/latex": [
       "\\begin{tabular}{r|ccc}\n",
       "\t& close & date & unix\\\\\n",
       "\t\\hline\n",
       "\t& Any & DateTime & Any\\\\\n",
       "\t\\hline\n",
       "\t1 & 0.8038 & 2023-06-08T00:00:00 & 1686178800 \\\\\n",
       "\t2 & 0.804 & 2023-06-08T00:05:00 & 1686179100 \\\\\n",
       "\t3 & 0.8039 & 2023-06-08T00:10:00 & 1686179400 \\\\\n",
       "\t4 & 0.8039 & 2023-06-08T00:15:00 & 1686179700 \\\\\n",
       "\t5 & 0.804 & 2023-06-08T00:20:00 & 1686180000 \\\\\n",
       "\t6 & 0.804 & 2023-06-08T00:25:00 & 1686180300 \\\\\n",
       "\t7 & 0.8038 & 2023-06-08T00:30:00 & 1686180600 \\\\\n",
       "\t8 & 0.8038 & 2023-06-08T00:35:00 & 1686180900 \\\\\n",
       "\t9 & 0.8037 & 2023-06-08T00:40:00 & 1686181200 \\\\\n",
       "\t10 & 0.8037 & 2023-06-08T00:45:00 & 1686181500 \\\\\n",
       "\t11 & 0.8035 & 2023-06-08T00:50:00 & 1686181800 \\\\\n",
       "\t12 & 0.8035 & 2023-06-08T00:55:00 & 1686182100 \\\\\n",
       "\t13 & 0.8034 & 2023-06-08T01:00:00 & 1686182400 \\\\\n",
       "\t14 & 0.8033 & 2023-06-08T01:05:00 & 1686182700 \\\\\n",
       "\t15 & 0.8033 & 2023-06-08T01:10:00 & 1686183000 \\\\\n",
       "\t16 & 0.8033 & 2023-06-08T01:15:00 & 1686183300 \\\\\n",
       "\t17 & 0.8033 & 2023-06-08T01:20:00 & 1686183600 \\\\\n",
       "\t18 & 0.8034 & 2023-06-08T01:25:00 & 1686183900 \\\\\n",
       "\t19 & 0.8033 & 2023-06-08T01:30:00 & 1686184200 \\\\\n",
       "\t20 & 0.8034 & 2023-06-08T01:35:00 & 1686184500 \\\\\n",
       "\t21 & 0.8034 & 2023-06-08T01:40:00 & 1686184800 \\\\\n",
       "\t22 & 0.8034 & 2023-06-08T01:45:00 & 1686185100 \\\\\n",
       "\t23 & 0.8032 & 2023-06-08T01:50:00 & 1686185400 \\\\\n",
       "\t24 & 0.8032 & 2023-06-08T02:00:00 & 1686186000 \\\\\n",
       "\t25 & 0.8031 & 2023-06-08T02:05:00 & 1686186300 \\\\\n",
       "\t26 & 0.8033 & 2023-06-08T02:10:00 & 1686186600 \\\\\n",
       "\t27 & 0.8033 & 2023-06-08T02:15:00 & 1686186900 \\\\\n",
       "\t28 & 0.8033 & 2023-06-08T02:20:00 & 1686187200 \\\\\n",
       "\t29 & 0.8037 & 2023-06-08T02:25:00 & 1686187500 \\\\\n",
       "\t30 & 0.8036 & 2023-06-08T02:30:00 & 1686187800 \\\\\n",
       "\t$\\dots$ & $\\dots$ & $\\dots$ & $\\dots$ \\\\\n",
       "\\end{tabular}\n"
      ],
      "text/plain": [
       "\u001b[1m1114×3 DataFrame\n",
       "\u001b[1m  Row │\u001b[1m close  \u001b[1m date                \u001b[1m unix\n",
       "      │\u001b[90m Any    \u001b[90m DateTime            \u001b[90m Any\n",
       "──────┼─────────────────────────────────────────\n",
       "    1 │ 0.8038  2023-06-08T00:00:00  1686178800\n",
       "    2 │ 0.804   2023-06-08T00:05:00  1686179100\n",
       "    3 │ 0.8039  2023-06-08T00:10:00  1686179400\n",
       "    4 │ 0.8039  2023-06-08T00:15:00  1686179700\n",
       "    5 │ 0.804   2023-06-08T00:20:00  1686180000\n",
       "    6 │ 0.804   2023-06-08T00:25:00  1686180300\n",
       "    7 │ 0.8038  2023-06-08T00:30:00  1686180600\n",
       "    8 │ 0.8038  2023-06-08T00:35:00  1686180900\n",
       "    9 │ 0.8037  2023-06-08T00:40:00  1686181200\n",
       "   10 │ 0.8037  2023-06-08T00:45:00  1686181500\n",
       "   11 │ 0.8035  2023-06-08T00:50:00  1686181800\n",
       "  ⋮   │   ⋮              ⋮               ⋮\n",
       " 1105 │ 0.7929  2023-06-13T22:40:00  1686692400\n",
       " 1106 │ 0.7929  2023-06-13T22:45:00  1686692700\n",
       " 1107 │ 0.7928  2023-06-13T22:50:00  1686693000\n",
       " 1108 │ 0.7929  2023-06-13T22:55:00  1686693300\n",
       " 1109 │ 0.793   2023-06-13T23:00:00  1686693600\n",
       " 1110 │ 0.7929  2023-06-13T23:05:00  1686693900\n",
       " 1111 │ 0.7929  2023-06-13T23:10:00  1686694200\n",
       " 1112 │ 0.7929  2023-06-13T23:15:00  1686694500\n",
       " 1113 │ 0.7929  2023-06-14T00:00:00  1686697200\n",
       " 1114 │ 0.7929  2023-06-14T00:02:53  1686697373\n",
       "\u001b[36m                               1093 rows omitted"
      ]
     },
     "execution_count": 31,
     "metadata": {},
     "output_type": "execute_result"
    }
   ],
   "source": [
    "YAHOO_SPARK_V7_URL=\"https://query1.finance.yahoo.com/v7/finance/spark?\"\n",
    "period1=\"1577836800\"\n",
    "period2=\"1580515200\"\n",
    "# \"period1\"=>\"2020-01-01\",\n",
    "# \"period2\"=>\"2020-02-01\",\n",
    "urlencode(x) = HTTP.URIs.escapeuri(x)\n",
    "freq=\"5m\"\n",
    "# symbols=USDGBP%3DX&start=1686610800&end=1686697140&gmtoffset=3600&dataGranularity=1d&range=1mo\n",
    "params=Dict(\n",
    "    # \"start\"=>period1,\n",
    "    # \"end\"=>period2,\n",
    "    \"date\"=>period1,\n",
    "    # \"period1\"=>period1,\n",
    "    # \"period2\"=>period2,\n",
    "    # \"interval\"=>freq,\n",
    "    \"interval\"=>freq,\n",
    "    \"symbols\"=>\"USDGBP=X\",\n",
    "    # \"symbols\"=>\"USDGBP%3DX\",\n",
    "    # \"includePrePost \"=>\"true\",\n",
    ")\n",
    "url=YAHOO_SPARK_V7_URL *  HTTP.URIs.escapeuri(params)\n",
    "@info url\n",
    "r=HTTP.request(\"GET\",url)\n",
    "resp=deepcopy(r.body)\n",
    "using DataFrames:DataFrame\n",
    "using Dates: Dates\n",
    "timestamps = resp_json[\"spark\"][\"result\"][1][\"response\"][1][\"timestamp\"]\n",
    "close=resp_json[\"spark\"][\"result\"][1][\"response\"][1][\"indicators\"][\"quote\"][1][\"close\"]\n",
    "gmt_offset = resp_json[\"spark\"][\"result\"][1][\"response\"][1][\"meta\"][\"gmtoffset\"]\n",
    "date_vector= [Dates.unix2datetime(x+gmt_offset) for x in timestamps]\n",
    "\n",
    "DataFrame(Dict(\"unix\"=>timestamps,\"date\"=>date_vector,\"close\"=>close))"
   ]
  },
  {
   "cell_type": "code",
   "execution_count": 5,
   "id": "34807ec1-6956-4086-8b6d-bc6a413dd221",
   "metadata": {},
   "outputs": [
    {
     "data": {
      "text/plain": [
       "Dict{String, Any} with 1 entry:\n",
       "  \"spark\" => Dict{String, Any}(\"error\"=>nothing, \"result\"=>Any[Dict{String, Any…"
      ]
     },
     "execution_count": 5,
     "metadata": {},
     "output_type": "execute_result"
    }
   ],
   "source": [
    "using JSON: JSON\n",
    "resp_json = JSON.parse(String(resp))"
   ]
  },
  {
   "cell_type": "markdown",
   "id": "b6b7c68e-ebb9-4ef8-827b-aff0f3a574d5",
   "metadata": {},
   "source": [
    "### Modelling Currencies using JuliaFinance\n",
    "\n",
    "https://github.com/JuliaFinance/Assets.jl\n",
    "add Assets#master"
   ]
  },
  {
   "cell_type": "code",
   "execution_count": null,
   "id": "d5a1c842-f6a0-41e0-8680-28ba6522b72a",
   "metadata": {},
   "outputs": [],
   "source": []
  },
  {
   "cell_type": "code",
   "execution_count": 16,
   "id": "269e8a20-a566-44e7-83cf-d52bc8ae4172",
   "metadata": {},
   "outputs": [
    {
     "ename": "LoadError",
     "evalue": "UndefVarError: cash not defined",
     "output_type": "error",
     "traceback": [
      "UndefVarError: cash not defined",
      ""
     ]
    }
   ],
   "source": [
    "using Currencies\n",
    "using Assets: cash"
   ]
  },
  {
   "cell_type": "code",
   "execution_count": 39,
   "id": "d552d544-e7a3-4ce4-a5fd-54a7d35b3e18",
   "metadata": {},
   "outputs": [
    {
     "data": {
      "text/plain": [
       "@money (macro with 1 method)"
      ]
     },
     "execution_count": 39,
     "metadata": {},
     "output_type": "execute_result"
    }
   ],
   "source": [
    "macro money(syms)\n",
    "    args = syms isa Expr ? syms.args : [syms] # If it's just one element then create a list of length one\n",
    "    for nam in args\n",
    "        @eval __module__ const $nam = Currencies.currency($nam) #Assets.$nam # Create functions\n",
    "    end\n",
    "end"
   ]
  },
  {
   "cell_type": "code",
   "execution_count": 84,
   "id": "b823f9c6-82bc-4146-ba73-d5064e0807bf",
   "metadata": {},
   "outputs": [
    {
     "name": "stdout",
     "output_type": "stream",
     "text": [
      "MyNumber(7)\n"
     ]
    }
   ],
   "source": [
    "# Julia program to illustrate the\n",
    "# overloading of + operator\n",
    "\n",
    "# Defining a custom type MyNumber\n",
    "struct MyNumber\n",
    "\tvalue::Int\n",
    "end\n",
    "\n",
    "\n",
    "# Overload the + operator for MyNumber\n",
    "Base.:+(x::MyNumber, y::MyNumber) = MyNumber(x.value + y.value)\n",
    "\n",
    "# Creating MyNumber objects\n",
    "a = MyNumber(3)\n",
    "b = MyNumber(4)\n",
    "\n",
    "# Adding both the objects\n",
    "c = a + b\n",
    "println(c)\n"
   ]
  },
  {
   "cell_type": "code",
   "execution_count": 334,
   "id": "5eb2c10c-f7ce-438f-949d-1289be25643a",
   "metadata": {},
   "outputs": [],
   "source": [
    "# cash(USD)\n",
    "# @stock MSFT\n",
    "# @money :GBP\n",
    "# Assets.cash(:USD)\n",
    "using Printf: @sprintf, format\n",
    "using Currencies: unit\n",
    "using Base: Base\n",
    "\n",
    "\"\"\"Just a float with an associated Symbol\"\"\"\n",
    "struct MoneyH{S}\n",
    "\tvalue::Float64\n",
    "end\n",
    "\n",
    "\n",
    "\"\"\"Just a wrapper around a dictionary\"\"\"\n",
    "struct WalletB\n",
    "\tcontent::Dict{Symbol,Float64}\n",
    "end\n",
    "\n",
    "# WalletA(List[])\n",
    "\n",
    "function WalletB(S::Symbol)\n",
    "    WalletB(Dict(S=>0.0))\n",
    "end\n",
    "\n",
    "function WalletB(b::MoneyH{B}) where {B} \n",
    "    WalletB(Dict(B=>b.value))\n",
    "end\n",
    "# For Currencies\n",
    "\n",
    "# For Wallets\n",
    "\n",
    "get_symbol(::Type{MoneyH{S}}) where {S} = S # Symbol from Type\n",
    "get_symbol(::MoneyH{S}) where {S} = S # Symbol from Instance \n",
    "\n",
    "Base.setindex!(w::WalletB,a::Float64, S::Symbol) = Base.setindex!(w.content,a,S)\n",
    "Base.getindex(w::WalletB, S::Symbol) = Base.getindex(w.content,S)\n",
    "Base.length(a::WalletB) = length(a.content)\n",
    "Base.haskey(a::WalletB,key) = haskey(a.content,key)\n",
    "Base.keys(a::WalletB) = keys(a.content)\n",
    "\n",
    "Base.show(io::IO, ::MIME\"text/plain\", v::MoneyH{S}) where {S} = print(io, @sprintf(\"%.2f\", v.value) ,\"$S\")\n",
    "Base.show(io::IO, v::MoneyH{S}) where {S} = show(io,MIME(\"text/plain\"),v)\n",
    "\n",
    "function Base.show(io::IO, ::MIME\"text/plain\", w::WalletB) \n",
    "   println(io, \"WalletB object containing:\")\n",
    "    for (key, value) in w.content\n",
    "       println(io, \"  \",@sprintf(\"%.2f\", value),\"$(key)\" )\n",
    "    end\n",
    "end\n",
    "Base.show(io::IO, w::WalletB) = show(io,MIME(\"text/plain\"),w)\n",
    "\n",
    "\n",
    "sameCurrencyB(a::MoneyH{S},b::MoneyH{D}) where {S,D} = S==D ? \"Same\" : \"Different\" \n",
    "\n",
    "Base.:+(a::MoneyH{A}, b::MoneyH{A}) where {A} = MoneyH{A}(a.value + b.value) # Same \n",
    "Base.:+(a::MoneyH{A}, b::MoneyH{B}) where {A,B} = WalletB(Dict(A=>a.value,B=>b.value)) #Different?\n",
    "\n",
    "# Base.:+(a::MoneyH{A}, b::MoneyH{B}) where {A,B} = A==B ? MoneyH{A}(a.value + b.value) : WalletB(Dict(A=>a.value,B=>b.value))\n",
    "\n",
    "Base.:*(a::Float64, c::Type{Currency{S}}) where {S} = MoneyH{S}(a) # allow 3.0USD as a valid expresion\n",
    "Base.:*(c::Type{Currency{S}}, a::Float64) where {S} = MoneyH{S}(a) # allow USD*3.0 as a valid expresion\n",
    "Base.:*(a::Real, c::Type{Currency{S}}) where {S} = MoneyH{S}(Float64(a)) # allow 3USD as a valid expresion\n",
    "Base.:*(c::Type{Currency{S}},a::Real ) where {S} = MoneyH{S}(Float64(a)) # allow USD*3 as a valid expresion\n",
    "\n",
    "Base.:*(a::Real, b::MoneyH{B}) where {B} = MoneyH{B}(a*b.value) # allow to multiply money by a value\n",
    "Base.:*(b::MoneyH{B}, a::Real) where {B} = MoneyH{B}(a*b.value) # Commutability of product\n",
    "# function addWalletB(a::WalletB, b::WalletB)\n",
    "    \n",
    "function Base.:+(a::WalletB, b::WalletB) \n",
    "    bigW, smallW =  length(a)>length(b) ? (a,b) : (b,a)\n",
    "    out = deepcopy(bigW) # We don't want to modify original\n",
    "    for (key, value) in smallW.content\n",
    "        if haskey(out,key)\n",
    "            out[key] += value\n",
    "        else\n",
    "            out[key] = value\n",
    "        end\n",
    "    end\n",
    "    return out\n",
    "end\n",
    "\n",
    "Base.:+(a::WalletB, b::MoneyH) = a + WalletB(b) # Add money to the wallet just by summing\n",
    "Base.:+(b::MoneyH, a::WalletB) = a + WalletB(b) # Commutability of operator"
   ]
  },
  {
   "cell_type": "code",
   "execution_count": 326,
   "id": "beceeeb2-b13a-4161-80c2-6a142e32126f",
   "metadata": {},
   "outputs": [
    {
     "data": {
      "text/plain": [
       "exchange (generic function with 1 method)"
      ]
     },
     "execution_count": 326,
     "metadata": {},
     "output_type": "execute_result"
    }
   ],
   "source": [
    "\n",
    "function exchange(a::MoneyH{A},B::Symbol, exchangeRate::Dict{Tuple{Symbol, Symbol}, Float64}) where {A}\n",
    "    if haskey(exchangeRate,(A,B))\n",
    "        return MoneyH{B}(a.value*exchangeRate[(A,B)])\n",
    "    elseif haskey(exchangeRate,(B,A))\n",
    "        return MoneyH{B}(a.value/exchangeRate[(B,A)])\n",
    "    elseif B==A\n",
    "        return a\n",
    "    else\n",
    "        throw( KeyError(\"($A,$B) or ($B,$A)\"))\n",
    "    end\n",
    "end"
   ]
  },
  {
   "cell_type": "code",
   "execution_count": 341,
   "id": "937fe868-536d-4e1b-8e43-a5cd17526654",
   "metadata": {},
   "outputs": [
    {
     "name": "stdout",
     "output_type": "stream",
     "text": [
      "31.00GBP\n",
      "32.00USD\n",
      "62.00GBP\n",
      "WalletB object containing:\n",
      "  31.00GBP\n",
      "  32.00USD\n",
      "\n"
     ]
    }
   ],
   "source": [
    "println(a)\n",
    "println(b)\n",
    "println(a+a)\n",
    "println(a+b)"
   ]
  },
  {
   "cell_type": "code",
   "execution_count": 300,
   "id": "5c12a1ec-fb9b-4e4a-b35c-52f1bb169c0f",
   "metadata": {},
   "outputs": [
    {
     "name": "stdout",
     "output_type": "stream",
     "text": [
      "WalletB(Dict(:USD => 32.0))\n",
      "WalletB(Dict(:USD => 0.0, :DEMO => 3.0))\n",
      "WalletB(Dict(:GBP => 3.0, :USD => 32.0, :DEMO => 3.0))"
     ]
    },
    {
     "data": {
      "text/plain": [
       "23.00GBP\n"
      ]
     },
     "execution_count": 300,
     "metadata": {},
     "output_type": "execute_result"
    }
   ],
   "source": [
    "c2 = WalletB(b)\n",
    "d2 = WalletB(:USD)\n",
    "d2[:DEMO]=3.0\n",
    "println(c2)\n",
    "println(d2)\n",
    "r = c2+d2\n",
    "\n",
    "print(r + 3GBP)\n",
    "r+=5GBP\n",
    "x=3GBP\n",
    "x+= 5GBP*4\n",
    "x\n",
    "length(r)\n",
    "# typeof(c2)\n",
    "# d2\n",
    "# length(d2.content)"
   ]
  },
  {
   "cell_type": "code",
   "execution_count": 333,
   "id": "7b9b57aa-dd17-43c8-8062-e9b797e94067",
   "metadata": {},
   "outputs": [
    {
     "name": "stdout",
     "output_type": "stream",
     "text": [
      "31.00GBP\n",
      "18.60USD\n",
      "31.00GBP\n"
     ]
    },
    {
     "ename": "LoadError",
     "evalue": "KeyError: key \"(GBP,UYU) or (UYU,GBP)\" not found",
     "output_type": "error",
     "traceback": [
      "KeyError: key \"(GBP,UYU) or (UYU,GBP)\" not found",
      "",
      "Stacktrace:",
      " [1] exchange(a::MoneyH{:GBP}, B::Symbol, exchangeRate::Dict{Tuple{Symbol, Symbol}, Float64})",
      "   @ Main ./In[326]:10",
      " [2] top-level scope",
      "   @ In[333]:10"
     ]
    }
   ],
   "source": [
    "exchangeRateI = Dict{Tuple{Symbol, Symbol}, Float64}(\n",
    "    (:USD,:GBP)=>1.2,\n",
    "    (:GBP,:USD)=>0.6,\n",
    "    (:USD,:UYU)=>50,\n",
    ")\n",
    "\n",
    "println(a)\n",
    "println(exchange(a,:USD,exchangeRateI))\n",
    "println(exchange(a,:GBP,exchangeRateI))\n",
    "exchange(a,:UYU,exchangeRateI)"
   ]
  },
  {
   "cell_type": "code",
   "execution_count": 304,
   "id": "c9d568d5-8a8b-4d9f-8512-1e7b7ea969ce",
   "metadata": {},
   "outputs": [
    {
     "data": {
      "text/plain": [
       "3.00USD\n"
      ]
     },
     "execution_count": 304,
     "metadata": {},
     "output_type": "execute_result"
    }
   ],
   "source": [
    "USDa = Currencies.currency(:USD)\n",
    "GBP = Currencies.currency(:GBP)\n",
    "# USD\n",
    "3.0USDa\n",
    "2USDa\n",
    "USDa*3\n",
    "# USDa"
   ]
  },
  {
   "cell_type": "code",
   "execution_count": 250,
   "id": "23e0d797-8705-4217-9dcd-a26b33b338a3",
   "metadata": {},
   "outputs": [
    {
     "data": {
      "text/plain": [
       "96.00USD\n"
      ]
     },
     "execution_count": 250,
     "metadata": {},
     "output_type": "execute_result"
    }
   ],
   "source": [
    "# sameCurrencyB(b,b)\n",
    "# sameCurrencyB(b,a)\n",
    "b+b\n",
    "b+a\n",
    "# b*b #Error because product of money is not defined-> Good!\n",
    "3b"
   ]
  },
  {
   "cell_type": "code",
   "execution_count": 170,
   "id": "13406e01-f709-404f-ba41-3fc866f89ec4",
   "metadata": {},
   "outputs": [
    {
     "name": "stdout",
     "output_type": "stream",
     "text": [
      "%.2f32.0\n"
     ]
    }
   ],
   "source": [
    "println(\"%.$(unit(:USD))f\",b.value)\n",
    "# unit(:USD)"
   ]
  },
  {
   "cell_type": "code",
   "execution_count": 187,
   "id": "82d9730f-449d-43f8-abdf-8a8df6eb383d",
   "metadata": {},
   "outputs": [
    {
     "data": {
      "text/plain": [
       "MoneyH{:USD}"
      ]
     },
     "execution_count": 187,
     "metadata": {},
     "output_type": "execute_result"
    }
   ],
   "source": [
    "# a = Currencies.currency(:USD)\n",
    "# true || error(\"Currency $a is not defined.\")\n",
    "# typeof(a)\n",
    "# typeof(Int) # DataType\n",
    "# a(3.0)\n",
    "# a\n",
    "b=MoneyH{:USD}(32.0)\n",
    "a=MoneyH{:GBP}(31.0)\n",
    "typeof(b) \n",
    "# MoneyD(32)\n",
    " # MoneyD{}(1.0)\n",
    "# f{T<:Integer}(::Type{T}) = \"integer method, got $T\""
   ]
  },
  {
   "cell_type": "code",
   "execution_count": 144,
   "id": "dbf6d441-3d88-456d-8633-d3e68844b24e",
   "metadata": {},
   "outputs": [
    {
     "data": {
      "text/plain": [
       "get_symbol (generic function with 3 methods)"
      ]
     },
     "execution_count": 144,
     "metadata": {},
     "output_type": "execute_result"
    }
   ],
   "source": [
    "\n",
    "# findparam(ex::Example{T, N}) where {T, N} = N\n",
    "# get_symbol(b)\n",
    "# get_symbol typeof(b).parameters[1]"
   ]
  },
  {
   "cell_type": "code",
   "execution_count": 155,
   "id": "941da625-0412-4da0-b8a9-236b84a68677",
   "metadata": {},
   "outputs": [
    {
     "data": {
      "text/plain": [
       "\"USD\""
      ]
     },
     "execution_count": 155,
     "metadata": {},
     "output_type": "execute_result"
    }
   ],
   "source": [
    "Currencies.unit(:USD) # Decimal places when displaying\n",
    "Currencies.name(:USD) # Decimal places when displaying\n",
    "# Currencies.symbol(:USD) # Decimal places when displaying\n",
    "\"$(:USD)\"\n"
   ]
  },
  {
   "cell_type": "code",
   "execution_count": 146,
   "id": "f56936fc-f863-4924-a0b3-dba91c681d8e",
   "metadata": {},
   "outputs": [
    {
     "data": {
      "text/plain": [
       ":USD"
      ]
     },
     "execution_count": 146,
     "metadata": {},
     "output_type": "execute_result"
    }
   ],
   "source": [
    "get_symbol(b)"
   ]
  },
  {
   "cell_type": "code",
   "execution_count": 80,
   "id": "d0f0f901-e643-46d5-80a3-51c812f9440e",
   "metadata": {},
   "outputs": [
    {
     "name": "stdout",
     "output_type": "stream",
     "text": [
      "Currency{:USD}: DataType\n",
      "UnionAll\n",
      " Int64\n"
     ]
    },
    {
     "data": {
      "text/plain": [
       "get_symbol (generic function with 1 method)"
      ]
     },
     "execution_count": 80,
     "metadata": {},
     "output_type": "execute_result"
    }
   ],
   "source": [
    "# Currencies.name(:($a)) # This calls a dictionary indexed by symbols with tuple values, fetches the symbol of the type of a and retrieves the 4th  \n",
    "# element that happens to be the name\n",
    "# Currencies.code(a) # Same but is the 3rd element\n",
    "\n",
    "a = Currencies.currency(:USD)\n",
    "println(\"$(a): $(typeof(a))\")\n",
    "println(\"$(typeof(Currency))\")\n",
    "println(\" $(typeof(3))\")\n",
    "a <: Currency # true\n",
    "a == a\n",
    "# BABA=3\n",
    "# Currency(:avsa)\n",
    "Currencies.name(:UYU) # Accepts both raw symbols and currencies\n",
    "\n",
    "get_symbol(::Type{Currency{S}}) where {S} = S # Retrieves symbol, function operates at type level\n"
   ]
  },
  {
   "cell_type": "code",
   "execution_count": 98,
   "id": "a58d1bd0-1a37-4738-aba0-5c6e0e428a97",
   "metadata": {},
   "outputs": [
    {
     "ename": "LoadError",
     "evalue": "TypeError: in Type{...} expression, expected UnionAll, got a value of type typeof(float)",
     "output_type": "error",
     "traceback": [
      "TypeError: in Type{...} expression, expected UnionAll, got a value of type typeof(float)",
      "",
      "Stacktrace:",
      " [1] top-level scope",
      "   @ In[98]:1"
     ]
    }
   ],
   "source": [
    "float{:USD}(2)"
   ]
  },
  {
   "cell_type": "markdown",
   "id": "85cd9586-5bc5-420b-8e30-c31ee2f3a20d",
   "metadata": {},
   "source": [
    "# Using AirBorne:\n"
   ]
  },
  {
   "cell_type": "markdown",
   "id": "e187cd5e-0632-4bd3-b329-07a59888e495",
   "metadata": {},
   "source": [
    "### Retrieving Data"
   ]
  },
  {
   "cell_type": "code",
   "execution_count": 4,
   "id": "7fd99e02-6b4f-4495-874f-8f8b36e2d4d4",
   "metadata": {},
   "outputs": [
    {
     "name": "stderr",
     "output_type": "stream",
     "text": [
      "\u001b[36m\u001b[1m[ \u001b[22m\u001b[39m\u001b[36m\u001b[1mInfo: \u001b[22m\u001b[39mStoring /root/project/.AirBorneCache/demo/2023_07_03_11_29_2_972.parq.snappy\n"
     ]
    },
    {
     "data": {
      "text/html": [
       "<div><div style = \"float: left;\"><span>2518×11 DataFrame</span></div><div style = \"float: right;\"><span style = \"font-style: italic;\">2493 rows omitted</span></div><div style = \"clear: both;\"></div></div><div class = \"data-frame\" style = \"overflow-x: scroll;\"><table class = \"data-frame\" style = \"margin-bottom: 6px;\"><thead><tr class = \"header\"><th class = \"rowNumber\" style = \"font-weight: bold; text-align: right;\">Row</th><th style = \"text-align: left;\">close</th><th style = \"text-align: left;\">high</th><th style = \"text-align: left;\">low</th><th style = \"text-align: left;\">open</th><th style = \"text-align: left;\">volume</th><th style = \"text-align: left;\">date</th><th style = \"text-align: left;\">unix</th><th style = \"text-align: left;\">exchangeName</th><th style = \"text-align: left;\">timezone</th><th style = \"text-align: left;\">currency</th><th style = \"text-align: left;\">symbol</th></tr><tr class = \"subheader headerLastRow\"><th class = \"rowNumber\" style = \"font-weight: bold; text-align: right;\"></th><th title = \"Float64\" style = \"text-align: left;\">Float64</th><th title = \"Float64\" style = \"text-align: left;\">Float64</th><th title = \"Float64\" style = \"text-align: left;\">Float64</th><th title = \"Float64\" style = \"text-align: left;\">Float64</th><th title = \"Int64\" style = \"text-align: left;\">Int64</th><th title = \"Dates.DateTime\" style = \"text-align: left;\">DateTime</th><th title = \"Int64\" style = \"text-align: left;\">Int64</th><th title = \"String\" style = \"text-align: left;\">String</th><th title = \"String\" style = \"text-align: left;\">String</th><th title = \"String\" style = \"text-align: left;\">String</th><th title = \"String\" style = \"text-align: left;\">String</th></tr></thead><tbody><tr><td class = \"rowNumber\" style = \"font-weight: bold; text-align: right;\">1</td><td style = \"text-align: right;\">29.0375</td><td style = \"text-align: right;\">29.0825</td><td style = \"text-align: right;\">28.69</td><td style = \"text-align: right;\">28.95</td><td style = \"text-align: right;\">115127600</td><td style = \"text-align: left;\">2017-01-03T10:30:00</td><td style = \"text-align: right;\">1483453800</td><td style = \"text-align: left;\">NMS</td><td style = \"text-align: left;\">America/New_York</td><td style = \"text-align: left;\">USD</td><td style = \"text-align: left;\">AAPL</td></tr><tr><td class = \"rowNumber\" style = \"font-weight: bold; text-align: right;\">2</td><td style = \"text-align: right;\">29.005</td><td style = \"text-align: right;\">29.1275</td><td style = \"text-align: right;\">28.9375</td><td style = \"text-align: right;\">28.9625</td><td style = \"text-align: right;\">84472400</td><td style = \"text-align: left;\">2017-01-04T10:30:00</td><td style = \"text-align: right;\">1483540200</td><td style = \"text-align: left;\">NMS</td><td style = \"text-align: left;\">America/New_York</td><td style = \"text-align: left;\">USD</td><td style = \"text-align: left;\">AAPL</td></tr><tr><td class = \"rowNumber\" style = \"font-weight: bold; text-align: right;\">3</td><td style = \"text-align: right;\">29.1525</td><td style = \"text-align: right;\">29.215</td><td style = \"text-align: right;\">28.9525</td><td style = \"text-align: right;\">28.98</td><td style = \"text-align: right;\">88774400</td><td style = \"text-align: left;\">2017-01-05T10:30:00</td><td style = \"text-align: right;\">1483626600</td><td style = \"text-align: left;\">NMS</td><td style = \"text-align: left;\">America/New_York</td><td style = \"text-align: left;\">USD</td><td style = \"text-align: left;\">AAPL</td></tr><tr><td class = \"rowNumber\" style = \"font-weight: bold; text-align: right;\">4</td><td style = \"text-align: right;\">29.4775</td><td style = \"text-align: right;\">29.54</td><td style = \"text-align: right;\">29.1175</td><td style = \"text-align: right;\">29.195</td><td style = \"text-align: right;\">127007600</td><td style = \"text-align: left;\">2017-01-06T10:30:00</td><td style = \"text-align: right;\">1483713000</td><td style = \"text-align: left;\">NMS</td><td style = \"text-align: left;\">America/New_York</td><td style = \"text-align: left;\">USD</td><td style = \"text-align: left;\">AAPL</td></tr><tr><td class = \"rowNumber\" style = \"font-weight: bold; text-align: right;\">5</td><td style = \"text-align: right;\">29.7475</td><td style = \"text-align: right;\">29.8575</td><td style = \"text-align: right;\">29.485</td><td style = \"text-align: right;\">29.4875</td><td style = \"text-align: right;\">134247600</td><td style = \"text-align: left;\">2017-01-09T10:30:00</td><td style = \"text-align: right;\">1483972200</td><td style = \"text-align: left;\">NMS</td><td style = \"text-align: left;\">America/New_York</td><td style = \"text-align: left;\">USD</td><td style = \"text-align: left;\">AAPL</td></tr><tr><td class = \"rowNumber\" style = \"font-weight: bold; text-align: right;\">6</td><td style = \"text-align: right;\">29.7775</td><td style = \"text-align: right;\">29.845</td><td style = \"text-align: right;\">29.575</td><td style = \"text-align: right;\">29.6925</td><td style = \"text-align: right;\">97848400</td><td style = \"text-align: left;\">2017-01-10T10:30:00</td><td style = \"text-align: right;\">1484058600</td><td style = \"text-align: left;\">NMS</td><td style = \"text-align: left;\">America/New_York</td><td style = \"text-align: left;\">USD</td><td style = \"text-align: left;\">AAPL</td></tr><tr><td class = \"rowNumber\" style = \"font-weight: bold; text-align: right;\">7</td><td style = \"text-align: right;\">29.9375</td><td style = \"text-align: right;\">29.9825</td><td style = \"text-align: right;\">29.65</td><td style = \"text-align: right;\">29.685</td><td style = \"text-align: right;\">110354400</td><td style = \"text-align: left;\">2017-01-11T10:30:00</td><td style = \"text-align: right;\">1484145000</td><td style = \"text-align: left;\">NMS</td><td style = \"text-align: left;\">America/New_York</td><td style = \"text-align: left;\">USD</td><td style = \"text-align: left;\">AAPL</td></tr><tr><td class = \"rowNumber\" style = \"font-weight: bold; text-align: right;\">8</td><td style = \"text-align: right;\">29.8125</td><td style = \"text-align: right;\">29.825</td><td style = \"text-align: right;\">29.5525</td><td style = \"text-align: right;\">29.725</td><td style = \"text-align: right;\">108344800</td><td style = \"text-align: left;\">2017-01-12T10:30:00</td><td style = \"text-align: right;\">1484231400</td><td style = \"text-align: left;\">NMS</td><td style = \"text-align: left;\">America/New_York</td><td style = \"text-align: left;\">USD</td><td style = \"text-align: left;\">AAPL</td></tr><tr><td class = \"rowNumber\" style = \"font-weight: bold; text-align: right;\">9</td><td style = \"text-align: right;\">29.76</td><td style = \"text-align: right;\">29.905</td><td style = \"text-align: right;\">29.7025</td><td style = \"text-align: right;\">29.7775</td><td style = \"text-align: right;\">104447600</td><td style = \"text-align: left;\">2017-01-13T10:30:00</td><td style = \"text-align: right;\">1484317800</td><td style = \"text-align: left;\">NMS</td><td style = \"text-align: left;\">America/New_York</td><td style = \"text-align: left;\">USD</td><td style = \"text-align: left;\">AAPL</td></tr><tr><td class = \"rowNumber\" style = \"font-weight: bold; text-align: right;\">10</td><td style = \"text-align: right;\">30.0</td><td style = \"text-align: right;\">30.06</td><td style = \"text-align: right;\">29.555</td><td style = \"text-align: right;\">29.585</td><td style = \"text-align: right;\">137759200</td><td style = \"text-align: left;\">2017-01-17T10:30:00</td><td style = \"text-align: right;\">1484663400</td><td style = \"text-align: left;\">NMS</td><td style = \"text-align: left;\">America/New_York</td><td style = \"text-align: left;\">USD</td><td style = \"text-align: left;\">AAPL</td></tr><tr><td class = \"rowNumber\" style = \"font-weight: bold; text-align: right;\">11</td><td style = \"text-align: right;\">29.9975</td><td style = \"text-align: right;\">30.125</td><td style = \"text-align: right;\">29.9275</td><td style = \"text-align: right;\">30.0</td><td style = \"text-align: right;\">94852000</td><td style = \"text-align: left;\">2017-01-18T10:30:00</td><td style = \"text-align: right;\">1484749800</td><td style = \"text-align: left;\">NMS</td><td style = \"text-align: left;\">America/New_York</td><td style = \"text-align: left;\">USD</td><td style = \"text-align: left;\">AAPL</td></tr><tr><td class = \"rowNumber\" style = \"font-weight: bold; text-align: right;\">12</td><td style = \"text-align: right;\">29.945</td><td style = \"text-align: right;\">30.0225</td><td style = \"text-align: right;\">29.8425</td><td style = \"text-align: right;\">29.85</td><td style = \"text-align: right;\">102389200</td><td style = \"text-align: left;\">2017-01-19T10:30:00</td><td style = \"text-align: right;\">1484836200</td><td style = \"text-align: left;\">NMS</td><td style = \"text-align: left;\">America/New_York</td><td style = \"text-align: left;\">USD</td><td style = \"text-align: left;\">AAPL</td></tr><tr><td class = \"rowNumber\" style = \"font-weight: bold; text-align: right;\">13</td><td style = \"text-align: right;\">30.0</td><td style = \"text-align: right;\">30.1125</td><td style = \"text-align: right;\">29.9325</td><td style = \"text-align: right;\">30.1125</td><td style = \"text-align: right;\">130391600</td><td style = \"text-align: left;\">2017-01-20T10:30:00</td><td style = \"text-align: right;\">1484922600</td><td style = \"text-align: left;\">NMS</td><td style = \"text-align: left;\">America/New_York</td><td style = \"text-align: left;\">USD</td><td style = \"text-align: left;\">AAPL</td></tr><tr><td style = \"text-align: right;\">&vellip;</td><td style = \"text-align: right;\">&vellip;</td><td style = \"text-align: right;\">&vellip;</td><td style = \"text-align: right;\">&vellip;</td><td style = \"text-align: right;\">&vellip;</td><td style = \"text-align: right;\">&vellip;</td><td style = \"text-align: right;\">&vellip;</td><td style = \"text-align: right;\">&vellip;</td><td style = \"text-align: right;\">&vellip;</td><td style = \"text-align: right;\">&vellip;</td><td style = \"text-align: right;\">&vellip;</td><td style = \"text-align: right;\">&vellip;</td></tr><tr><td class = \"rowNumber\" style = \"font-weight: bold; text-align: right;\">2507</td><td style = \"text-align: right;\">147.368</td><td style = \"text-align: right;\">147.517</td><td style = \"text-align: right;\">142.706</td><td style = \"text-align: right;\">144.366</td><td style = \"text-align: right;\">27280000</td><td style = \"text-align: left;\">2021-12-15T10:30:00</td><td style = \"text-align: right;\">1639578600</td><td style = \"text-align: left;\">NMS</td><td style = \"text-align: left;\">America/New_York</td><td style = \"text-align: left;\">USD</td><td style = \"text-align: left;\">GOOG</td></tr><tr><td class = \"rowNumber\" style = \"font-weight: bold; text-align: right;\">2508</td><td style = \"text-align: right;\">144.839</td><td style = \"text-align: right;\">148.551</td><td style = \"text-align: right;\">144.092</td><td style = \"text-align: right;\">148.077</td><td style = \"text-align: right;\">27400000</td><td style = \"text-align: left;\">2021-12-16T10:30:00</td><td style = \"text-align: right;\">1639665000</td><td style = \"text-align: left;\">NMS</td><td style = \"text-align: left;\">America/New_York</td><td style = \"text-align: left;\">USD</td><td style = \"text-align: left;\">GOOG</td></tr><tr><td class = \"rowNumber\" style = \"font-weight: bold; text-align: right;\">2509</td><td style = \"text-align: right;\">142.803</td><td style = \"text-align: right;\">144.46</td><td style = \"text-align: right;\">141.788</td><td style = \"text-align: right;\">142.714</td><td style = \"text-align: right;\">43404000</td><td style = \"text-align: left;\">2021-12-17T10:30:00</td><td style = \"text-align: right;\">1639751400</td><td style = \"text-align: left;\">NMS</td><td style = \"text-align: left;\">America/New_York</td><td style = \"text-align: left;\">USD</td><td style = \"text-align: left;\">GOOG</td></tr><tr><td class = \"rowNumber\" style = \"font-weight: bold; text-align: right;\">2510</td><td style = \"text-align: right;\">142.402</td><td style = \"text-align: right;\">142.611</td><td style = \"text-align: right;\">140.25</td><td style = \"text-align: right;\">140.68</td><td style = \"text-align: right;\">20264000</td><td style = \"text-align: left;\">2021-12-20T10:30:00</td><td style = \"text-align: right;\">1640010600</td><td style = \"text-align: left;\">NMS</td><td style = \"text-align: left;\">America/New_York</td><td style = \"text-align: left;\">USD</td><td style = \"text-align: left;\">GOOG</td></tr><tr><td class = \"rowNumber\" style = \"font-weight: bold; text-align: right;\">2511</td><td style = \"text-align: right;\">144.221</td><td style = \"text-align: right;\">144.692</td><td style = \"text-align: right;\">141.735</td><td style = \"text-align: right;\">143.15</td><td style = \"text-align: right;\">19548000</td><td style = \"text-align: left;\">2021-12-21T10:30:00</td><td style = \"text-align: right;\">1640097000</td><td style = \"text-align: left;\">NMS</td><td style = \"text-align: left;\">America/New_York</td><td style = \"text-align: left;\">USD</td><td style = \"text-align: left;\">GOOG</td></tr><tr><td class = \"rowNumber\" style = \"font-weight: bold; text-align: right;\">2512</td><td style = \"text-align: right;\">146.949</td><td style = \"text-align: right;\">147.303</td><td style = \"text-align: right;\">143.963</td><td style = \"text-align: right;\">144.1</td><td style = \"text-align: right;\">18438000</td><td style = \"text-align: left;\">2021-12-22T10:30:00</td><td style = \"text-align: right;\">1640183400</td><td style = \"text-align: left;\">NMS</td><td style = \"text-align: left;\">America/New_York</td><td style = \"text-align: left;\">USD</td><td style = \"text-align: left;\">GOOG</td></tr><tr><td class = \"rowNumber\" style = \"font-weight: bold; text-align: right;\">2513</td><td style = \"text-align: right;\">147.143</td><td style = \"text-align: right;\">148.573</td><td style = \"text-align: right;\">146.951</td><td style = \"text-align: right;\">147.089</td><td style = \"text-align: right;\">13818000</td><td style = \"text-align: left;\">2021-12-23T10:30:00</td><td style = \"text-align: right;\">1640269800</td><td style = \"text-align: left;\">NMS</td><td style = \"text-align: left;\">America/New_York</td><td style = \"text-align: left;\">USD</td><td style = \"text-align: left;\">GOOG</td></tr><tr><td class = \"rowNumber\" style = \"font-weight: bold; text-align: right;\">2514</td><td style = \"text-align: right;\">148.064</td><td style = \"text-align: right;\">148.426</td><td style = \"text-align: right;\">147.25</td><td style = \"text-align: right;\">147.464</td><td style = \"text-align: right;\">13256000</td><td style = \"text-align: left;\">2021-12-27T10:30:00</td><td style = \"text-align: right;\">1640615400</td><td style = \"text-align: left;\">NMS</td><td style = \"text-align: left;\">America/New_York</td><td style = \"text-align: left;\">USD</td><td style = \"text-align: left;\">GOOG</td></tr><tr><td class = \"rowNumber\" style = \"font-weight: bold; text-align: right;\">2515</td><td style = \"text-align: right;\">146.448</td><td style = \"text-align: right;\">148.374</td><td style = \"text-align: right;\">145.936</td><td style = \"text-align: right;\">148.374</td><td style = \"text-align: right;\">18624000</td><td style = \"text-align: left;\">2021-12-28T10:30:00</td><td style = \"text-align: right;\">1640701800</td><td style = \"text-align: left;\">NMS</td><td style = \"text-align: left;\">America/New_York</td><td style = \"text-align: left;\">USD</td><td style = \"text-align: left;\">GOOG</td></tr><tr><td class = \"rowNumber\" style = \"font-weight: bold; text-align: right;\">2516</td><td style = \"text-align: right;\">146.505</td><td style = \"text-align: right;\">147.184</td><td style = \"text-align: right;\">145.505</td><td style = \"text-align: right;\">146.43</td><td style = \"text-align: right;\">17022000</td><td style = \"text-align: left;\">2021-12-29T10:30:00</td><td style = \"text-align: right;\">1640788200</td><td style = \"text-align: left;\">NMS</td><td style = \"text-align: left;\">America/New_York</td><td style = \"text-align: left;\">USD</td><td style = \"text-align: left;\">GOOG</td></tr><tr><td class = \"rowNumber\" style = \"font-weight: bold; text-align: right;\">2517</td><td style = \"text-align: right;\">146.003</td><td style = \"text-align: right;\">147.062</td><td style = \"text-align: right;\">145.758</td><td style = \"text-align: right;\">146.45</td><td style = \"text-align: right;\">12978000</td><td style = \"text-align: left;\">2021-12-30T10:30:00</td><td style = \"text-align: right;\">1640874600</td><td style = \"text-align: left;\">NMS</td><td style = \"text-align: left;\">America/New_York</td><td style = \"text-align: left;\">USD</td><td style = \"text-align: left;\">GOOG</td></tr><tr><td class = \"rowNumber\" style = \"font-weight: bold; text-align: right;\">2518</td><td style = \"text-align: right;\">144.68</td><td style = \"text-align: right;\">146.365</td><td style = \"text-align: right;\">144.678</td><td style = \"text-align: right;\">145.544</td><td style = \"text-align: right;\">17298000</td><td style = \"text-align: left;\">2021-12-31T10:30:00</td><td style = \"text-align: right;\">1640961000</td><td style = \"text-align: left;\">NMS</td><td style = \"text-align: left;\">America/New_York</td><td style = \"text-align: left;\">USD</td><td style = \"text-align: left;\">GOOG</td></tr></tbody></table></div>"
      ],
      "text/latex": [
       "\\begin{tabular}{r|cccccccc}\n",
       "\t& close & high & low & open & volume & date & unix & \\\\\n",
       "\t\\hline\n",
       "\t& Float64 & Float64 & Float64 & Float64 & Int64 & DateTime & Int64 & \\\\\n",
       "\t\\hline\n",
       "\t1 & 29.0375 & 29.0825 & 28.69 & 28.95 & 115127600 & 2017-01-03T10:30:00 & 1483453800 & $\\dots$ \\\\\n",
       "\t2 & 29.005 & 29.1275 & 28.9375 & 28.9625 & 84472400 & 2017-01-04T10:30:00 & 1483540200 & $\\dots$ \\\\\n",
       "\t3 & 29.1525 & 29.215 & 28.9525 & 28.98 & 88774400 & 2017-01-05T10:30:00 & 1483626600 & $\\dots$ \\\\\n",
       "\t4 & 29.4775 & 29.54 & 29.1175 & 29.195 & 127007600 & 2017-01-06T10:30:00 & 1483713000 & $\\dots$ \\\\\n",
       "\t5 & 29.7475 & 29.8575 & 29.485 & 29.4875 & 134247600 & 2017-01-09T10:30:00 & 1483972200 & $\\dots$ \\\\\n",
       "\t6 & 29.7775 & 29.845 & 29.575 & 29.6925 & 97848400 & 2017-01-10T10:30:00 & 1484058600 & $\\dots$ \\\\\n",
       "\t7 & 29.9375 & 29.9825 & 29.65 & 29.685 & 110354400 & 2017-01-11T10:30:00 & 1484145000 & $\\dots$ \\\\\n",
       "\t8 & 29.8125 & 29.825 & 29.5525 & 29.725 & 108344800 & 2017-01-12T10:30:00 & 1484231400 & $\\dots$ \\\\\n",
       "\t9 & 29.76 & 29.905 & 29.7025 & 29.7775 & 104447600 & 2017-01-13T10:30:00 & 1484317800 & $\\dots$ \\\\\n",
       "\t10 & 30.0 & 30.06 & 29.555 & 29.585 & 137759200 & 2017-01-17T10:30:00 & 1484663400 & $\\dots$ \\\\\n",
       "\t11 & 29.9975 & 30.125 & 29.9275 & 30.0 & 94852000 & 2017-01-18T10:30:00 & 1484749800 & $\\dots$ \\\\\n",
       "\t12 & 29.945 & 30.0225 & 29.8425 & 29.85 & 102389200 & 2017-01-19T10:30:00 & 1484836200 & $\\dots$ \\\\\n",
       "\t13 & 30.0 & 30.1125 & 29.9325 & 30.1125 & 130391600 & 2017-01-20T10:30:00 & 1484922600 & $\\dots$ \\\\\n",
       "\t14 & 30.02 & 30.2025 & 29.9425 & 30.0 & 88200800 & 2017-01-23T10:30:00 & 1485181800 & $\\dots$ \\\\\n",
       "\t15 & 29.9925 & 30.025 & 29.875 & 29.8875 & 92844000 & 2017-01-24T10:30:00 & 1485268200 & $\\dots$ \\\\\n",
       "\t16 & 30.47 & 30.525 & 30.07 & 30.105 & 129510400 & 2017-01-25T10:30:00 & 1485354600 & $\\dots$ \\\\\n",
       "\t17 & 30.485 & 30.61 & 30.4 & 30.4175 & 105350400 & 2017-01-26T10:30:00 & 1485441000 & $\\dots$ \\\\\n",
       "\t18 & 30.4875 & 30.5875 & 30.4 & 30.535 & 82251600 & 2017-01-27T10:30:00 & 1485527400 & $\\dots$ \\\\\n",
       "\t19 & 30.4075 & 30.4075 & 30.165 & 30.2325 & 121510000 & 2017-01-30T10:30:00 & 1485786600 & $\\dots$ \\\\\n",
       "\t20 & 30.3375 & 30.3475 & 30.155 & 30.2875 & 196804000 & 2017-01-31T10:30:00 & 1485873000 & $\\dots$ \\\\\n",
       "\t21 & 32.1875 & 32.6225 & 31.7525 & 31.7575 & 447940000 & 2017-02-01T10:30:00 & 1485959400 & $\\dots$ \\\\\n",
       "\t22 & 32.1325 & 32.3475 & 31.945 & 31.995 & 134841600 & 2017-02-02T10:30:00 & 1486045800 & $\\dots$ \\\\\n",
       "\t23 & 32.27 & 32.2975 & 32.04 & 32.0775 & 98029200 & 2017-02-03T10:30:00 & 1486132200 & $\\dots$ \\\\\n",
       "\t24 & 32.5725 & 32.625 & 32.225 & 32.2825 & 107383600 & 2017-02-06T10:30:00 & 1486391400 & $\\dots$ \\\\\n",
       "\t25 & 32.8825 & 33.0225 & 32.6125 & 32.635 & 152735200 & 2017-02-07T10:30:00 & 1486477800 & $\\dots$ \\\\\n",
       "\t26 & 33.01 & 33.055 & 32.805 & 32.8375 & 92016400 & 2017-02-08T10:30:00 & 1486564200 & $\\dots$ \\\\\n",
       "\t27 & 33.105 & 33.1125 & 32.78 & 32.9125 & 113399600 & 2017-02-09T10:30:00 & 1486650600 & $\\dots$ \\\\\n",
       "\t28 & 33.03 & 33.235 & 33.0125 & 33.115 & 80262000 & 2017-02-10T10:30:00 & 1486737000 & $\\dots$ \\\\\n",
       "\t29 & 33.3225 & 33.455 & 33.1875 & 33.27 & 92141600 & 2017-02-13T10:30:00 & 1486996200 & $\\dots$ \\\\\n",
       "\t30 & 33.755 & 33.7725 & 33.3125 & 33.3675 & 132904800 & 2017-02-14T10:30:00 & 1487082600 & $\\dots$ \\\\\n",
       "\t$\\dots$ & $\\dots$ & $\\dots$ & $\\dots$ & $\\dots$ & $\\dots$ & $\\dots$ & $\\dots$ &  \\\\\n",
       "\\end{tabular}\n"
      ],
      "text/plain": [
       "\u001b[1m2518×11 DataFrame\n",
       "\u001b[1m  Row │\u001b[1m close    \u001b[1m high     \u001b[1m low      \u001b[1m open     \u001b[1m volume    \u001b[1m date                ⋯\n",
       "      │\u001b[90m Float64  \u001b[90m Float64  \u001b[90m Float64  \u001b[90m Float64  \u001b[90m Int64     \u001b[90m DateTime            ⋯\n",
       "──────┼─────────────────────────────────────────────────────────────────────────\n",
       "    1 │  29.0375   29.0825   28.69     28.95    115127600  2017-01-03T10:30:00 ⋯\n",
       "    2 │  29.005    29.1275   28.9375   28.9625   84472400  2017-01-04T10:30:00\n",
       "    3 │  29.1525   29.215    28.9525   28.98     88774400  2017-01-05T10:30:00\n",
       "    4 │  29.4775   29.54     29.1175   29.195   127007600  2017-01-06T10:30:00\n",
       "    5 │  29.7475   29.8575   29.485    29.4875  134247600  2017-01-09T10:30:00 ⋯\n",
       "    6 │  29.7775   29.845    29.575    29.6925   97848400  2017-01-10T10:30:00\n",
       "    7 │  29.9375   29.9825   29.65     29.685   110354400  2017-01-11T10:30:00\n",
       "    8 │  29.8125   29.825    29.5525   29.725   108344800  2017-01-12T10:30:00\n",
       "    9 │  29.76     29.905    29.7025   29.7775  104447600  2017-01-13T10:30:00 ⋯\n",
       "   10 │  30.0      30.06     29.555    29.585   137759200  2017-01-17T10:30:00\n",
       "   11 │  29.9975   30.125    29.9275   30.0      94852000  2017-01-18T10:30:00\n",
       "  ⋮   │    ⋮         ⋮         ⋮         ⋮          ⋮               ⋮          ⋱\n",
       " 2509 │ 142.803   144.46    141.788   142.714    43404000  2021-12-17T10:30:00\n",
       " 2510 │ 142.402   142.611   140.25    140.68     20264000  2021-12-20T10:30:00 ⋯\n",
       " 2511 │ 144.221   144.692   141.735   143.15     19548000  2021-12-21T10:30:00\n",
       " 2512 │ 146.949   147.303   143.963   144.1      18438000  2021-12-22T10:30:00\n",
       " 2513 │ 147.143   148.573   146.951   147.089    13818000  2021-12-23T10:30:00\n",
       " 2514 │ 148.064   148.426   147.25    147.464    13256000  2021-12-27T10:30:00 ⋯\n",
       " 2515 │ 146.448   148.374   145.936   148.374    18624000  2021-12-28T10:30:00\n",
       " 2516 │ 146.505   147.184   145.505   146.43     17022000  2021-12-29T10:30:00\n",
       " 2517 │ 146.003   147.062   145.758   146.45     12978000  2021-12-30T10:30:00\n",
       " 2518 │ 144.68    146.365   144.678   145.544    17298000  2021-12-31T10:30:00 ⋯\n",
       "\u001b[36m                                                 5 columns and 2497 rows omitted"
      ]
     },
     "execution_count": 4,
     "metadata": {},
     "output_type": "execute_result"
    }
   ],
   "source": [
    "using AirBorne: AirBorne\n",
    "using AirBorne.ETL.Cache: load_bundle, store_bundle\n",
    "using Dates: Dates\n",
    "cache_dir = joinpath(@__DIR__, \"assets\", \"cache\")\n",
    "# To generate this data use:\n",
    "from = Dates.DateTime(\"2017-01-01\"); to = Dates.DateTime(\"2022-01-01\")\n",
    "u_from = string(round(Int, Dates.datetime2unix(from))); u_to = string(round(Int, Dates.datetime2unix(to)))\n",
    "data = AirBorne.ETL.YFinance.get_interday_data([\"AAPL\",\"GOOG\"], u_from, u_to)\n",
    "\n",
    "# For some reason  the column type is still \"Any\". Minor bug but annoying. \n",
    "data[!,:close]=float.(data[!,:close])\n",
    "data[!,:high]=float.(data[!,:high])\n",
    "data[!,:low]=float.(data[!,:low])\n",
    "data[!,:open]=float.(data[!,:open])\n",
    "data[!,:unix]=Int.(data[!,:unix])\n",
    "data[!,:volume]=Int.(data[!,:volume])\n",
    "# show(data)\n",
    "AirBorne.ETL.Cache.store_bundle(data; bundle_id=\"demo\", archive=true) \n",
    "data2 = load_bundle(\"demo\")"
   ]
  },
  {
   "cell_type": "markdown",
   "id": "aa49ee9b-8ec3-4b55-869b-9ca3f38deeef",
   "metadata": {},
   "source": [
    "### Currencies and Wallets"
   ]
  },
  {
   "cell_type": "code",
   "execution_count": 5,
   "id": "d480c310-6b61-4c7a-8d5d-d1467e9a2877",
   "metadata": {},
   "outputs": [
    {
     "data": {
      "text/plain": [
       "true"
      ]
     },
     "execution_count": 5,
     "metadata": {},
     "output_type": "execute_result"
    }
   ],
   "source": [
    "using AirBorne: AirBorne, Money, Wallet\n",
    "using Currencies: Currencies\n",
    "USD = Currencies.currency(:USD)\n",
    "GBP = Currencies.currency(:GBP)\n",
    "UYU = Currencies.currency(:UYU)\n",
    "a = 10USD\n",
    "b = 10.0USD\n",
    "c1 = Money{:GBP}(5.0)\n",
    "c2 = Money{:GBP}(5)\n",
    "exchangeRateI = Dict{Tuple{Symbol,Symbol},Real}(\n",
    "    (:USD, :GBP) => 2, (:GBP, :USD) => 1//2, (:USD, :UYU) => 50\n",
    ")\n",
    "\n",
    "AirBorne.exchange(10USD, :GBP, 0.5) == 5GBP # Specify rate\n",
    "AirBorne.exchange(10USD, :GBP, 1//2) == 5GBP # Specify rate\n",
    "AirBorne.exchange(10USD, :USD, exchangeRateI) == 10USDa # Same Currency \n",
    "AirBorne.exchange(10USD, :UYU, exchangeRateI) == 500UYU # Known Exchange\n",
    "AirBorne.exchange(500UYU, :USD, exchangeRateI) == 10USDa # Known Inverse\n",
    "\n",
    "w0 = Wallet(USD)\n",
    "w1 = Wallet(:USD)\n",
    "w0 == w1\n",
    "w1[:USD] == 0\n",
    "w1[:GBP] == 0\n",
    "length(w1) == 1\n",
    "\n",
    "w2 = Wallet(20USD)\n",
    "w3 = Wallet(50UYU)\n",
    "w4 = Wallet(Dict(:USD => 20, :UYU => 50))\n",
    "w5 = deepcopy(w3)\n",
    "w6 = Wallet(Dict(:USD => 20, :UYU => 60))\n",
    "w5[:USD] = 10.0\n",
    "w2 + 50UYU == w4\n",
    "20USD + w3 == w4\n",
    "w2 + w3 == w4\n",
    "w2 + w4 == Wallet(Dict(:USD => 40, :UYU => 50))\n",
    "20USD + 50UYU == w4\n",
    "w5[:USD] == 10\n",
    "(w4 == w2) == false\n",
    "(w4 == w6) == false\n"
   ]
  },
  {
   "cell_type": "markdown",
   "id": "cc267bcb-9e98-4059-b579-16cd33415b1f",
   "metadata": {},
   "source": [
    "### Data Structures"
   ]
  },
  {
   "cell_type": "code",
   "execution_count": 6,
   "id": "d447b75a-b422-49e4-a436-3b747679bd02",
   "metadata": {},
   "outputs": [
    {
     "ename": "LoadError",
     "evalue": "UndefVarError: data not defined",
     "output_type": "error",
     "traceback": [
      "UndefVarError: data not defined",
      ""
     ]
    }
   ],
   "source": [
    "data"
   ]
  },
  {
   "cell_type": "code",
   "execution_count": 6,
   "id": "9e74effb-8cba-4b04-b314-df9bf4c20e5d",
   "metadata": {},
   "outputs": [],
   "source": [
    "using DataStructures: SortedDict"
   ]
  },
  {
   "cell_type": "code",
   "execution_count": 7,
   "id": "135ca8f1-be0f-4fdb-842d-7f40cfde7969",
   "metadata": {},
   "outputs": [
    {
     "data": {
      "text/plain": [
       "SortedDict{Int64, Dict{Symbol, OHLCV_A}}"
      ]
     },
     "execution_count": 7,
     "metadata": {},
     "output_type": "execute_result"
    }
   ],
   "source": [
    "\"Data Structure\"\n",
    "struct OHLCV_A\n",
    "    open::Float64\n",
    "    high::Float64\n",
    "    low::Float64\n",
    "    close::Float64\n",
    "    volume::Float64    \n",
    "end\n",
    "\n",
    "struct OHLCV_B\n",
    "    ticker::String\n",
    "    open::Float64\n",
    "    high::Float64\n",
    "    low::Float64\n",
    "    close::Float64\n",
    "    volume::Float64    \n",
    "end\n",
    "\n",
    "\n",
    "const Snapshot_OHLCV_A =  Dict{Symbol, OHLCV_A} # Contains one OHLCV_A entry per ticker\n",
    "\n",
    "const TimeSeries_OHLCV_A =  SortedDict{Int64, Snapshot_OHLCV_A} # Contains one Snapshot_OHLCV_A  per UNIX timestamp\n"
   ]
  },
  {
   "cell_type": "code",
   "execution_count": 19,
   "id": "bde891eb-ef5a-450c-b71b-d24afe1dde77",
   "metadata": {},
   "outputs": [
    {
     "name": "stdout",
     "output_type": "stream",
     "text": [
      "GroupKey: (unix = 1483453800,)\n",
      "\u001b[1m2×11 SubDataFrame\n",
      "\u001b[1m Row │\u001b[1m close   \u001b[1m high    \u001b[1m low     \u001b[1m open    \u001b[1m volume    \u001b[1m date                \u001b[1m uni ⋯\n",
      "     │\u001b[90m Float64 \u001b[90m Float64 \u001b[90m Float64 \u001b[90m Float64 \u001b[90m Int64     \u001b[90m DateTime            \u001b[90m Int ⋯\n",
      "─────┼──────────────────────────────────────────────────────────────────────────\n",
      "   1 │ 29.0375  29.0825    28.69  28.95    115127600  2017-01-03T10:30:00  148 ⋯\n",
      "   2 │ 39.307   39.4815    38.79  38.9405   33146000  2017-01-03T10:30:00  148\n",
      "\u001b[36m                                                               5 columns omittedGroupKey: (unix = 1483540200,)\n",
      "\u001b[1m2×11 SubDataFrame\n",
      "\u001b[1m Row │\u001b[1m close   \u001b[1m high    \u001b[1m low     \u001b[1m open    \u001b[1m volume   \u001b[1m date                \u001b[1m unix ⋯\n",
      "     │\u001b[90m Float64 \u001b[90m Float64 \u001b[90m Float64 \u001b[90m Float64 \u001b[90m Int64    \u001b[90m DateTime            \u001b[90m Int6 ⋯\n",
      "─────┼──────────────────────────────────────────────────────────────────────────\n",
      "   1 │  29.005  29.1275  28.9375  28.9625  84472400  2017-01-04T10:30:00  1483 ⋯\n",
      "   2 │  39.345  39.567   39.158   39.418   21460000  2017-01-04T10:30:00  1483\n",
      "\u001b[36m                                                               5 columns omittedGroupKey: (unix = 1483626600,)\n",
      "\u001b[1m2×11 SubDataFrame\n",
      "\u001b[1m Row │\u001b[1m close   \u001b[1m high    \u001b[1m low     \u001b[1m open    \u001b[1m volume   \u001b[1m date                \u001b[1m unix ⋯\n",
      "     │\u001b[90m Float64 \u001b[90m Float64 \u001b[90m Float64 \u001b[90m Float64 \u001b[90m Int64    \u001b[90m DateTime            \u001b[90m Int6 ⋯\n",
      "─────┼──────────────────────────────────────────────────────────────────────────\n",
      "   1 │ 29.1525   29.215  28.9525   28.98   88774400  2017-01-05T10:30:00  1483 ⋯\n",
      "   2 │ 39.701    39.724  39.251    39.304  26704000  2017-01-05T10:30:00  1483\n",
      "\u001b[36m                                                               5 columns omitted"
     ]
    }
   ],
   "source": [
    "using DataFrames: groupby, DataFrames\n",
    "\n",
    "g1 = groupby(data2,:unix)\n",
    "# Multithreading iteration over group # Threads.@threads \n",
    "i=0\n",
    "formatted_data = TimeSeries_OHLCV_A()\n",
    "a=nothing\n",
    "b=nothing\n",
    "for (k, g) in pairs(g1)\n",
    "    i+=1\n",
    "    a=k;b=g;\n",
    "    println(k)\n",
    "    show(g)\n",
    "    # Geneate snapshot OHLCV\n",
    "    \n",
    "    if i>2\n",
    "        break\n",
    "    end\n",
    "    # do something with `group`\n",
    "    # formatted_data[k[:unix]]=\n",
    "end"
   ]
  },
  {
   "cell_type": "code",
   "execution_count": 40,
   "id": "4bf11f83-050e-41fc-87e6-2145d192a123",
   "metadata": {},
   "outputs": [
    {
     "data": {
      "text/html": [
       "<div><div style = \"float: left;\"><span>2×11 DataFrame</span></div><div style = \"clear: both;\"></div></div><div class = \"data-frame\" style = \"overflow-x: scroll;\"><table class = \"data-frame\" style = \"margin-bottom: 6px;\"><thead><tr class = \"header\"><th class = \"rowNumber\" style = \"font-weight: bold; text-align: right;\">Row</th><th style = \"text-align: left;\">close</th><th style = \"text-align: left;\">currency</th><th style = \"text-align: left;\">date</th><th style = \"text-align: left;\">exchangeName</th><th style = \"text-align: left;\">high</th><th style = \"text-align: left;\">low</th><th style = \"text-align: left;\">open</th><th style = \"text-align: left;\">symbol</th><th style = \"text-align: left;\">timezone</th><th style = \"text-align: left;\">unix</th><th style = \"text-align: left;\">volume</th></tr><tr class = \"subheader headerLastRow\"><th class = \"rowNumber\" style = \"font-weight: bold; text-align: right;\"></th><th title = \"Float64\" style = \"text-align: left;\">Float64</th><th title = \"String\" style = \"text-align: left;\">String</th><th title = \"Dates.DateTime\" style = \"text-align: left;\">DateTime</th><th title = \"String\" style = \"text-align: left;\">String</th><th title = \"Float64\" style = \"text-align: left;\">Float64</th><th title = \"Float64\" style = \"text-align: left;\">Float64</th><th title = \"Float64\" style = \"text-align: left;\">Float64</th><th title = \"String\" style = \"text-align: left;\">String</th><th title = \"String\" style = \"text-align: left;\">String</th><th title = \"Int64\" style = \"text-align: left;\">Int64</th><th title = \"Int64\" style = \"text-align: left;\">Int64</th></tr></thead><tbody><tr><td class = \"rowNumber\" style = \"font-weight: bold; text-align: right;\">1</td><td style = \"text-align: right;\">29.1525</td><td style = \"text-align: left;\">USD</td><td style = \"text-align: left;\">2017-01-05T10:30:00</td><td style = \"text-align: left;\">NMS</td><td style = \"text-align: right;\">29.215</td><td style = \"text-align: right;\">28.9525</td><td style = \"text-align: right;\">28.98</td><td style = \"text-align: left;\">AAPL</td><td style = \"text-align: left;\">America/New_York</td><td style = \"text-align: right;\">1483626600</td><td style = \"text-align: right;\">88774400</td></tr><tr><td class = \"rowNumber\" style = \"font-weight: bold; text-align: right;\">2</td><td style = \"text-align: right;\">39.701</td><td style = \"text-align: left;\">USD</td><td style = \"text-align: left;\">2017-01-05T10:30:00</td><td style = \"text-align: left;\">NMS</td><td style = \"text-align: right;\">39.724</td><td style = \"text-align: right;\">39.251</td><td style = \"text-align: right;\">39.304</td><td style = \"text-align: left;\">GOOG</td><td style = \"text-align: left;\">America/New_York</td><td style = \"text-align: right;\">1483626600</td><td style = \"text-align: right;\">26704000</td></tr></tbody></table></div>"
      ],
      "text/latex": [
       "\\begin{tabular}{r|cccccccc}\n",
       "\t& close & currency & date & exchangeName & high & low & open & \\\\\n",
       "\t\\hline\n",
       "\t& Float64 & String & DateTime & String & Float64 & Float64 & Float64 & \\\\\n",
       "\t\\hline\n",
       "\t1 & 29.1525 & USD & 2017-01-05T10:30:00 & NMS & 29.215 & 28.9525 & 28.98 & $\\dots$ \\\\\n",
       "\t2 & 39.701 & USD & 2017-01-05T10:30:00 & NMS & 39.724 & 39.251 & 39.304 & $\\dots$ \\\\\n",
       "\\end{tabular}\n"
      ],
      "text/plain": [
       "\u001b[1m2×11 DataFrame\n",
       "\u001b[1m Row │\u001b[1m close   \u001b[1m currency \u001b[1m date                \u001b[1m exchangeName \u001b[1m high    \u001b[1m low     \u001b[1m ⋯\n",
       "     │\u001b[90m Float64 \u001b[90m String   \u001b[90m DateTime            \u001b[90m String       \u001b[90m Float64 \u001b[90m Float64 \u001b[90m ⋯\n",
       "─────┼──────────────────────────────────────────────────────────────────────────\n",
       "   1 │ 29.1525  USD       2017-01-05T10:30:00  NMS            29.215  28.9525  ⋯\n",
       "   2 │ 39.701   USD       2017-01-05T10:30:00  NMS            39.724  39.251\n",
       "\u001b[36m                                                               5 columns omitted"
      ]
     },
     "execution_count": 40,
     "metadata": {},
     "output_type": "execute_result"
    }
   ],
   "source": [
    "# a[:unix]\n",
    "# [ b[1,:symbol]=> i[b,:close] for  i in 1:size(b,1)]\n",
    "# Dict( [i:symbol=> i for i in b])\n",
    "# Dict(Pair.(b.symbol, b.close))\n",
    "using DataFrames: groupby, DataFrame\n",
    "DataFrame(Dict(pairs(eachcol(b))))\n"
   ]
  },
  {
   "cell_type": "code",
   "execution_count": 79,
   "id": "91374620-58ea-4cdb-8619-874bff6993e4",
   "metadata": {},
   "outputs": [
    {
     "name": "stderr",
     "output_type": "stream",
     "text": [
      "\u001b[36m\u001b[1m[ \u001b[22m\u001b[39m\u001b[36m\u001b[1mInfo: \u001b[22m\u001b[39mtrue\n"
     ]
    }
   ],
   "source": [
    "using Parquet2: Dataset\n",
    "using Tables: Tables\n",
    "# readdir(joinpath(AirBorne.ETL.Cache.get_cache_path(), AirBorne.ETL.Cache.list_bundles()[1],\"archive\"))\n",
    "parquet_path = joinpath(AirBorne.ETL.Cache.get_cache_path(), AirBorne.ETL.Cache.list_bundles()[1],\"2023_07_03_11_29_2_972.parq.snappy\")\n",
    "ds =  Dataset(parquet_path)\n",
    "sch = Tables.schema(ds)\n",
    "schOG=Tables.schema(data2)\n",
    "\n",
    "@info sch == schOG"
   ]
  },
  {
   "cell_type": "code",
   "execution_count": 93,
   "id": "c538e572-3421-4ba8-9a0f-5b4379eeef54",
   "metadata": {},
   "outputs": [
    {
     "name": "stderr",
     "output_type": "stream",
     "text": [
      "\u001b[36m\u001b[1m[ \u001b[22m\u001b[39m\u001b[36m\u001b[1mInfo: \u001b[22m\u001b[39mtrue\n",
      "\u001b[36m\u001b[1m[ \u001b[22m\u001b[39m\u001b[36m\u001b[1mInfo: \u001b[22m\u001b[39mfalse\n",
      "\u001b[36m\u001b[1m[ \u001b[22m\u001b[39m\u001b[36m\u001b[1mInfo: \u001b[22m\u001b[39mBijection{String,Schema} (with 1 pairs)\n"
     ]
    }
   ],
   "source": [
    "using Tables: Schema\n",
    "using Dates: Dates \n",
    "using Bijections: Bijection, inv\n",
    "# sch2 = \n",
    "# names(sch)\n",
    "# using Parquet2: showtree\n",
    "OHLCV_V1_specs = [\n",
    " :close;         Float64;;\n",
    " :high;          Float64;;\n",
    " :low;           Float64;;\n",
    " :open;          Float64;;\n",
    " :volume;        Int64;;\n",
    " :date;          Dates.DateTime;;\n",
    " :unix;          Int64;;\n",
    " :exchangeName;  String;;\n",
    " :timezone;      String;;\n",
    " :currency;      String;;\n",
    " :symbol;        String;;\n",
    "]\n",
    "\n",
    "specs2 = [\n",
    " :exchangeName;  String;;\n",
    " :timezone;      String;;\n",
    " :currency;      String;;\n",
    " :symbol;        String;;\n",
    " :close;         Float64;;\n",
    " :high;          Float64;;\n",
    " :low;           Float64;;\n",
    " :open;          Float64;;\n",
    " :volume;        Int64;;\n",
    " :date;          Dates.DateTime;;\n",
    " :unix;          Int64;;\n",
    "]\n",
    "sch2 = Schema(OHLCV_V1_specs[1,:],OHLCV_V1_specs[2,:])\n",
    "sch3 = Schema(specs2[1,:],specs2[2,:]) # Order of columns is important!\n",
    "\n",
    "@info sch2==sch # Equal\n",
    "@info sch3==sch # Not equal\n",
    "\n",
    "schemas = Dict(\n",
    "    \"OHLCV_V1\"=>Schema(OHLCV_V1_specs[1,:],OHLCV_V1_specs[2,:])\n",
    ")\n",
    "schemas = Dict{Schema,String}(\n",
    "    Schema(OHLCV_V1_specs[1,:],OHLCV_V1_specs[2,:])=>\"OHLCV_V1\"\n",
    ")\n",
    "schemas = Bijection{String,Schema}()\n",
    "schemas[\"OHLCV_V1\"] = Schema(OHLCV_V1_specs[1,:],OHLCV_V1_specs[2,:])\n",
    "@info schemas"
   ]
  },
  {
   "cell_type": "code",
   "execution_count": 94,
   "id": "4631af97-bd8d-4a8c-befa-31bdb499faf2",
   "metadata": {},
   "outputs": [
    {
     "data": {
      "text/plain": [
       "Tables.Schema:\n",
       " :close         Float64\n",
       " :high          Float64\n",
       " :low           Float64\n",
       " :open          Float64\n",
       " :volume        Int64\n",
       " :date          Dates.DateTime\n",
       " :unix          Int64\n",
       " :exchangeName  String\n",
       " :timezone      String\n",
       " :currency      String\n",
       " :symbol        String"
      ]
     },
     "execution_count": 94,
     "metadata": {},
     "output_type": "execute_result"
    }
   ],
   "source": [
    "# @info get(schemas,Tables.schema(data2),\"UNREGISTERED_SCHEMA\")\n",
    "# @info get(schemas,sch3,\"UNREGISTERED_SCHEMA\")\n",
    "schemas(Tables.schema(data2))\n",
    "inv(schemas)(\"OHLCV_V1\")"
   ]
  },
  {
   "cell_type": "code",
   "execution_count": 130,
   "id": "7ea0abda-bad7-4814-abbe-2c8b1ee5ba84",
   "metadata": {},
   "outputs": [
    {
     "data": {
      "text/plain": [
       "Main.Transform8"
      ]
     },
     "execution_count": 130,
     "metadata": {},
     "output_type": "execute_result"
    }
   ],
   "source": [
    "module Transform8\n",
    "export getSchema, addSchema\n",
    "\n",
    "using Tables: Schema\n",
    "using Dates: Dates\n",
    "using Bijections: Bijection, inv\n",
    "\n",
    "OHLCV_V1_specs = [\n",
    "    :close;         Float64;;\n",
    "    :high;          Float64;;\n",
    "    :low;           Float64;;\n",
    "    :open;          Float64;;\n",
    "    :volume;        Int64;;\n",
    "    :date;          Dates.DateTime;;\n",
    "    :unix;          Int64;;\n",
    "    :exchangeName;  String;;\n",
    "    :timezone;      String;;\n",
    "    :currency;      String;;\n",
    "    :symbol;        String;;\n",
    "   ]\n",
    "\n",
    "# Better implementation can be achieved by using Schemata.jl (left for ETL V2)\n",
    "schemas = Bijection{String,Schema}()\n",
    "getSchema(s::Schema)=get(inv(schemas),s,\"UNREGISTERED_SCHEMA\")\n",
    "getSchema(s::String)=get(schemas,s,nothing)\n",
    "function addSchema(name::String,schema::Schema)\n",
    "        schemas[name]=schema\n",
    "end\n",
    "addSchema(\"OHLCV_V1\",Schema(OHLCV_V1_specs[1,:],OHLCV_V1_specs[2,:]))\n",
    "\n",
    "end"
   ]
  },
  {
   "cell_type": "code",
   "execution_count": 165,
   "id": "c9982ff6-27c1-4565-9596-3bacc0f3b17b",
   "metadata": {},
   "outputs": [
    {
     "name": "stderr",
     "output_type": "stream",
     "text": [
      "\u001b[36m\u001b[1m[ \u001b[22m\u001b[39m\u001b[36m\u001b[1mInfo: \u001b[22m\u001b[39mStoring /root/project/.AirBorneCache/demo/2023_07_03_18_29_49_139.parq.snappy\n"
     ]
    },
    {
     "data": {
      "text/plain": [
       "\u001b[34m✏ \u001b[39mParquet2.FileWriter{IOStream}(/root/project/.AirBorneCache/demo/2023_07_03_18_29_49_139.parq.snappy)"
      ]
     },
     "execution_count": 165,
     "metadata": {},
     "output_type": "execute_result"
    }
   ],
   "source": [
    "import .Transform8: Transform8\n",
    "using Tables: schema\n",
    "T=Transform8\n",
    "# @info T.getSchema(sch)\n",
    "# @info T.getSchema(\"OHLCV_V1\")\n",
    "# @info T.getSchema(\"OHLCV_V2\")\n",
    "# # T.addSchema(\"OHLCV_V2\",sch3)\n",
    "# @info T.getSchema(\"OHLCV_V2\")\n",
    "# @info T.schemas\n",
    "# get(Transform5.schemas,\"OHLCV_V1\",nothing)\n",
    "# get(inv(Transform5.schemas),sch,nothing)\n",
    "\n",
    "\n",
    "# show(data)\n",
    "meta=Dict()\n",
    "meta[\"schema\"]= T.getSchema(schema(data))\n",
    "AirBorne.ETL.Cache.store_bundle(data;meta=meta, bundle_id=\"demo\", archive=true) \n"
   ]
  },
  {
   "cell_type": "code",
   "execution_count": 169,
   "id": "74d9a0e1-fc31-470e-a9e2-f2255775b66c",
   "metadata": {
    "tags": []
   },
   "outputs": [
    {
     "name": "stderr",
     "output_type": "stream",
     "text": [
      "\u001b[36m\u001b[1m[ \u001b[22m\u001b[39m\u001b[36m\u001b[1mInfo: \u001b[22m\u001b[39mDict{String, Any}(\"status\" => \"OK\", \"bundle\" => \"demo\", \"file\" => \"2023_07_03_18_29_49_139.parq.snappy\", \"is_archived\" => false, \"schema\" => \"OHLCV_V1\", \"storedDate\" => DateTime(\"2023-07-03T18:29:49.100\"))\n"
     ]
    },
    {
     "data": {
      "text/html": [
       "<div><div style = \"float: left;\"><span>12×6 DataFrame</span></div><div style = \"clear: both;\"></div></div><div class = \"data-frame\" style = \"overflow-x: scroll;\"><table class = \"data-frame\" style = \"margin-bottom: 6px;\"><thead><tr class = \"header\"><th class = \"rowNumber\" style = \"font-weight: bold; text-align: right;\">Row</th><th style = \"text-align: left;\">status</th><th style = \"text-align: left;\">bundle</th><th style = \"text-align: left;\">file</th><th style = \"text-align: left;\">is_archived</th><th style = \"text-align: left;\">schema</th><th style = \"text-align: left;\">storedDate</th></tr><tr class = \"subheader headerLastRow\"><th class = \"rowNumber\" style = \"font-weight: bold; text-align: right;\"></th><th title = \"String\" style = \"text-align: left;\">String</th><th title = \"String\" style = \"text-align: left;\">String</th><th title = \"String\" style = \"text-align: left;\">String</th><th title = \"Bool\" style = \"text-align: left;\">Bool</th><th title = \"String\" style = \"text-align: left;\">String</th><th title = \"DateTime\" style = \"text-align: left;\">DateTime</th></tr></thead><tbody><tr><td class = \"rowNumber\" style = \"font-weight: bold; text-align: right;\">1</td><td style = \"text-align: left;\">OK</td><td style = \"text-align: left;\">demo</td><td style = \"text-align: left;\">2023_07_03_18_29_49_139.parq.snappy</td><td style = \"text-align: right;\">false</td><td style = \"text-align: left;\">OHLCV_V1</td><td style = \"text-align: left;\">2023-07-03T18:29:49.100</td></tr><tr><td class = \"rowNumber\" style = \"font-weight: bold; text-align: right;\">2</td><td style = \"text-align: left;\">OK</td><td style = \"text-align: left;\">demo</td><td style = \"text-align: left;\">2023_06_09_19_41_53_457.parq.snappy</td><td style = \"text-align: right;\">true</td><td style = \"text-align: left;\">MISSING</td><td style = \"text-align: left;\">2023-06-09T19:41:53.400</td></tr><tr><td class = \"rowNumber\" style = \"font-weight: bold; text-align: right;\">3</td><td style = \"text-align: left;\">OK</td><td style = \"text-align: left;\">demo</td><td style = \"text-align: left;\">2023_06_11_20_26_37_681.parq.snappy</td><td style = \"text-align: right;\">true</td><td style = \"text-align: left;\">MISSING</td><td style = \"text-align: left;\">2023-06-11T20:26:37.600</td></tr><tr><td class = \"rowNumber\" style = \"font-weight: bold; text-align: right;\">4</td><td style = \"text-align: left;\">invalid parquet: buffer of length 4 is shorter than minimum size 12</td><td style = \"text-align: left;\">demo</td><td style = \"text-align: left;\">2023_06_22_12_28_57_227.parq.snappy</td><td style = \"text-align: right;\">true</td><td style = \"text-align: left;\">MISSING</td><td style = \"text-align: left;\">2023-06-22T12:28:57.200</td></tr><tr><td class = \"rowNumber\" style = \"font-weight: bold; text-align: right;\">5</td><td style = \"text-align: left;\">invalid parquet: buffer of length 4 is shorter than minimum size 12</td><td style = \"text-align: left;\">demo</td><td style = \"text-align: left;\">2023_06_22_12_30_33_667.parq.snappy</td><td style = \"text-align: right;\">true</td><td style = \"text-align: left;\">MISSING</td><td style = \"text-align: left;\">2023-06-22T12:30:33.600</td></tr><tr><td class = \"rowNumber\" style = \"font-weight: bold; text-align: right;\">6</td><td style = \"text-align: left;\">OK</td><td style = \"text-align: left;\">demo</td><td style = \"text-align: left;\">2023_06_22_12_30_43_121.parq.snappy</td><td style = \"text-align: right;\">true</td><td style = \"text-align: left;\">MISSING</td><td style = \"text-align: left;\">2023-06-22T12:30:43.100</td></tr><tr><td class = \"rowNumber\" style = \"font-weight: bold; text-align: right;\">7</td><td style = \"text-align: left;\">OK</td><td style = \"text-align: left;\">demo</td><td style = \"text-align: left;\">2023_07_02_18_31_35_022.parq.snappy</td><td style = \"text-align: right;\">true</td><td style = \"text-align: left;\">MISSING</td><td style = \"text-align: left;\">2023-07-02T18:31:35</td></tr><tr><td class = \"rowNumber\" style = \"font-weight: bold; text-align: right;\">8</td><td style = \"text-align: left;\">OK</td><td style = \"text-align: left;\">demo</td><td style = \"text-align: left;\">2023_07_02_18_32_10_265.parq.snappy</td><td style = \"text-align: right;\">true</td><td style = \"text-align: left;\">MISSING</td><td style = \"text-align: left;\">2023-07-02T18:32:10.200</td></tr><tr><td class = \"rowNumber\" style = \"font-weight: bold; text-align: right;\">9</td><td style = \"text-align: left;\">OK</td><td style = \"text-align: left;\">demo</td><td style = \"text-align: left;\">2023_07_02_18_32_49_343.parq.snappy</td><td style = \"text-align: right;\">true</td><td style = \"text-align: left;\">MISSING</td><td style = \"text-align: left;\">2023-07-02T18:32:49.300</td></tr><tr><td class = \"rowNumber\" style = \"font-weight: bold; text-align: right;\">10</td><td style = \"text-align: left;\">OK</td><td style = \"text-align: left;\">demo</td><td style = \"text-align: left;\">2023_07_03_11_28_45_495.parq.snappy</td><td style = \"text-align: right;\">true</td><td style = \"text-align: left;\">MISSING</td><td style = \"text-align: left;\">2023-07-03T11:28:45.400</td></tr><tr><td class = \"rowNumber\" style = \"font-weight: bold; text-align: right;\">11</td><td style = \"text-align: left;\">no file exists at &quot;/root/project/.AirBorneCache/demo/archive/2023_07_03_11_29_2_972.parq.snappy&quot;</td><td style = \"text-align: left;\">demo</td><td style = \"text-align: left;\">2023_07_03_11_29_2_972.parq.snappy</td><td style = \"text-align: right;\">true</td><td style = \"text-align: left;\">MISSING</td><td style = \"text-align: left;\">2023-07-03T11:29:02.970</td></tr><tr><td class = \"rowNumber\" style = \"font-weight: bold; text-align: right;\">12</td><td style = \"text-align: left;\">OK</td><td style = \"text-align: left;\">demo</td><td style = \"text-align: left;\">2023_07_03_17_1_1_324.parq.snappy</td><td style = \"text-align: right;\">true</td><td style = \"text-align: left;\">OHLCV_V1</td><td style = \"text-align: left;\">2023-07-03T17:01:01.324</td></tr></tbody></table></div>"
      ],
      "text/latex": [
       "\\begin{tabular}{r|cc}\n",
       "\t& status & \\\\\n",
       "\t\\hline\n",
       "\t& String & \\\\\n",
       "\t\\hline\n",
       "\t1 & OK & $\\dots$ \\\\\n",
       "\t2 & OK & $\\dots$ \\\\\n",
       "\t3 & OK & $\\dots$ \\\\\n",
       "\t4 & invalid parquet: buffer of length 4 is shorter than minimum size 12 & $\\dots$ \\\\\n",
       "\t5 & invalid parquet: buffer of length 4 is shorter than minimum size 12 & $\\dots$ \\\\\n",
       "\t6 & OK & $\\dots$ \\\\\n",
       "\t7 & OK & $\\dots$ \\\\\n",
       "\t8 & OK & $\\dots$ \\\\\n",
       "\t9 & OK & $\\dots$ \\\\\n",
       "\t10 & OK & $\\dots$ \\\\\n",
       "\t11 & no file exists at \"/root/project/.AirBorneCache/demo/archive/2023\\_07\\_03\\_11\\_29\\_2\\_972.parq.snappy\" & $\\dots$ \\\\\n",
       "\t12 & OK & $\\dots$ \\\\\n",
       "\\end{tabular}\n"
      ],
      "text/plain": [
       "\u001b[1m12×6 DataFrame\n",
       "\u001b[1m Row │\u001b[1m status                            \u001b[1m bundle \u001b[1m file                         ⋯\n",
       "     │\u001b[90m String                            \u001b[90m String \u001b[90m String                       ⋯\n",
       "─────┼──────────────────────────────────────────────────────────────────────────\n",
       "   1 │ OK                                 demo    2023_07_03_18_29_49_139.parq ⋯\n",
       "   2 │ OK                                 demo    2023_06_09_19_41_53_457.parq\n",
       "   3 │ OK                                 demo    2023_06_11_20_26_37_681.parq\n",
       "   4 │ invalid parquet: buffer of lengt…  demo    2023_06_22_12_28_57_227.parq\n",
       "   5 │ invalid parquet: buffer of lengt…  demo    2023_06_22_12_30_33_667.parq ⋯\n",
       "   6 │ OK                                 demo    2023_06_22_12_30_43_121.parq\n",
       "   7 │ OK                                 demo    2023_07_02_18_31_35_022.parq\n",
       "   8 │ OK                                 demo    2023_07_02_18_32_10_265.parq\n",
       "   9 │ OK                                 demo    2023_07_02_18_32_49_343.parq ⋯\n",
       "  10 │ OK                                 demo    2023_07_03_11_28_45_495.parq\n",
       "  11 │ no file exists at \"/root/project…  demo    2023_07_03_11_29_2_972.parq.\n",
       "  12 │ OK                                 demo    2023_07_03_17_1_1_324.parq.s\n",
       "\u001b[36m                                                               4 columns omitted"
      ]
     },
     "execution_count": 169,
     "metadata": {},
     "output_type": "execute_result"
    }
   ],
   "source": [
    "using AirBorne.ETL.Cache: get_cache_path\n",
    "using Parquet2: metadata\n",
    "using Dates: DateTime\n",
    "\n",
    "get_cache_path()\n",
    "\n",
    "function describe_bundles(;archive=false)\n",
    "   cp = get_cache_path()\n",
    "   bundles = readdir(cp; sort=false)\n",
    "   l=[]\n",
    "   # contents_to_read = [c for c in bundles]\n",
    "   for b=bundles\n",
    "        contents = readdir(joinpath(cp,b); sort=false) \n",
    "       f = [c for c in contents if c != \"archive\"]\n",
    "       filename=f[1]\n",
    "        status=\"OK\"\n",
    "       ds = Dataset(joinpath(cp,b,filename))\n",
    "       m=metadata(ds)\n",
    "       entry = Dict(\n",
    "            \"bundle\"=>b,\n",
    "            \"file\"=>filename,\n",
    "            \"schema\"=>get(m,\"schema\",\"MISSING\"),\n",
    "            \"storedDate\"=>DateTime(filename[1:21], \"yyyy_mm_dd_H_M_S_s\"),\n",
    "            \"is_archived\"=>false,\n",
    "            \"status\"=>status,\n",
    "        )\n",
    "        push!(l,entry)\n",
    "        \n",
    "       @info entry\n",
    "        if archive\n",
    "        archive_files = readdir(joinpath(cp,b,\"archive\"); sort=false)\n",
    "            for filename=archive_files\n",
    "               try\n",
    "               status=\"OK\"\n",
    "               ds = Dataset(joinpath(cp,b,\"archive\",filename))\n",
    "               m=metadata(ds)\n",
    "                catch e\n",
    "               status=e.msg\n",
    "               m=Dict()\n",
    "               end\n",
    "               entry = Dict(\n",
    "                    \"bundle\"=>b,\n",
    "                    \"file\"=>filename,\n",
    "                    \"schema\"=>get(m,\"schema\",\"MISSING\"),\n",
    "                    \"storedDate\"=>DateTime(filename[1:21], \"yyyy_mm_dd_H_M_S_s\"),\n",
    "                    \"is_archived\"=>true,\n",
    "                    \"status\"=>status,\n",
    "                )\n",
    "                push!(l,entry)\n",
    "                \n",
    "            end\n",
    "            \n",
    "        end\n",
    "        \n",
    "   end\n",
    "    \n",
    "    return l\n",
    "end\n",
    "DataFrame(describe_bundles(archive=true))"
   ]
  },
  {
   "cell_type": "code",
   "execution_count": 157,
   "id": "d4da29f5-3cdd-4125-ba8b-43b92cf9b063",
   "metadata": {},
   "outputs": [
    {
     "data": {
      "text/plain": [
       "2023-07-03T17:01:01.324"
      ]
     },
     "execution_count": 157,
     "metadata": {},
     "output_type": "execute_result"
    }
   ],
   "source": [
    "a= \"2023_07_03_17_1_1_324.parq.snappy\"\n",
    "\n",
    "a[1:21]\n"
   ]
  }
 ],
 "metadata": {
  "kernelspec": {
   "display_name": "Julia 1.8.5",
   "language": "julia",
   "name": "julia-1.8"
  },
  "language_info": {
   "file_extension": ".jl",
   "mimetype": "application/julia",
   "name": "julia",
   "version": "1.8.5"
  }
 },
 "nbformat": 4,
 "nbformat_minor": 5
}
