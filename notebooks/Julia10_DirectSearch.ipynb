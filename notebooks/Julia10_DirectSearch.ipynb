{
 "cells": [
  {
   "cell_type": "markdown",
   "id": "06594365-1842-4bc6-995a-2c9d7540fa4c",
   "metadata": {},
   "source": [
    "# DirectSearch\n",
    "\n",
    "> DirectSearch.jl provides a framework for the implementation of direct search algorithms, currently focusing on the Mesh Adaptive Direct Search (MADS) family. [DirectSearch Docs](https://imperialcollegelondon.github.io/DirectSearch.jl/dev/man/usage/)\n",
    "\n",
    "To use in combination with AirBorne one first need to add Direct Search Manually and then AirBorne\n",
    "```julia\n",
    "add https://github.com/ImperialCollegeLondon/DirectSearch.jl\n",
    "add \"https://github.com/JuDO-dev/AirBorne.jl#dev\"\n",
    "```\n"
   ]
  },
  {
   "cell_type": "code",
   "execution_count": 26,
   "id": "068a5b59-cefc-4d9e-8bdd-35922e7a9095",
   "metadata": {},
   "outputs": [],
   "source": [
    "using DirectSearch: DSProblem\n",
    "using DirectSearch: Optimize!\n",
    "using DirectSearch: SetInitialPoint, SetObjective, SetIterationLimit\n",
    "using DirectSearch: SetGranularity\n",
    "# using DirectSearch: SetVariableRange, SetVariableRanges # Doesn't work # UndefVarError: SetVariableRanges not defined\n"
   ]
  },
  {
   "cell_type": "code",
   "execution_count": 24,
   "id": "d2ccf9b8-5818-4bcb-8627-0cbfd466d4a6",
   "metadata": {},
   "outputs": [],
   "source": [
    "# p = DSProblem(3) # First parameter is the dimension of the problem\n",
    "\n",
    "obj(x) = x'*[2 1;1 4]*x + x'*[1;4] + 7 # Quadratic problem example\n",
    "\n",
    "# Parameters can be added at start\n",
    "# p = DSProblem(2; objective=obj, initial_point=[1.0,2.0])\n",
    "# Or Down the line\n",
    "p = DSProblem(2)\n",
    "SetInitialPoint(p, [1.0,2.0])\n",
    "SetObjective(p,obj)\n",
    "SetIterationLimit(p, 500)"
   ]
  },
  {
   "cell_type": "code",
   "execution_count": 29,
   "id": "54e76175-7615-470d-8096-b738462609b3",
   "metadata": {},
   "outputs": [
    {
     "ename": "LoadError",
     "evalue": "UndefVarError: SetVariableRange not defined",
     "output_type": "error",
     "traceback": [
      "UndefVarError: SetVariableRange not defined",
      ""
     ]
    }
   ],
   "source": [
    "\n",
    "using DirectSearch: SetVariableRange"
   ]
  },
  {
   "cell_type": "code",
   "execution_count": 30,
   "id": "8d9cea1b-f345-4a64-87bd-9621f3b92f6f",
   "metadata": {},
   "outputs": [
    {
     "ename": "LoadError",
     "evalue": "UndefVarError: SetVariableRanges not defined",
     "output_type": "error",
     "traceback": [
      "UndefVarError: SetVariableRanges not defined",
      ""
     ]
    }
   ],
   "source": [
    "\n",
    "using DirectSearch:  SetVariableRanges "
   ]
  },
  {
   "cell_type": "code",
   "execution_count": 31,
   "id": "298625f9-ddbe-4d69-a693-d144e1cc5e37",
   "metadata": {},
   "outputs": [
    {
     "ename": "LoadError",
     "evalue": "UndefVarError: SetVariableRanges not defined",
     "output_type": "error",
     "traceback": [
      "UndefVarError: SetVariableRanges not defined",
      "",
      "Stacktrace:",
      " [1] top-level scope",
      "   @ In[31]:4"
     ]
    }
   ],
   "source": [
    "\n",
    "# One can defina a scale factor when generating poll directions\n",
    "# SetVariableRange(p, i, 10000, 20000) # Set a particular index i\n",
    "SetVariableRanges(p, [10000, -5, -10000], [20000, 5, 10000]) # Set all directions simultaneously"
   ]
  },
  {
   "cell_type": "code",
   "execution_count": 25,
   "id": "82003d28-bfac-410c-8d13-b1c7931ad565",
   "metadata": {},
   "outputs": [
    {
     "name": "stdout",
     "output_type": "stream",
     "text": [
      "=======================================================================\n",
      "MADS Run Summary\n",
      "-----------------------------------------------------------------------\n",
      "Feasible Solution           [6.1856999213456325e-9, -0.500000010654587]\n",
      "Feasible Cost               6.0\n",
      "Infeasible Solution         nothing\n",
      "Infeasible Cost             nothing\n",
      "\n",
      "Iterations                  87\n",
      "Function Evaluations        342\n",
      "Cache hits                  7\n",
      "Optimization Status         Mesh Precision limit\n",
      "\n",
      "Runtime                     0.06964111328125\n",
      "Search Time                 1.9500000000000013e-5\n",
      "Poll Time                   0.0034472999999999995\n",
      "Blackbox Evaluation Time    0.0007466999999999998\n",
      "p.status = DirectSearch.Status{Float64}(342, 7, 87, nothing, nothing, DirectSearch.MeshPrecisionLimit, \"Mesh Precision limit\", 0.06964111328125, 1.9500000000000013e-5, 0.0034472999999999995, 0.0007466999999999998, 1.688378712570119e9, 0.0)\n",
      "p.x = [6.1856999213456325e-9, -0.500000010654587]\n",
      "Solution: [6.1856999213456325e-9, -0.500000010654587]\n",
      "Cost: 6.0\n"
     ]
    }
   ],
   "source": [
    "# Optimize problem\n",
    "Optimize!(p)\n",
    "@show p.status\n",
    "@show p.x\n",
    "println(\"Solution: $(p.x)\")\n",
    "println(\"Cost: $(p.x_cost)\")"
   ]
  },
  {
   "cell_type": "code",
   "execution_count": 12,
   "id": "1d11229d-8eef-4ee0-b72e-06852c453cd6",
   "metadata": {},
   "outputs": [
    {
     "name": "stdout",
     "output_type": "stream",
     "text": [
      "p.status = DirectSearch.Status{Float64}(360, 1, 90, nothing, nothing, DirectSearch.MeshPrecisionLimit, \"Mesh Precision limit\", 1.1566188335418701, 1.100000000000001e-5, 0.4541037999999997, 0.0017195999999999937, 1.688327943818824e9, 0.0)\n",
      "p.x = [-6.122477945226395e-9, -0.5000000154959735]\n",
      "Solution: [-6.122477945226395e-9, -0.5000000154959735]\n",
      "Cost: 6.000000000000001\n"
     ]
    }
   ],
   "source": []
  },
  {
   "cell_type": "code",
   "execution_count": 27,
   "id": "bfad1596-884e-4bb4-97c2-cf4fc2271adc",
   "metadata": {},
   "outputs": [
    {
     "name": "stdout",
     "output_type": "stream",
     "text": [
      "=================================================\n",
      "MADS Run Summary\n",
      "-------------------------------------------------\n",
      "Feasible Solution           [0.0, -0.5]\n",
      "Feasible Cost               6.0\n",
      "Infeasible Solution         nothing\n",
      "Infeasible Cost             nothing\n",
      "\n",
      "Iterations                  158\n",
      "Function Evaluations        486\n",
      "Cache hits                  148\n",
      "Optimization Status         Mesh Precision limit\n",
      "\n",
      "Runtime                     0.015262842178344727\n",
      "Search Time                 3.230000000000001e-5\n",
      "Poll Time                   0.01741870000000001\n",
      "Blackbox Evaluation Time    0.0010789999999999936\n",
      "p.status = DirectSearch.Status{Float64}(486, 148, 158, nothing, nothing, DirectSearch.MeshPrecisionLimit, \"Mesh Precision limit\", 0.015262842178344727, 3.230000000000001e-5, 0.01741870000000001, 0.0010789999999999936, 1.688378740846101e9, 0.0)\n",
      "p.x = [0.0, -0.5]\n",
      "Solution: [0.0, -0.5]\n",
      "Cost: 6.0\n"
     ]
    }
   ],
   "source": [
    "\n",
    "SetGranularity(p, Dict( 1 => 0.01, 2 => 0.01 ))\n",
    "Optimize!(p)\n",
    "@show p.status\n",
    "@show p.x\n",
    "println(\"Solution: $(p.x)\")\n",
    "println(\"Cost: $(p.x_cost)\")"
   ]
  },
  {
   "cell_type": "code",
   "execution_count": 13,
   "id": "62446cb0-f1e8-42ec-b745-b773fef5e9ec",
   "metadata": {},
   "outputs": [
    {
     "name": "stdout",
     "output_type": "stream",
     "text": [
      "======================================================================\n",
      "MADS Run Summary\n",
      "----------------------------------------------------------------------\n",
      "Feasible Solution           [0.10000000000002798, -0.5249941203387999]\n",
      "Feasible Cost               6.017500000138291\n",
      "Infeasible Solution         nothing\n",
      "Infeasible Cost             nothing\n",
      "\n",
      "Iterations                  253\n",
      "Function Evaluations        793\n",
      "Cache hits                  7\n",
      "Optimization Status         Mesh Precision limit\n",
      "\n",
      "Runtime                     0.06159710884094238\n",
      "Search Time                 4.290000000000003e-5\n",
      "Poll Time                   0.4710622999999997\n",
      "Blackbox Evaluation Time    0.002812499999999988\n",
      "p.status = DirectSearch.Status{Float64}(793, 7, 253, nothing, nothing, DirectSearch.MeshPrecisionLimit, \"Mesh Precision limit\", 0.06159710884094238, 4.290000000000003e-5, 0.4710622999999997, 0.002812499999999988, 1.688328447051015e9, 0.0)\n",
      "p.x = [0.10000000000002798, -0.5249941203387999]\n",
      "Solution: [0.10000000000002798, -0.5249941203387999]\n",
      "Cost: 6.017500000138291\n"
     ]
    }
   ],
   "source": [
    "# Adding Constraints\n",
    "\n",
    "using DirectSearch: AddExtremeConstraint\n",
    "# Constraints are functions on the optimization variable\n",
    "cons(x) = x[1] > 0.1 #Constrains x[1] to be larger than 0 # \n",
    "AddExtremeConstraint(p, cons) # Extreme barrier constraints are constraints that cannot be violated\n",
    "Optimize!(p)\n",
    "@show p.status\n",
    "@show p.x\n",
    "println(\"Solution: $(p.x)\")\n",
    "println(\"Cost: $(p.x_cost)\")"
   ]
  },
  {
   "cell_type": "code",
   "execution_count": 14,
   "id": "a1871b23-cb87-48de-93d7-557118c07bf8",
   "metadata": {},
   "outputs": [
    {
     "name": "stdout",
     "output_type": "stream",
     "text": [
      "======================================================================\n",
      "MADS Run Summary\n",
      "----------------------------------------------------------------------\n",
      "Feasible Solution           [0.10000000000002798, -0.5249941203387999]\n",
      "Feasible Cost               6.017500000138291\n",
      "Infeasible Solution         [0.700000000000028, 1.4750058796612002]\n",
      "Infeasible Cost             25.347601130311112\n",
      "\n",
      "Iterations                  284\n",
      "Function Evaluations        865\n",
      "Cache hits                  8\n",
      "Optimization Status         Mesh Precision limit\n",
      "\n",
      "Runtime                     0.16787004470825195\n",
      "Search Time                 4.8000000000000076e-5\n",
      "Poll Time                   0.6046570999999997\n",
      "Blackbox Evaluation Time    0.0029387999999999906\n",
      "p.status = DirectSearch.Status{Float64}(865, 8, 284, nothing, nothing, DirectSearch.MeshPrecisionLimit, \"Mesh Precision limit\", 0.16787004470825195, 4.8000000000000076e-5, 0.6046570999999997, 0.0029387999999999906, 1.688328678836792e9, 0.0)\n",
      "p.x = [0.10000000000002798, -0.5249941203387999]\n",
      "Solution: [0.10000000000002798, -0.5249941203387999]\n",
      "Cost: 6.017500000138291\n"
     ]
    }
   ],
   "source": [
    "\n",
    "using DirectSearch: AddProgressiveConstraint\n",
    "# These are similar to soft constraints (≤0 for feasible, >0 for infeasible)\n",
    "#Progressive barrier constraints may be violated, transforming the optimization into a dual-objective form that attempts to decrease the amount that the constraint is violated by\n",
    "cons2(x) = x[2]  #Constrains x[2] to be larger than 0  \n",
    "AddProgressiveConstraint(p, cons2) # Extreme barrier constraints are constraints that cannot be violated\n",
    "Optimize!(p)\n",
    "@show p.status\n",
    "@show p.x\n",
    "println(\"Solution: $(p.x)\")\n",
    "println(\"Cost: $(p.x_cost)\")"
   ]
  },
  {
   "cell_type": "markdown",
   "id": "d1433176-0448-4b9b-ae78-953fd676a365",
   "metadata": {},
   "source": [
    "# Julia Features Test"
   ]
  },
  {
   "cell_type": "markdown",
   "id": "a3cf236e-7d39-49af-bed1-ff16b25730e8",
   "metadata": {},
   "source": [
    "### Function preloading"
   ]
  },
  {
   "cell_type": "code",
   "execution_count": 17,
   "id": "e54eff11-51b8-47a6-9a6b-af3309165c85",
   "metadata": {},
   "outputs": [
    {
     "name": "stdout",
     "output_type": "stream",
     "text": [
      "Default\n",
      "Hi\n"
     ]
    },
    {
     "name": "stderr",
     "output_type": "stream",
     "text": [
      "\u001b[36m\u001b[1m[ \u001b[22m\u001b[39m\u001b[36m\u001b[1mInfo: \u001b[22m\u001b[39mtrue\n"
     ]
    }
   ],
   "source": [
    "function demo(;msg::String=\"Default\")\n",
    "    println(msg)\n",
    "end\n",
    "demo()\n",
    "demo(;msg=\"Hi\")\n",
    "demo2() = demo(;msg=\"Hi2\")\n",
    "@info typeof(demo2) <: Function\n"
   ]
  },
  {
   "cell_type": "code",
   "execution_count": 18,
   "id": "093a8b24-ea6b-4aa2-b309-d3ac1b8cd514",
   "metadata": {},
   "outputs": [
    {
     "name": "stdout",
     "output_type": "stream",
     "text": [
      "Hi2\n"
     ]
    }
   ],
   "source": [
    "demo2()"
   ]
  },
  {
   "cell_type": "code",
   "execution_count": 21,
   "id": "fd7ec2bb-a560-4741-be9e-0adf424aebf1",
   "metadata": {},
   "outputs": [
    {
     "name": "stderr",
     "output_type": "stream",
     "text": [
      "\u001b[36m\u001b[1m[ \u001b[22m\u001b[39m\u001b[36m\u001b[1mInfo: \u001b[22m\u001b[39m5\n",
      "\u001b[36m\u001b[1m[ \u001b[22m\u001b[39m\u001b[36m\u001b[1mInfo: \u001b[22m\u001b[39m4\n"
     ]
    }
   ],
   "source": [
    "function add(x,y)\n",
    "    return x+y\n",
    "end\n",
    "\n",
    "increment(x) = add(x,1)\n",
    "@info add(2,3)\n",
    "@info increment(3)"
   ]
  }
 ],
 "metadata": {
  "kernelspec": {
   "display_name": "Julia 1.8.5",
   "language": "julia",
   "name": "julia-1.8"
  },
  "language_info": {
   "file_extension": ".jl",
   "mimetype": "application/julia",
   "name": "julia",
   "version": "1.8.5"
  }
 },
 "nbformat": 4,
 "nbformat_minor": 5
}
