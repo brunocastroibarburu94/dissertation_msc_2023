{
 "cells": [
  {
   "cell_type": "markdown",
   "id": "06594365-1842-4bc6-995a-2c9d7540fa4c",
   "metadata": {},
   "source": [
    "# Markowitz\n",
    "\n",
    "To use in combination with AirBorne one first need to add Direct Search Manually and then AirBorne\n",
    "```julia\n",
    "add https://github.com/ImperialCollegeLondon/DirectSearch.jl\n",
    "add \"https://github.com/JuDO-dev/AirBorne.jl#dev\"\n",
    "add \"https://github.com/JuDO-dev/AirBorne.jl#sma\"\n",
    "```\n",
    "\n",
    "Once a module is added for the first time in order to refresh or switch the branch the command changes to:\n",
    "\n",
    "```julia\n",
    "add AirBorne#sma\n",
    "```"
   ]
  },
  {
   "cell_type": "markdown",
   "id": "d1433176-0448-4b9b-ae78-953fd676a365",
   "metadata": {
    "tags": []
   },
   "source": [
    "# Julia Features Test"
   ]
  },
  {
   "cell_type": "markdown",
   "id": "a3cf236e-7d39-49af-bed1-ff16b25730e8",
   "metadata": {
    "tags": []
   },
   "source": [
    "## Draft\n",
    "The first step is to simply write the trading functions as a draft outside any module, test them and evaluate if the functions behave as expected. Since this is the first strategy for **production** metrics are also going to be put forward.\n",
    "\n",
    "Therefore by the end of this Notebook code for several submodules is going to be developed\n",
    "\n",
    "**Portfolio Calculations**\n",
    "\n",
    "A question to solve is how the computation coming from the portfolio are stored? A simple answer would be inside the *extras* key of the **context** variable. Not all strategies may make use of portfolio calculations (like total value of portfolio), therefore an optional nature of its storage seems to be desirable.\n",
    "\n",
    "**Metrics**\n",
    "1. Returns: Given a series of stockprice calculate the returns\n",
    "3. Variance & Covariance: Of Portfolio and individual assets.\n",
    "2. Sharpe: "
   ]
  },
  {
   "cell_type": "markdown",
   "id": "589bf0b1-2e73-44ad-ae2a-82a5f3117067",
   "metadata": {},
   "source": [
    "### Utils.jl"
   ]
  },
  {
   "cell_type": "code",
   "execution_count": 68,
   "id": "8c127742-eb75-4f4b-af0e-6a708ac2b0e2",
   "metadata": {},
   "outputs": [
    {
     "data": {
      "text/plain": [
       "get_latest_N (generic function with 2 methods)"
      ]
     },
     "execution_count": 68,
     "metadata": {},
     "output_type": "execute_result"
    }
   ],
   "source": [
    "using DataFrames: SubDataFrame,DataFrame\n",
    "function get_latest_N(sdf::Union{SubDataFrame,DataFrame},by::Symbol,N::Int64; rev=false,fields::Vector=[])\n",
    "    fields = fields==[] ? names(sdf) : fields\n",
    "    sorted=sort(sdf,by;rev=rev)\n",
    "    return DataFrame(Dict([x=>first(sorted[!,x],N) for x in fields]))\n",
    "end"
   ]
  },
  {
   "cell_type": "markdown",
   "id": "b07abc7b-754c-4e28-801f-ae4ff22b419a",
   "metadata": {},
   "source": [
    "### NASDAQ.jl"
   ]
  },
  {
   "cell_type": "code",
   "execution_count": 15,
   "id": "cbc75b92-041e-4356-98f4-6675de2c6619",
   "metadata": {},
   "outputs": [
    {
     "data": {
      "text/plain": [
       "screener (generic function with 1 method)"
      ]
     },
     "execution_count": 15,
     "metadata": {},
     "output_type": "execute_result"
    }
   ],
   "source": [
    "# NASDAQ.jl\n",
    "# ModulePath: Airborne.ETL.NASDAQ\n",
    "\n",
    "using HTTP: HTTP\n",
    "using JSON: JSON\n",
    "using DataFrames: DataFrame\n",
    "\"\"\"\n",
    "    screener()\n",
    "\n",
    "    Returns the data from  [NASDAQ's screner page](https://www.nasdaq.com/market-activity/stocks/screener).\n",
    "\n",
    "    It provides a simple way also of getting a relatively large amount of US tickers.\n",
    "\"\"\"\n",
    "function screener()\n",
    "    url=\"https://api.nasdaq.com/api/screener/stocks?tableonly=true&offset=0&download=true\"\n",
    "    r = HTTP.request(\"GET\", url)\n",
    "    body = deepcopy(r.text)\n",
    "    resp_json = JSON.parse(String(body))\n",
    "    out = DataFrame(resp_json[\"data\"][\"rows\"])\n",
    "    return out\n",
    "end"
   ]
  },
  {
   "cell_type": "markdown",
   "id": "4ccb5a3b-f9c0-401d-bc78-2f388bd02f7e",
   "metadata": {
    "tags": []
   },
   "source": [
    "### Markowitz.jl"
   ]
  },
  {
   "cell_type": "code",
   "execution_count": 127,
   "id": "d3a628d2-157f-4117-944b-454d3b419caa",
   "metadata": {},
   "outputs": [
    {
     "data": {
      "text/plain": [
       "mwz_trading_logic! (generic function with 1 method)"
      ]
     },
     "execution_count": 127,
     "metadata": {},
     "output_type": "execute_result"
    }
   ],
   "source": [
    "# SMA.jl\n",
    "# ModulePath: Airborne.Strategies.Markowitz\n",
    "\n",
    "# using ...Utils: sortedStructInsert!\n",
    "# using ...Structures: ContextTypeA, TimeEvent\n",
    "# using ...Markets.StaticMarket: Order, place_order!\n",
    "\n",
    "using  AirBorne.Utils: sortedStructInsert!\n",
    "using  AirBorne.Structures: ContextTypeA, TimeEvent\n",
    "using  AirBorne.Markets.StaticMarket: Order, place_order!\n",
    "using Dates: Day, year\n",
    "using DataFrames: DataFrame, groupby, combine, mean\n",
    "using DotMaps: DotMap\n",
    "using DirectSearch: \n",
    "    DSProblem, Optimize!, SetInitialPoint, SetObjective, SetIterationLimit, SetGranularity, AddExtremeConstraint, AddProgressiveConstraint\n",
    "\n",
    "\"\"\"\n",
    "\n",
    "    The Markowitz strategy lies in obtaining a portfolio distribution that given past historical data\n",
    "    the average return of each ticker is calculated with the covariance between the \n",
    "\n",
    "\"\"\"\n",
    "\n",
    "function mwz_initialize!(context::ContextTypeA; horizon::Real=30, initialCapital::Real=10^5, min_growth::Real=0.001)\n",
    "    \n",
    "    ###################################\n",
    "    ####  Parameters & Structures  ####\n",
    "    ###################################\n",
    "    context.extra.horizon = horizon\n",
    "    \n",
    "    context.extra.valueHistory=DataFrame()\n",
    "    context.extra.returnHistory=DataFrame()\n",
    "    context.extra.currentValue=DataFrame()\n",
    "    context.extra.pastValue=DataFrame()\n",
    "    \n",
    "    context.extra.idealPortfolioDistribution =[]\n",
    "    context.extra.min_growth=min_growth\n",
    "    \n",
    "    ###################################\n",
    "    ####  Specify Account Balance  ####\n",
    "    ###################################\n",
    "    context.accounts.usd = DotMap(Dict())\n",
    "    context.accounts.usd.balance = initialCapital\n",
    "    context.accounts.usd.currency = \"USD\"\n",
    "    \n",
    "    #########################################\n",
    "    ####  Define first simulation event  ####\n",
    "    #########################################\n",
    "    # Define First Event (Assumming the first event starts from the data\n",
    "    # The first even should be at least as long as the long horizon)\n",
    "    next_event_date = context.current_event.date\n",
    "    new_event = TimeEvent(next_event_date, \"data_transfer\")\n",
    "    sortedStructInsert!(context.eventList, new_event, :date)\n",
    "    return nothing\n",
    "end\n",
    "\n",
    "\n",
    "function mwz_trading_logic!(context::ContextTypeA, data::DataFrame; tune_parameters::Dict=Dict())\n",
    "    # 1. Specify next event (precalculations can be specified here) \n",
    "    next_event_date = context.current_event.date + Day(1)\n",
    "    new_event = TimeEvent(next_event_date, \"data_transfer\")\n",
    "    sortedStructInsert!(context.eventList, new_event, :date)\n",
    "    \n",
    "    # 2. Generate orders and  place orders\n",
    "    # 2.1 Update data\n",
    "    if size(data,1)==0 # No New data, nothing to do\n",
    "        return nothing \n",
    "    end\n",
    "    context.extra.pastValue=context.extra.currentValue\n",
    "    context.extra.currentValue=stockValuation(data)\n",
    "    [push!(context.extra.valueHistory,r) for r=eachrow(context.extra.currentValue)]\n",
    "    \n",
    "    if size(context.extra.pastValue,1)>0 # Add new data to history record\n",
    "        r1 = returns(vcat(context.extra.pastValue,context.extra.currentValue))\n",
    "        push!(context.extra.returnHistory,r1[end,:])\n",
    "    end\n",
    "\n",
    "    # 2.2 Calculate Statistics\n",
    "    if size(context.extra.returnHistory,1)<context.extra.horizon\n",
    "        return nothing # Not enough history data to \n",
    "    end\n",
    "    \n",
    "    d = context.extra.returnHistory[end-context.extra.horizon+1:end,:]\n",
    "    M = covariance(d) # Covariance Matrix\n",
    "    m = mean(Matrix(d[!,Not([\"date\",\"stockReturns\"])]),dims=1)\n",
    "    max_return,ix = findmax(m)\n",
    "    if max_return>context.extra.min_growth # Feasible problem\n",
    "    # 2.3 Solve Optimization problem\n",
    "        if context.extra.idealPortfolioDistribution==[]\n",
    "            initial_point = zeros(size(m))\n",
    "            initial_point[ix]=1.0\n",
    "        else\n",
    "            initial_point = context.extra.idealPortfolioDistribution \n",
    "        end\n",
    "\n",
    "        upper_cons(x) = all(x .<= 1) \n",
    "        lower_cons(x) = all(x .>= 0) \n",
    "        min_return(x) = context.extra.min_growth-(m*x)[1] # I want at least a 0.1% return in 1 day \n",
    "        obj(x) = x'*M*x \n",
    "\n",
    "        p = DSProblem(length(m))\n",
    "        SetGranularity(p, Dict( [i => 0.001 for i=1:length(m)] ))\n",
    "        SetObjective(p,obj)\n",
    "        AddProgressiveConstraint(p, min_return)\n",
    "        AddExtremeConstraint(p, upper_cons)\n",
    "        AddExtremeConstraint(p, lower_cons)\n",
    "        SetInitialPoint(p,vec([ i for i =initial_point]))\n",
    "        Optimize!(p)\n",
    "        context.extra.idealPortfolioDistribution = p.x\n",
    "    else\n",
    "        context.extra.idealPortfolioDistribution = zeros(size(m)) # Sell absolutely everytihng. Market is going down.\n",
    "    end\n",
    "    check=false\n",
    "    if isnothing(context.extra.idealPortfolioDistribution) # Feasible solution not found!, sell all\n",
    "        context.extra.idealPortfolioDistribution = zeros(size(m))\n",
    "        check=true\n",
    "    end\n",
    "    \n",
    "    # 2.4 Calculate shares to buy and sell to achieve optimal portfolio\n",
    "    asset_names = names(context.extra.currentValue)[2:end-1]\n",
    "    cv=reshape(Matrix(context.extra.currentValue)[2:end-1], (length(asset_names))) # Current value per share for ticker\n",
    "    if length(context.portfolio)==0 # Obtain vector with current portfolio\n",
    "        context.portfolio = Dict([name=>0.0 for name in names(context.extra.currentValue)][2:end-1])\n",
    "    end\n",
    "    currentPortfolio = reshape(Matrix(DataFrame(context.portfolio)), (length(asset_names)))\n",
    "    total_capital = context.accounts.usd.balance + (currentPortfolio'*cv)[1] # Total capital to distribute \n",
    "    if check \n",
    "        @info \"Check:\" context.extra.idealPortfolioDistribution total_capital cv\n",
    "        @info \"Check:\" size(context.extra.idealPortfolioDistribution)  size(total_capital) size(cv)\n",
    "        \n",
    "        @info context.extra.idealPortfolioDistribution.*total_capital\n",
    "        @info [context.extra.idealPortfolioDistribution[i] * total_capital / cv[i] for i=1:length(cv)]\n",
    "    end\n",
    "    # nextPortfolio =  reshape(context.extra.idealPortfolioDistribution.*total_capital ./ cv, (length(asset_names))) # Amount of shares to have of each ticker\n",
    "    nextPortfolio =  reshape([context.extra.idealPortfolioDistribution[i] * total_capital / cv[i] for i=1:length(cv)], (length(asset_names))) # Amount of shares to have of each ticker\n",
    "    portfolioDiff=nextPortfolio-currentPortfolio\n",
    "    \n",
    "    # Summarize\n",
    "    diffDf=DataFrame(Dict([\"symbol\"=>asset_names,\"diff\"=>portfolioDiff,\"cv\"=>cv]))\n",
    "    diffDf[!,\"total\"]= diffDf.diff.*diffDf.cv\n",
    "    diffDf=diffDf[diffDf.diff.!=0,:] # Keep only non-zero values\n",
    "    sort!(diffDf[diffDf.diff.!=0,:],:total) # Sort such that largest sells happen first, and largest buy's later\n",
    "    \n",
    "    # 2.5 Produce and place orders\n",
    "    for r=eachrow(diffDf)\n",
    "            market,ticker= split(r.symbol,\"/\")\n",
    "            order_specs = DotMap(Dict())\n",
    "            order_specs.ticker = String(ticker)\n",
    "            order_specs.shares = r.diff # Number of shares to buy/sell\n",
    "            order_specs.type = \"MarketOrder\"\n",
    "            order_specs.account = context.accounts.usd\n",
    "            order = Order(String(market), order_specs)\n",
    "            place_order!(context,order) \n",
    "    end\n",
    "    return nothing\n",
    "end\n"
   ]
  },
  {
   "cell_type": "markdown",
   "id": "0ef79cc6-bb12-4aea-bf25-eda3219c500b",
   "metadata": {
    "tags": []
   },
   "source": [
    "## Test"
   ]
  },
  {
   "cell_type": "markdown",
   "id": "fcc19677-455e-40f5-9872-62548a9d1a35",
   "metadata": {},
   "source": [
    "### Add Data"
   ]
  },
  {
   "cell_type": "markdown",
   "id": "2068ea7c-a6cd-46db-bb62-7b8831162808",
   "metadata": {},
   "source": [
    "# Using AirBorne"
   ]
  },
  {
   "cell_type": "code",
   "execution_count": null,
   "id": "58404b61-e66d-4e0f-8009-b7053745d982",
   "metadata": {},
   "outputs": [],
   "source": [
    "\n"
   ]
  },
  {
   "cell_type": "code",
   "execution_count": null,
   "id": "db8143f9-ce93-4083-9a9d-138719405de4",
   "metadata": {},
   "outputs": [],
   "source": [
    "\n",
    "from = DateTime(\"2017-01-01\"); to = DateTime(\"2022-01-01\")\n",
    "u_from = string(round(Int, datetime2unix(from))); u_to = string(round(Int, datetime2unix(to)))\n",
    "data = get_interday_data([\"AAPL\",\"GOOG\"], u_from, u_to)\n"
   ]
  },
  {
   "cell_type": "code",
   "execution_count": 5,
   "id": "61f9e2fc-58f1-4515-84e4-00f5846570da",
   "metadata": {},
   "outputs": [
    {
     "data": {
      "text/plain": [
       "HTTP.Messages.Response:\n",
       "\"\"\"\n",
       "HTTP/1.1 200 OK\r\n",
       "content-type: application/json;charset=utf-8\r\n",
       "vary: Origin,Accept-Encoding\r\n",
       "cache-control: public, max-age=10, stale-while-revalidate=20\r\n",
       "y-rid: 183ovn5ib0mu0\r\n",
       "x-yahoo-request-id: 183ovn5ib0mu0\r\n",
       "x-request-id: a2ec76e9-f83e-4404-8d76-d29d6672e3ad\r\n",
       "content-encoding: gzip\r\n",
       "x-envoy-upstream-service-time: 14\r\n",
       "date: Thu, 13 Jul 2023 20:17:04 GMT\r\n",
       "server: ATS\r\n",
       "x-envoy-decorator-operation: finance-chart-api--mtls-baseline-production-ir2.finance-k8s.svc.yahoo.local:4080/*\r\n",
       "Age: 0\r\n",
       "Strict-Transport-Security: max-age=31536000\r\n",
       "Referrer-Policy: no-referrer-when-downgrade\r\n",
       "X-Frame-Options: SAMEORIGIN\r\n",
       "Transfer-Encoding: chunked\r\n",
       "Connection: keep-alive\r\n",
       "Expect-CT: max-age=31536000, report-uri=\"http://csp.yahoo.com/beacon/csp?src=yahoocom-expect-ct-report-only\"\r\n",
       "X-XSS-Protection: 1; mode=block\r\n",
       "X-Content-Type-Options: nosniff\r\n",
       "\r\n",
       "{\"chart\":{\"result\":[{\"meta\":{\"currency\":\"USD\",\"symbol\":\"GC=F\",\"exchangeName\":\"CMX\",\"instrumentType\":\"FUTURE\",\"firstTradeDate\":967608000,\"regularMarketTime\":1689278811,\"gmtoffset\":-14400,\"timezone\":\"EDT\",\"exchangeTimezoneName\":\"America/New_York\",\"regularMarketPrice\":1964.8,\"chartPreviousClose\":1150.0,\"priceHint\":2,\"currentTradingPeriod\":{\"pre\":{\"timezone\":\"EDT\",\"start\":1689220800,\"end\":1689220800,\"gmtoffset\":-14400},\"regular\":{\"timezone\":\"EDT\",\"start\":1689220800,\"end\":1689307140,\"gmtoffset\":-14400},\"post\":{\"timezone\":\"EDT\",\"start\":1689307140,\"end\":1689307140,\"gmtoffset\":-14400}},\"dataGranularity\":\"1d\",\"range\":\"\",\"validRanges\":[\"1d\",\"5d\",\"1mo\",\"3mo\",\"6mo\",\"1y\",\"2y\",\"5y\",\"10y\",\"ytd\",\"max\"]},\"timestamp\":[1483419600,1483506000,1483592400,1483678800,1483938000,1484024400,1484110800,1484197200,1484283600,1484629200,1484715600,1484802000,1484888400,1485147600,1485234000,1485320400,1485406800,1485493200,1485752400,1485838800,1485925200,1486011600,1486098000,1486357200,1486443600,1486530000,1486\n",
       "⋮\n",
       "119573-byte body\n",
       "\"\"\""
      ]
     },
     "execution_count": 5,
     "metadata": {},
     "output_type": "execute_result"
    }
   ],
   "source": [
    "# If data needs to be generated\n",
    "using AirBorne.ETL.YFinance: get_interday_data,get_chart_data\n",
    "using AirBorne.ETL.Cache: load_bundle, store_bundle\n",
    "using Dates: DateTime,datetime2unix\n",
    "bundle_id=\"Mark1\"\n",
    "cache_dir = joinpath(@__DIR__, \"assets\", \"cache\")\n",
    "# To generate this data use:\n",
    "from = DateTime(\"2017-01-01\"); to = DateTime(\"2022-01-01\")\n",
    "u_from = string(round(Int, datetime2unix(from))); u_to = string(round(Int, datetime2unix(to)))\n",
    "# data = get_interday_data([\"GC=F\"], u_from, u_to)\n",
    "r = get_chart_data(\"GC=F\", u_from, u_to, \"1d\")\n",
    "\n",
    "# For some reason  the column type is still \"Any\". Minor bug but annoying. \n",
    "# data[!,:close]=float.(data[!,:close])\n",
    "# data[!,:high]=float.(data[!,:high])\n",
    "# data[!,:low]=float.(data[!,:low])\n",
    "# data[!,:open]=float.(data[!,:open])\n",
    "# data[!,:unix]=Int.(data[!,:unix])\n",
    "# data[!,:volume]=Int.(data[!,:volume])\n",
    "\n",
    "# data[!,\"assetID\"] = data.exchangeName .* \"/\" .* data.symbol\n",
    "# show(data)\n",
    "# store_bundle(data; bundle_id=bundle_id, archive=true) \n"
   ]
  },
  {
   "cell_type": "code",
   "execution_count": 22,
   "id": "ec1497a2-2cb3-4425-bb9f-80f37a08cf94",
   "metadata": {},
   "outputs": [
    {
     "name": "stderr",
     "output_type": "stream",
     "text": [
      "\u001b[36m\u001b[1m[ \u001b[22m\u001b[39m\u001b[36m\u001b[1mInfo: \u001b[22m\u001b[39mStoring /root/project/notebooks/assets/cache/Mark1/2023_07_14_21_43_16_887.parq.snappy\n"
     ]
    },
    {
     "data": {
      "text/plain": [
       "\u001b[34m✏ \u001b[39mParquet2.FileWriter{IOStream}(/root/project/notebooks/assets/cache/Mark1/2023_07_14_21_43_16_887.parq.snappy)"
      ]
     },
     "execution_count": 22,
     "metadata": {},
     "output_type": "execute_result"
    }
   ],
   "source": [
    "# Float64.(tickers_df.ipoyear)\n",
    "# Pre 2017 Symbols\n",
    "using DataFrames: groupby, combine\n",
    "\n",
    "########################################################\n",
    "###    Pick the 5 most traded companies per sector   ###\n",
    "########################################################\n",
    "using AirBorne.ETL.NASDAQ: screener\n",
    "using AirBorne.Utils: get_latest_N\n",
    "tickers_df = screener()\n",
    "filtered_df =tickers_df[[   x!=\"\" ? parse(Int64, x)<2016 : false for x in tickers_df.ipoyear],[\"symbol\",\"marketCap\",\"sector\",\"volume\"]]\n",
    "filtered_df[!,\"volume\"]=parse.(Int64,filtered_df[!,\"volume\"])\n",
    "filtered_df[!,\"marketCap\"]=parse.(Float64,filtered_df[!,\"marketCap\"])\n",
    "grouped_df = groupby(filtered_df,\"sector\")\n",
    "f(sdf)= get_latest_N(sdf,:volume,5;rev=true)\n",
    "result = combine(grouped_df,f)\n",
    "\n",
    "#####################################################\n",
    "###    Extract interday date from Yahoo Finance   ###\n",
    "#####################################################\n",
    "using AirBorne.ETL.Cache: store_bundle\n",
    "bundle_id=\"Mark1\"\n",
    "cache_dir = joinpath(@__DIR__, \"assets\", \"cache\")\n",
    "# To generate the \"demo\" data use:\n",
    "using AirBorne.ETL.YFinance: get_interday_data\n",
    "using AirBorne.ETL.Cache: store_bundle\n",
    "using Dates: DateTime, datetime2unix\n",
    "from = DateTime(\"2017-01-01\"); to = DateTime(\"2022-01-01\")\n",
    "u_from = string(round(Int, datetime2unix(from)));\n",
    "u_to = string(round(Int, datetime2unix(to)))\n",
    "data = get_interday_data(result.symbol, u_from, u_to)\n",
    "store_bundle(data; bundle_id=bundle_id, archive=true, cache_dir=cache_dir)"
   ]
  },
  {
   "cell_type": "code",
   "execution_count": 2,
   "id": "cc9fc1b4-d144-4a18-ab3f-f92d2d6ee910",
   "metadata": {},
   "outputs": [
    {
     "name": "stderr",
     "output_type": "stream",
     "text": [
      "\u001b[36m\u001b[1m[ \u001b[22m\u001b[39m\u001b[36m\u001b[1mInfo: \u001b[22m\u001b[39mDone\n"
     ]
    }
   ],
   "source": [
    "using AirBorne.ETL.Cache: load_bundle\n",
    "bundle_id=\"Mark1\"\n",
    "cache_dir = joinpath(@__DIR__, \"assets\", \"cache\")\n",
    "og_data=load_bundle(bundle_id;cache_dir=cache_dir)\n",
    "@info \"Done\""
   ]
  },
  {
   "cell_type": "code",
   "execution_count": 5,
   "id": "a8ef55e8-9768-47eb-85e2-0110e4fb9009",
   "metadata": {},
   "outputs": [
    {
     "name": "stdout",
     "output_type": "stream",
     "text": [
      "\u001b[1m1×67 DataFrame\n",
      "\u001b[1m Row │\u001b[1m date                \u001b[1m NCM/GEVO \u001b[1m NYQ/CNHI \u001b[1m NMS/PACB \u001b[1m NYQ/UPS  \u001b[1m NYQ/CF   \u001b[1m  ⋯\n",
      "     │\u001b[90m DateTime            \u001b[90m Float64? \u001b[90m Float64? \u001b[90m Float64? \u001b[90m Float64? \u001b[90m Float64? \u001b[90m  ⋯\n",
      "─────┼──────────────────────────────────────────────────────────────────────────\n",
      "   1 │ 2017-01-03T10:30:00      68.0      8.69      4.36    115.08     31.87   ⋯\n",
      "\u001b[36m                                                              61 columns omitted"
     ]
    },
    {
     "name": "stderr",
     "output_type": "stream",
     "text": [
      "\u001b[36m\u001b[1m[ \u001b[22m\u001b[39m\u001b[36m\u001b[1mInfo: \u001b[22m\u001b[39mSkip\n",
      "\u001b[36m\u001b[1m[ \u001b[22m\u001b[39m\u001b[36m\u001b[1mInfo: \u001b[22m\u001b[39m2017-01-04T10:30:00\n",
      "\u001b[36m\u001b[1m[ \u001b[22m\u001b[39m\u001b[36m\u001b[1mInfo: \u001b[22m\u001b[39m2017-01-05T10:30:00\n",
      "\u001b[36m\u001b[1m[ \u001b[22m\u001b[39m\u001b[36m\u001b[1mInfo: \u001b[22m\u001b[39m2017-01-06T10:30:00\n",
      "\u001b[36m\u001b[1m[ \u001b[22m\u001b[39m\u001b[36m\u001b[1mInfo: \u001b[22m\u001b[39m2017-01-09T10:30:00\n",
      "\u001b[36m\u001b[1m[ \u001b[22m\u001b[39m\u001b[36m\u001b[1mInfo: \u001b[22m\u001b[39m2017-01-10T10:30:00\n",
      "\u001b[36m\u001b[1m[ \u001b[22m\u001b[39m\u001b[36m\u001b[1mInfo: \u001b[22m\u001b[39m2017-01-11T10:30:00\n",
      "\u001b[36m\u001b[1m[ \u001b[22m\u001b[39m\u001b[36m\u001b[1mInfo: \u001b[22m\u001b[39m2017-01-12T10:30:00\n",
      "\u001b[36m\u001b[1m[ \u001b[22m\u001b[39m\u001b[36m\u001b[1mInfo: \u001b[22m\u001b[39m2017-01-13T10:30:00\n",
      "\u001b[36m\u001b[1m[ \u001b[22m\u001b[39m\u001b[36m\u001b[1mInfo: \u001b[22m\u001b[39m2017-01-17T10:30:00\n",
      "\u001b[36m\u001b[1m[ \u001b[22m\u001b[39m\u001b[36m\u001b[1mInfo: \u001b[22m\u001b[39m2017-01-18T10:30:00\n",
      "\u001b[36m\u001b[1m[ \u001b[22m\u001b[39m\u001b[36m\u001b[1mInfo: \u001b[22m\u001b[39m2017-01-19T10:30:00\n",
      "\u001b[36m\u001b[1m[ \u001b[22m\u001b[39m\u001b[36m\u001b[1mInfo: \u001b[22m\u001b[39m2017-01-20T10:30:00\n",
      "\u001b[36m\u001b[1m[ \u001b[22m\u001b[39m\u001b[36m\u001b[1mInfo: \u001b[22m\u001b[39m2017-01-23T10:30:00\n",
      "\u001b[36m\u001b[1m[ \u001b[22m\u001b[39m\u001b[36m\u001b[1mInfo: \u001b[22m\u001b[39m2017-01-24T10:30:00\n",
      "\u001b[36m\u001b[1m[ \u001b[22m\u001b[39m\u001b[36m\u001b[1mInfo: \u001b[22m\u001b[39m2017-01-25T10:30:00\n",
      "\u001b[36m\u001b[1m[ \u001b[22m\u001b[39m\u001b[36m\u001b[1mInfo: \u001b[22m\u001b[39m2017-01-26T10:30:00\n",
      "\u001b[36m\u001b[1m[ \u001b[22m\u001b[39m\u001b[36m\u001b[1mInfo: \u001b[22m\u001b[39m2017-01-27T10:30:00\n",
      "\u001b[36m\u001b[1m[ \u001b[22m\u001b[39m\u001b[36m\u001b[1mInfo: \u001b[22m\u001b[39m2017-01-30T10:30:00\n",
      "\u001b[36m\u001b[1m[ \u001b[22m\u001b[39m\u001b[36m\u001b[1mInfo: \u001b[22m\u001b[39m2017-01-31T10:30:00\n",
      "\u001b[36m\u001b[1m[ \u001b[22m\u001b[39m\u001b[36m\u001b[1mInfo: \u001b[22m\u001b[39m2017-02-01T10:30:00\n",
      "\u001b[36m\u001b[1m[ \u001b[22m\u001b[39m\u001b[36m\u001b[1mInfo: \u001b[22m\u001b[39m2017-02-02T10:30:00\n",
      "\u001b[36m\u001b[1m[ \u001b[22m\u001b[39m\u001b[36m\u001b[1mInfo: \u001b[22m\u001b[39m2017-02-03T10:30:00\n",
      "\u001b[36m\u001b[1m[ \u001b[22m\u001b[39m\u001b[36m\u001b[1mInfo: \u001b[22m\u001b[39m2017-02-06T10:30:00\n",
      "\u001b[36m\u001b[1m[ \u001b[22m\u001b[39m\u001b[36m\u001b[1mInfo: \u001b[22m\u001b[39m2017-02-07T10:30:00\n",
      "\u001b[36m\u001b[1m[ \u001b[22m\u001b[39m\u001b[36m\u001b[1mInfo: \u001b[22m\u001b[39m2017-02-08T10:30:00\n",
      "\u001b[36m\u001b[1m[ \u001b[22m\u001b[39m\u001b[36m\u001b[1mInfo: \u001b[22m\u001b[39m2017-02-09T10:30:00\n",
      "\u001b[36m\u001b[1m[ \u001b[22m\u001b[39m\u001b[36m\u001b[1mInfo: \u001b[22m\u001b[39m2017-02-10T10:30:00\n",
      "\u001b[36m\u001b[1m[ \u001b[22m\u001b[39m\u001b[36m\u001b[1mInfo: \u001b[22m\u001b[39m2017-02-13T10:30:00\n",
      "\u001b[36m\u001b[1m[ \u001b[22m\u001b[39m\u001b[36m\u001b[1mInfo: \u001b[22m\u001b[39m2017-02-14T10:30:00\n",
      "\u001b[36m\u001b[1m[ \u001b[22m\u001b[39m\u001b[36m\u001b[1mInfo: \u001b[22m\u001b[39m2017-02-15T10:30:00\n"
     ]
    },
    {
     "data": {
      "text/plain": [
       "1×65 Matrix{Float64}:\n",
       " -0.0261676  0.00294509  0.00685962  …  0.00241686  -0.00476978  0.00536392"
      ]
     },
     "execution_count": 5,
     "metadata": {},
     "output_type": "execute_result"
    }
   ],
   "source": [
    "using AirBorne.ETL.AssetValuation: stockValuation, returns,covariance\n",
    "using AirBorne.Structures: ContextTypeA,TimeEvent\n",
    "using AirBorne.Markets.StaticMarket:expose_data\n",
    "using Dates: DateTime\n",
    "\n",
    "using DataFrames: Not\n",
    "expose_event_data(context::ContextTypeA,data::DataFrame) = data[data.date .== context.current_event.date,:]\n",
    "\n",
    "context = ContextTypeA(TimeEvent(DateTime(\"2017-01-03T10:30:00\"),\"start\"))\n",
    "\n",
    "\n",
    "mwz_initialize!(context; horizon=30, initialCapital=10^5)\n",
    "\n",
    "# Initialize Context\n",
    "# context.extra.valueHistory=DataFrame()\n",
    "# context.extra.returnHistory=DataFrame()\n",
    "# context.extra.currentValue=DataFrame()\n",
    "# context.extra.pastValue=DataFrame()\n",
    "\n",
    "# daily_data=expose_data2(context,data)\n",
    "# stockValuation(daily_data)\n",
    "\n",
    "\n",
    "\n",
    "# sv = stockValuation(data)\n",
    "\n",
    "# rets = returns(sv)\n",
    "# minimum(covariance(rets))\n",
    "data = expose_data(context,og_data;historical=false)\n",
    "context.extra.pastValue=context.extra.currentValue\n",
    "context.extra.currentValue=stockValuation(data)\n",
    "show(context.extra.currentValue)\n",
    "[push!(context.extra.valueHistory,r) for r=eachrow(context.extra.currentValue)]\n",
    "if size(context.extra.pastValue)==(0,0)\n",
    "    @info \"Skip\" \n",
    "end\n",
    "\n",
    "function advanceTime!(context)\n",
    "    next_event_date = context.current_event.date + Day(1)\n",
    "    new_event = TimeEvent(next_event_date, \"data_transfer\")\n",
    "    context.current_event= new_event\n",
    "end\n",
    "\n",
    "while size(context.extra.returnHistory,1)<context.extra.horizon\n",
    "    ###################################################\n",
    "    # Iterate a couple of times\n",
    "    advanceTime!(context)\n",
    "    data = expose_data(context,og_data; historical=false)\n",
    "    if size(data,1)==0\n",
    "        continue\n",
    "    end\n",
    "    @info context.current_event.date\n",
    "    #######################################################\n",
    "    context.extra.pastValue=context.extra.currentValue\n",
    "    context.extra.currentValue=stockValuation(data)\n",
    "    [push!(context.extra.valueHistory,r) for r=eachrow(context.extra.currentValue)]\n",
    "    \n",
    "    # lastReturn=deepcopy(context.extra.currentValue)\n",
    "    if size(context.extra.pastValue,1)>0\n",
    "        r1 = returns(vcat(context.extra.pastValue,context.extra.currentValue))\n",
    "        push!(context.extra.returnHistory,r1[end,:])\n",
    "    end\n",
    "end\n",
    "if size(context.extra.returnHistory,1)>=context.extra.horizon\n",
    "    d = context.extra.returnHistory[end-context.extra.horizon+1:end,:]\n",
    "    M = covariance(d) # Covariance Matrix\n",
    "    m = mean(Matrix(d[!,Not([\"date\",\"stockReturns\"])]),dims=1)\n",
    "end\n"
   ]
  },
  {
   "cell_type": "code",
   "execution_count": 66,
   "id": "8f229e76-bd41-40a6-819b-f7347fa47bfd",
   "metadata": {},
   "outputs": [
    {
     "data": {
      "text/plain": [
       "1×65 Matrix{Float64}:\n",
       " -0.0261676  0.00294509  0.00685962  …  0.00241686  -0.00476978  0.00536392"
      ]
     },
     "execution_count": 66,
     "metadata": {},
     "output_type": "execute_result"
    }
   ],
   "source": []
  },
  {
   "cell_type": "code",
   "execution_count": 7,
   "id": "20b9e1b1-a44b-4ac4-b193-9490d7b4fa72",
   "metadata": {},
   "outputs": [
    {
     "name": "stdout",
     "output_type": "stream",
     "text": [
      "=======================================================================================================================================================================================================================================================================================================================================================================================================\n",
      "MADS Run Summary\n",
      "-------------------------------------------------------------------------------------------------------------------------------------------------------------------------------------------------------------------------------------------------------------------------------------------------------------------------------------------------------------------------------------------------------\n",
      "Feasible Solution           [0.0, 0.001, 0.0, 0.0, 0.005, 0.0, 0.0, 0.0, 0.0, 0.0, 0.027, 0.0, 0.001, 0.0, 0.009, 0.0, 0.001, 0.079, 0.008, 0.0, 0.053, 0.0, 0.0, 0.0, 0.0, 0.0, 0.0, 0.0, 0.004, 0.0, 0.0, 0.0, 0.0, 0.028, 0.0, 0.0, 0.0, 0.0, 0.0, 0.0, 0.0, 0.001, 0.001, 0.0, 0.005, 0.0, 0.0, 0.0, 0.0, 0.002, 0.0, 0.0, 0.0, 0.0, 0.001, 0.005, 0.007, 0.0, 0.001, 0.0, 0.0, 0.0, 0.0, 0.0, 0.0]\n",
      "Feasible Cost               1.3469722596649594e-6\n",
      "Infeasible Solution         [0.0, 0.0, 0.0, 1.0, 0.0, 0.0, 0.0, 0.0, 0.0, 0.0, 0.0, 0.0, 0.0, 0.0, 0.0, 0.0, 0.0, 0.0, 0.0, 0.0, 0.2, 0.0, 0.0, 0.0, 0.0, 0.0, 0.0, 0.0, 0.0, 0.0, 0.0, 0.0, 0.0, 0.0, 0.0, 0.0, 0.0, 0.0, 0.0, 0.0, 0.0, 0.0, 0.0, 0.0, 0.0, 0.0, 0.0, 0.0, 0.0, 0.0, 0.0, 0.0, 0.0, 0.0, 0.0, 0.0, 0.0, 0.0, 0.0, 0.0, 0.0, 0.0, 0.0, 0.0, 0.0]\n",
      "Infeasible Cost             0.0002721517977612621\n",
      "\n",
      "Iterations                  185\n",
      "Function Evaluations        3198\n",
      "Cache hits                  5788\n",
      "Optimization Status         Mesh Precision limit\n",
      "\n",
      "Runtime                     7.723347902297974\n",
      "Search Time                 4.979999999999998e-5\n",
      "Poll Time                   6.385755899999998\n",
      "Blackbox Evaluation Time    0.027537499999998997\n"
     ]
    }
   ],
   "source": [
    "# [ mean(d[!,x]) for x in  d\n",
    "# Optimization problem\n",
    "# This can go into \n",
    "using DirectSearch: \n",
    "    DSProblem, Optimize!, SetInitialPoint, SetObjective, SetIterationLimit, SetGranularity, AddExtremeConstraint, AddProgressiveConstraint\n",
    "\n",
    "\n",
    "# function min_return(x)\n",
    "#    @info x \n",
    "#     @info (m*x)[1]\n",
    "#    return (0.001 - (m*x)[1])\n",
    "# end\n",
    "upper_cons(x) = all(x .<= 1) \n",
    "lower_cons(x) = all(x .>= 0) \n",
    "\n",
    "# min_return(x) = (max_return/2)-(m*x)[1] # I want at least half the best average return available \n",
    "min_return(x) = 0.001-(m*x)[1] # I want at least a 0.1% return in 1 day \n",
    "# SetGranularity(p, i, 0.1)\n",
    "obj(x) = x'*M*x \n",
    "\n",
    "p = DSProblem(length(m))\n",
    "SetGranularity(p, Dict( [i => 0.001 for i=1:length(m)] ))\n",
    "SetObjective(p,obj)\n",
    "AddProgressiveConstraint(p, min_return)\n",
    "AddExtremeConstraint(p, upper_cons)\n",
    "AddExtremeConstraint(p, lower_cons)\n",
    "SetInitialPoint(p,vec([ i for i =initial_point]))\n",
    "Optimize!(p)\n"
   ]
  },
  {
   "cell_type": "code",
   "execution_count": 8,
   "id": "4a7bd94e-7494-4634-990e-76ad3bda6ab3",
   "metadata": {},
   "outputs": [
    {
     "data": {
      "text/plain": [
       "65-element Vector{Float64}:\n",
       " 0.0\n",
       " 0.001\n",
       " 0.0\n",
       " 0.0\n",
       " 0.005\n",
       " 0.0\n",
       " 0.0\n",
       " 0.0\n",
       " 0.0\n",
       " 0.0\n",
       " 0.027\n",
       " 0.0\n",
       " 0.001\n",
       " ⋮\n",
       " 0.0\n",
       " 0.001\n",
       " 0.005\n",
       " 0.007\n",
       " 0.0\n",
       " 0.001\n",
       " 0.0\n",
       " 0.0\n",
       " 0.0\n",
       " 0.0\n",
       " 0.0\n",
       " 0.0"
      ]
     },
     "execution_count": 8,
     "metadata": {},
     "output_type": "execute_result"
    }
   ],
   "source": []
  },
  {
   "cell_type": "code",
   "execution_count": 9,
   "id": "26f73b50-67f3-4089-94d9-3ec747b9bef7",
   "metadata": {},
   "outputs": [
    {
     "data": {
      "text/plain": [
       "65-element Vector{Float64}:\n",
       " 0.0\n",
       " 0.001\n",
       " 0.0\n",
       " 0.0\n",
       " 0.005\n",
       " 0.0\n",
       " 0.0\n",
       " 0.0\n",
       " 0.0\n",
       " 0.0\n",
       " 0.027\n",
       " 0.0\n",
       " 0.001\n",
       " ⋮\n",
       " 0.0\n",
       " 0.001\n",
       " 0.005\n",
       " 0.007\n",
       " 0.0\n",
       " 0.001\n",
       " 0.0\n",
       " 0.0\n",
       " 0.0\n",
       " 0.0\n",
       " 0.0\n",
       " 0.0"
      ]
     },
     "execution_count": 9,
     "metadata": {},
     "output_type": "execute_result"
    }
   ],
   "source": []
  },
  {
   "cell_type": "code",
   "execution_count": 98,
   "id": "d3ec8bde-b631-4e61-9795-942e9769f361",
   "metadata": {},
   "outputs": [
    {
     "data": {
      "text/html": [
       "# 1 method for generic function <b>SetInitialPoint</b>:<ul><li> SetInitialPoint(p::<b>DSProblem{T}</b>, x::<b>Vector{T}</b>)<i> where T</i> in DirectSearch at <a href=\"file:///root/.julia/packages/DirectSearch/UWT8X/src/Core.jl\" target=\"_blank\">/root/.julia/packages/DirectSearch/UWT8X/src/Core.jl:217</a></li> </ul>"
      ],
      "text/plain": [
       "# 1 method for generic function \"SetInitialPoint\":\n",
       "[1] SetInitialPoint(p::DSProblem{T}, x::Vector{T}) where T in DirectSearch at /root/.julia/packages/DirectSearch/UWT8X/src/Core.jl:217"
      ]
     },
     "execution_count": 98,
     "metadata": {},
     "output_type": "execute_result"
    }
   ],
   "source": [
    "# Iterate a couple of times\n",
    "advanceTime!(context)\n",
    "data = expose_data(context,og_data; historical=false)\n",
    "@info context.current_event.date\n",
    "#######################################################\n",
    "if size(data,1)==0\n",
    "    continue\n",
    "end\n",
    "context.extra.pastValue=context.extra.currentValue\n",
    "context.extra.currentValue=stockValuation(data)\n",
    "\n",
    "[push!(context.extra.valueHistory,r) for r=eachrow(context.extra.currentValue)]\n",
    "\n",
    "# lastReturn=deepcopy(context.extra.currentValue)\n",
    "if size(context.extra.returnHistory,1)>=context.extra.horizon\n",
    "    d = context.extra.returnHistory[end-context.extra.horizon+1:end,:]\n",
    "    M = covariance(d) # Covariance Matrix\n",
    "    m = mean(Matrix(d[!,Not([\"date\",\"stockReturns\"])]),dims=1)\n",
    "    \n",
    "    #  Warm start\n",
    "    if context.extra.idealPortfolioDistribution==[]\n",
    "        max_return,ix = findmax(m)\n",
    "        initial_point = zeros(size(m))\n",
    "        initial_point[ix]=1.0\n",
    "    else\n",
    "        initial_point = context.extra.idealPortfolioDistribution \n",
    "    end\n",
    "        min_return(x) = 0.001-(m*x)[1] # I want at least a 0.1% return in 1 day \n",
    "    # SetGranularity(p, i, 0.1)\n",
    "    obj(x) = x'*M*x \n",
    "\n",
    "    p = DSProblem(length(m))\n",
    "    SetGranularity(p, Dict( [i => 0.001 for i=1:length(m)] ))\n",
    "    SetObjective(p,obj)\n",
    "    AddProgressiveConstraint(p, min_return)\n",
    "    AddExtremeConstraint(p, upper_cons)\n",
    "    AddExtremeConstraint(p, lower_cons)\n",
    "    SetInitialPoint(p,vec([ i for i =initial_point]))\n",
    "    Optimize!(p)\n",
    "    context.extra.idealPortfolioDistribution = p.x\n",
    "\n",
    "end\n"
   ]
  },
  {
   "cell_type": "code",
   "execution_count": 130,
   "id": "a733a632-6d7e-4572-bd69-a65fafc851af",
   "metadata": {},
   "outputs": [
    {
     "name": "stdout",
     "output_type": "stream",
     "text": [
      "==================================================\n",
      "MADS Run Summary\n",
      "--------------------------------------------------\n",
      "Feasible Solution           [0.186, 0.022]\n",
      "Feasible Cost               4.92986115598169e-6\n",
      "Infeasible Solution         [0.0, 0.5]\n",
      "Infeasible Cost             1.6219498363682097e-5\n",
      "\n",
      "Iterations                  67\n",
      "Function Evaluations        44\n",
      "Cache hits                  89\n",
      "Optimization Status         Mesh Precision limit\n",
      "\n",
      "Runtime                     0.015743017196655273\n",
      "Search Time                 1.440000000000001e-5\n",
      "Poll Time                   0.012598300000000002\n",
      "Blackbox Evaluation Time    0.00014910000000000043\n",
      "=================================================\n",
      "MADS Run Summary\n",
      "-------------------------------------------------\n",
      "Feasible Solution           [0.186, 0.02]\n",
      "Feasible Cost               4.9069710110880505e-6\n",
      "Infeasible Solution         [0.186, 0.0]\n",
      "Infeasible Cost             4.790414587277152e-6\n",
      "\n",
      "Iterations                  61\n",
      "Function Evaluations        54\n",
      "Cache hits                  90\n",
      "Optimization Status         Mesh Precision limit\n",
      "\n",
      "Runtime                     0.017568111419677734\n",
      "Search Time                 1.2499999999999996e-5\n",
      "Poll Time                   0.015032399999999998\n",
      "Blackbox Evaluation Time    0.0001310999999999999\n",
      "==================================================\n",
      "MADS Run Summary\n",
      "--------------------------------------------------\n",
      "Feasible Solution           [0.19, 0.017]\n",
      "Feasible Cost               5.101381891459717e-6\n",
      "Infeasible Solution         [0.156, 0.027]\n",
      "Infeasible Cost             3.521573939316782e-6\n",
      "\n",
      "Iterations                  71\n",
      "Function Evaluations        55\n",
      "Cache hits                  103\n",
      "Optimization Status         Mesh Precision limit\n",
      "\n",
      "Runtime                     0.022754907608032227\n",
      "Search Time                 2.4400000000000014e-5\n",
      "Poll Time                   0.018053200000000005\n",
      "Blackbox Evaluation Time    0.00021560000000000004\n",
      "=================================================\n",
      "MADS Run Summary\n",
      "-------------------------------------------------\n",
      "Feasible Solution           [0.197, 0.014]\n",
      "Feasible Cost               5.400404907893472e-6\n",
      "Infeasible Solution         [0.13, 0.112]\n",
      "Infeasible Cost             3.314680158118792e-6\n",
      "\n",
      "Iterations                  65\n",
      "Function Evaluations        55\n",
      "Cache hits                  92\n",
      "Optimization Status         Mesh Precision limit\n",
      "\n",
      "Runtime                     0.018412113189697266\n",
      "Search Time                 1.440000000000001e-5\n",
      "Poll Time                   0.014733600000000003\n",
      "Blackbox Evaluation Time    0.0002821000000000007\n",
      "  0.467560 seconds (222.71 k allocations: 13.504 MiB, 40.10% compilation time: 74% of which was recompilation)\n"
     ]
    },
    {
     "name": "stderr",
     "output_type": "stream",
     "text": [
      "\u001b[36m\u001b[1m[ \u001b[22m\u001b[39m\u001b[36m\u001b[1mInfo: \u001b[22m\u001b[39mdone\n"
     ]
    }
   ],
   "source": [
    "\n",
    "using AirBorne.ETL.Cache: load_bundle\n",
    "using AirBorne.Engines.DEDS: run\n",
    "using AirBorne.Markets.StaticMarket: execute_orders!, expose_data\n",
    "# using AirBorne.Strategies.SMA: interday_initialize!, interday_trading_logic!\n",
    "using AirBorne.Structures: summarizePerformance\n",
    "using Dates: DateTime\n",
    "\n",
    "# bundle_id=\"Mark1\"\n",
    "bundle_id=\"SMA_1\"\n",
    "cache_dir = joinpath(@__DIR__, \"assets\", \"cache\")\n",
    "data=load_bundle(bundle_id;cache_dir=cache_dir)\n",
    "\n",
    "initialize! = mwz_initialize!\n",
    "trading_logic! = mwz_trading_logic!\n",
    "my_expose_data(context,data) = expose_data(context,data; historical=false)\n",
    "# Run Simulation\n",
    "@time context = run(\n",
    "    data,\n",
    "    initialize!,\n",
    "    trading_logic!,\n",
    "    execute_orders!,\n",
    "    my_expose_data;\n",
    "    audit=true,\n",
    "    max_iter = 50,\n",
    "    max_date=DateTime(2022, 1, 1),\n",
    "    verbose=true,\n",
    ")\n",
    "# context.extra.idealPortfolioDistribution\n",
    "@info \"done\""
   ]
  },
  {
   "cell_type": "code",
   "execution_count": 131,
   "id": "d74a340e-72b6-47a7-8f21-80a058ac21b6",
   "metadata": {},
   "outputs": [
    {
     "data": {
      "image/svg+xml": [
       "<?xml version=\"1.0\" encoding=\"utf-8\"?>\n",
       "<svg xmlns=\"http://www.w3.org/2000/svg\" xmlns:xlink=\"http://www.w3.org/1999/xlink\" width=\"600\" height=\"400\" viewBox=\"0 0 2400 1600\">\n",
       "<defs>\n",
       "  <clipPath id=\"clip070\">\n",
       "    <rect x=\"0\" y=\"0\" width=\"2400\" height=\"1600\"/>\n",
       "  </clipPath>\n",
       "</defs>\n",
       "<path clip-path=\"url(#clip070)\" d=\"M0 1600 L2400 1600 L2400 0 L0 0  Z\" fill=\"#ffffff\" fill-rule=\"evenodd\" fill-opacity=\"1\"/>\n",
       "<defs>\n",
       "  <clipPath id=\"clip071\">\n",
       "    <rect x=\"480\" y=\"0\" width=\"1681\" height=\"1600\"/>\n",
       "  </clipPath>\n",
       "</defs>\n",
       "<path clip-path=\"url(#clip070)\" d=\"M259.607 1486.45 L2352.76 1486.45 L2352.76 123.472 L259.607 123.472  Z\" fill=\"#ffffff\" fill-rule=\"evenodd\" fill-opacity=\"1\"/>\n",
       "<defs>\n",
       "  <clipPath id=\"clip072\">\n",
       "    <rect x=\"259\" y=\"123\" width=\"2094\" height=\"1364\"/>\n",
       "  </clipPath>\n",
       "</defs>\n",
       "<polyline clip-path=\"url(#clip072)\" style=\"stroke:#000000; stroke-linecap:round; stroke-linejoin:round; stroke-width:2; stroke-opacity:0.1; fill:none\" points=\"260.917,1486.45 260.917,123.472 \"/>\n",
       "<polyline clip-path=\"url(#clip072)\" style=\"stroke:#000000; stroke-linecap:round; stroke-linejoin:round; stroke-width:2; stroke-opacity:0.1; fill:none\" points=\"784.808,1486.45 784.808,123.472 \"/>\n",
       "<polyline clip-path=\"url(#clip072)\" style=\"stroke:#000000; stroke-linecap:round; stroke-linejoin:round; stroke-width:2; stroke-opacity:0.1; fill:none\" points=\"1308.7,1486.45 1308.7,123.472 \"/>\n",
       "<polyline clip-path=\"url(#clip072)\" style=\"stroke:#000000; stroke-linecap:round; stroke-linejoin:round; stroke-width:2; stroke-opacity:0.1; fill:none\" points=\"1832.59,1486.45 1832.59,123.472 \"/>\n",
       "<polyline clip-path=\"url(#clip070)\" style=\"stroke:#000000; stroke-linecap:round; stroke-linejoin:round; stroke-width:4; stroke-opacity:1; fill:none\" points=\"259.607,1486.45 2352.76,1486.45 \"/>\n",
       "<polyline clip-path=\"url(#clip070)\" style=\"stroke:#000000; stroke-linecap:round; stroke-linejoin:round; stroke-width:4; stroke-opacity:1; fill:none\" points=\"260.917,1486.45 260.917,1467.55 \"/>\n",
       "<polyline clip-path=\"url(#clip070)\" style=\"stroke:#000000; stroke-linecap:round; stroke-linejoin:round; stroke-width:4; stroke-opacity:1; fill:none\" points=\"784.808,1486.45 784.808,1467.55 \"/>\n",
       "<polyline clip-path=\"url(#clip070)\" style=\"stroke:#000000; stroke-linecap:round; stroke-linejoin:round; stroke-width:4; stroke-opacity:1; fill:none\" points=\"1308.7,1486.45 1308.7,1467.55 \"/>\n",
       "<polyline clip-path=\"url(#clip070)\" style=\"stroke:#000000; stroke-linecap:round; stroke-linejoin:round; stroke-width:4; stroke-opacity:1; fill:none\" points=\"1832.59,1486.45 1832.59,1467.55 \"/>\n",
       "<path clip-path=\"url(#clip070)\" d=\"M132.897 1544.91 L149.216 1544.91 L149.216 1548.85 L127.272 1548.85 L127.272 1544.91 Q129.934 1542.16 134.517 1537.53 Q139.123 1532.88 140.304 1531.53 Q142.549 1529.01 143.429 1527.27 Q144.332 1525.51 144.332 1523.82 Q144.332 1521.07 142.387 1519.33 Q140.466 1517.6 137.364 1517.6 Q135.165 1517.6 132.711 1518.36 Q130.281 1519.13 127.503 1520.68 L127.503 1515.95 Q130.327 1514.82 132.781 1514.24 Q135.234 1513.66 137.272 1513.66 Q142.642 1513.66 145.836 1516.35 Q149.031 1519.03 149.031 1523.52 Q149.031 1525.65 148.221 1527.57 Q147.433 1529.47 145.327 1532.07 Q144.748 1532.74 141.646 1535.95 Q138.545 1539.15 132.897 1544.91 Z\" fill=\"#000000\" fill-rule=\"nonzero\" fill-opacity=\"1\" /><path clip-path=\"url(#clip070)\" d=\"M169.031 1517.37 Q165.419 1517.37 163.591 1520.93 Q161.785 1524.47 161.785 1531.6 Q161.785 1538.71 163.591 1542.27 Q165.419 1545.82 169.031 1545.82 Q172.665 1545.82 174.47 1542.27 Q176.299 1538.71 176.299 1531.6 Q176.299 1524.47 174.47 1520.93 Q172.665 1517.37 169.031 1517.37 M169.031 1513.66 Q174.841 1513.66 177.896 1518.27 Q180.975 1522.85 180.975 1531.6 Q180.975 1540.33 177.896 1544.94 Q174.841 1549.52 169.031 1549.52 Q163.22 1549.52 160.142 1544.94 Q157.086 1540.33 157.086 1531.6 Q157.086 1522.85 160.142 1518.27 Q163.22 1513.66 169.031 1513.66 Z\" fill=\"#000000\" fill-rule=\"nonzero\" fill-opacity=\"1\" /><path clip-path=\"url(#clip070)\" d=\"M190.003 1544.91 L197.642 1544.91 L197.642 1518.55 L189.331 1520.21 L189.331 1515.95 L197.595 1514.29 L202.271 1514.29 L202.271 1544.91 L209.91 1544.91 L209.91 1548.85 L190.003 1548.85 L190.003 1544.91 Z\" fill=\"#000000\" fill-rule=\"nonzero\" fill-opacity=\"1\" /><path clip-path=\"url(#clip070)\" d=\"M218.174 1514.29 L240.396 1514.29 L240.396 1516.28 L227.85 1548.85 L222.965 1548.85 L234.771 1518.22 L218.174 1518.22 L218.174 1514.29 Z\" fill=\"#000000\" fill-rule=\"nonzero\" fill-opacity=\"1\" /><path clip-path=\"url(#clip070)\" d=\"M246.762 1533.96 L259.238 1533.96 L259.238 1537.76 L246.762 1537.76 L246.762 1533.96 Z\" fill=\"#000000\" fill-rule=\"nonzero\" fill-opacity=\"1\" /><path clip-path=\"url(#clip070)\" d=\"M276.623 1517.37 Q273.012 1517.37 271.183 1520.93 Q269.377 1524.47 269.377 1531.6 Q269.377 1538.71 271.183 1542.27 Q273.012 1545.82 276.623 1545.82 Q280.257 1545.82 282.062 1542.27 Q283.891 1538.71 283.891 1531.6 Q283.891 1524.47 282.062 1520.93 Q280.257 1517.37 276.623 1517.37 M276.623 1513.66 Q282.433 1513.66 285.488 1518.27 Q288.567 1522.85 288.567 1531.6 Q288.567 1540.33 285.488 1544.94 Q282.433 1549.52 276.623 1549.52 Q270.812 1549.52 267.734 1544.94 Q264.678 1540.33 264.678 1531.6 Q264.678 1522.85 267.734 1518.27 Q270.812 1513.66 276.623 1513.66 Z\" fill=\"#000000\" fill-rule=\"nonzero\" fill-opacity=\"1\" /><path clip-path=\"url(#clip070)\" d=\"M297.595 1544.91 L305.234 1544.91 L305.234 1518.55 L296.923 1520.21 L296.923 1515.95 L305.187 1514.29 L309.863 1514.29 L309.863 1544.91 L317.502 1544.91 L317.502 1548.85 L297.595 1548.85 L297.595 1544.91 Z\" fill=\"#000000\" fill-rule=\"nonzero\" fill-opacity=\"1\" /><path clip-path=\"url(#clip070)\" d=\"M324.192 1533.96 L336.669 1533.96 L336.669 1537.76 L324.192 1537.76 L324.192 1533.96 Z\" fill=\"#000000\" fill-rule=\"nonzero\" fill-opacity=\"1\" /><path clip-path=\"url(#clip070)\" d=\"M354.053 1517.37 Q350.442 1517.37 348.613 1520.93 Q346.807 1524.47 346.807 1531.6 Q346.807 1538.71 348.613 1542.27 Q350.442 1545.82 354.053 1545.82 Q357.687 1545.82 359.493 1542.27 Q361.321 1538.71 361.321 1531.6 Q361.321 1524.47 359.493 1520.93 Q357.687 1517.37 354.053 1517.37 M354.053 1513.66 Q359.863 1513.66 362.918 1518.27 Q365.997 1522.85 365.997 1531.6 Q365.997 1540.33 362.918 1544.94 Q359.863 1549.52 354.053 1549.52 Q348.243 1549.52 345.164 1544.94 Q342.108 1540.33 342.108 1531.6 Q342.108 1522.85 345.164 1518.27 Q348.243 1513.66 354.053 1513.66 Z\" fill=\"#000000\" fill-rule=\"nonzero\" fill-opacity=\"1\" /><path clip-path=\"url(#clip070)\" d=\"M378.242 1544.91 L394.562 1544.91 L394.562 1548.85 L372.617 1548.85 L372.617 1544.91 Q375.279 1542.16 379.863 1537.53 Q384.469 1532.88 385.65 1531.53 Q387.895 1529.01 388.775 1527.27 Q389.678 1525.51 389.678 1523.82 Q389.678 1521.07 387.733 1519.33 Q385.812 1517.6 382.71 1517.6 Q380.511 1517.6 378.057 1518.36 Q375.627 1519.13 372.849 1520.68 L372.849 1515.95 Q375.673 1514.82 378.127 1514.24 Q380.58 1513.66 382.617 1513.66 Q387.988 1513.66 391.182 1516.35 Q394.377 1519.03 394.377 1523.52 Q394.377 1525.65 393.566 1527.57 Q392.779 1529.47 390.673 1532.07 Q390.094 1532.74 386.992 1535.95 Q383.891 1539.15 378.242 1544.91 Z\" fill=\"#000000\" fill-rule=\"nonzero\" fill-opacity=\"1\" /><path clip-path=\"url(#clip070)\" d=\"M656.487 1544.91 L672.807 1544.91 L672.807 1548.85 L650.862 1548.85 L650.862 1544.91 Q653.524 1542.16 658.108 1537.53 Q662.714 1532.88 663.895 1531.53 Q666.14 1529.01 667.02 1527.27 Q667.922 1525.51 667.922 1523.82 Q667.922 1521.07 665.978 1519.33 Q664.057 1517.6 660.955 1517.6 Q658.756 1517.6 656.302 1518.36 Q653.872 1519.13 651.094 1520.68 L651.094 1515.95 Q653.918 1514.82 656.372 1514.24 Q658.825 1513.66 660.862 1513.66 Q666.233 1513.66 669.427 1516.35 Q672.622 1519.03 672.622 1523.52 Q672.622 1525.65 671.811 1527.57 Q671.024 1529.47 668.918 1532.07 Q668.339 1532.74 665.237 1535.95 Q662.135 1539.15 656.487 1544.91 Z\" fill=\"#000000\" fill-rule=\"nonzero\" fill-opacity=\"1\" /><path clip-path=\"url(#clip070)\" d=\"M692.621 1517.37 Q689.01 1517.37 687.182 1520.93 Q685.376 1524.47 685.376 1531.6 Q685.376 1538.71 687.182 1542.27 Q689.01 1545.82 692.621 1545.82 Q696.256 1545.82 698.061 1542.27 Q699.89 1538.71 699.89 1531.6 Q699.89 1524.47 698.061 1520.93 Q696.256 1517.37 692.621 1517.37 M692.621 1513.66 Q698.432 1513.66 701.487 1518.27 Q704.566 1522.85 704.566 1531.6 Q704.566 1540.33 701.487 1544.94 Q698.432 1549.52 692.621 1549.52 Q686.811 1549.52 683.733 1544.94 Q680.677 1540.33 680.677 1531.6 Q680.677 1522.85 683.733 1518.27 Q686.811 1513.66 692.621 1513.66 Z\" fill=\"#000000\" fill-rule=\"nonzero\" fill-opacity=\"1\" /><path clip-path=\"url(#clip070)\" d=\"M713.594 1544.91 L721.232 1544.91 L721.232 1518.55 L712.922 1520.21 L712.922 1515.95 L721.186 1514.29 L725.862 1514.29 L725.862 1544.91 L733.501 1544.91 L733.501 1548.85 L713.594 1548.85 L713.594 1544.91 Z\" fill=\"#000000\" fill-rule=\"nonzero\" fill-opacity=\"1\" /><path clip-path=\"url(#clip070)\" d=\"M741.765 1514.29 L763.987 1514.29 L763.987 1516.28 L751.441 1548.85 L746.556 1548.85 L758.362 1518.22 L741.765 1518.22 L741.765 1514.29 Z\" fill=\"#000000\" fill-rule=\"nonzero\" fill-opacity=\"1\" /><path clip-path=\"url(#clip070)\" d=\"M770.352 1533.96 L782.829 1533.96 L782.829 1537.76 L770.352 1537.76 L770.352 1533.96 Z\" fill=\"#000000\" fill-rule=\"nonzero\" fill-opacity=\"1\" /><path clip-path=\"url(#clip070)\" d=\"M800.213 1517.37 Q796.602 1517.37 794.774 1520.93 Q792.968 1524.47 792.968 1531.6 Q792.968 1538.71 794.774 1542.27 Q796.602 1545.82 800.213 1545.82 Q803.848 1545.82 805.653 1542.27 Q807.482 1538.71 807.482 1531.6 Q807.482 1524.47 805.653 1520.93 Q803.848 1517.37 800.213 1517.37 M800.213 1513.66 Q806.024 1513.66 809.079 1518.27 Q812.158 1522.85 812.158 1531.6 Q812.158 1540.33 809.079 1544.94 Q806.024 1549.52 800.213 1549.52 Q794.403 1549.52 791.325 1544.94 Q788.269 1540.33 788.269 1531.6 Q788.269 1522.85 791.325 1518.27 Q794.403 1513.66 800.213 1513.66 Z\" fill=\"#000000\" fill-rule=\"nonzero\" fill-opacity=\"1\" /><path clip-path=\"url(#clip070)\" d=\"M821.186 1544.91 L828.824 1544.91 L828.824 1518.55 L820.514 1520.21 L820.514 1515.95 L828.778 1514.29 L833.454 1514.29 L833.454 1544.91 L841.093 1544.91 L841.093 1548.85 L821.186 1548.85 L821.186 1544.91 Z\" fill=\"#000000\" fill-rule=\"nonzero\" fill-opacity=\"1\" /><path clip-path=\"url(#clip070)\" d=\"M847.783 1533.96 L860.259 1533.96 L860.259 1537.76 L847.783 1537.76 L847.783 1533.96 Z\" fill=\"#000000\" fill-rule=\"nonzero\" fill-opacity=\"1\" /><path clip-path=\"url(#clip070)\" d=\"M868.454 1544.91 L876.093 1544.91 L876.093 1518.55 L867.782 1520.21 L867.782 1515.95 L876.046 1514.29 L880.722 1514.29 L880.722 1544.91 L888.361 1544.91 L888.361 1548.85 L868.454 1548.85 L868.454 1544.91 Z\" fill=\"#000000\" fill-rule=\"nonzero\" fill-opacity=\"1\" /><path clip-path=\"url(#clip070)\" d=\"M897.852 1514.29 L916.208 1514.29 L916.208 1518.22 L902.134 1518.22 L902.134 1526.7 Q903.153 1526.35 904.171 1526.19 Q905.19 1526 906.208 1526 Q911.995 1526 915.375 1529.17 Q918.754 1532.34 918.754 1537.76 Q918.754 1543.34 915.282 1546.44 Q911.81 1549.52 905.491 1549.52 Q903.315 1549.52 901.046 1549.15 Q898.801 1548.78 896.393 1548.04 L896.393 1543.34 Q898.477 1544.47 900.699 1545.03 Q902.921 1545.58 905.398 1545.58 Q909.403 1545.58 911.741 1543.48 Q914.079 1541.37 914.079 1537.76 Q914.079 1534.15 911.741 1532.04 Q909.403 1529.94 905.398 1529.94 Q903.523 1529.94 901.648 1530.35 Q899.796 1530.77 897.852 1531.65 L897.852 1514.29 Z\" fill=\"#000000\" fill-rule=\"nonzero\" fill-opacity=\"1\" /><path clip-path=\"url(#clip070)\" d=\"M1179.93 1544.91 L1196.25 1544.91 L1196.25 1548.85 L1174.3 1548.85 L1174.3 1544.91 Q1176.96 1542.16 1181.55 1537.53 Q1186.15 1532.88 1187.34 1531.53 Q1189.58 1529.01 1190.46 1527.27 Q1191.36 1525.51 1191.36 1523.82 Q1191.36 1521.07 1189.42 1519.33 Q1187.5 1517.6 1184.4 1517.6 Q1182.2 1517.6 1179.74 1518.36 Q1177.31 1519.13 1174.53 1520.68 L1174.53 1515.95 Q1177.36 1514.82 1179.81 1514.24 Q1182.27 1513.66 1184.3 1513.66 Q1189.67 1513.66 1192.87 1516.35 Q1196.06 1519.03 1196.06 1523.52 Q1196.06 1525.65 1195.25 1527.57 Q1194.46 1529.47 1192.36 1532.07 Q1191.78 1532.74 1188.68 1535.95 Q1185.58 1539.15 1179.93 1544.91 Z\" fill=\"#000000\" fill-rule=\"nonzero\" fill-opacity=\"1\" /><path clip-path=\"url(#clip070)\" d=\"M1216.06 1517.37 Q1212.45 1517.37 1210.62 1520.93 Q1208.82 1524.47 1208.82 1531.6 Q1208.82 1538.71 1210.62 1542.27 Q1212.45 1545.82 1216.06 1545.82 Q1219.7 1545.82 1221.5 1542.27 Q1223.33 1538.71 1223.33 1531.6 Q1223.33 1524.47 1221.5 1520.93 Q1219.7 1517.37 1216.06 1517.37 M1216.06 1513.66 Q1221.87 1513.66 1224.93 1518.27 Q1228.01 1522.85 1228.01 1531.6 Q1228.01 1540.33 1224.93 1544.94 Q1221.87 1549.52 1216.06 1549.52 Q1210.25 1549.52 1207.17 1544.94 Q1204.12 1540.33 1204.12 1531.6 Q1204.12 1522.85 1207.17 1518.27 Q1210.25 1513.66 1216.06 1513.66 Z\" fill=\"#000000\" fill-rule=\"nonzero\" fill-opacity=\"1\" /><path clip-path=\"url(#clip070)\" d=\"M1237.03 1544.91 L1244.67 1544.91 L1244.67 1518.55 L1236.36 1520.21 L1236.36 1515.95 L1244.63 1514.29 L1249.3 1514.29 L1249.3 1544.91 L1256.94 1544.91 L1256.94 1548.85 L1237.03 1548.85 L1237.03 1544.91 Z\" fill=\"#000000\" fill-rule=\"nonzero\" fill-opacity=\"1\" /><path clip-path=\"url(#clip070)\" d=\"M1265.2 1514.29 L1287.43 1514.29 L1287.43 1516.28 L1274.88 1548.85 L1270 1548.85 L1281.8 1518.22 L1265.2 1518.22 L1265.2 1514.29 Z\" fill=\"#000000\" fill-rule=\"nonzero\" fill-opacity=\"1\" /><path clip-path=\"url(#clip070)\" d=\"M1293.79 1533.96 L1306.27 1533.96 L1306.27 1537.76 L1293.79 1537.76 L1293.79 1533.96 Z\" fill=\"#000000\" fill-rule=\"nonzero\" fill-opacity=\"1\" /><path clip-path=\"url(#clip070)\" d=\"M1323.65 1517.37 Q1320.04 1517.37 1318.21 1520.93 Q1316.41 1524.47 1316.41 1531.6 Q1316.41 1538.71 1318.21 1542.27 Q1320.04 1545.82 1323.65 1545.82 Q1327.29 1545.82 1329.09 1542.27 Q1330.92 1538.71 1330.92 1531.6 Q1330.92 1524.47 1329.09 1520.93 Q1327.29 1517.37 1323.65 1517.37 M1323.65 1513.66 Q1329.46 1513.66 1332.52 1518.27 Q1335.6 1522.85 1335.6 1531.6 Q1335.6 1540.33 1332.52 1544.94 Q1329.46 1549.52 1323.65 1549.52 Q1317.84 1549.52 1314.76 1544.94 Q1311.71 1540.33 1311.71 1531.6 Q1311.71 1522.85 1314.76 1518.27 Q1317.84 1513.66 1323.65 1513.66 Z\" fill=\"#000000\" fill-rule=\"nonzero\" fill-opacity=\"1\" /><path clip-path=\"url(#clip070)\" d=\"M1344.63 1544.91 L1352.26 1544.91 L1352.26 1518.55 L1343.95 1520.21 L1343.95 1515.95 L1352.22 1514.29 L1356.89 1514.29 L1356.89 1544.91 L1364.53 1544.91 L1364.53 1548.85 L1344.63 1548.85 L1344.63 1544.91 Z\" fill=\"#000000\" fill-rule=\"nonzero\" fill-opacity=\"1\" /><path clip-path=\"url(#clip070)\" d=\"M1371.22 1533.96 L1383.7 1533.96 L1383.7 1537.76 L1371.22 1537.76 L1371.22 1533.96 Z\" fill=\"#000000\" fill-rule=\"nonzero\" fill-opacity=\"1\" /><path clip-path=\"url(#clip070)\" d=\"M1395.11 1544.91 L1411.43 1544.91 L1411.43 1548.85 L1389.49 1548.85 L1389.49 1544.91 Q1392.15 1542.16 1396.73 1537.53 Q1401.34 1532.88 1402.52 1531.53 Q1404.76 1529.01 1405.64 1527.27 Q1406.55 1525.51 1406.55 1523.82 Q1406.55 1521.07 1404.6 1519.33 Q1402.68 1517.6 1399.58 1517.6 Q1397.38 1517.6 1394.93 1518.36 Q1392.5 1519.13 1389.72 1520.68 L1389.72 1515.95 Q1392.54 1514.82 1395 1514.24 Q1397.45 1513.66 1399.49 1513.66 Q1404.86 1513.66 1408.05 1516.35 Q1411.25 1519.03 1411.25 1523.52 Q1411.25 1525.65 1410.44 1527.57 Q1409.65 1529.47 1407.54 1532.07 Q1406.96 1532.74 1403.86 1535.95 Q1400.76 1539.15 1395.11 1544.91 Z\" fill=\"#000000\" fill-rule=\"nonzero\" fill-opacity=\"1\" /><path clip-path=\"url(#clip070)\" d=\"M1431.25 1532.44 Q1427.91 1532.44 1425.99 1534.22 Q1424.09 1536 1424.09 1539.13 Q1424.09 1542.25 1425.99 1544.03 Q1427.91 1545.82 1431.25 1545.82 Q1434.58 1545.82 1436.5 1544.03 Q1438.42 1542.23 1438.42 1539.13 Q1438.42 1536 1436.5 1534.22 Q1434.6 1532.44 1431.25 1532.44 M1426.57 1530.45 Q1423.56 1529.7 1421.87 1527.64 Q1420.2 1525.58 1420.2 1522.62 Q1420.2 1518.48 1423.14 1516.07 Q1426.11 1513.66 1431.25 1513.66 Q1436.41 1513.66 1439.35 1516.07 Q1442.29 1518.48 1442.29 1522.62 Q1442.29 1525.58 1440.6 1527.64 Q1438.93 1529.7 1435.94 1530.45 Q1439.32 1531.23 1441.2 1533.52 Q1443.1 1535.82 1443.1 1539.13 Q1443.1 1544.15 1440.02 1546.83 Q1436.96 1549.52 1431.25 1549.52 Q1425.53 1549.52 1422.45 1546.83 Q1419.39 1544.15 1419.39 1539.13 Q1419.39 1535.82 1421.29 1533.52 Q1423.19 1531.23 1426.57 1530.45 M1424.86 1523.06 Q1424.86 1525.75 1426.52 1527.25 Q1428.21 1528.76 1431.25 1528.76 Q1434.26 1528.76 1435.94 1527.25 Q1437.66 1525.75 1437.66 1523.06 Q1437.66 1520.38 1435.94 1518.87 Q1434.26 1517.37 1431.25 1517.37 Q1428.21 1517.37 1426.52 1518.87 Q1424.86 1520.38 1424.86 1523.06 Z\" fill=\"#000000\" fill-rule=\"nonzero\" fill-opacity=\"1\" /><path clip-path=\"url(#clip070)\" d=\"M1703.77 1544.91 L1720.09 1544.91 L1720.09 1548.85 L1698.15 1548.85 L1698.15 1544.91 Q1700.81 1542.16 1705.39 1537.53 Q1710 1532.88 1711.18 1531.53 Q1713.43 1529.01 1714.31 1527.27 Q1715.21 1525.51 1715.21 1523.82 Q1715.21 1521.07 1713.26 1519.33 Q1711.34 1517.6 1708.24 1517.6 Q1706.04 1517.6 1703.59 1518.36 Q1701.16 1519.13 1698.38 1520.68 L1698.38 1515.95 Q1701.2 1514.82 1703.66 1514.24 Q1706.11 1513.66 1708.15 1513.66 Q1713.52 1513.66 1716.71 1516.35 Q1719.91 1519.03 1719.91 1523.52 Q1719.91 1525.65 1719.1 1527.57 Q1718.31 1529.47 1716.2 1532.07 Q1715.62 1532.74 1712.52 1535.95 Q1709.42 1539.15 1703.77 1544.91 Z\" fill=\"#000000\" fill-rule=\"nonzero\" fill-opacity=\"1\" /><path clip-path=\"url(#clip070)\" d=\"M1739.91 1517.37 Q1736.3 1517.37 1734.47 1520.93 Q1732.66 1524.47 1732.66 1531.6 Q1732.66 1538.71 1734.47 1542.27 Q1736.3 1545.82 1739.91 1545.82 Q1743.54 1545.82 1745.35 1542.27 Q1747.18 1538.71 1747.18 1531.6 Q1747.18 1524.47 1745.35 1520.93 Q1743.54 1517.37 1739.91 1517.37 M1739.91 1513.66 Q1745.72 1513.66 1748.77 1518.27 Q1751.85 1522.85 1751.85 1531.6 Q1751.85 1540.33 1748.77 1544.94 Q1745.72 1549.52 1739.91 1549.52 Q1734.1 1549.52 1731.02 1544.94 Q1727.96 1540.33 1727.96 1531.6 Q1727.96 1522.85 1731.02 1518.27 Q1734.1 1513.66 1739.91 1513.66 Z\" fill=\"#000000\" fill-rule=\"nonzero\" fill-opacity=\"1\" /><path clip-path=\"url(#clip070)\" d=\"M1760.88 1544.91 L1768.52 1544.91 L1768.52 1518.55 L1760.21 1520.21 L1760.21 1515.95 L1768.47 1514.29 L1773.15 1514.29 L1773.15 1544.91 L1780.79 1544.91 L1780.79 1548.85 L1760.88 1548.85 L1760.88 1544.91 Z\" fill=\"#000000\" fill-rule=\"nonzero\" fill-opacity=\"1\" /><path clip-path=\"url(#clip070)\" d=\"M1789.05 1514.29 L1811.27 1514.29 L1811.27 1516.28 L1798.73 1548.85 L1793.84 1548.85 L1805.65 1518.22 L1789.05 1518.22 L1789.05 1514.29 Z\" fill=\"#000000\" fill-rule=\"nonzero\" fill-opacity=\"1\" /><path clip-path=\"url(#clip070)\" d=\"M1817.64 1533.96 L1830.12 1533.96 L1830.12 1537.76 L1817.64 1537.76 L1817.64 1533.96 Z\" fill=\"#000000\" fill-rule=\"nonzero\" fill-opacity=\"1\" /><path clip-path=\"url(#clip070)\" d=\"M1847.5 1517.37 Q1843.89 1517.37 1842.06 1520.93 Q1840.25 1524.47 1840.25 1531.6 Q1840.25 1538.71 1842.06 1542.27 Q1843.89 1545.82 1847.5 1545.82 Q1851.13 1545.82 1852.94 1542.27 Q1854.77 1538.71 1854.77 1531.6 Q1854.77 1524.47 1852.94 1520.93 Q1851.13 1517.37 1847.5 1517.37 M1847.5 1513.66 Q1853.31 1513.66 1856.36 1518.27 Q1859.44 1522.85 1859.44 1531.6 Q1859.44 1540.33 1856.36 1544.94 Q1853.31 1549.52 1847.5 1549.52 Q1841.69 1549.52 1838.61 1544.94 Q1835.55 1540.33 1835.55 1531.6 Q1835.55 1522.85 1838.61 1518.27 Q1841.69 1513.66 1847.5 1513.66 Z\" fill=\"#000000\" fill-rule=\"nonzero\" fill-opacity=\"1\" /><path clip-path=\"url(#clip070)\" d=\"M1871.69 1544.91 L1888.01 1544.91 L1888.01 1548.85 L1866.06 1548.85 L1866.06 1544.91 Q1868.73 1542.16 1873.31 1537.53 Q1877.92 1532.88 1879.1 1531.53 Q1881.34 1529.01 1882.22 1527.27 Q1883.12 1525.51 1883.12 1523.82 Q1883.12 1521.07 1881.18 1519.33 Q1879.26 1517.6 1876.16 1517.6 Q1873.96 1517.6 1871.5 1518.36 Q1869.07 1519.13 1866.3 1520.68 L1866.3 1515.95 Q1869.12 1514.82 1871.57 1514.24 Q1874.03 1513.66 1876.06 1513.66 Q1881.43 1513.66 1884.63 1516.35 Q1887.82 1519.03 1887.82 1523.52 Q1887.82 1525.65 1887.01 1527.57 Q1886.23 1529.47 1884.12 1532.07 Q1883.54 1532.74 1880.44 1535.95 Q1877.34 1539.15 1871.69 1544.91 Z\" fill=\"#000000\" fill-rule=\"nonzero\" fill-opacity=\"1\" /><path clip-path=\"url(#clip070)\" d=\"M1895.07 1533.96 L1907.55 1533.96 L1907.55 1537.76 L1895.07 1537.76 L1895.07 1533.96 Z\" fill=\"#000000\" fill-rule=\"nonzero\" fill-opacity=\"1\" /><path clip-path=\"url(#clip070)\" d=\"M1915.74 1544.91 L1923.38 1544.91 L1923.38 1518.55 L1915.07 1520.21 L1915.07 1515.95 L1923.33 1514.29 L1928.01 1514.29 L1928.01 1544.91 L1935.65 1544.91 L1935.65 1548.85 L1915.74 1548.85 L1915.74 1544.91 Z\" fill=\"#000000\" fill-rule=\"nonzero\" fill-opacity=\"1\" /><path clip-path=\"url(#clip070)\" d=\"M1955.09 1517.37 Q1951.48 1517.37 1949.65 1520.93 Q1947.85 1524.47 1947.85 1531.6 Q1947.85 1538.71 1949.65 1542.27 Q1951.48 1545.82 1955.09 1545.82 Q1958.73 1545.82 1960.53 1542.27 Q1962.36 1538.71 1962.36 1531.6 Q1962.36 1524.47 1960.53 1520.93 Q1958.73 1517.37 1955.09 1517.37 M1955.09 1513.66 Q1960.9 1513.66 1963.96 1518.27 Q1967.04 1522.85 1967.04 1531.6 Q1967.04 1540.33 1963.96 1544.94 Q1960.9 1549.52 1955.09 1549.52 Q1949.28 1549.52 1946.2 1544.94 Q1943.15 1540.33 1943.15 1531.6 Q1943.15 1522.85 1946.2 1518.27 Q1949.28 1513.66 1955.09 1513.66 Z\" fill=\"#000000\" fill-rule=\"nonzero\" fill-opacity=\"1\" /><polyline clip-path=\"url(#clip072)\" style=\"stroke:#000000; stroke-linecap:round; stroke-linejoin:round; stroke-width:2; stroke-opacity:0.1; fill:none\" points=\"259.607,1243.07 2352.76,1243.07 \"/>\n",
       "<polyline clip-path=\"url(#clip072)\" style=\"stroke:#000000; stroke-linecap:round; stroke-linejoin:round; stroke-width:2; stroke-opacity:0.1; fill:none\" points=\"259.607,928.558 2352.76,928.558 \"/>\n",
       "<polyline clip-path=\"url(#clip072)\" style=\"stroke:#000000; stroke-linecap:round; stroke-linejoin:round; stroke-width:2; stroke-opacity:0.1; fill:none\" points=\"259.607,614.047 2352.76,614.047 \"/>\n",
       "<polyline clip-path=\"url(#clip072)\" style=\"stroke:#000000; stroke-linecap:round; stroke-linejoin:round; stroke-width:2; stroke-opacity:0.1; fill:none\" points=\"259.607,299.535 2352.76,299.535 \"/>\n",
       "<polyline clip-path=\"url(#clip070)\" style=\"stroke:#000000; stroke-linecap:round; stroke-linejoin:round; stroke-width:4; stroke-opacity:1; fill:none\" points=\"259.607,1486.45 259.607,123.472 \"/>\n",
       "<polyline clip-path=\"url(#clip070)\" style=\"stroke:#000000; stroke-linecap:round; stroke-linejoin:round; stroke-width:4; stroke-opacity:1; fill:none\" points=\"259.607,1243.07 278.505,1243.07 \"/>\n",
       "<polyline clip-path=\"url(#clip070)\" style=\"stroke:#000000; stroke-linecap:round; stroke-linejoin:round; stroke-width:4; stroke-opacity:1; fill:none\" points=\"259.607,928.558 278.505,928.558 \"/>\n",
       "<polyline clip-path=\"url(#clip070)\" style=\"stroke:#000000; stroke-linecap:round; stroke-linejoin:round; stroke-width:4; stroke-opacity:1; fill:none\" points=\"259.607,614.047 278.505,614.047 \"/>\n",
       "<polyline clip-path=\"url(#clip070)\" style=\"stroke:#000000; stroke-linecap:round; stroke-linejoin:round; stroke-width:4; stroke-opacity:1; fill:none\" points=\"259.607,299.535 278.505,299.535 \"/>\n",
       "<path clip-path=\"url(#clip070)\" d=\"M51.6634 1256.42 L59.3023 1256.42 L59.3023 1230.05 L50.9921 1231.72 L50.9921 1227.46 L59.256 1225.79 L63.9319 1225.79 L63.9319 1256.42 L71.5707 1256.42 L71.5707 1260.35 L51.6634 1260.35 L51.6634 1256.42 Z\" fill=\"#000000\" fill-rule=\"nonzero\" fill-opacity=\"1\" /><path clip-path=\"url(#clip070)\" d=\"M91.0151 1228.87 Q87.404 1228.87 85.5753 1232.43 Q83.7697 1235.98 83.7697 1243.11 Q83.7697 1250.21 85.5753 1253.78 Q87.404 1257.32 91.0151 1257.32 Q94.6493 1257.32 96.4548 1253.78 Q98.2835 1250.21 98.2835 1243.11 Q98.2835 1235.98 96.4548 1232.43 Q94.6493 1228.87 91.0151 1228.87 M91.0151 1225.17 Q96.8252 1225.17 99.8808 1229.77 Q102.959 1234.36 102.959 1243.11 Q102.959 1251.83 99.8808 1256.44 Q96.8252 1261.02 91.0151 1261.02 Q85.2049 1261.02 82.1262 1256.44 Q79.0707 1251.83 79.0707 1243.11 Q79.0707 1234.36 82.1262 1229.77 Q85.2049 1225.17 91.0151 1225.17 Z\" fill=\"#000000\" fill-rule=\"nonzero\" fill-opacity=\"1\" /><path clip-path=\"url(#clip070)\" d=\"M121.177 1228.87 Q117.566 1228.87 115.737 1232.43 Q113.932 1235.98 113.932 1243.11 Q113.932 1250.21 115.737 1253.78 Q117.566 1257.32 121.177 1257.32 Q124.811 1257.32 126.617 1253.78 Q128.445 1250.21 128.445 1243.11 Q128.445 1235.98 126.617 1232.43 Q124.811 1228.87 121.177 1228.87 M121.177 1225.17 Q126.987 1225.17 130.043 1229.77 Q133.121 1234.36 133.121 1243.11 Q133.121 1251.83 130.043 1256.44 Q126.987 1261.02 121.177 1261.02 Q115.367 1261.02 112.288 1256.44 Q109.233 1251.83 109.233 1243.11 Q109.233 1234.36 112.288 1229.77 Q115.367 1225.17 121.177 1225.17 Z\" fill=\"#000000\" fill-rule=\"nonzero\" fill-opacity=\"1\" /><path clip-path=\"url(#clip070)\" d=\"M151.339 1228.87 Q147.728 1228.87 145.899 1232.43 Q144.093 1235.98 144.093 1243.11 Q144.093 1250.21 145.899 1253.78 Q147.728 1257.32 151.339 1257.32 Q154.973 1257.32 156.779 1253.78 Q158.607 1250.21 158.607 1243.11 Q158.607 1235.98 156.779 1232.43 Q154.973 1228.87 151.339 1228.87 M151.339 1225.17 Q157.149 1225.17 160.205 1229.77 Q163.283 1234.36 163.283 1243.11 Q163.283 1251.83 160.205 1256.44 Q157.149 1261.02 151.339 1261.02 Q145.529 1261.02 142.45 1256.44 Q139.394 1251.83 139.394 1243.11 Q139.394 1234.36 142.45 1229.77 Q145.529 1225.17 151.339 1225.17 Z\" fill=\"#000000\" fill-rule=\"nonzero\" fill-opacity=\"1\" /><path clip-path=\"url(#clip070)\" d=\"M181.501 1228.87 Q177.89 1228.87 176.061 1232.43 Q174.255 1235.98 174.255 1243.11 Q174.255 1250.21 176.061 1253.78 Q177.89 1257.32 181.501 1257.32 Q185.135 1257.32 186.94 1253.78 Q188.769 1250.21 188.769 1243.11 Q188.769 1235.98 186.94 1232.43 Q185.135 1228.87 181.501 1228.87 M181.501 1225.17 Q187.311 1225.17 190.366 1229.77 Q193.445 1234.36 193.445 1243.11 Q193.445 1251.83 190.366 1256.44 Q187.311 1261.02 181.501 1261.02 Q175.691 1261.02 172.612 1256.44 Q169.556 1251.83 169.556 1243.11 Q169.556 1234.36 172.612 1229.77 Q175.691 1225.17 181.501 1225.17 Z\" fill=\"#000000\" fill-rule=\"nonzero\" fill-opacity=\"1\" /><path clip-path=\"url(#clip070)\" d=\"M211.663 1228.87 Q208.051 1228.87 206.223 1232.43 Q204.417 1235.98 204.417 1243.11 Q204.417 1250.21 206.223 1253.78 Q208.051 1257.32 211.663 1257.32 Q215.297 1257.32 217.102 1253.78 Q218.931 1250.21 218.931 1243.11 Q218.931 1235.98 217.102 1232.43 Q215.297 1228.87 211.663 1228.87 M211.663 1225.17 Q217.473 1225.17 220.528 1229.77 Q223.607 1234.36 223.607 1243.11 Q223.607 1251.83 220.528 1256.44 Q217.473 1261.02 211.663 1261.02 Q205.852 1261.02 202.774 1256.44 Q199.718 1251.83 199.718 1243.11 Q199.718 1234.36 202.774 1229.77 Q205.852 1225.17 211.663 1225.17 Z\" fill=\"#000000\" fill-rule=\"nonzero\" fill-opacity=\"1\" /><path clip-path=\"url(#clip070)\" d=\"M51.6634 941.903 L59.3023 941.903 L59.3023 915.538 L50.9921 917.204 L50.9921 912.945 L59.256 911.278 L63.9319 911.278 L63.9319 941.903 L71.5707 941.903 L71.5707 945.838 L51.6634 945.838 L51.6634 941.903 Z\" fill=\"#000000\" fill-rule=\"nonzero\" fill-opacity=\"1\" /><path clip-path=\"url(#clip070)\" d=\"M91.0151 914.357 Q87.404 914.357 85.5753 917.922 Q83.7697 921.464 83.7697 928.593 Q83.7697 935.7 85.5753 939.264 Q87.404 942.806 91.0151 942.806 Q94.6493 942.806 96.4548 939.264 Q98.2835 935.7 98.2835 928.593 Q98.2835 921.464 96.4548 917.922 Q94.6493 914.357 91.0151 914.357 M91.0151 910.653 Q96.8252 910.653 99.8808 915.26 Q102.959 919.843 102.959 928.593 Q102.959 937.32 99.8808 941.926 Q96.8252 946.51 91.0151 946.51 Q85.2049 946.51 82.1262 941.926 Q79.0707 937.32 79.0707 928.593 Q79.0707 919.843 82.1262 915.26 Q85.2049 910.653 91.0151 910.653 Z\" fill=\"#000000\" fill-rule=\"nonzero\" fill-opacity=\"1\" /><path clip-path=\"url(#clip070)\" d=\"M121.177 914.357 Q117.566 914.357 115.737 917.922 Q113.932 921.464 113.932 928.593 Q113.932 935.7 115.737 939.264 Q117.566 942.806 121.177 942.806 Q124.811 942.806 126.617 939.264 Q128.445 935.7 128.445 928.593 Q128.445 921.464 126.617 917.922 Q124.811 914.357 121.177 914.357 M121.177 910.653 Q126.987 910.653 130.043 915.26 Q133.121 919.843 133.121 928.593 Q133.121 937.32 130.043 941.926 Q126.987 946.51 121.177 946.51 Q115.367 946.51 112.288 941.926 Q109.233 937.32 109.233 928.593 Q109.233 919.843 112.288 915.26 Q115.367 910.653 121.177 910.653 Z\" fill=\"#000000\" fill-rule=\"nonzero\" fill-opacity=\"1\" /><path clip-path=\"url(#clip070)\" d=\"M151.339 914.357 Q147.728 914.357 145.899 917.922 Q144.093 921.464 144.093 928.593 Q144.093 935.7 145.899 939.264 Q147.728 942.806 151.339 942.806 Q154.973 942.806 156.779 939.264 Q158.607 935.7 158.607 928.593 Q158.607 921.464 156.779 917.922 Q154.973 914.357 151.339 914.357 M151.339 910.653 Q157.149 910.653 160.205 915.26 Q163.283 919.843 163.283 928.593 Q163.283 937.32 160.205 941.926 Q157.149 946.51 151.339 946.51 Q145.529 946.51 142.45 941.926 Q139.394 937.32 139.394 928.593 Q139.394 919.843 142.45 915.26 Q145.529 910.653 151.339 910.653 Z\" fill=\"#000000\" fill-rule=\"nonzero\" fill-opacity=\"1\" /><path clip-path=\"url(#clip070)\" d=\"M171.547 911.278 L189.903 911.278 L189.903 915.214 L175.829 915.214 L175.829 923.686 Q176.848 923.339 177.866 923.177 Q178.885 922.991 179.903 922.991 Q185.69 922.991 189.07 926.163 Q192.45 929.334 192.45 934.751 Q192.45 940.329 188.977 943.431 Q185.505 946.51 179.186 946.51 Q177.01 946.51 174.741 946.139 Q172.496 945.769 170.089 945.028 L170.089 940.329 Q172.172 941.464 174.394 942.019 Q176.616 942.575 179.093 942.575 Q183.098 942.575 185.436 940.468 Q187.774 938.362 187.774 934.751 Q187.774 931.139 185.436 929.033 Q183.098 926.927 179.093 926.927 Q177.218 926.927 175.343 927.343 Q173.491 927.76 171.547 928.64 L171.547 911.278 Z\" fill=\"#000000\" fill-rule=\"nonzero\" fill-opacity=\"1\" /><path clip-path=\"url(#clip070)\" d=\"M211.663 914.357 Q208.051 914.357 206.223 917.922 Q204.417 921.464 204.417 928.593 Q204.417 935.7 206.223 939.264 Q208.051 942.806 211.663 942.806 Q215.297 942.806 217.102 939.264 Q218.931 935.7 218.931 928.593 Q218.931 921.464 217.102 917.922 Q215.297 914.357 211.663 914.357 M211.663 910.653 Q217.473 910.653 220.528 915.26 Q223.607 919.843 223.607 928.593 Q223.607 937.32 220.528 941.926 Q217.473 946.51 211.663 946.51 Q205.852 946.51 202.774 941.926 Q199.718 937.32 199.718 928.593 Q199.718 919.843 202.774 915.26 Q205.852 910.653 211.663 910.653 Z\" fill=\"#000000\" fill-rule=\"nonzero\" fill-opacity=\"1\" /><path clip-path=\"url(#clip070)\" d=\"M51.6634 627.392 L59.3023 627.392 L59.3023 601.026 L50.9921 602.693 L50.9921 598.433 L59.256 596.767 L63.9319 596.767 L63.9319 627.392 L71.5707 627.392 L71.5707 631.327 L51.6634 631.327 L51.6634 627.392 Z\" fill=\"#000000\" fill-rule=\"nonzero\" fill-opacity=\"1\" /><path clip-path=\"url(#clip070)\" d=\"M91.0151 599.845 Q87.404 599.845 85.5753 603.41 Q83.7697 606.952 83.7697 614.081 Q83.7697 621.188 85.5753 624.753 Q87.404 628.294 91.0151 628.294 Q94.6493 628.294 96.4548 624.753 Q98.2835 621.188 98.2835 614.081 Q98.2835 606.952 96.4548 603.41 Q94.6493 599.845 91.0151 599.845 M91.0151 596.142 Q96.8252 596.142 99.8808 600.748 Q102.959 605.331 102.959 614.081 Q102.959 622.808 99.8808 627.415 Q96.8252 631.998 91.0151 631.998 Q85.2049 631.998 82.1262 627.415 Q79.0707 622.808 79.0707 614.081 Q79.0707 605.331 82.1262 600.748 Q85.2049 596.142 91.0151 596.142 Z\" fill=\"#000000\" fill-rule=\"nonzero\" fill-opacity=\"1\" /><path clip-path=\"url(#clip070)\" d=\"M121.177 599.845 Q117.566 599.845 115.737 603.41 Q113.932 606.952 113.932 614.081 Q113.932 621.188 115.737 624.753 Q117.566 628.294 121.177 628.294 Q124.811 628.294 126.617 624.753 Q128.445 621.188 128.445 614.081 Q128.445 606.952 126.617 603.41 Q124.811 599.845 121.177 599.845 M121.177 596.142 Q126.987 596.142 130.043 600.748 Q133.121 605.331 133.121 614.081 Q133.121 622.808 130.043 627.415 Q126.987 631.998 121.177 631.998 Q115.367 631.998 112.288 627.415 Q109.233 622.808 109.233 614.081 Q109.233 605.331 112.288 600.748 Q115.367 596.142 121.177 596.142 Z\" fill=\"#000000\" fill-rule=\"nonzero\" fill-opacity=\"1\" /><path clip-path=\"url(#clip070)\" d=\"M142.149 627.392 L149.788 627.392 L149.788 601.026 L141.478 602.693 L141.478 598.433 L149.742 596.767 L154.417 596.767 L154.417 627.392 L162.056 627.392 L162.056 631.327 L142.149 631.327 L142.149 627.392 Z\" fill=\"#000000\" fill-rule=\"nonzero\" fill-opacity=\"1\" /><path clip-path=\"url(#clip070)\" d=\"M181.501 599.845 Q177.89 599.845 176.061 603.41 Q174.255 606.952 174.255 614.081 Q174.255 621.188 176.061 624.753 Q177.89 628.294 181.501 628.294 Q185.135 628.294 186.94 624.753 Q188.769 621.188 188.769 614.081 Q188.769 606.952 186.94 603.41 Q185.135 599.845 181.501 599.845 M181.501 596.142 Q187.311 596.142 190.366 600.748 Q193.445 605.331 193.445 614.081 Q193.445 622.808 190.366 627.415 Q187.311 631.998 181.501 631.998 Q175.691 631.998 172.612 627.415 Q169.556 622.808 169.556 614.081 Q169.556 605.331 172.612 600.748 Q175.691 596.142 181.501 596.142 Z\" fill=\"#000000\" fill-rule=\"nonzero\" fill-opacity=\"1\" /><path clip-path=\"url(#clip070)\" d=\"M211.663 599.845 Q208.051 599.845 206.223 603.41 Q204.417 606.952 204.417 614.081 Q204.417 621.188 206.223 624.753 Q208.051 628.294 211.663 628.294 Q215.297 628.294 217.102 624.753 Q218.931 621.188 218.931 614.081 Q218.931 606.952 217.102 603.41 Q215.297 599.845 211.663 599.845 M211.663 596.142 Q217.473 596.142 220.528 600.748 Q223.607 605.331 223.607 614.081 Q223.607 622.808 220.528 627.415 Q217.473 631.998 211.663 631.998 Q205.852 631.998 202.774 627.415 Q199.718 622.808 199.718 614.081 Q199.718 605.331 202.774 600.748 Q205.852 596.142 211.663 596.142 Z\" fill=\"#000000\" fill-rule=\"nonzero\" fill-opacity=\"1\" /><path clip-path=\"url(#clip070)\" d=\"M51.6634 312.88 L59.3023 312.88 L59.3023 286.514 L50.9921 288.181 L50.9921 283.922 L59.256 282.255 L63.9319 282.255 L63.9319 312.88 L71.5707 312.88 L71.5707 316.815 L51.6634 316.815 L51.6634 312.88 Z\" fill=\"#000000\" fill-rule=\"nonzero\" fill-opacity=\"1\" /><path clip-path=\"url(#clip070)\" d=\"M91.0151 285.334 Q87.404 285.334 85.5753 288.898 Q83.7697 292.44 83.7697 299.57 Q83.7697 306.676 85.5753 310.241 Q87.404 313.783 91.0151 313.783 Q94.6493 313.783 96.4548 310.241 Q98.2835 306.676 98.2835 299.57 Q98.2835 292.44 96.4548 288.898 Q94.6493 285.334 91.0151 285.334 M91.0151 281.63 Q96.8252 281.63 99.8808 286.236 Q102.959 290.82 102.959 299.57 Q102.959 308.296 99.8808 312.903 Q96.8252 317.486 91.0151 317.486 Q85.2049 317.486 82.1262 312.903 Q79.0707 308.296 79.0707 299.57 Q79.0707 290.82 82.1262 286.236 Q85.2049 281.63 91.0151 281.63 Z\" fill=\"#000000\" fill-rule=\"nonzero\" fill-opacity=\"1\" /><path clip-path=\"url(#clip070)\" d=\"M121.177 285.334 Q117.566 285.334 115.737 288.898 Q113.932 292.44 113.932 299.57 Q113.932 306.676 115.737 310.241 Q117.566 313.783 121.177 313.783 Q124.811 313.783 126.617 310.241 Q128.445 306.676 128.445 299.57 Q128.445 292.44 126.617 288.898 Q124.811 285.334 121.177 285.334 M121.177 281.63 Q126.987 281.63 130.043 286.236 Q133.121 290.82 133.121 299.57 Q133.121 308.296 130.043 312.903 Q126.987 317.486 121.177 317.486 Q115.367 317.486 112.288 312.903 Q109.233 308.296 109.233 299.57 Q109.233 290.82 112.288 286.236 Q115.367 281.63 121.177 281.63 Z\" fill=\"#000000\" fill-rule=\"nonzero\" fill-opacity=\"1\" /><path clip-path=\"url(#clip070)\" d=\"M142.149 312.88 L149.788 312.88 L149.788 286.514 L141.478 288.181 L141.478 283.922 L149.742 282.255 L154.417 282.255 L154.417 312.88 L162.056 312.88 L162.056 316.815 L142.149 316.815 L142.149 312.88 Z\" fill=\"#000000\" fill-rule=\"nonzero\" fill-opacity=\"1\" /><path clip-path=\"url(#clip070)\" d=\"M171.547 282.255 L189.903 282.255 L189.903 286.19 L175.829 286.19 L175.829 294.662 Q176.848 294.315 177.866 294.153 Q178.885 293.968 179.903 293.968 Q185.69 293.968 189.07 297.139 Q192.45 300.31 192.45 305.727 Q192.45 311.306 188.977 314.408 Q185.505 317.486 179.186 317.486 Q177.01 317.486 174.741 317.116 Q172.496 316.745 170.089 316.005 L170.089 311.306 Q172.172 312.44 174.394 312.995 Q176.616 313.551 179.093 313.551 Q183.098 313.551 185.436 311.445 Q187.774 309.338 187.774 305.727 Q187.774 302.116 185.436 300.009 Q183.098 297.903 179.093 297.903 Q177.218 297.903 175.343 298.32 Q173.491 298.736 171.547 299.616 L171.547 282.255 Z\" fill=\"#000000\" fill-rule=\"nonzero\" fill-opacity=\"1\" /><path clip-path=\"url(#clip070)\" d=\"M211.663 285.334 Q208.051 285.334 206.223 288.898 Q204.417 292.44 204.417 299.57 Q204.417 306.676 206.223 310.241 Q208.051 313.783 211.663 313.783 Q215.297 313.783 217.102 310.241 Q218.931 306.676 218.931 299.57 Q218.931 292.44 217.102 288.898 Q215.297 285.334 211.663 285.334 M211.663 281.63 Q217.473 281.63 220.528 286.236 Q223.607 290.82 223.607 299.57 Q223.607 308.296 220.528 312.903 Q217.473 317.486 211.663 317.486 Q205.852 317.486 202.774 312.903 Q199.718 308.296 199.718 299.57 Q199.718 290.82 202.774 286.236 Q205.852 281.63 211.663 281.63 Z\" fill=\"#000000\" fill-rule=\"nonzero\" fill-opacity=\"1\" /><path clip-path=\"url(#clip070)\" d=\"M1022.9 18.8205 L1022.9 41.5461 L1033.19 41.5461 Q1038.9 41.5461 1042.02 38.5889 Q1045.14 35.6318 1045.14 30.163 Q1045.14 24.7348 1042.02 21.7777 Q1038.9 18.8205 1033.19 18.8205 L1022.9 18.8205 M1014.72 12.096 L1033.19 12.096 Q1043.36 12.096 1048.54 16.714 Q1053.77 21.2916 1053.77 30.163 Q1053.77 39.1155 1048.54 43.6931 Q1043.36 48.2706 1033.19 48.2706 L1022.9 48.2706 L1022.9 72.576 L1014.72 72.576 L1014.72 12.096 Z\" fill=\"#000000\" fill-rule=\"nonzero\" fill-opacity=\"1\" /><path clip-path=\"url(#clip070)\" d=\"M1079.05 32.4315 Q1073.05 32.4315 1069.57 37.1306 Q1066.08 41.7891 1066.08 49.9314 Q1066.08 58.0738 1069.53 62.7728 Q1073.01 67.4314 1079.05 67.4314 Q1085 67.4314 1088.49 62.7323 Q1091.97 58.0333 1091.97 49.9314 Q1091.97 41.8701 1088.49 37.1711 Q1085 32.4315 1079.05 32.4315 M1079.05 26.1121 Q1088.77 26.1121 1094.32 32.4315 Q1099.87 38.7509 1099.87 49.9314 Q1099.87 61.0714 1094.32 67.4314 Q1088.77 73.7508 1079.05 73.7508 Q1069.28 73.7508 1063.73 67.4314 Q1058.23 61.0714 1058.23 49.9314 Q1058.23 38.7509 1063.73 32.4315 Q1069.28 26.1121 1079.05 26.1121 Z\" fill=\"#000000\" fill-rule=\"nonzero\" fill-opacity=\"1\" /><path clip-path=\"url(#clip070)\" d=\"M1138.51 34.1734 Q1137.26 33.4443 1135.76 33.1202 Q1134.3 32.7556 1132.52 32.7556 Q1126.2 32.7556 1122.8 36.8875 Q1119.43 40.9789 1119.43 48.6757 L1119.43 72.576 L1111.94 72.576 L1111.94 27.2059 L1119.43 27.2059 L1119.43 34.2544 Q1121.78 30.1225 1125.55 28.1376 Q1129.32 26.1121 1134.71 26.1121 Q1135.48 26.1121 1136.41 26.2337 Q1137.34 26.3147 1138.47 26.5172 L1138.51 34.1734 Z\" fill=\"#000000\" fill-rule=\"nonzero\" fill-opacity=\"1\" /><path clip-path=\"url(#clip070)\" d=\"M1153.71 14.324 L1153.71 27.2059 L1169.06 27.2059 L1169.06 32.9987 L1153.71 32.9987 L1153.71 57.6282 Q1153.71 63.1779 1155.2 64.7578 Q1156.74 66.3376 1161.4 66.3376 L1169.06 66.3376 L1169.06 72.576 L1161.4 72.576 Q1152.77 72.576 1149.49 69.3758 Q1146.21 66.1351 1146.21 57.6282 L1146.21 32.9987 L1140.74 32.9987 L1140.74 27.2059 L1146.21 27.2059 L1146.21 14.324 L1153.71 14.324 Z\" fill=\"#000000\" fill-rule=\"nonzero\" fill-opacity=\"1\" /><path clip-path=\"url(#clip070)\" d=\"M1201.83 9.54393 L1201.83 15.7418 L1194.7 15.7418 Q1190.69 15.7418 1189.11 17.3622 Q1187.57 18.9825 1187.57 23.1955 L1187.57 27.2059 L1199.85 27.2059 L1199.85 32.9987 L1187.57 32.9987 L1187.57 72.576 L1180.08 72.576 L1180.08 32.9987 L1172.95 32.9987 L1172.95 27.2059 L1180.08 27.2059 L1180.08 24.0462 Q1180.08 16.471 1183.6 13.0277 Q1187.13 9.54393 1194.78 9.54393 L1201.83 9.54393 Z\" fill=\"#000000\" fill-rule=\"nonzero\" fill-opacity=\"1\" /><path clip-path=\"url(#clip070)\" d=\"M1225.65 32.4315 Q1219.65 32.4315 1216.17 37.1306 Q1212.69 41.7891 1212.69 49.9314 Q1212.69 58.0738 1216.13 62.7728 Q1219.61 67.4314 1225.65 67.4314 Q1231.6 67.4314 1235.09 62.7323 Q1238.57 58.0333 1238.57 49.9314 Q1238.57 41.8701 1235.09 37.1711 Q1231.6 32.4315 1225.65 32.4315 M1225.65 26.1121 Q1235.37 26.1121 1240.92 32.4315 Q1246.47 38.7509 1246.47 49.9314 Q1246.47 61.0714 1240.92 67.4314 Q1235.37 73.7508 1225.65 73.7508 Q1215.89 73.7508 1210.34 67.4314 Q1204.83 61.0714 1204.83 49.9314 Q1204.83 38.7509 1210.34 32.4315 Q1215.89 26.1121 1225.65 26.1121 Z\" fill=\"#000000\" fill-rule=\"nonzero\" fill-opacity=\"1\" /><path clip-path=\"url(#clip070)\" d=\"M1258.83 9.54393 L1266.28 9.54393 L1266.28 72.576 L1258.83 72.576 L1258.83 9.54393 Z\" fill=\"#000000\" fill-rule=\"nonzero\" fill-opacity=\"1\" /><path clip-path=\"url(#clip070)\" d=\"M1281.88 27.2059 L1289.33 27.2059 L1289.33 72.576 L1281.88 72.576 L1281.88 27.2059 M1281.88 9.54393 L1289.33 9.54393 L1289.33 18.9825 L1281.88 18.9825 L1281.88 9.54393 Z\" fill=\"#000000\" fill-rule=\"nonzero\" fill-opacity=\"1\" /><path clip-path=\"url(#clip070)\" d=\"M1322.51 32.4315 Q1316.51 32.4315 1313.03 37.1306 Q1309.54 41.7891 1309.54 49.9314 Q1309.54 58.0738 1312.99 62.7728 Q1316.47 67.4314 1322.51 67.4314 Q1328.46 67.4314 1331.95 62.7323 Q1335.43 58.0333 1335.43 49.9314 Q1335.43 41.8701 1331.95 37.1711 Q1328.46 32.4315 1322.51 32.4315 M1322.51 26.1121 Q1332.23 26.1121 1337.78 32.4315 Q1343.33 38.7509 1343.33 49.9314 Q1343.33 61.0714 1337.78 67.4314 Q1332.23 73.7508 1322.51 73.7508 Q1312.74 73.7508 1307.19 67.4314 Q1301.68 61.0714 1301.68 49.9314 Q1301.68 38.7509 1307.19 32.4315 Q1312.74 26.1121 1322.51 26.1121 Z\" fill=\"#000000\" fill-rule=\"nonzero\" fill-opacity=\"1\" /><path clip-path=\"url(#clip070)\" d=\"M1397.97 72.576 L1374.88 12.096 L1383.43 12.096 L1402.59 63.0159 L1421.79 12.096 L1430.3 12.096 L1407.25 72.576 L1397.97 72.576 Z\" fill=\"#000000\" fill-rule=\"nonzero\" fill-opacity=\"1\" /><path clip-path=\"url(#clip070)\" d=\"M1452.99 49.7694 Q1443.95 49.7694 1440.47 51.8354 Q1436.99 53.9013 1436.99 58.8839 Q1436.99 62.8538 1439.58 65.2034 Q1442.21 67.5124 1446.71 67.5124 Q1452.91 67.5124 1456.63 63.1374 Q1460.4 58.7219 1460.4 51.4303 L1460.4 49.7694 L1452.99 49.7694 M1467.85 46.6907 L1467.85 72.576 L1460.4 72.576 L1460.4 65.6895 Q1457.85 69.8214 1454.04 71.8063 Q1450.23 73.7508 1444.72 73.7508 Q1437.75 73.7508 1433.62 69.8619 Q1429.53 65.9325 1429.53 59.3701 Q1429.53 51.7138 1434.64 47.825 Q1439.78 43.9361 1449.95 43.9361 L1460.4 43.9361 L1460.4 43.2069 Q1460.4 38.0623 1457 35.2672 Q1453.63 32.4315 1447.52 32.4315 Q1443.63 32.4315 1439.94 33.3632 Q1436.26 34.295 1432.85 36.1584 L1432.85 29.2718 Q1436.94 27.692 1440.79 26.9223 Q1444.64 26.1121 1448.29 26.1121 Q1458.13 26.1121 1462.99 31.2163 Q1467.85 36.3204 1467.85 46.6907 Z\" fill=\"#000000\" fill-rule=\"nonzero\" fill-opacity=\"1\" /><path clip-path=\"url(#clip070)\" d=\"M1483.21 9.54393 L1490.66 9.54393 L1490.66 72.576 L1483.21 72.576 L1483.21 9.54393 Z\" fill=\"#000000\" fill-rule=\"nonzero\" fill-opacity=\"1\" /><path clip-path=\"url(#clip070)\" d=\"M1505.49 54.671 L1505.49 27.2059 L1512.94 27.2059 L1512.94 54.3874 Q1512.94 60.8284 1515.45 64.0691 Q1517.96 67.2693 1522.99 67.2693 Q1529.02 67.2693 1532.51 63.421 Q1536.03 59.5726 1536.03 52.9291 L1536.03 27.2059 L1543.48 27.2059 L1543.48 72.576 L1536.03 72.576 L1536.03 65.6084 Q1533.32 69.7404 1529.71 71.7658 Q1526.15 73.7508 1521.41 73.7508 Q1513.59 73.7508 1509.54 68.8897 Q1505.49 64.0286 1505.49 54.671 M1524.24 26.1121 L1524.24 26.1121 Z\" fill=\"#000000\" fill-rule=\"nonzero\" fill-opacity=\"1\" /><path clip-path=\"url(#clip070)\" d=\"M1597.64 48.0275 L1597.64 51.6733 L1563.37 51.6733 Q1563.86 59.3701 1567.99 63.421 Q1572.16 67.4314 1579.58 67.4314 Q1583.87 67.4314 1587.88 66.3781 Q1591.93 65.3249 1595.9 63.2184 L1595.9 70.267 Q1591.89 71.9684 1587.68 72.8596 Q1583.47 73.7508 1579.13 73.7508 Q1568.27 73.7508 1561.92 67.4314 Q1555.6 61.1119 1555.6 50.3365 Q1555.6 39.1965 1561.59 32.6746 Q1567.63 26.1121 1577.84 26.1121 Q1586.99 26.1121 1592.3 32.0264 Q1597.64 37.9003 1597.64 48.0275 M1590.19 45.84 Q1590.11 39.7232 1586.75 36.0774 Q1583.43 32.4315 1577.92 32.4315 Q1571.68 32.4315 1567.91 35.9558 Q1564.18 39.4801 1563.62 45.8805 L1590.19 45.84 Z\" fill=\"#000000\" fill-rule=\"nonzero\" fill-opacity=\"1\" /><polyline clip-path=\"url(#clip072)\" style=\"stroke:#009af9; stroke-linecap:round; stroke-linejoin:round; stroke-width:12; stroke-opacity:1; fill:none\" points=\"318.847,1243.07 318.847,1243.07 359.146,1243.07 399.446,1243.07 439.745,1243.07 480.044,1243.07 520.344,1243.07 560.643,1243.07 600.943,1243.07 641.242,1243.07 681.541,1243.07 721.841,1243.07 762.14,1243.07 802.439,1243.07 842.739,1243.07 883.038,1243.07 923.337,1243.07 963.637,1243.07 1003.94,1243.07 1044.24,1243.07 1084.53,1243.07 1124.83,1243.07 1165.13,1243.07 1205.43,1243.07 1245.73,1243.07 1286.03,1243.07 1326.33,1243.07 1366.63,1243.07 1406.93,1243.07 1447.23,1243.07 1487.53,1243.07 1527.83,1243.07 1568.13,1243.07 1608.43,1243.07 1648.73,1243.07 1689.03,1243.07 1729.32,1243.07 1769.62,1243.07 1809.92,1243.07 1850.22,1243.07 1890.52,1243.07 1930.82,1243.07 1971.12,1243.07 2011.42,1243.07 2051.72,1243.07 2092.02,1447.87 2132.32,1070.17 2172.62,1071.64 2212.92,1071.64 2253.22,1071.64 2293.52,162.047 \"/>\n",
       "<path clip-path=\"url(#clip070)\" d=\"M329.379 272.585 L863.113 272.585 L863.113 168.905 L329.379 168.905  Z\" fill=\"#ffffff\" fill-rule=\"evenodd\" fill-opacity=\"1\"/>\n",
       "<polyline clip-path=\"url(#clip070)\" style=\"stroke:#000000; stroke-linecap:round; stroke-linejoin:round; stroke-width:4; stroke-opacity:1; fill:none\" points=\"329.379,272.585 863.113,272.585 863.113,168.905 329.379,168.905 329.379,272.585 \"/>\n",
       "<polyline clip-path=\"url(#clip070)\" style=\"stroke:#009af9; stroke-linecap:round; stroke-linejoin:round; stroke-width:12; stroke-opacity:1; fill:none\" points=\"352.636,220.745 492.179,220.745 \"/>\n",
       "<path clip-path=\"url(#clip070)\" d=\"M515.436 202.006 L525.251 202.006 L525.251 205.316 L519.695 205.316 L519.695 240.964 L525.251 240.964 L525.251 244.275 L515.436 244.275 L515.436 202.006 Z\" fill=\"#000000\" fill-rule=\"nonzero\" fill-opacity=\"1\" /><path clip-path=\"url(#clip070)\" d=\"M538.353 203.465 L538.353 216.312 L534.418 216.312 L534.418 203.465 L538.353 203.465 M547.103 203.465 L547.103 216.312 L543.168 216.312 L543.168 203.465 L547.103 203.465 Z\" fill=\"#000000\" fill-rule=\"nonzero\" fill-opacity=\"1\" /><path clip-path=\"url(#clip070)\" d=\"M577.033 204.599 L577.033 209.159 Q574.371 207.886 572.01 207.261 Q569.649 206.636 567.45 206.636 Q563.63 206.636 561.547 208.117 Q559.487 209.599 559.487 212.33 Q559.487 214.622 560.853 215.803 Q562.242 216.96 566.084 217.678 L568.908 218.256 Q574.14 219.252 576.616 221.775 Q579.116 224.275 579.116 228.488 Q579.116 233.511 575.737 236.103 Q572.38 238.696 565.876 238.696 Q563.422 238.696 560.644 238.14 Q557.89 237.585 554.927 236.497 L554.927 231.682 Q557.774 233.279 560.505 234.089 Q563.237 234.9 565.876 234.9 Q569.88 234.9 572.056 233.326 Q574.232 231.752 574.232 228.835 Q574.232 226.289 572.658 224.853 Q571.107 223.418 567.542 222.701 L564.695 222.145 Q559.464 221.103 557.126 218.881 Q554.788 216.659 554.788 212.701 Q554.788 208.117 558.005 205.479 Q561.246 202.84 566.917 202.84 Q569.348 202.84 571.871 203.279 Q574.394 203.719 577.033 204.599 Z\" fill=\"#000000\" fill-rule=\"nonzero\" fill-opacity=\"1\" /><path clip-path=\"url(#clip070)\" d=\"M586.408 203.465 L593.376 203.465 L602.195 226.983 L611.061 203.465 L618.028 203.465 L618.028 238.025 L613.468 238.025 L613.468 207.678 L604.556 231.381 L599.857 231.381 L590.945 207.678 L590.945 238.025 L586.408 238.025 L586.408 203.465 Z\" fill=\"#000000\" fill-rule=\"nonzero\" fill-opacity=\"1\" /><path clip-path=\"url(#clip070)\" d=\"M638.862 208.071 L632.519 225.27 L645.227 225.27 L638.862 208.071 M636.223 203.465 L641.524 203.465 L654.695 238.025 L649.834 238.025 L646.686 229.159 L631.107 229.159 L627.959 238.025 L623.028 238.025 L636.223 203.465 Z\" fill=\"#000000\" fill-rule=\"nonzero\" fill-opacity=\"1\" /><path clip-path=\"url(#clip070)\" d=\"M672.472 223.14 L684.949 223.14 L684.949 226.937 L672.472 226.937 L672.472 223.14 Z\" fill=\"#000000\" fill-rule=\"nonzero\" fill-opacity=\"1\" /><path clip-path=\"url(#clip070)\" d=\"M706.454 203.465 L711.153 203.465 L711.153 224.46 Q711.153 230.015 713.167 232.469 Q715.181 234.9 719.694 234.9 Q724.185 234.9 726.199 232.469 Q728.213 230.015 728.213 224.46 L728.213 203.465 L732.912 203.465 L732.912 225.039 Q732.912 231.798 729.555 235.247 Q726.222 238.696 719.694 238.696 Q713.144 238.696 709.787 235.247 Q706.454 231.798 706.454 225.039 L706.454 203.465 Z\" fill=\"#000000\" fill-rule=\"nonzero\" fill-opacity=\"1\" /><path clip-path=\"url(#clip070)\" d=\"M762.403 204.599 L762.403 209.159 Q759.741 207.886 757.379 207.261 Q755.018 206.636 752.819 206.636 Q749 206.636 746.917 208.117 Q744.856 209.599 744.856 212.33 Q744.856 214.622 746.222 215.803 Q747.611 216.96 751.454 217.678 L754.278 218.256 Q759.509 219.252 761.986 221.775 Q764.486 224.275 764.486 228.488 Q764.486 233.511 761.106 236.103 Q757.75 238.696 751.245 238.696 Q748.791 238.696 746.014 238.14 Q743.259 237.585 740.296 236.497 L740.296 231.682 Q743.143 233.279 745.875 234.089 Q748.606 234.9 751.245 234.9 Q755.25 234.9 757.426 233.326 Q759.602 231.752 759.602 228.835 Q759.602 226.289 758.028 224.853 Q756.477 223.418 752.912 222.701 L750.065 222.145 Q744.833 221.103 742.495 218.881 Q740.157 216.659 740.157 212.701 Q740.157 208.117 743.375 205.479 Q746.616 202.84 752.287 202.84 Q754.717 202.84 757.241 203.279 Q759.764 203.719 762.403 204.599 Z\" fill=\"#000000\" fill-rule=\"nonzero\" fill-opacity=\"1\" /><path clip-path=\"url(#clip070)\" d=\"M776.453 207.307 L776.453 234.182 L782.101 234.182 Q789.254 234.182 792.564 230.941 Q795.898 227.701 795.898 220.71 Q795.898 213.766 792.564 210.548 Q789.254 207.307 782.101 207.307 L776.453 207.307 M771.777 203.465 L781.384 203.465 Q791.43 203.465 796.129 207.654 Q800.828 211.821 800.828 220.71 Q800.828 229.645 796.106 233.835 Q791.384 238.025 781.384 238.025 L771.777 238.025 L771.777 203.465 Z\" fill=\"#000000\" fill-rule=\"nonzero\" fill-opacity=\"1\" /><path clip-path=\"url(#clip070)\" d=\"M812.124 203.465 L812.124 216.312 L808.189 216.312 L808.189 203.465 L812.124 203.465 M820.874 203.465 L820.874 216.312 L816.939 216.312 L816.939 203.465 L820.874 203.465 Z\" fill=\"#000000\" fill-rule=\"nonzero\" fill-opacity=\"1\" /><path clip-path=\"url(#clip070)\" d=\"M839.856 202.006 L839.856 244.275 L830.041 244.275 L830.041 240.964 L835.573 240.964 L835.573 205.316 L830.041 205.316 L830.041 202.006 L839.856 202.006 Z\" fill=\"#000000\" fill-rule=\"nonzero\" fill-opacity=\"1\" /></svg>\n"
      ]
     },
     "execution_count": 131,
     "metadata": {},
     "output_type": "execute_result"
    }
   ],
   "source": [
    "\n",
    "using AirBorne.Structures: summarizePerformance\n",
    "using Plots: plot\n",
    "results = summarizePerformance(data, context)\n",
    "plot(results.date, results.dollarValue, title=\"Portfolio Value\", label=[\"SMA - USD\"], linewidth=3)"
   ]
  },
  {
   "cell_type": "code",
   "execution_count": 146,
   "id": "3ab1e8b4-d8fb-4e76-a633-7371b2799a53",
   "metadata": {},
   "outputs": [
    {
     "data": {
      "text/plain": [
       "TimeEvent(DateTime(\"2017-02-22T10:30:00\"), \"test\")"
      ]
     },
     "execution_count": 146,
     "metadata": {},
     "output_type": "execute_result"
    }
   ],
   "source": [
    "c2 =deepcopy(context)\n",
    "# Maker return negative\n",
    "c2.extra.returnHistory[!,\"NMS/AAPL\"]=-collect(1:size(c2.extra.returnHistory,1)) ./ size(c2.extra.returnHistory,1)\n",
    "c2.extra.returnHistory[!,\"NMS/GOOG\"]=-collect(1:size(c2.extra.returnHistory,1)) ./ size(c2.extra.returnHistory,1)\n",
    "c2.extra.returnHistory\n",
    "# c2.extra.returnHistory[!,\"NMS/AAPL\"] = c2.extra.returnHistory[!,\"NMS/AAPL\"]*0-0.01*\n",
    "c2.current_event= TimeEvent( c2.current_event.date + Day(1),\"test\")"
   ]
  },
  {
   "cell_type": "code",
   "execution_count": 147,
   "id": "8c9b6752-74fb-4e0a-9e63-a02ccc980896",
   "metadata": {},
   "outputs": [
    {
     "data": {
      "text/html": [
       "<div><div style = \"float: left;\"><span>2×12 DataFrame</span></div><div style = \"clear: both;\"></div></div><div class = \"data-frame\" style = \"overflow-x: scroll;\"><table class = \"data-frame\" style = \"margin-bottom: 6px;\"><thead><tr class = \"header\"><th class = \"rowNumber\" style = \"font-weight: bold; text-align: right;\">Row</th><th style = \"text-align: left;\">close</th><th style = \"text-align: left;\">high</th><th style = \"text-align: left;\">low</th><th style = \"text-align: left;\">open</th><th style = \"text-align: left;\">volume</th><th style = \"text-align: left;\">date</th><th style = \"text-align: left;\">unix</th><th style = \"text-align: left;\">exchangeName</th><th style = \"text-align: left;\">timezone</th><th style = \"text-align: left;\">currency</th><th style = \"text-align: left;\">symbol</th><th style = \"text-align: left;\">assetID</th></tr><tr class = \"subheader headerLastRow\"><th class = \"rowNumber\" style = \"font-weight: bold; text-align: right;\"></th><th title = \"Float64\" style = \"text-align: left;\">Float64</th><th title = \"Float64\" style = \"text-align: left;\">Float64</th><th title = \"Float64\" style = \"text-align: left;\">Float64</th><th title = \"Float64\" style = \"text-align: left;\">Float64</th><th title = \"Int64\" style = \"text-align: left;\">Int64</th><th title = \"DateTime\" style = \"text-align: left;\">DateTime</th><th title = \"Int64\" style = \"text-align: left;\">Int64</th><th title = \"String\" style = \"text-align: left;\">String</th><th title = \"String\" style = \"text-align: left;\">String</th><th title = \"String\" style = \"text-align: left;\">String</th><th title = \"String\" style = \"text-align: left;\">String</th><th title = \"String\" style = \"text-align: left;\">String</th></tr></thead><tbody><tr><td class = \"rowNumber\" style = \"font-weight: bold; text-align: right;\">1</td><td style = \"text-align: right;\">34.2775</td><td style = \"text-align: right;\">34.28</td><td style = \"text-align: right;\">34.0275</td><td style = \"text-align: right;\">34.1075</td><td style = \"text-align: right;\">83347600</td><td style = \"text-align: left;\">2017-02-22T10:30:00</td><td style = \"text-align: right;\">1487773800</td><td style = \"text-align: left;\">NMS</td><td style = \"text-align: left;\">America/New_York</td><td style = \"text-align: left;\">USD</td><td style = \"text-align: left;\">AAPL</td><td style = \"text-align: left;\">NMS/AAPL</td></tr><tr><td class = \"rowNumber\" style = \"font-weight: bold; text-align: right;\">2</td><td style = \"text-align: right;\">41.538</td><td style = \"text-align: right;\">41.6625</td><td style = \"text-align: right;\">41.432</td><td style = \"text-align: right;\">41.433</td><td style = \"text-align: right;\">19658000</td><td style = \"text-align: left;\">2017-02-22T10:30:00</td><td style = \"text-align: right;\">1487773800</td><td style = \"text-align: left;\">NMS</td><td style = \"text-align: left;\">America/New_York</td><td style = \"text-align: left;\">USD</td><td style = \"text-align: left;\">GOOG</td><td style = \"text-align: left;\">NMS/GOOG</td></tr></tbody></table></div>"
      ],
      "text/latex": [
       "\\begin{tabular}{r|ccccccccc}\n",
       "\t& close & high & low & open & volume & date & unix & exchangeName & \\\\\n",
       "\t\\hline\n",
       "\t& Float64 & Float64 & Float64 & Float64 & Int64 & DateTime & Int64 & String & \\\\\n",
       "\t\\hline\n",
       "\t1 & 34.2775 & 34.28 & 34.0275 & 34.1075 & 83347600 & 2017-02-22T10:30:00 & 1487773800 & NMS & $\\dots$ \\\\\n",
       "\t2 & 41.538 & 41.6625 & 41.432 & 41.433 & 19658000 & 2017-02-22T10:30:00 & 1487773800 & NMS & $\\dots$ \\\\\n",
       "\\end{tabular}\n"
      ],
      "text/plain": [
       "\u001b[1m2×12 DataFrame\n",
       "\u001b[1m Row │\u001b[1m close   \u001b[1m high    \u001b[1m low     \u001b[1m open    \u001b[1m volume   \u001b[1m date                \u001b[1m unix ⋯\n",
       "     │\u001b[90m Float64 \u001b[90m Float64 \u001b[90m Float64 \u001b[90m Float64 \u001b[90m Int64    \u001b[90m DateTime            \u001b[90m Int6 ⋯\n",
       "─────┼──────────────────────────────────────────────────────────────────────────\n",
       "   1 │ 34.2775  34.28    34.0275  34.1075  83347600  2017-02-22T10:30:00  1487 ⋯\n",
       "   2 │ 41.538   41.6625  41.432   41.433   19658000  2017-02-22T10:30:00  1487\n",
       "\u001b[36m                                                               6 columns omitted"
      ]
     },
     "execution_count": 147,
     "metadata": {},
     "output_type": "execute_result"
    }
   ],
   "source": [
    "my_expose_data(c2, data) "
   ]
  },
  {
   "cell_type": "code",
   "execution_count": 148,
   "id": "6d3b430f-422f-474e-93a9-522b18bb0db3",
   "metadata": {},
   "outputs": [],
   "source": []
  },
  {
   "cell_type": "code",
   "execution_count": 150,
   "id": "e0af8b48-2fb8-43a0-9426-ee60cb3fda52",
   "metadata": {},
   "outputs": [
    {
     "data": {
      "text/plain": [
       "true"
      ]
     },
     "execution_count": 150,
     "metadata": {},
     "output_type": "execute_result"
    }
   ],
   "source": []
  }
 ],
 "metadata": {
  "kernelspec": {
   "display_name": "Julia 1.8.5",
   "language": "julia",
   "name": "julia-1.8"
  },
  "language_info": {
   "file_extension": ".jl",
   "mimetype": "application/julia",
   "name": "julia",
   "version": "1.8.5"
  }
 },
 "nbformat": 4,
 "nbformat_minor": 5
}
