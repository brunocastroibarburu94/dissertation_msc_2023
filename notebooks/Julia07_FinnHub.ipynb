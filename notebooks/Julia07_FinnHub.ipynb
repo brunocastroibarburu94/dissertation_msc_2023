{
 "cells": [
  {
   "cell_type": "markdown",
   "id": "639ae448-42fd-4b52-ac11-9dc760efca01",
   "metadata": {},
   "source": [
    "# Finnhub\n",
    "- [Stock Price OHLCV Candles](https://finnhub.io/docs/api/stock-candles)\n"
   ]
  },
  {
   "cell_type": "code",
   "execution_count": 1,
   "id": "318f4fb4-e22b-4b7b-b4d5-15e400cd8758",
   "metadata": {},
   "outputs": [
    {
     "name": "stderr",
     "output_type": "stream",
     "text": [
      "\u001b[32m\u001b[1m  Activating\u001b[22m\u001b[39m project at `~/project/julia`\n"
     ]
    }
   ],
   "source": [
    "using Pkg\n",
    "Pkg.activate(\"../julia\")\n",
    "# include(\"/root/project/notebooks/DeePC.jl\")"
   ]
  },
  {
   "cell_type": "code",
   "execution_count": 2,
   "id": "9034aab1-bd93-41cb-bc4b-16894325f3da",
   "metadata": {},
   "outputs": [
    {
     "data": {
      "text/plain": [
       "Logging"
      ]
     },
     "execution_count": 2,
     "metadata": {},
     "output_type": "execute_result"
    }
   ],
   "source": [
    "import HTTP\n",
    "import Logging\n",
    "log=Logging"
   ]
  },
  {
   "cell_type": "code",
   "execution_count": 7,
   "id": "68aee86a-fc35-4dad-b0f5-9a3e017f503b",
   "metadata": {},
   "outputs": [
    {
     "data": {
      "text/plain": [
       "5"
      ]
     },
     "execution_count": 7,
     "metadata": {},
     "output_type": "execute_result"
    }
   ],
   "source": [
    "api_key=get(ENV,\"FINNHUB_API_KEY\",nothing)\n",
    "max_attempts=get(ENV,\"QUANDL_DOWNLOAD_ATTEMPTS\",5)\n",
    "# show_progress=true\n",
    "# api_key"
   ]
  }
 ],
 "metadata": {
  "kernelspec": {
   "display_name": "Julia 1.8.5",
   "language": "julia",
   "name": "julia-1.8"
  },
  "language_info": {
   "file_extension": ".jl",
   "mimetype": "application/julia",
   "name": "julia",
   "version": "1.8.5"
  }
 },
 "nbformat": 4,
 "nbformat_minor": 5
}
