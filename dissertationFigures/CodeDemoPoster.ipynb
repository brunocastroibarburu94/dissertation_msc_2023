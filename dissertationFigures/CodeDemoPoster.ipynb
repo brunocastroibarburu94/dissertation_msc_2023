{
 "cells": [
  {
   "cell_type": "code",
   "execution_count": 3,
   "id": "e8920226-0d99-4ceb-8f1e-75ed0af3d400",
   "metadata": {},
   "outputs": [
    {
     "name": "stderr",
     "output_type": "stream",
     "text": [
      "\u001b[32m\u001b[1m    Updating\u001b[22m\u001b[39m git-repo `https://github.com/JuDO-dev/AirBorne.jl#dev`\n",
      "\u001b[32m\u001b[1m   Resolving\u001b[22m\u001b[39m package versions...\n",
      "\u001b[32m\u001b[1m  No Changes\u001b[22m\u001b[39m to `~/.julia/environments/v1.8/Project.toml`\n",
      "\u001b[32m\u001b[1m  No Changes\u001b[22m\u001b[39m to `~/.julia/environments/v1.8/Manifest.toml`\n",
      "\u001b[32m\u001b[1m   Resolving\u001b[22m\u001b[39m package versions...\n",
      "\u001b[32m\u001b[1m  No Changes\u001b[22m\u001b[39m to `~/.julia/environments/v1.8/Project.toml`\n",
      "\u001b[32m\u001b[1m  No Changes\u001b[22m\u001b[39m to `~/.julia/environments/v1.8/Manifest.toml`\n"
     ]
    },
    {
     "name": "stdout",
     "output_type": "stream",
     "text": [
      "Done-12-30T10:30:00\n"
     ]
    },
    {
     "ename": "LoadError",
     "evalue": "syntax: invalid interpolation syntax: \"$ \"",
     "output_type": "error",
     "traceback": [
      "syntax: invalid interpolation syntax: \"$ \"",
      "",
      "Stacktrace:",
      " [1] top-level scope",
      "   @ In[3]:23"
     ]
    }
   ],
   "source": [
    "\n",
    "# Setup the dependencies\n",
    "using Pkg;Pkg.add(url=\"https://github.com/JuDO-dev/AirBorne.jl#dev\");\n",
    "Pkg.add([\"Dates\",\"Plots\",\"DataFrames\"])\n",
    "# using Dates: DateTime,datetime2unix\n",
    "using AirBorne, Plots, Dates\n",
    "using AirBorne.ETL.YFinance: get_interday_data\n",
    "using AirBorne.Engines.DEDS: run\n",
    "using AirBorne.Markets.StaticMarket: execute_orders!, expose_data\n",
    "using AirBorne.Strategies.SMA: interday_initialize!, interday_trading_logic!\n",
    "using AirBorne.Structures: summarizePerformance,TimeEvent\n",
    "# using Plots: plot, plot!\n",
    "unix(x) = string(round(Int, datetime2unix(DateTime(x))))\n",
    "data = get_interday_data([\"AAPL\",\"GOOG\"], unix(\"2017-01-01\"), unix(\"2022-01-01\"))\n",
    "sma_initialize!(context) = interday_initialize!(context; longHorizon=20, shortHorizon=5)\n",
    "sma_trading_logic! = interday_trading_logic!\n",
    "evaluationEvents = [TimeEvent(t, \"data_transfer\") for t in sort(unique(data.date); rev=true)]\n",
    "context = run(data, sma_initialize!, sma_trading_logic!, execute_orders!, expose_data;\n",
    "    audit=true,max_date=DateTime(2022, 1, 1), verbose=true, initialEvents=evaluationEvents)\n",
    "results = summarizePerformance(data, context)\n",
    "println(\"Done\")\n",
    "plot(results.date, results.dollarValue, title=\"Portfolio Value - Template SMA\", \n",
    "    label=\"value\", linewidth=3, xlabel=\"date\",ylabel=\"Portfolio Value\")"
   ]
  },
  {
   "cell_type": "code",
   "execution_count": 6,
   "id": "50bf92ed-18e7-4549-a4ba-acdf9454c333",
   "metadata": {},
   "outputs": [
    {
     "ename": "LoadError",
     "evalue": "UndefVarError: fig_dir not defined",
     "output_type": "error",
     "traceback": [
      "UndefVarError: fig_dir not defined",
      "",
      "Stacktrace:",
      " [1] top-level scope",
      "   @ In[6]:5"
     ]
    }
   ],
   "source": [
    "\n",
    "plotd = plot(results.date, results.dollarValue ./results.dollarValue[1], title=\"Portfolio Value - Template SMA\", \n",
    "    label=\"value\", linewidth=3, xlabel=\"date\",ylabel=\"Portfolio Value\")\n",
    "fig_dir = joinpath(@__DIR__, \"figures\")\n",
    "savefig(plotd,joinpath(fig_dir,\"E1_02_all_comparison.svg\"))"
   ]
  }
 ],
 "metadata": {
  "kernelspec": {
   "display_name": "Julia 1.8.5",
   "language": "julia",
   "name": "julia-1.8"
  },
  "language_info": {
   "file_extension": ".jl",
   "mimetype": "application/julia",
   "name": "julia",
   "version": "1.8.5"
  }
 },
 "nbformat": 4,
 "nbformat_minor": 5
}
