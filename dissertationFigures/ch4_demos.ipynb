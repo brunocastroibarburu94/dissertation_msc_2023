{
 "cells": [
  {
   "cell_type": "code",
   "execution_count": 1,
   "id": "6ece0bf1-0906-4a2a-b72a-1f55df6ffcea",
   "metadata": {},
   "outputs": [
    {
     "name": "stdout",
     "output_type": "stream",
     "text": [
      "3.0\n",
      "4.0\n",
      "4.1\n"
     ]
    }
   ],
   "source": [
    "my_round(x::Integer) = float(x)\n",
    "my_round(x::AbstractFloat) = float(round(x))\n",
    "# Multiple dispatch handling different number of arguments\n",
    "my_round(x::Real,digits::Integer) = float(round(x;digits=digits))\n",
    "\n",
    "println(my_round(3)) # 3.0\n",
    "println(my_round(4.1)) # 4.0\n",
    "println(my_round(4.12,1)) # 4.1"
   ]
  },
  {
   "cell_type": "code",
   "execution_count": 2,
   "id": "6c092ad7-c9a3-4748-8a91-e99d4e24f294",
   "metadata": {},
   "outputs": [],
   "source": [
    "using Suppressor: @suppress\n",
    "@suppress println(\"Text that want to suppress\") # Nothing is displayed"
   ]
  },
  {
   "cell_type": "code",
   "execution_count": 10,
   "id": "ae801579-dc2f-4db9-b302-240b0450c37b",
   "metadata": {},
   "outputs": [
    {
     "name": "stderr",
     "output_type": "stream",
     "text": [
      "\u001b[36m\u001b[1m[ \u001b[22m\u001b[39m\u001b[36m\u001b[1mInfo: \u001b[22m\u001b[39m4 + c\n",
      "\u001b[36m\u001b[1m[ \u001b[22m\u001b[39m\u001b[36m\u001b[1mInfo: \u001b[22m\u001b[39m6\n"
     ]
    }
   ],
   "source": [
    "a = 4;\n",
    "@info ex2 = Expr(:call, :+, a, :c)\n",
    "a = 1; c = 2;\n",
    "@info eval(ex2)"
   ]
  },
  {
   "cell_type": "code",
   "execution_count": 9,
   "id": "c69c7f66-9f52-403b-a1cb-28e1415ac96a",
   "metadata": {},
   "outputs": [
    {
     "name": "stderr",
     "output_type": "stream",
     "text": [
      "\u001b[36m\u001b[1m[ \u001b[22m\u001b[39m\u001b[36m\u001b[1mInfo: \u001b[22m\u001b[39m4 + d\n",
      "\u001b[36m\u001b[1m[ \u001b[22m\u001b[39m\u001b[36m\u001b[1mInfo: \u001b[22m\u001b[39m4 + d\n",
      "\u001b[36m\u001b[1m[ \u001b[22m\u001b[39m\u001b[36m\u001b[1mInfo: \u001b[22m\u001b[39m6\n"
     ]
    }
   ],
   "source": [
    "a = 4;\n",
    "@info prog = \"$a + d\"\n",
    "@info ex = Meta.parse(prog)\n",
    "a = 1; d = 2;\n",
    "@info eval(ex)"
   ]
  },
  {
   "cell_type": "code",
   "execution_count": 4,
   "id": "dff7796e-966f-4cde-92e4-52e1cb88d5d0",
   "metadata": {},
   "outputs": [
    {
     "name": "stderr",
     "output_type": "stream",
     "text": [
      "\u001b[36m\u001b[1m[ \u001b[22m\u001b[39m\u001b[36m\u001b[1mInfo: \u001b[22m\u001b[39m5.00GBP\n",
      "\u001b[36m\u001b[1m[ \u001b[22m\u001b[39m\u001b[36m\u001b[1mInfo: \u001b[22m\u001b[39m20.00USD\n"
     ]
    }
   ],
   "source": [
    "using Base: Base\n",
    "using Printf: @sprintf\n",
    "\n",
    "struct Money{S}\n",
    "    value::Float64\n",
    "end\n",
    "Money(a::Real, S::Symbol) = Money{S}(Float64(a))# Constructor\n",
    "function Base.show(io::IO, ::MIME\"text/plain\", v::Money{S}) where {S}\n",
    "    return print(io, @sprintf(\"%.2f\", v.value), \"$S\")\n",
    "end\n",
    "Base.show(io::IO, v::Money{S}) where {S} = show(io, MIME(\"text/plain\"), v)\n",
    "\n",
    "@info c1 = Money{:GBP}(5.0) # 5.00GBP\n",
    "@info c2 = Money{:USD}(20) # 20.00USD"
   ]
  }
 ],
 "metadata": {
  "kernelspec": {
   "display_name": "Julia 1.8.5",
   "language": "julia",
   "name": "julia-1.8"
  },
  "language_info": {
   "file_extension": ".jl",
   "mimetype": "application/julia",
   "name": "julia",
   "version": "1.8.5"
  }
 },
 "nbformat": 4,
 "nbformat_minor": 5
}
