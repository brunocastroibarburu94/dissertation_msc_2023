{
 "cells": [
  {
   "cell_type": "code",
   "execution_count": null,
   "id": "3287b065-20fd-48c5-93a8-435ff43bd016",
   "metadata": {},
   "outputs": [],
   "source": [
    "using Pkg; Pkg.add(\"Suppressor\"); using Suppressor: @suppress;\n",
    "@suppress Pkg.add(url=\"https://github.com/JuDO-dev/AirBorne.jl#dev\");\n",
    "@suppress Pkg.add([\"JuMP\",\"Dates\",\"Plots\",\"DataFrames\", \"DirectSearch\",\"DotMaps\",\"LinearAlgebra\",\"Polynomials\",\"SparseArrays\",\"MathOptInterface\",\"HiddenMarkovModels\",\"Distributions\"]);\n",
    "bundle_id=\"Mark2\"\n",
    "cache_dir = joinpath(@__DIR__, \"data\", \"cache\")"
   ]
  },
  {
   "cell_type": "code",
   "execution_count": null,
   "id": "00bd4b0e-10a2-408f-92e5-365ab0cd2789",
   "metadata": {},
   "outputs": [],
   "source": [
    "### NASDAQ Screener\n",
    "using AirBorne.ETL.NASDAQ: screener\n",
    "tickers_df = screener()\n",
    "store_bundle(tickers_df; bundle_id=\"NASDAQscreener_\"*bundle_id, archive=true, cache_dir=cache_dir)"
   ]
  },
  {
   "cell_type": "code",
   "execution_count": null,
   "id": "9c4b61a9-fec9-4d2b-bc9c-1f3d4f90baab",
   "metadata": {},
   "outputs": [],
   "source": [
    "### Filter 2 most traded\n",
    "using DataFrames: groupby, combine\n",
    "using AirBorne.Utils: get_latest_N\n",
    "topPerformers=2\n",
    "bundle_id=\"Mark2\"\n",
    "filtered_df =tickers_df[[   x!=\"\" ? parse(Int64, x)<2016 : false for x in tickers_df.ipoyear],[\"symbol\",\"marketCap\",\"sector\",\"volume\"]]\n",
    "filtered_df[!,\"volume\"]=parse.(Int64,filtered_df[!,\"volume\"])\n",
    "filtered_df[!,\"marketCap\"]=parse.(Float64,filtered_df[!,\"marketCap\"])\n",
    "grouped_df = groupby(filtered_df,\"sector\")\n",
    "f(sdf)= get_latest_N(sdf,:volume,topPerformers;rev=true)\n",
    "result = combine(grouped_df,f)"
   ]
  },
  {
   "cell_type": "code",
   "execution_count": null,
   "id": "36702398-5983-4036-a480-2886c1ee7c24",
   "metadata": {},
   "outputs": [],
   "source": [
    "### Fetch data from yahoo finance\n",
    "using AirBorne.ETL.Cache: store_bundle\n",
    "using AirBorne.ETL.YFinance: get_interday_data\n",
    "using AirBorne.ETL.Cache: store_bundle\n",
    "using Dates: DateTime, datetime2unix\n",
    "from = DateTime(\"2017-01-01\"); to = DateTime(\"2022-01-01\")\n",
    "u_from = string(round(Int, datetime2unix(from)));\n",
    "u_to = string(round(Int, datetime2unix(to)))\n",
    "data = get_interday_data(result.symbol, u_from, u_to)\n",
    "store_bundle(data; bundle_id=bundle_id, archive=true, cache_dir=cache_dir)\n",
    "@info \"Done!\"\n",
    "first(data,4)"
   ]
  }
 ],
 "metadata": {
  "kernelspec": {
   "display_name": "Julia 1.8.5",
   "language": "julia",
   "name": "julia-1.8"
  },
  "language_info": {
   "file_extension": ".jl",
   "mimetype": "application/julia",
   "name": "julia",
   "version": "1.8.5"
  }
 },
 "nbformat": 4,
 "nbformat_minor": 5
}
